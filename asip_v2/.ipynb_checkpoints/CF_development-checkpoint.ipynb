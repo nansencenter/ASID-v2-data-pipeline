{
 "cells": [
  {
   "cell_type": "code",
   "execution_count": 1,
   "metadata": {},
   "outputs": [],
   "source": [
    "import os\n",
    "import sys\n",
    "import argparse\n",
    "import argparse\n",
    "import netCDF4 as nc\n",
    "import numpy as np\n",
    "from skimage.util.shape import view_as_windows\n",
    "import matplotlib.pyplot as plt\n",
    "\n",
    "from archive import Archive\n",
    "from utility import type_for_nersc_noise, common_parser, postprocess_the_args\n",
    "\n",
    "input_d='C:\\\\Users\\\\Utilisateur\\\\Desktop\\\\internship\\\\data\\\\input'\n",
    "output_d='C:\\\\Users\\\\Utilisateur\\\\Desktop\\\\internship\\\\data\\\\output'\n",
    "\n",
    "archive_=Archive(input_dir = input_d,\n",
    "                output_dir = output_d,\n",
    "                names_sar = ['nersc_sar_primary','nersc_sar_secondary'],\n",
    "                names_amsr2 = ['btemp_6.9h', 'btemp_6.9v', 'btemp_7.3h', 'btemp_7.3v', 'btemp_10.7h', 'btemp_10.7v', 'btemp_18.7h', 'btemp_18.7v', 'btemp_23.8h', 'btemp_23.8v', 'btemp_36.5h', 'btemp_36.5v', 'btemp_89.0ah', 'btemp_89.0bh', 'btemp_89.0av', 'btemp_89.0bv', 'btemp_89.0h', 'btemp_89.0v'],\n",
    "                window_sar = 500,\n",
    "                window_amsr2 = 10,\n",
    "                stride_sar = 500,\n",
    "                stride_amsr2 = 10,\n",
    "                resample_step_amsr2 = 10,\n",
    "                resize_step_sar = 10,\n",
    "                rm_swath = 5,\n",
    "                distance_threshold = 10,\n",
    "                encoding = \"one_hot_binary\")\n",
    "\n",
    "archive2_=Archive(input_dir = 'input',\n",
    "                output_dir = 'output',\n",
    "                names_sar = ['nersc_sar_primary','nersc_sar_secondary'],\n",
    "                names_amsr2 = ['btemp_6.9h', 'btemp_6.9v'],\n",
    "                window_sar = 500,\n",
    "                window_amsr2 = 10,\n",
    "                stride_sar = 500,\n",
    "                stride_amsr2 = 10,\n",
    "                resample_step_amsr2 = 10,\n",
    "                resize_step_sar = 10,\n",
    "                rm_swath = 5,\n",
    "                distance_threshold = 10,\n",
    "                encoding = \"one_hot_binary\")"
   ]
  },
  {
   "cell_type": "code",
   "execution_count": null,
   "metadata": {},
   "outputs": [
    {
     "name": "stdout",
     "output_type": "stream",
     "text": [
      "All files are being processed!\n",
      "Starting 0 out of 1 unprocessed files\n",
      "<archive.SarBatches object at 0x000001C3594FC850>\n",
      "<archive.OutputBatches object at 0x000001C3594FC850>\n",
      "<archive.DistanceBatches object at 0x000001C3594FC850>\n",
      "[41. 42. 43. 44. 45. 46. 47. 48. 49. 50. 51. 52. 53. nan]\n",
      "42.0\n",
      "43.0\n",
      "44.0\n",
      "45.0\n",
      "46.0\n",
      "47.0\n",
      "48.0\n",
      "49.0\n",
      "50.0\n",
      "51.0\n",
      "52.0\n",
      "53.0\n",
      "nan\n"
     ]
    }
   ],
   "source": [
    "archive_.get_unprocessed_files()\n",
    "for i, filename in enumerate(archive_.files):\n",
    "    print(\"Starting %d out of %d unprocessed files\" % (i, len(archive_.files)))\n",
    "    fil = nc.Dataset(os.path.join(archive_.input_dir, filename))\n",
    "    archive_.batches = {}\n",
    "    archive_.process_dataset(fil, filename)\n",
    "    # saving section\n",
    "    archive_.write_batches()\n",
    "    archive_.update_processed_files(i)\n",
    "    del fil"
   ]
  },
  {
   "cell_type": "code",
   "execution_count": null,
   "metadata": {},
   "outputs": [],
   "source": [
    "ifile= 'C:\\\\Users\\\\Utilisateur\\\\Desktop\\\\internship\\\\data\\\\input\\\\20180404T205505_S1B_AMSR2_Icechart-Greenland-CentralWest.nc'\n",
    "ds = nc.Dataset(ifile, format=\"NETCDF4\")\n",
    "p_codes = ds['polygon_codes'][:]"
   ]
  },
  {
   "cell_type": "raw",
   "metadata": {},
   "source": []
  },
  {
   "cell_type": "code",
   "execution_count": null,
   "metadata": {},
   "outputs": [],
   "source": []
  }
 ],
 "metadata": {
  "kernelspec": {
   "display_name": "Python 3",
   "language": "python",
   "name": "python3"
  },
  "language_info": {
   "codemirror_mode": {
    "name": "ipython",
    "version": 3
   },
   "file_extension": ".py",
   "mimetype": "text/x-python",
   "name": "python",
   "nbconvert_exporter": "python",
   "pygments_lexer": "ipython3",
   "version": "3.8.5"
  }
 },
 "nbformat": 4,
 "nbformat_minor": 4
}
