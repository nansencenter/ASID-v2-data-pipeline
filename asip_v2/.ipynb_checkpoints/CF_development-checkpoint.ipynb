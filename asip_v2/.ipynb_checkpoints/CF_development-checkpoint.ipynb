{
 "cells": [
  {
   "cell_type": "code",
   "execution_count": 1,
   "metadata": {},
   "outputs": [
    {
     "data": {
      "text/plain": [
       "'/tf/sea_ice_type_cnn_training/asip_v2'"
      ]
     },
     "execution_count": 1,
     "metadata": {},
     "output_type": "execute_result"
    }
   ],
   "source": [
    "pwd"
   ]
  },
  {
   "cell_type": "code",
   "execution_count": 2,
   "metadata": {},
   "outputs": [
    {
     "name": "stderr",
     "output_type": "stream",
     "text": [
      "Matplotlib created a temporary config/cache directory at /tmp/matplotlib-xi7edomc because the default path (/.config/matplotlib) is not a writable directory; it is highly recommended to set the MPLCONFIGDIR environment variable to a writable directory, in particular to speed up the import of Matplotlib and to better support multiprocessing.\n"
     ]
    }
   ],
   "source": [
    "import os\n",
    "import sys\n",
    "import argparse\n",
    "import argparse\n",
    "import netCDF4 as nc\n",
    "import numpy as np\n",
    "from skimage.util.shape import view_as_windows\n",
    "\n",
    "from archive import Archive\n",
    "from utility import type_for_nersc_noise, common_parser, postprocess_the_args\n",
    "\n",
    "input_d = '/tf/data/input'\n",
    "output_d='/tf/data/output'\n",
    "\n",
    "archive_=Archive(input_dir = input_d,\n",
    "                output_dir = output_d,\n",
    "                names_sar = ['nersc_sar_primary','nersc_sar_secondary'],\n",
    "                names_amsr2 = ['btemp_6.9h', 'btemp_6.9v', 'btemp_7.3h', 'btemp_7.3v', 'btemp_10.7h', 'btemp_10.7v', 'btemp_18.7h', 'btemp_18.7v', 'btemp_23.8h', 'btemp_23.8v', 'btemp_36.5h', 'btemp_36.5v', 'btemp_89.0ah', 'btemp_89.0bh', 'btemp_89.0av', 'btemp_89.0bv', 'btemp_89.0h', 'btemp_89.0v'],\n",
    "                window_sar = 500,\n",
    "                window_amsr2 = 10,\n",
    "                stride_sar = 500,\n",
    "                stride_amsr2 = 10,\n",
    "                resample_step_amsr2 = 10,\n",
    "                resize_step_sar = 10,\n",
    "                rm_swath = 5,\n",
    "                distance_threshold = 10,\n",
    "                encoding = \"one_hot_binary\")\n",
    "\n",
    "archive2_=Archive(input_dir = 'input',\n",
    "                output_dir = 'output',\n",
    "                names_sar = ['nersc_sar_primary','nersc_sar_secondary'],\n",
    "                names_amsr2 = ['btemp_6.9h', 'btemp_6.9v'],\n",
    "                window_sar = 500,\n",
    "                window_amsr2 = 10,\n",
    "                stride_sar = 500,\n",
    "                stride_amsr2 = 10,\n",
    "                resample_step_amsr2 = 10,\n",
    "                resize_step_sar = 10,\n",
    "                rm_swath = 5,\n",
    "                distance_threshold = 10,\n",
    "                encoding = \"one_hot_binary\")"
   ]
  },
  {
   "cell_type": "code",
   "execution_count": 3,
   "metadata": {},
   "outputs": [
    {
     "name": "stdout",
     "output_type": "stream",
     "text": [
      "All files are being processed!\n",
      "Starting 0 out of 1 unprocessed files\n",
      "<archive.SarBatches object at 0x7f7f401342e0>\n",
      "<archive.OutputBatches object at 0x7f7f401342e0>\n",
      "<archive.DistanceBatches object at 0x7f7f401342e0>\n",
      "<archive.Amsr2Batches object at 0x7f7f401342e0>\n"
     ]
    }
   ],
   "source": [
    "archive_.get_unprocessed_files()\n",
    "for i, filename in enumerate(archive_.files):\n",
    "    print(\"Starting %d out of %d unprocessed files\" % (i, len(archive_.files)))\n",
    "    fil = nc.Dataset(os.path.join(archive_.input_dir, filename))\n",
    "    archive_.batches = {}\n",
    "    archive_.process_dataset(fil, filename)\n",
    "    # saving section\n",
    "    archive_.write_batches()\n",
    "    archive_.update_processed_files(i)\n",
    "    del fil"
   ]
  },
  {
   "cell_type": "code",
   "execution_count": null,
   "metadata": {},
   "outputs": [],
   "source": []
  }
 ],
 "metadata": {
  "kernelspec": {
   "display_name": "Python 3",
   "language": "python",
   "name": "python3"
  },
  "language_info": {
   "codemirror_mode": {
    "name": "ipython",
    "version": 3
   },
   "file_extension": ".py",
   "mimetype": "text/x-python",
   "name": "python",
   "nbconvert_exporter": "python",
   "pygments_lexer": "ipython3",
   "version": "3.8.10"
  }
 },
 "nbformat": 4,
 "nbformat_minor": 4
}
