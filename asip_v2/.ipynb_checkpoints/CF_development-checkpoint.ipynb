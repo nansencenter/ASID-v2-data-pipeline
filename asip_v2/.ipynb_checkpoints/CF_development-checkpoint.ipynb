{
 "cells": [
  {
   "cell_type": "code",
   "execution_count": 1,
   "metadata": {},
   "outputs": [],
   "source": [
    "import os\n",
    "import sys\n",
    "import argparse\n",
    "import argparse\n",
    "import netCDF4 as nc\n",
    "import numpy as np\n",
    "from skimage.util.shape import view_as_windows\n",
    "\n",
    "from archive import Archive\n",
    "from utility import type_for_nersc_noise, common_parser, postprocess_the_args\n",
    "\n",
    "archive_=Archive(input_dir = 'input',\n",
    "                output_dir = 'output',\n",
    "                names_sar = ['nersc_sar_primary','nersc_sar_secondary'],\n",
    "                names_amsr2 = ['btemp_6.9h', 'btemp_6.9v', 'btemp_7.3h', 'btemp_7.3v', 'btemp_10.7h', 'btemp_10.7v', 'btemp_18.7h', 'btemp_18.7v', 'btemp_23.8h', 'btemp_23.8v', 'btemp_36.5h', 'btemp_36.5v', 'btemp_89.0ah', 'btemp_89.0bh', 'btemp_89.0av', 'btemp_89.0bv', 'btemp_89.0h', 'btemp_89.0v'],\n",
    "                window_sar = 500,\n",
    "                window_amsr2 = 100,\n",
    "                stride_sar = 500,\n",
    "                stride_amsr2 = 100,\n",
    "                resample_step_amsr2 = 100,\n",
    "                resize_step_sar = 10,\n",
    "                rm_swath = 5,\n",
    "                distance_threshold = 10,\n",
    "                encoding = \"one_hot_binary\")\n",
    "\n",
    "archive2_=Archive(input_dir = 'input',\n",
    "                output_dir = 'output',\n",
    "                names_sar = ['nersc_sar_primary','nersc_sar_secondary'],\n",
    "                names_amsr2 = ['btemp_6.9h', 'btemp_6.9v'],\n",
    "                window_sar = 500,\n",
    "                window_amsr2 = 10,\n",
    "                stride_sar = 500,\n",
    "                stride_amsr2 = 10,\n",
    "                resample_step_amsr2 = 10,\n",
    "                resize_step_sar = 10,\n",
    "                rm_swath = 5,\n",
    "                distance_threshold = 10,\n",
    "                encoding = \"one_hot_binary\")"
   ]
  },
  {
   "cell_type": "code",
   "execution_count": 2,
   "metadata": {},
   "outputs": [
    {
     "name": "stdout",
     "output_type": "stream",
     "text": [
      "All files are being processed!\n",
      "Starting 0 out of 1 unprocessed files\n",
      "<archive.SarBatches object at 0x0000015AEDD5B070>\n",
      "<archive.OutputBatches object at 0x0000015AEDD5B070>\n",
      "<archive.Amsr2Batches object at 0x0000015AEDD5B070>\n",
      "views\n",
      "[[[[234.72461 234.55469 234.37695 ... 222.98438 221.91211 220.64844]\n",
      "   [234.92773 234.78711 234.5332  ... 223.16406 221.92578 220.32617]\n",
      "   [235.16797 234.98828 234.76367 ... 223.37695 222.12695 220.2168 ]\n",
      "   ...\n",
      "   [238.42188 238.61133 238.75977 ... 143.29102 138.95117 134.83984]\n",
      "   [238.33789 238.54102 238.71094 ... 142.12305 137.70898 134.30078]\n",
      "   [238.25586 238.45117 238.625   ... 141.58984 137.44531 133.56445]]]]\n",
      "(1, 1, 100, 100)\n",
      "array_locs\n",
      "[(0, 0)]\n",
      "{'btemp_6_9h': [array([[234.72461, 234.55469, 234.37695, ..., 222.98438, 221.91211,\n",
      "        220.64844],\n",
      "       [234.92773, 234.78711, 234.5332 , ..., 223.16406, 221.92578,\n",
      "        220.32617],\n",
      "       [235.16797, 234.98828, 234.76367, ..., 223.37695, 222.12695,\n",
      "        220.2168 ],\n",
      "       ...,\n",
      "       [238.42188, 238.61133, 238.75977, ..., 143.29102, 138.95117,\n",
      "        134.83984],\n",
      "       [238.33789, 238.54102, 238.71094, ..., 142.12305, 137.70898,\n",
      "        134.30078],\n",
      "       [238.25586, 238.45117, 238.625  , ..., 141.58984, 137.44531,\n",
      "        133.56445]], dtype=float32)], 'btemp_6_9h_loc': [(0, 0)]}\n",
      "views\n",
      "[[[[256.84375 256.91016 256.95703 ... 249.12695 248.53125 247.82031]\n",
      "   [256.85156 256.91016 256.96484 ... 249.17578 248.5039  247.6582 ]\n",
      "   [256.88086 256.91797 256.95117 ... 249.21094 248.57617 247.58398]\n",
      "   ...\n",
      "   [254.51367 254.48047 254.48242 ... 183.95312 179.50586 175.34961]\n",
      "   [254.43164 254.40234 254.41602 ... 182.86719 178.32031 174.90234]\n",
      "   [254.38086 254.34375 254.35938 ... 182.39062 178.12305 174.21875]]]]\n",
      "(1, 1, 100, 100)\n",
      "array_locs\n",
      "[(0, 0)]\n",
      "{'btemp_6_9h': [array([[234.72461, 234.55469, 234.37695, ..., 222.98438, 221.91211,\n",
      "        220.64844],\n",
      "       [234.92773, 234.78711, 234.5332 , ..., 223.16406, 221.92578,\n",
      "        220.32617],\n",
      "       [235.16797, 234.98828, 234.76367, ..., 223.37695, 222.12695,\n",
      "        220.2168 ],\n",
      "       ...,\n",
      "       [238.42188, 238.61133, 238.75977, ..., 143.29102, 138.95117,\n",
      "        134.83984],\n",
      "       [238.33789, 238.54102, 238.71094, ..., 142.12305, 137.70898,\n",
      "        134.30078],\n",
      "       [238.25586, 238.45117, 238.625  , ..., 141.58984, 137.44531,\n",
      "        133.56445]], dtype=float32)], 'btemp_6_9h_loc': [(0, 0)], 'btemp_6_9v': [array([[256.84375, 256.91016, 256.95703, ..., 249.12695, 248.53125,\n",
      "        247.82031],\n",
      "       [256.85156, 256.91016, 256.96484, ..., 249.17578, 248.5039 ,\n",
      "        247.6582 ],\n",
      "       [256.88086, 256.91797, 256.95117, ..., 249.21094, 248.57617,\n",
      "        247.58398],\n",
      "       ...,\n",
      "       [254.51367, 254.48047, 254.48242, ..., 183.95312, 179.50586,\n",
      "        175.34961],\n",
      "       [254.43164, 254.40234, 254.41602, ..., 182.86719, 178.32031,\n",
      "        174.90234],\n",
      "       [254.38086, 254.34375, 254.35938, ..., 182.39062, 178.12305,\n",
      "        174.21875]], dtype=float32)], 'btemp_6_9v_loc': [(0, 0)]}\n"
     ]
    }
   ],
   "source": [
    "archive_=archive2_\n",
    "archive_.get_unprocessed_files()\n",
    "for i, filename in enumerate(archive_.files):\n",
    "    print(\"Starting %d out of %d unprocessed files\" % (i, len(archive_.files)))\n",
    "    fil = nc.Dataset(os.path.join(archive_.input_dir, filename))\n",
    "    archive_.batches = {}\n",
    "    archive_.process_dataset(fil, filename)\n",
    "    # saving section\n",
    "#     archive_.write_batches()\n",
    "#     archive_.update_processed_files(i)\n",
    "    del fil"
   ]
  },
  {
   "cell_type": "code",
   "execution_count": 3,
   "metadata": {},
   "outputs": [
    {
     "data": {
      "text/plain": [
       "9950"
      ]
     },
     "execution_count": 3,
     "metadata": {},
     "output_type": "execute_result"
    }
   ],
   "source": [
    "199*50\n"
   ]
  },
  {
   "cell_type": "code",
   "execution_count": null,
   "metadata": {},
   "outputs": [],
   "source": []
  },
  {
   "cell_type": "code",
   "execution_count": null,
   "metadata": {},
   "outputs": [],
   "source": []
  }
 ],
 "metadata": {
  "kernelspec": {
   "display_name": "Python 3",
   "language": "python",
   "name": "python3"
  },
  "language_info": {
   "codemirror_mode": {
    "name": "ipython",
    "version": 3
   },
   "file_extension": ".py",
   "mimetype": "text/x-python",
   "name": "python",
   "nbconvert_exporter": "python",
   "pygments_lexer": "ipython3",
   "version": "3.8.5"
  }
 },
 "nbformat": 4,
 "nbformat_minor": 4
}
