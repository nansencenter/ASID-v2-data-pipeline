{
 "cells": [
  {
   "cell_type": "code",
   "execution_count": 1,
   "metadata": {},
   "outputs": [],
   "source": [
    "import glob\n",
    "import argparse\n",
    "import datetime\n",
    "import os\n",
    "from os.path import basename, dirname, join\n",
    "import random\n",
    "\n",
    "import numpy as np\n",
    "import tensorflow as tf\n",
    "from tensorflow.keras import layers\n",
    "from tensorflow.keras.models import Model\n",
    "\n",
    "\n",
    "from data_generator import DataGeneratorFrom_npz_File\n",
    "\n",
    "# idir = '/data1/antonk/tmp'\n",
    "idir = '/data1/clefou/data/output'\n",
    "idir2 = '/tf/data/output'\n",
    "\n"
   ]
  },
  {
   "cell_type": "code",
   "execution_count": 2,
   "metadata": {},
   "outputs": [
    {
     "ename": "IndexError",
     "evalue": "list index out of range",
     "output_type": "error",
     "traceback": [
      "\u001b[0;31m---------------------------------------------------------------------------\u001b[0m",
      "\u001b[0;31mIndexError\u001b[0m                                Traceback (most recent call last)",
      "Input \u001b[0;32mIn [2]\u001b[0m, in \u001b[0;36m<cell line: 28>\u001b[0;34m()\u001b[0m\n\u001b[1;32m     25\u001b[0m output_var_name \u001b[38;5;241m=\u001b[39m \u001b[38;5;124m'\u001b[39m\u001b[38;5;124mice_type\u001b[39m\u001b[38;5;124m'\u001b[39m\n\u001b[1;32m     26\u001b[0m distance_var_name \u001b[38;5;241m=\u001b[39m \u001b[38;5;124m'\u001b[39m\u001b[38;5;124mdistance_border\u001b[39m\u001b[38;5;124m'\u001b[39m\n\u001b[0;32m---> 28\u001b[0m dims_input \u001b[38;5;241m=\u001b[39m np\u001b[38;5;241m.\u001b[39mload(\u001b[43mnpz_files\u001b[49m\u001b[43m[\u001b[49m\u001b[38;5;241;43m0\u001b[39;49m\u001b[43m]\u001b[49m)[input_var_names[\u001b[38;5;241m0\u001b[39m]]\u001b[38;5;241m.\u001b[39mshape\n\u001b[1;32m     29\u001b[0m dims_output \u001b[38;5;241m=\u001b[39m np\u001b[38;5;241m.\u001b[39mload(npz_files[\u001b[38;5;241m0\u001b[39m])[output_var_name]\u001b[38;5;241m.\u001b[39mshape\n\u001b[1;32m     30\u001b[0m dims_distance \u001b[38;5;241m=\u001b[39m np\u001b[38;5;241m.\u001b[39mload(npz_files[\u001b[38;5;241m0\u001b[39m])[distance_var_name]\u001b[38;5;241m.\u001b[39mshape\n",
      "\u001b[0;31mIndexError\u001b[0m: list index out of range"
     ]
    }
   ],
   "source": [
    "train_ratio = 0.7\n",
    "npz_files = sorted(glob.glob('/tf/data/output/*.npz'))\n",
    "random.shuffle(npz_files)\n",
    "train_files_number = int(len(npz_files) * train_ratio)\n",
    "train_files = npz_files[:train_files_number]\n",
    "valid_files = npz_files[train_files_number:]\n",
    "\n",
    "input_var_names = ['nersc_sar_primary', 'nersc_sar_secondary']\n",
    "amsr2_var_names = [\n",
    "    'btemp_6_9h',\n",
    "    'btemp_6_9v',\n",
    "    'btemp_7_3h',\n",
    "    'btemp_7_3v',\n",
    "    'btemp_10_7h',\n",
    "    'btemp_10_7v',\n",
    "    'btemp_18_7h',\n",
    "    'btemp_18_7v',\n",
    "    'btemp_23_8h',\n",
    "    'btemp_23_8v',\n",
    "    'btemp_36_5h',\n",
    "    'btemp_36_5v',\n",
    "    'btemp_89_0h',\n",
    "    'btemp_89_0v',\n",
    " ]\n",
    "output_var_name = 'ice_type'\n",
    "distance_var_name = 'distance_border'\n",
    "\n",
    "dims_input = np.load(npz_files[0])[input_var_names[0]].shape\n",
    "dims_output = np.load(npz_files[0])[output_var_name].shape\n",
    "dims_distance = np.load(npz_files[0])[distance_var_name].shape\n",
    "dims_amsr2 = np.load(npz_files[0])[amsr2_var_names[0]].shape\n",
    "\n",
    "params = {'dims_input':      (*dims_input, len(input_var_names)),\n",
    "           'dims_output':     (*dims_output,),\n",
    "           'dims_distance':   (*dims_distance,),\n",
    "           'dims_amsr2':      (*dims_amsr2, len(amsr2_var_names)),\n",
    "           'output_var_name': output_var_name,\n",
    "           'distance_var_name': distance_var_name,\n",
    "           'input_var_names': input_var_names,\n",
    "           'amsr2_var_names': amsr2_var_names,\n",
    "           'batch_size':      50,\n",
    "           'shuffle_on_epoch_end': False,\n",
    "           }"
   ]
  },
  {
   "cell_type": "code",
   "execution_count": null,
   "metadata": {},
   "outputs": [],
   "source": [
    "training_generator = DataGeneratorFrom_npz_File(train_files, **params)\n",
    "\n",
    "\n",
    "print(\n",
    "    training_generator[0][0][0].shape, #sar\n",
    "    training_generator[0][0][1].shape, #amsr2\n",
    "    training_generator[0][1].shape, #output\n",
    "    training_generator[0][2].shape #distance\n",
    ")\n",
    "print(training_generator[0][1])\n"
   ]
  },
  {
   "cell_type": "code",
   "execution_count": 3,
   "metadata": {},
   "outputs": [
    {
     "data": {
      "text/plain": [
       "'/tf/sea_ice_type_cnn_training/asip_v2'"
      ]
     },
     "execution_count": 3,
     "metadata": {},
     "output_type": "execute_result"
    }
   ],
   "source": [
    "pwd"
   ]
  },
  {
   "cell_type": "code",
   "execution_count": null,
   "metadata": {},
   "outputs": [],
   "source": []
  }
 ],
 "metadata": {
  "kernelspec": {
   "display_name": "Python 3",
   "language": "python",
   "name": "python3"
  },
  "language_info": {
   "codemirror_mode": {
    "name": "ipython",
    "version": 3
   },
   "file_extension": ".py",
   "mimetype": "text/x-python",
   "name": "python",
   "nbconvert_exporter": "python",
   "pygments_lexer": "ipython3",
   "version": "3.8.10"
  }
 },
 "nbformat": 4,
 "nbformat_minor": 2
}
