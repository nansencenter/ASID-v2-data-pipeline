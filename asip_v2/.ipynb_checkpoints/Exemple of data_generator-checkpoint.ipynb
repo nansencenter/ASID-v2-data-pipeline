{
 "cells": [
  {
   "cell_type": "code",
   "execution_count": 1,
   "metadata": {},
   "outputs": [
    {
     "name": "stderr",
     "output_type": "stream",
     "text": [
      "Matplotlib created a temporary config/cache directory at /tmp/matplotlib-6_kgo1dn because the default path (/.config/matplotlib) is not a writable directory; it is highly recommended to set the MPLCONFIGDIR environment variable to a writable directory, in particular to speed up the import of Matplotlib and to better support multiprocessing.\n"
     ]
    }
   ],
   "source": [
    "import glob\n",
    "import argparse\n",
    "import datetime\n",
    "import os\n",
    "from os.path import basename, dirname, join\n",
    "import random\n",
    "import json\n",
    "\n",
    "import numpy as np\n",
    "import tensorflow as tf\n",
    "from tensorflow.keras import layers\n",
    "from tensorflow.keras.models import Model\n",
    "\n",
    "import data_generator\n",
    "from data_generator import DataGeneratorFrom_npz_File\n",
    "\n",
    "\n",
    "\n",
    "import matplotlib.pyplot as plt\n",
    "from matplotlib import colors\n",
    "\n",
    "from tensorflow.keras.models import load_model\n",
    "from tensorflow.keras.layers import Dense, Flatten, Conv2D\n",
    "from tensorflow.keras import Model\n",
    "from tensorflow.keras.models import Sequential\n",
    "from tensorflow.keras.layers import (Dense,\n",
    "                                     Flatten,\n",
    "                                     Dropout,\n",
    "                                     BatchNormalization, \n",
    "                                     Conv2D, \n",
    "                                     MaxPooling2D)\n",
    "from tensorflow.keras.regularizers import l2\n",
    "\n",
    "random.seed(1)\n",
    "\n",
    "# idir = '/tf/data/output/'\n",
    "# input_dir_json = '/tf/data/input/'\n",
    "\n",
    "idir = '/Data/preprocessing/output/'\n",
    "\n",
    "input_dir_json = '/Data/'"
   ]
  },
  {
   "cell_type": "code",
   "execution_count": 2,
   "metadata": {},
   "outputs": [
    {
     "name": "stdout",
     "output_type": "stream",
     "text": [
      "777697\n"
     ]
    }
   ],
   "source": [
    "train_ratio = 0.7\n",
    "with open(f'{idir}processed_files.json') as fichier_json:\n",
    "    all_nc = json.load(fichier_json)\n",
    "npz_files=[]\n",
    "for nc in all_nc :\n",
    "    name = nc[:15]\n",
    "    files = sorted(glob.glob(f'{idir}/output_keep_w/{name}/*.npz'))\n",
    "    npz_files += files\n",
    "random.shuffle(npz_files)\n",
    "print(len(npz_files))\n",
    "train_files_number = int(len(npz_files) * train_ratio)\n",
    "train_files = npz_files[:train_files_number]\n",
    "valid_files = npz_files[train_files_number:]\n",
    "\n",
    "input_var_names = ['nersc_sar_primary', 'nersc_sar_secondary']\n",
    "amsr2_var_names = [\n",
    "    'btemp_6_9h',\n",
    "    'btemp_6_9v',\n",
    "    'btemp_7_3h',\n",
    "    'btemp_7_3v',\n",
    "    'btemp_10_7h',\n",
    "    'btemp_10_7v',\n",
    "    'btemp_18_7h',\n",
    "    'btemp_18_7v',\n",
    "    'btemp_23_8h',\n",
    "    'btemp_23_8v',\n",
    "    'btemp_36_5h',\n",
    "    'btemp_36_5v',\n",
    "    'btemp_89_0h',\n",
    "    'btemp_89_0v']\n",
    "\n",
    "# with open(f'{input_dir_json}vector_combinations.json') as fichier_json:\n",
    "#     list_combi = json.load(fichier_json)['all_work_comb']\n",
    "\n",
    "encoding =\"hugo\"\n",
    "    \n",
    "output_var_name = 'ice_type'\n",
    "\n",
    "dims_input = np.load(npz_files[0])[input_var_names[0]].shape\n",
    "dims_amsr2 = np.load(npz_files[0])[amsr2_var_names[0]].shape\n",
    "\n",
    "params = {'dims_input':      (*dims_input, len(input_var_names)),\n",
    "           'dims_amsr2':      (*dims_amsr2, len(amsr2_var_names)),\n",
    "           'idir_json': input_dir_json,\n",
    "           'output_var_name': output_var_name,\n",
    "           'input_var_names': input_var_names,\n",
    "           'amsr2_var_names': amsr2_var_names,\n",
    "           'batch_size':      50,\n",
    "           'encoding':        encoding,\n",
    "           'shuffle_on_epoch_end': False,\n",
    "           }"
   ]
  },
  {
   "cell_type": "code",
   "execution_count": 3,
   "metadata": {},
   "outputs": [
    {
     "name": "stdout",
     "output_type": "stream",
     "text": [
      "(50, 50, 50, 2, 2) (50, 16, 16, 14) (50, 4)\n"
     ]
    }
   ],
   "source": [
    "training_generator = DataGeneratorFrom_npz_File(train_files, **params)\n",
    "\n",
    "\n",
    "print(\n",
    "    training_generator[0][0][0].shape, #sar\n",
    "    training_generator[0][0][1].shape, #amsr2\n",
    "    training_generator[0][1].shape, #output\n",
    ")\n",
    "\n",
    "# print('sar')\n",
    "# print(training_generator[0][0][0][:1])\n",
    "# print('amsr2')\n",
    "# print(training_generator[0][0][1][:1])\n",
    "# print('output')\n",
    "# print(training_generator[0][1][:1])\n",
    "# print('distance')\n",
    "# print(training_generator[0][2][:1])"
   ]
  },
  {
   "cell_type": "code",
   "execution_count": 4,
   "metadata": {},
   "outputs": [
    {
     "name": "stdout",
     "output_type": "stream",
     "text": [
      "(50, 50, 50, 2)\n",
      "(50, 4)\n"
     ]
    }
   ],
   "source": [
    "list_combi = [\"0_0\", \"83_5\", \"93_6\", \"87_6\", \"95_4\", \"95_6\", \"91_5\", \"95_3\", \"95_5\", \"83_6\", \"93_4\", \"91_3\", \"83_4\", \"91_6\", \"93_7\", \"96_6\", \"91_4\", \"91_2\", \"93_5\", \"82_3\", \"87_5\", \"97_7\", \"87_3\", \"82_5\", \"82_4\", \"83_3\", \"93_2\", \"93_3\", \"87_4\", \"91_7\", \"95_7\", \"82_2\"]\n",
    "vector_param = training_generator[0][1]\n",
    "print(vector_param)\n",
    "# sar_sv = (np.delete(training_generator[0][0][0],1,axis=4)).squeeze()\n",
    "# output = training_generator[0][1]\n",
    "# print(sar_sv.squeeze().shape)\n",
    "# print(output.shape)"
   ]
  },
  {
   "cell_type": "code",
   "execution_count": 5,
   "metadata": {},
   "outputs": [],
   "source": [
    "test1=[0.10000000000000009, 0, 0.8999999999999999, 0]\n",
    "test2=[0.19999999999999996, 0, 0.5, 0.3]"
   ]
  }
 ],
 "metadata": {
  "kernelspec": {
   "display_name": "Python 3",
   "language": "python",
   "name": "python3"
  },
  "language_info": {
   "codemirror_mode": {
    "name": "ipython",
    "version": 3
   },
   "file_extension": ".py",
   "mimetype": "text/x-python",
   "name": "python",
   "nbconvert_exporter": "python",
   "pygments_lexer": "ipython3",
   "version": "3.8.10"
  }
 },
 "nbformat": 4,
 "nbformat_minor": 2
}
