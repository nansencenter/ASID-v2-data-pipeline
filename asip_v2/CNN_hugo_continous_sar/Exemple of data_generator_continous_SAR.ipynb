{
 "cells": [
  {
   "cell_type": "markdown",
   "metadata": {},
   "source": [
    "# 1. Import"
   ]
  },
  {
   "cell_type": "code",
   "execution_count": 1,
   "metadata": {},
   "outputs": [
    {
     "name": "stdout",
     "output_type": "stream",
     "text": [
      "\u001b[33mWARNING: The directory '/.cache/pip' or its parent directory is not owned or is not writable by the current user. The cache has been disabled. Check the permissions and owner of that directory. If executing pip with sudo, you may want sudo's -H flag.\u001b[0m\n",
      "Defaulting to user installation because normal site-packages is not writeable\n",
      "Requirement already satisfied: sklearn in /.local/lib/python3.8/site-packages (0.0)\n",
      "Requirement already satisfied: scikit-learn in /.local/lib/python3.8/site-packages (from sklearn) (1.1.1)\n",
      "Requirement already satisfied: numpy>=1.17.3 in /usr/local/lib/python3.8/dist-packages (from scikit-learn->sklearn) (1.22.4)\n",
      "Requirement already satisfied: scipy>=1.3.2 in /usr/local/lib/python3.8/dist-packages (from scikit-learn->sklearn) (1.8.1)\n",
      "Requirement already satisfied: threadpoolctl>=2.0.0 in /.local/lib/python3.8/site-packages (from scikit-learn->sklearn) (3.1.0)\n",
      "Requirement already satisfied: joblib>=1.0.0 in /.local/lib/python3.8/site-packages (from scikit-learn->sklearn) (1.1.0)\n",
      "\u001b[33mWARNING: You are using pip version 20.2.4; however, version 22.1.2 is available.\n",
      "You should consider upgrading via the '/usr/bin/python3 -m pip install --upgrade pip' command.\u001b[0m\n"
     ]
    }
   ],
   "source": [
    "!pip install sklearn"
   ]
  },
  {
   "cell_type": "code",
   "execution_count": 2,
   "metadata": {},
   "outputs": [
    {
     "name": "stderr",
     "output_type": "stream",
     "text": [
      "Matplotlib created a temporary config/cache directory at /tmp/matplotlib-ypwxn73i because the default path (/.config/matplotlib) is not a writable directory; it is highly recommended to set the MPLCONFIGDIR environment variable to a writable directory, in particular to speed up the import of Matplotlib and to better support multiprocessing.\n"
     ]
    }
   ],
   "source": [
    "import os\n",
    "from os.path import basename, dirname, join\n",
    "\n",
    "\n",
    "import glob\n",
    "import argparse\n",
    "import datetime\n",
    "import random\n",
    "import json\n",
    "from netCDF4 import Dataset\n",
    "import numpy as np\n",
    "\n",
    "import data_generator\n",
    "from data_generator import HugoDataGenerator, DataGenerator_sod_f, HugoBinaryGenerator, HugoSarDataGenerator\n",
    "\n",
    "import matplotlib.pyplot as plt\n",
    "from matplotlib import colors\n",
    "\n",
    "from sklearn.metrics import (confusion_matrix, \n",
    "                            mean_squared_error, \n",
    "                            accuracy_score,\n",
    "                            precision_score,\n",
    "                            recall_score)\n",
    "from scipy import stats\n",
    "\n",
    "import tensorflow as tf\n",
    "from tensorflow.keras import layers\n",
    "from tensorflow.keras.models import Model\n",
    "from tensorflow.keras.models import load_model\n",
    "from tensorflow.keras.layers import Dense, Flatten, Conv2D\n",
    "from tensorflow.keras import Model\n",
    "from tensorflow.keras.models import Sequential\n",
    "from tensorflow.keras.layers import (Dense,\n",
    "                                     Flatten,\n",
    "                                     Dropout,\n",
    "                                     BatchNormalization, \n",
    "                                     Conv2D, \n",
    "                                     MaxPooling2D)\n",
    "from tensorflow.keras.regularizers import l2\n",
    "\n",
    "# idir = '/Data/preprocessing4hugo/output/'\n",
    "input_dir_json = '/Data/'\n",
    "idir = '/tf/data/hugo_continous/output_preprocessed_continous/output/'\n",
    "\n",
    "os.environ['TF_FORCE_GPU_ALLOW_GROWTH'] = 'true'\n",
    "\n",
    "gpus = tf.config.experimental.list_physical_devices('GPU')\n",
    "if gpus:\n",
    "    try:\n",
    "        tf.config.experimental.set_virtual_device_configuration(\n",
    "            gpus[0],[tf.config.experimental.VirtualDeviceConfiguration(memory_limit=5120)])\n",
    "    except RuntimeError as e:\n",
    "        print(e)\n"
   ]
  },
  {
   "cell_type": "markdown",
   "metadata": {},
   "source": [
    "# 2. Definition model"
   ]
  },
  {
   "cell_type": "code",
   "execution_count": 3,
   "metadata": {},
   "outputs": [],
   "source": [
    "def create_model():\n",
    "    \"\"\" Create sequential CNN with convolutional and dense layers\n",
    "    \n",
    "    \"\"\"\n",
    "    # number of ice classes\n",
    "    nbr_classes = 4  \n",
    "    # size of SAR subimages\n",
    "    ws = 50\n",
    "    # size of convolutional filters\n",
    "    cs = 3\n",
    "    # number of filters per convolutional layer (x id)\n",
    "    c1,c2,c3 = 32,32,32\n",
    "    # number of neurons per hidden neural layer number (x id)\n",
    "    n1,n2,n3 = 16,16,64\n",
    "    # value of dropout\n",
    "    dropout_rate = 0.1\n",
    "    # value of L2 regularisation\n",
    "    l2_rate = 0.001\n",
    "\n",
    "    model = Sequential()\n",
    "\n",
    "    # Convolutional part\n",
    "    model.add(BatchNormalization(input_shape=(ws, ws, 4)))\n",
    "    model.add(Conv2D(c1, (cs, cs), activation='relu'))\n",
    "    model.add(MaxPooling2D((2, 2),2))\n",
    "    model.add(Conv2D(c2, (cs, cs), activation='relu'))\n",
    "    model.add(Conv2D(c3, (cs, cs), activation='relu'))\n",
    "    model.add(MaxPooling2D((2, 2),2))\n",
    "    model.add(BatchNormalization())\n",
    "\n",
    "    model.add(Flatten())\n",
    "\n",
    "    # Neural network part (hidden layers)\n",
    "    model.add(Dropout(dropout_rate))\n",
    "    model.add(Dense(n1, kernel_regularizer=l2(l2_rate), activation='relu'))\n",
    "    model.add(Dropout(dropout_rate))\n",
    "    model.add(Dense(n2, kernel_regularizer=l2(l2_rate), activation='relu'))\n",
    "    model.add(Dropout(dropout_rate))\n",
    "    model.add(Dense(n3, kernel_regularizer=l2(l2_rate), activation='relu'))\n",
    "    model.add(Dropout(dropout_rate))\n",
    "\n",
    "    # Last neural layer (not hidden)\n",
    "    model.add(Dense(nbr_classes, kernel_regularizer=l2(l2_rate), activation='softmax'))\n",
    "    \n",
    "    return model"
   ]
  },
  {
   "cell_type": "markdown",
   "metadata": {},
   "source": [
    "# 3. Load Data"
   ]
  },
  {
   "cell_type": "markdown",
   "metadata": {},
   "source": [
    "### 3.1 Parameters and load files"
   ]
  },
  {
   "cell_type": "code",
   "execution_count": 4,
   "metadata": {},
   "outputs": [
    {
     "name": "stdout",
     "output_type": "stream",
     "text": [
      "Files number : 10000\n"
     ]
    }
   ],
   "source": [
    "train_ratio = 0.7\n",
    "with open(f'{idir}processed_files.json') as fichier_json:\n",
    "    all_nc = json.load(fichier_json)\n",
    "npz_files=[]\n",
    "\n",
    "\n",
    "\n",
    "\n",
    "random.seed(1)\n",
    "\n",
    "\n",
    "for nc in all_nc :\n",
    "    name = nc[:15]\n",
    "    files = sorted(glob.glob(f'{idir}/{name}/*.npz'))\n",
    "    npz_files += files\n",
    "random.shuffle(npz_files)\n",
    "\n",
    "npz_files = npz_files[:10000]\n",
    "\n",
    "print('Files number : '+ str (len(npz_files)))\n",
    "train_files_number = int(len(npz_files) * train_ratio)\n",
    "train_files = npz_files[:train_files_number]\n",
    "valid_files = npz_files[train_files_number:]\n",
    "\n",
    "input_var_names = ['nersc_sar_primary', 'nersc_sar_secondary']\n",
    "amsr2_var_names = [ 'btemp_6_9h',\n",
    "                    'btemp_6_9v',\n",
    "                    'btemp_7_3h',\n",
    "                    'btemp_7_3v',\n",
    "                    'btemp_10_7h',\n",
    "                    'btemp_10_7v',\n",
    "                    'btemp_18_7h',\n",
    "                    'btemp_18_7v',\n",
    "                    'btemp_23_8h',\n",
    "                    'btemp_23_8v',\n",
    "                    'btemp_36_5h',\n",
    "                    'btemp_36_5v',\n",
    "                    'btemp_89_0h',\n",
    "                    'btemp_89_0v'\n",
    "                  ]\n",
    " \n",
    "output_var_name = 'ice_type'\n",
    "dims_amsr2 = np.load(npz_files[0])[amsr2_var_names[0]].shape\n",
    "\n",
    "params = {'dims_amsr2':      (*dims_amsr2, len(amsr2_var_names)),\n",
    "          'idir_json':       input_dir_json,\n",
    "          'output_var_name': output_var_name,\n",
    "          'input_var_names': input_var_names,\n",
    "          'amsr2_var_names': amsr2_var_names,\n",
    "          'batch_size':      50,\n",
    "          'shuffle_on_epoch_end': False,\n",
    "           }"
   ]
  },
  {
   "cell_type": "markdown",
   "metadata": {},
   "source": [
    "### 3.2 processed data for model"
   ]
  },
  {
   "cell_type": "code",
   "execution_count": 5,
   "metadata": {
    "scrolled": false
   },
   "outputs": [
    {
     "name": "stdout",
     "output_type": "stream",
     "text": [
      "(50, 50, 50, 4) (50, 4)\n"
     ]
    }
   ],
   "source": [
    "training_generator = HugoSarDataGenerator(train_files, **params)\n",
    "validation_generator = HugoSarDataGenerator(valid_files, **params)\n",
    "\n",
    "print(\n",
    "     training_generator[0][0].shape, #sar\n",
    "#      training_generator[0][0][1].shape, #amsr2\n",
    "     training_generator[0][1].shape, #output\n",
    ")"
   ]
  },
  {
   "cell_type": "code",
   "execution_count": 6,
   "metadata": {},
   "outputs": [
    {
     "name": "stdout",
     "output_type": "stream",
     "text": [
      "[-16.53302002 -16.9883728  -24.56448364 -27.46253967]\n"
     ]
    }
   ],
   "source": [
    "print(training_generator[0][0][0][0][0])"
   ]
  },
  {
   "cell_type": "markdown",
   "metadata": {},
   "source": [
    "# 4. Load model and trained weights"
   ]
  },
  {
   "cell_type": "markdown",
   "metadata": {},
   "source": [
    "### 4.1 Load model and trained weights"
   ]
  },
  {
   "cell_type": "code",
   "execution_count": 7,
   "metadata": {},
   "outputs": [],
   "source": [
    "# creation of the model \n",
    "model = create_model()\n"
   ]
  },
  {
   "cell_type": "markdown",
   "metadata": {},
   "source": [
    "### 4.2 Apply CNN to SAR data"
   ]
  },
  {
   "cell_type": "code",
   "execution_count": 8,
   "metadata": {
    "scrolled": false
   },
   "outputs": [
    {
     "name": "stdout",
     "output_type": "stream",
     "text": [
      "Model: \"sequential\"\n",
      "_________________________________________________________________\n",
      " Layer (type)                Output Shape              Param #   \n",
      "=================================================================\n",
      " batch_normalization (BatchN  (None, 50, 50, 4)        16        \n",
      " ormalization)                                                   \n",
      "                                                                 \n",
      " conv2d (Conv2D)             (None, 48, 48, 32)        1184      \n",
      "                                                                 \n",
      " max_pooling2d (MaxPooling2D  (None, 24, 24, 32)       0         \n",
      " )                                                               \n",
      "                                                                 \n",
      " conv2d_1 (Conv2D)           (None, 22, 22, 32)        9248      \n",
      "                                                                 \n",
      " conv2d_2 (Conv2D)           (None, 20, 20, 32)        9248      \n",
      "                                                                 \n",
      " max_pooling2d_1 (MaxPooling  (None, 10, 10, 32)       0         \n",
      " 2D)                                                             \n",
      "                                                                 \n",
      " batch_normalization_1 (Batc  (None, 10, 10, 32)       128       \n",
      " hNormalization)                                                 \n",
      "                                                                 \n",
      " flatten (Flatten)           (None, 3200)              0         \n",
      "                                                                 \n",
      " dropout (Dropout)           (None, 3200)              0         \n",
      "                                                                 \n",
      " dense (Dense)               (None, 16)                51216     \n",
      "                                                                 \n",
      " dropout_1 (Dropout)         (None, 16)                0         \n",
      "                                                                 \n",
      " dense_1 (Dense)             (None, 16)                272       \n",
      "                                                                 \n",
      " dropout_2 (Dropout)         (None, 16)                0         \n",
      "                                                                 \n",
      " dense_2 (Dense)             (None, 64)                1088      \n",
      "                                                                 \n",
      " dropout_3 (Dropout)         (None, 64)                0         \n",
      "                                                                 \n",
      " dense_3 (Dense)             (None, 4)                 260       \n",
      "                                                                 \n",
      "=================================================================\n",
      "Total params: 72,660\n",
      "Trainable params: 72,588\n",
      "Non-trainable params: 72\n",
      "_________________________________________________________________\n",
      "Epoch 1/20\n",
      "140/140 [==============================] - ETA: 0s - loss: 0.1207\n",
      "Epoch 1: val_loss improved from inf to 0.20514, saving model to hugo_model_1000\n"
     ]
    },
    {
     "name": "stderr",
     "output_type": "stream",
     "text": [
      "WARNING:absl:Found untraced functions such as _jit_compiled_convolution_op, _jit_compiled_convolution_op, _jit_compiled_convolution_op while saving (showing 3 of 3). These functions will not be directly callable after loading.\n"
     ]
    },
    {
     "name": "stdout",
     "output_type": "stream",
     "text": [
      "INFO:tensorflow:Assets written to: hugo_model_1000/assets\n"
     ]
    },
    {
     "name": "stderr",
     "output_type": "stream",
     "text": [
      "INFO:tensorflow:Assets written to: hugo_model_1000/assets\n"
     ]
    },
    {
     "name": "stdout",
     "output_type": "stream",
     "text": [
      "140/140 [==============================] - 12s 70ms/step - loss: 0.1207 - val_loss: 0.2051\n",
      "Epoch 2/20\n",
      "138/140 [============================>.] - ETA: 0s - loss: 0.0855\n",
      "Epoch 2: val_loss improved from 0.20514 to 0.09129, saving model to hugo_model_1000\n"
     ]
    },
    {
     "name": "stderr",
     "output_type": "stream",
     "text": [
      "WARNING:absl:Found untraced functions such as _jit_compiled_convolution_op, _jit_compiled_convolution_op, _jit_compiled_convolution_op while saving (showing 3 of 3). These functions will not be directly callable after loading.\n"
     ]
    },
    {
     "name": "stdout",
     "output_type": "stream",
     "text": [
      "INFO:tensorflow:Assets written to: hugo_model_1000/assets\n"
     ]
    },
    {
     "name": "stderr",
     "output_type": "stream",
     "text": [
      "INFO:tensorflow:Assets written to: hugo_model_1000/assets\n"
     ]
    },
    {
     "name": "stdout",
     "output_type": "stream",
     "text": [
      "140/140 [==============================] - 10s 66ms/step - loss: 0.0853 - val_loss: 0.0913\n",
      "Epoch 3/20\n",
      "140/140 [==============================] - ETA: 0s - loss: 0.0689\n",
      "Epoch 3: val_loss improved from 0.09129 to 0.06670, saving model to hugo_model_1000\n"
     ]
    },
    {
     "name": "stderr",
     "output_type": "stream",
     "text": [
      "WARNING:absl:Found untraced functions such as _jit_compiled_convolution_op, _jit_compiled_convolution_op, _jit_compiled_convolution_op while saving (showing 3 of 3). These functions will not be directly callable after loading.\n"
     ]
    },
    {
     "name": "stdout",
     "output_type": "stream",
     "text": [
      "INFO:tensorflow:Assets written to: hugo_model_1000/assets\n"
     ]
    },
    {
     "name": "stderr",
     "output_type": "stream",
     "text": [
      "INFO:tensorflow:Assets written to: hugo_model_1000/assets\n"
     ]
    },
    {
     "name": "stdout",
     "output_type": "stream",
     "text": [
      "140/140 [==============================] - 9s 64ms/step - loss: 0.0689 - val_loss: 0.0667\n",
      "Epoch 4/20\n",
      "140/140 [==============================] - ETA: 0s - loss: 0.0612\n",
      "Epoch 4: val_loss improved from 0.06670 to 0.05523, saving model to hugo_model_1000\n"
     ]
    },
    {
     "name": "stderr",
     "output_type": "stream",
     "text": [
      "WARNING:absl:Found untraced functions such as _jit_compiled_convolution_op, _jit_compiled_convolution_op, _jit_compiled_convolution_op while saving (showing 3 of 3). These functions will not be directly callable after loading.\n"
     ]
    },
    {
     "name": "stdout",
     "output_type": "stream",
     "text": [
      "INFO:tensorflow:Assets written to: hugo_model_1000/assets\n"
     ]
    },
    {
     "name": "stderr",
     "output_type": "stream",
     "text": [
      "INFO:tensorflow:Assets written to: hugo_model_1000/assets\n"
     ]
    },
    {
     "name": "stdout",
     "output_type": "stream",
     "text": [
      "140/140 [==============================] - 10s 71ms/step - loss: 0.0612 - val_loss: 0.0552\n",
      "Epoch 5/20\n",
      "140/140 [==============================] - ETA: 0s - loss: 0.0566\n",
      "Epoch 5: val_loss improved from 0.05523 to 0.05201, saving model to hugo_model_1000\n"
     ]
    },
    {
     "name": "stderr",
     "output_type": "stream",
     "text": [
      "WARNING:absl:Found untraced functions such as _jit_compiled_convolution_op, _jit_compiled_convolution_op, _jit_compiled_convolution_op while saving (showing 3 of 3). These functions will not be directly callable after loading.\n"
     ]
    },
    {
     "name": "stdout",
     "output_type": "stream",
     "text": [
      "INFO:tensorflow:Assets written to: hugo_model_1000/assets\n"
     ]
    },
    {
     "name": "stderr",
     "output_type": "stream",
     "text": [
      "INFO:tensorflow:Assets written to: hugo_model_1000/assets\n"
     ]
    },
    {
     "name": "stdout",
     "output_type": "stream",
     "text": [
      "140/140 [==============================] - 9s 64ms/step - loss: 0.0566 - val_loss: 0.0520\n",
      "Epoch 6/20\n",
      "140/140 [==============================] - ETA: 0s - loss: 0.0536\n",
      "Epoch 6: val_loss improved from 0.05201 to 0.05055, saving model to hugo_model_1000\n"
     ]
    },
    {
     "name": "stderr",
     "output_type": "stream",
     "text": [
      "WARNING:absl:Found untraced functions such as _jit_compiled_convolution_op, _jit_compiled_convolution_op, _jit_compiled_convolution_op while saving (showing 3 of 3). These functions will not be directly callable after loading.\n"
     ]
    },
    {
     "name": "stdout",
     "output_type": "stream",
     "text": [
      "INFO:tensorflow:Assets written to: hugo_model_1000/assets\n"
     ]
    },
    {
     "name": "stderr",
     "output_type": "stream",
     "text": [
      "INFO:tensorflow:Assets written to: hugo_model_1000/assets\n"
     ]
    },
    {
     "name": "stdout",
     "output_type": "stream",
     "text": [
      "140/140 [==============================] - 10s 68ms/step - loss: 0.0536 - val_loss: 0.0506\n",
      "Epoch 7/20\n",
      "140/140 [==============================] - ETA: 0s - loss: 0.0529\n",
      "Epoch 7: val_loss did not improve from 0.05055\n",
      "140/140 [==============================] - 8s 53ms/step - loss: 0.0529 - val_loss: 0.0529\n",
      "Epoch 8/20\n",
      "140/140 [==============================] - ETA: 0s - loss: 0.0510\n",
      "Epoch 8: val_loss did not improve from 0.05055\n",
      "140/140 [==============================] - 8s 53ms/step - loss: 0.0510 - val_loss: 0.0512\n",
      "Epoch 9/20\n",
      "139/140 [============================>.] - ETA: 0s - loss: 0.0497\n",
      "Epoch 9: val_loss improved from 0.05055 to 0.04734, saving model to hugo_model_1000\n"
     ]
    },
    {
     "name": "stderr",
     "output_type": "stream",
     "text": [
      "WARNING:absl:Found untraced functions such as _jit_compiled_convolution_op, _jit_compiled_convolution_op, _jit_compiled_convolution_op while saving (showing 3 of 3). These functions will not be directly callable after loading.\n"
     ]
    },
    {
     "name": "stdout",
     "output_type": "stream",
     "text": [
      "INFO:tensorflow:Assets written to: hugo_model_1000/assets\n"
     ]
    },
    {
     "name": "stderr",
     "output_type": "stream",
     "text": [
      "INFO:tensorflow:Assets written to: hugo_model_1000/assets\n"
     ]
    },
    {
     "name": "stdout",
     "output_type": "stream",
     "text": [
      "140/140 [==============================] - 10s 66ms/step - loss: 0.0498 - val_loss: 0.0473\n",
      "Epoch 10/20\n",
      "140/140 [==============================] - ETA: 0s - loss: 0.0497\n",
      "Epoch 10: val_loss did not improve from 0.04734\n",
      "140/140 [==============================] - 8s 53ms/step - loss: 0.0497 - val_loss: 0.0482\n",
      "Epoch 11/20\n",
      "139/140 [============================>.] - ETA: 0s - loss: 0.0489\n",
      "Epoch 11: val_loss did not improve from 0.04734\n",
      "140/140 [==============================] - 8s 55ms/step - loss: 0.0489 - val_loss: 0.0484\n",
      "Epoch 12/20\n",
      "138/140 [============================>.] - ETA: 0s - loss: 0.0491\n",
      "Epoch 12: val_loss did not improve from 0.04734\n",
      "140/140 [==============================] - 8s 55ms/step - loss: 0.0491 - val_loss: 0.0500\n"
     ]
    }
   ],
   "source": [
    "#callbacks\n",
    "mc = tf.keras.callbacks.ModelCheckpoint(filepath='hugo_model_1000', \n",
    "                                        monitor='val_loss',\n",
    "                                        verbose=1, \n",
    "                                        save_best_only=True,\n",
    "                                        mode='min')\n",
    "\n",
    "es = tf.keras.callbacks.EarlyStopping(monitor='val_loss', patience=3)\n",
    "\n",
    "#optimizers and compile\n",
    "opt = tf.keras.optimizers.Adam()\n",
    "model.compile(optimizer=opt, loss='mean_squared_error')\n",
    "\n",
    "#fit\n",
    "model.summary()\n",
    "history = model.fit(training_generator, \n",
    "                    use_multiprocessing=True,\n",
    "                    workers=4,\n",
    "                    validation_data=validation_generator,\n",
    "                    epochs=20, \n",
    "                    callbacks=[mc, es])\n"
   ]
  },
  {
   "cell_type": "markdown",
   "metadata": {},
   "source": [
    "### 4.3 History of loss"
   ]
  },
  {
   "cell_type": "code",
   "execution_count": 9,
   "metadata": {},
   "outputs": [
    {
     "data": {
      "image/png": "[encoded data removed]",
      "text/plain": [
       "<Figure size 640x480 with 1 Axes>"
      ]
     },
     "metadata": {},
     "output_type": "display_data"
    }
   ],
   "source": [
    "plt.clf()\n",
    "plt.plot(history.history['loss'], label='loss')\n",
    "plt.plot(history.history['val_loss'], label='val_loss')\n",
    "plt.xlabel('epochs')\n",
    "plt.legend()\n",
    "plt.show()"
   ]
  },
  {
   "cell_type": "markdown",
   "metadata": {},
   "source": [
    "### 4.4 Metrics"
   ]
  },
  {
   "cell_type": "code",
   "execution_count": 10,
   "metadata": {
    "scrolled": false
   },
   "outputs": [
    {
     "name": "stdout",
     "output_type": "stream",
     "text": [
      "60/60 [==============================] - 8s 133ms/step\n",
      "[[8.0808215e-02 4.4338237e-02 3.9330947e-01 4.8154405e-01]\n",
      " [2.5943395e-01 1.4930384e-01 5.2654135e-01 6.4720877e-02]\n",
      " [3.9549455e-01 6.6012904e-02 3.6572319e-01 1.7276931e-01]\n",
      " ...\n",
      " [9.6947432e-01 1.7953303e-03 2.7083188e-02 1.6471797e-03]\n",
      " [1.9770521e-01 6.7185618e-02 4.1643739e-01 3.1867176e-01]\n",
      " [9.9407142e-01 2.7585719e-04 5.4859207e-03 1.6674494e-04]]\n",
      "[[0.  0.3 0.5 0.2]\n",
      " [0.  0.5 0.5 0. ]\n",
      " [0.  0.  0.6 0.4]\n",
      " ...\n",
      " [1.  0.  0.  0. ]\n",
      " [0.3 0.  0.2 0.5]\n",
      " [0.6 0.  0.2 0.2]]\n"
     ]
    }
   ],
   "source": [
    "y_pred = model.predict(validation_generator)\n",
    "y_val = np.vstack([vg[1] for vg in validation_generator])"
   ]
  },
  {
   "cell_type": "markdown",
   "metadata": {},
   "source": [
    "#### Pearson and rmse matrices"
   ]
  },
  {
   "cell_type": "code",
   "execution_count": 11,
   "metadata": {},
   "outputs": [
    {
     "name": "stdout",
     "output_type": "stream",
     "text": [
      "rmse_matrix\n",
      "[[0.05788814 0.37347619 0.39145356 0.36671228]\n",
      " [0.35562671 0.02422169 0.17462389 0.0616062 ]\n",
      " [0.38545475 0.10167766 0.060637   0.10293566]\n",
      " [0.37512947 0.05907021 0.13877128 0.02676493]]\n",
      "pearson_matrix\n",
      "[[ 0.83422835 -0.35320766 -0.60725531 -0.43901841]\n",
      " [-0.60187642  0.51089369  0.54138994 -0.03127129]\n",
      " [-0.7780183   0.41007419  0.65551676  0.21840085]\n",
      " [-0.61395079  0.07187239  0.29689047  0.68529114]]\n"
     ]
    },
    {
     "data": {
      "image/png": "[encoded data removed]",
      "text/plain": [
       "<Figure size 640x480 with 1 Axes>"
      ]
     },
     "metadata": {},
     "output_type": "display_data"
    },
    {
     "data": {
      "image/png": "[encoded data removed]",
      "text/plain": [
       "<Figure size 640x480 with 1 Axes>"
      ]
     },
     "metadata": {},
     "output_type": "display_data"
    }
   ],
   "source": [
    "rmse_matrix=np.empty((4,4))\n",
    "pearson_matrix = np.empty((4,4))\n",
    "for id_class_pred in range(y_pred.shape[1]):\n",
    "    classes_pred = y_pred[:,id_class_pred]\n",
    "    for id_class_val in range (y_val.shape[1]):\n",
    "        classes_val = y_val[:,id_class_val]\n",
    "        rmse = mean_squared_error(classes_val, classes_pred)\n",
    "        rmse_matrix[id_class_pred][id_class_val] = rmse\n",
    "        pearson_value = stats.pearsonr(classes_val, classes_pred)\n",
    "        pearson_matrix[id_class_pred][id_class_val] = pearson_value[0]\n",
    "\n",
    "print('rmse_matrix')\n",
    "print(rmse_matrix)\n",
    "print('pearson_matrix')\n",
    "print(pearson_matrix)\n",
    "\n",
    "plt.imshow(rmse_matrix)\n",
    "plt.show()\n",
    "plt.imshow(pearson_matrix)\n",
    "plt.show()"
   ]
  }
 ],
 "metadata": {
  "kernelspec": {
   "display_name": "Python 3",
   "language": "python",
   "name": "python3"
  },
  "language_info": {
   "codemirror_mode": {
    "name": "ipython",
    "version": 3
   },
   "file_extension": ".py",
   "mimetype": "text/x-python",
   "name": "python",
   "nbconvert_exporter": "python",
   "pygments_lexer": "ipython3",
   "version": "3.8.10"
  }
 },
 "nbformat": 4,
 "nbformat_minor": 2
}
