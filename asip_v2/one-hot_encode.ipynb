{
 "cells": [
  {
   "cell_type": "code",
   "execution_count": 1,
   "id": "b7611eb9",
   "metadata": {},
   "outputs": [],
   "source": [
    "import glob\n",
    "import os\n",
    "\n",
    "import matplotlib.pyplot as plt\n",
    "import matplotlib as mpl\n",
    "import netCDF4 as nc\n",
    "import numpy as np\n",
    "\n",
    "from scipy.interpolate import RectBivariateSpline\n",
    "\n",
    "%matplotlib inline"
   ]
  },
  {
   "cell_type": "code",
   "execution_count": 2,
   "id": "02866168",
   "metadata": {},
   "outputs": [
    {
     "data": {
      "text/plain": [
       "'C:\\\\Alissa\\\\ENSG\\\\ING2\\\\STAGE\\\\Dev\\\\satellite-data-pipeline\\\\asip_v2'"
      ]
     },
     "execution_count": 2,
     "metadata": {},
     "output_type": "execute_result"
    }
   ],
   "source": [
    "pwd"
   ]
  },
  {
   "cell_type": "code",
   "execution_count": 3,
   "id": "fa9627cc",
   "metadata": {},
   "outputs": [
    {
     "name": "stdout",
     "output_type": "stream",
     "text": [
      "D:\\training\n"
     ]
    }
   ],
   "source": [
    "%cd \"D:/training\""
   ]
  },
  {
   "cell_type": "code",
   "execution_count": 4,
   "id": "33d14940",
   "metadata": {},
   "outputs": [],
   "source": [
    "def form_of_ice(stage):\n",
    "    \"\"\"\n",
    "    Gives back the index the concentration or 1 should be on. Each index corresponds to a particular ice type \n",
    "    (0: Young ice; 1: First Year ice; 2: Multi year ice ; 3: Ice free)\n",
    "    --- \n",
    "    input : stage : stage of development : integer\n",
    "    ---\n",
    "    output : index : integer\n",
    "    \"\"\"\n",
    "    index_=0\n",
    "    #if stage ==0:\n",
    "        #index_ = 0\n",
    "        #print('ice_free')\n",
    "    if stage!=-9:\n",
    "        if stage in range(81,86):\n",
    "            #print('Young ice')\n",
    "            index_=1\n",
    "        if stage in range(86,94):\n",
    "            #print('First year ice')\n",
    "            index_=2\n",
    "        if stage in range(95,98):\n",
    "            #print('multiyear ice')\n",
    "            index_=3\n",
    "    return index_\n",
    "    "
   ]
  },
  {
   "cell_type": "markdown",
   "id": "e35e2da5",
   "metadata": {},
   "source": [
    "FIRST METHOD"
   ]
  },
  {
   "cell_type": "code",
   "execution_count": 5,
   "id": "1550d96b",
   "metadata": {},
   "outputs": [],
   "source": [
    "def one_hot_m1(ct,ca,sa,cb,sb,fb,cc,sc):\n",
    "    L=[ct,ca,sa,cb,sb,fb,cc,sc]\n",
    "    index = np.argmax(L)\n",
    "    #print(index)\n",
    "    if index ==0:\n",
    "        result = [1,0,0,0]\n",
    "    else :\n",
    "        #print([sa,sb,sc])\n",
    "        #print('bibi',[sa,sb,sc][index])\n",
    "        index2 = form_of_ice([sa,sb,sc][index])\n",
    "        #print(index2)\n",
    "        result = [0,0,0,0]\n",
    "        result[index2]=1\n",
    "    return result"
   ]
  },
  {
   "cell_type": "code",
   "execution_count": 6,
   "id": "91103ae3",
   "metadata": {},
   "outputs": [],
   "source": [
    "def one_hot_m2(ct,ca,sa,cb,sb,fb,cc,sc):\n",
    "    result = [0,0,0,0]\n",
    "    result[0] = int(ct)/100\n",
    "    for si, ci in zip([sa,sb,sc], [ca,cb,cc]):\n",
    "        #print(si)\n",
    "        index_2 = form_of_ice(si)\n",
    "        result[index_2] += ci/100\n",
    "    return result"
   ]
  },
  {
   "cell_type": "code",
   "execution_count": 7,
   "id": "27672360",
   "metadata": {},
   "outputs": [],
   "source": [
    "file = '20180404T205505_S1B_AMSR2_Icechart-Greenland-CentralWest.nc'"
   ]
  },
  {
   "cell_type": "code",
   "execution_count": 8,
   "id": "93f608c4",
   "metadata": {},
   "outputs": [],
   "source": [
    "stp=20"
   ]
  },
  {
   "cell_type": "code",
   "execution_count": 23,
   "id": "b8040f21",
   "metadata": {},
   "outputs": [],
   "source": [
    "n,p= ic.shape"
   ]
  },
  {
   "cell_type": "code",
   "execution_count": 24,
   "id": "aa639bb8",
   "metadata": {},
   "outputs": [],
   "source": [
    "mat= np.zeros((n,p,4))+np.nan"
   ]
  },
  {
   "cell_type": "code",
   "execution_count": 25,
   "id": "77f958ad",
   "metadata": {},
   "outputs": [
    {
     "data": {
      "text/plain": [
       "(500, 530, 4)"
      ]
     },
     "execution_count": 25,
     "metadata": {},
     "output_type": "execute_result"
    }
   ],
   "source": [
    "mat.shape"
   ]
  },
  {
   "cell_type": "code",
   "execution_count": 27,
   "id": "e3d04a5b",
   "metadata": {},
   "outputs": [
    {
     "name": "stdout",
     "output_type": "stream",
     "text": [
      "----- input \n",
      " 92 -9 87 -9 -9 -9 -9 -9 \n",
      "-----output \n",
      " [1, 0, 0, 0] \n",
      "\n",
      "----- input \n",
      " 92 30 91 70 87 -9 -9 -9 \n",
      "-----output \n",
      " [1, 0, 0, 0] \n",
      "\n",
      "----- input \n",
      " 92 10 91 60 87 -9 30 83 \n",
      "-----output \n",
      " [1, 0, 0, 0] \n",
      "\n",
      "----- input \n",
      " 50 20 93 20 91 5 10 87 \n",
      "-----output \n",
      " [0, 0, 1, 0] \n",
      "\n",
      "----- input \n",
      " 92 30 91 70 87 -9 -9 -9 \n",
      "-----output \n",
      " [1, 0, 0, 0] \n",
      "\n",
      "----- input \n",
      " 80 30 91 30 87 4 20 87 \n",
      "-----output \n",
      " [0, 0, 1, 0] \n",
      "\n",
      "----- input \n",
      " 80 20 93 20 91 5 40 87 \n",
      "-----output \n",
      " [0, 0, 1, 0] \n",
      "\n",
      "----- input \n",
      " 92 -9 91 -9 -9 -9 -9 -9 \n",
      "-----output \n",
      " [1, 0, 0, 0] \n",
      "\n",
      "----- input \n",
      " 92 80 91 20 87 -9 -9 -9 \n",
      "-----output \n",
      " [1, 0, 0, 0] \n",
      "\n",
      "----- input \n",
      " 30 10 87 10 83 2 10 82 \n",
      "-----output \n",
      " [0, 1, 0, 0] \n",
      "\n",
      "----- input \n",
      " 91 40 93 50 91 6 10 87 \n",
      "-----output \n",
      " [0, 0, 1, 0] \n",
      "\n",
      "----- input \n",
      " 91 60 93 40 91 6 -9 -9 \n",
      "-----output \n",
      " [1, 0, 0, 0] \n",
      "\n",
      "----- input \n",
      " 92 -9 91 -9 -9 -9 -9 -9 \n",
      "-----output \n",
      " [1, 0, 0, 0] \n",
      "\n"
     ]
    }
   ],
   "source": [
    "ds = nc.Dataset(file)\n",
    "n,p=ds['nersc_sar_secondary'].shape\n",
    "sar2 = ds['nersc_sar_secondary'][::stp, ::stp]\n",
    "ic = ds['polygon_icechart'][::stp, ::stp]\n",
    "\n",
    "n,p= ic.shape\n",
    "\n",
    "en_values_array=np.zeros((n,p,4))+np.nan\n",
    "mat= np.zeros(ic.shape)+np.nan\n",
    "\n",
    "map_id_to_variable_values=dict()\n",
    "for id_and_corresponding_variable_values in ds['polygon_codes'][1:]:\n",
    "    id_val_splitted = id_and_corresponding_variable_values.split(\";\")\n",
    "    #print(id_val_splitted)\n",
    "    [ct, ca, sa, fa, cb, sb, fb, cc, sc] = list(map(int, id_val_splitted[1:10]))\n",
    "    result = one_hot_m1(ct,ca,sa,cb,sb,fb,cc,sc)\n",
    "    map_id_to_variable_values.update({int(id_val_splitted[0]): result})\n",
    "#     map_id_to_variable_values.update({int(id_val_splitted[0]): id_val_splitted[1:]})\n",
    "    print(\"----- input \\n\",ct,ca,sa,cb,sb,fb,cc,sc, \"\\n-----output \\n\",result,\"\\n\")    "
   ]
  },
  {
   "cell_type": "code",
   "execution_count": 28,
   "id": "3bc73553",
   "metadata": {},
   "outputs": [
    {
     "data": {
      "text/plain": [
       "{41: [1, 0, 0, 0],\n",
       " 42: [1, 0, 0, 0],\n",
       " 43: [1, 0, 0, 0],\n",
       " 44: [0, 0, 1, 0],\n",
       " 45: [1, 0, 0, 0],\n",
       " 46: [0, 0, 1, 0],\n",
       " 47: [0, 0, 1, 0],\n",
       " 48: [1, 0, 0, 0],\n",
       " 49: [1, 0, 0, 0],\n",
       " 50: [0, 1, 0, 0],\n",
       " 51: [0, 0, 1, 0],\n",
       " 52: [1, 0, 0, 0],\n",
       " 53: [1, 0, 0, 0]}"
      ]
     },
     "execution_count": 28,
     "metadata": {},
     "output_type": "execute_result"
    }
   ],
   "source": [
    "map_id_to_variable_values"
   ]
  },
  {
   "cell_type": "code",
   "execution_count": 29,
   "id": "96c78696",
   "metadata": {},
   "outputs": [
    {
     "data": {
      "text/plain": [
       "<matplotlib.image.AxesImage at 0x1b520bbefa0>"
      ]
     },
     "execution_count": 29,
     "metadata": {},
     "output_type": "execute_result"
    },
    {
     "data": {
      "image/png": "[encoded data removed]",
      "text/plain": [
       "<Figure size 432x288 with 1 Axes>"
      ]
     },
     "metadata": {
      "needs_background": "light"
     },
     "output_type": "display_data"
    }
   ],
   "source": [
    "plt.imshow(sar2)"
   ]
  },
  {
   "cell_type": "code",
   "execution_count": 34,
   "id": "55fc6f64",
   "metadata": {
    "scrolled": true
   },
   "outputs": [
    {
     "name": "stdout",
     "output_type": "stream",
     "text": [
      "(46, 4)\n",
      "(456, 4)\n",
      "(1482, 4)\n",
      "(1831, 4)\n",
      "(381, 4)\n",
      "(530, 4)\n",
      "(4903, 4)\n",
      "(4671, 4)\n",
      "(4029, 4)\n",
      "(1049, 4)\n",
      "(5089, 4)\n",
      "(46533, 4)\n",
      "(7010, 4)\n"
     ]
    }
   ],
   "source": [
    "for id_value, variable_belong_to_id in map_id_to_variable_values.items():\n",
    "        # each loop changes all locations of values_array (that have the very\n",
    "        # 'id_value') to its corresponding value inside 'variable_belong_to_id'\n",
    "#         ct = int(variable_belong_to_id[0])\n",
    "#         ca = int(variable_belong_to_id[1])\n",
    "#         sa = int(variable_belong_to_id[2])\n",
    "#         fa = int(variable_belong_to_id[3])\n",
    "#         cb = int(variable_belong_to_id[4])\n",
    "#         sb = int(variable_belong_to_id[5])\n",
    "#         fb = int(variable_belong_to_id[6])\n",
    "#         cc = int(variable_belong_to_id[7])\n",
    "#         sc = int(variable_belong_to_id[8])\n",
    "#         result = one_hot_m2(ct,ca,sa,cb,sb,fb,cc,sc)\n",
    "#         print(\"----- input \\n\",ct,ca,sa,cb,sb,fb,cc,sc, \"\\n-----output \\n\",result,\"\\n\")\n",
    "        print(en_values_array[ic == id_value, :].shape)\n",
    "        en_values_array[ic == id_value, :] = np.byte(np.array(variable_belong_to_id))"
   ]
  },
  {
   "cell_type": "code",
   "execution_count": 35,
   "id": "cb78eaa4",
   "metadata": {},
   "outputs": [
    {
     "data": {
      "text/plain": [
       "(500, 530, 4)"
      ]
     },
     "execution_count": 35,
     "metadata": {},
     "output_type": "execute_result"
    }
   ],
   "source": [
    "en_values_array.shape"
   ]
  },
  {
   "cell_type": "code",
   "execution_count": 40,
   "id": "5cc0deaf",
   "metadata": {},
   "outputs": [
    {
     "data": {
      "image/png": "[encoded data removed]",
      "text/plain": [
       "<Figure size 432x288 with 1 Axes>"
      ]
     },
     "metadata": {
      "needs_background": "light"
     },
     "output_type": "display_data"
    },
    {
     "data": {
      "image/png": "[encoded data removed]",
      "text/plain": [
       "<Figure size 432x288 with 1 Axes>"
      ]
     },
     "metadata": {
      "needs_background": "light"
     },
     "output_type": "display_data"
    },
    {
     "data": {
      "image/png": "[encoded data removed]",
      "text/plain": [
       "<Figure size 432x288 with 1 Axes>"
      ]
     },
     "metadata": {
      "needs_background": "light"
     },
     "output_type": "display_data"
    },
    {
     "data": {
      "image/png": "[encoded data removed]",
      "text/plain": [
       "<Figure size 432x288 with 1 Axes>"
      ]
     },
     "metadata": {
      "needs_background": "light"
     },
     "output_type": "display_data"
    }
   ],
   "source": [
    "for i in range(4):\n",
    "    plt.imshow(en_values_array[:,:,i])\n",
    "    plt.show()"
   ]
  },
  {
   "cell_type": "code",
   "execution_count": 25,
   "id": "1029aba8",
   "metadata": {},
   "outputs": [
    {
     "data": {
      "text/plain": [
       "2.467"
      ]
     },
     "execution_count": 25,
     "metadata": {},
     "output_type": "execute_result"
    }
   ],
   "source": [
    "round(2.46667777, 3)"
   ]
  },
  {
   "cell_type": "code",
   "execution_count": 24,
   "id": "ee5da229",
   "metadata": {},
   "outputs": [],
   "source": [
    "ct = 92\n",
    "ca = 30\n",
    "sa = 91\n",
    "fa = 8\n",
    "cb = 70\n",
    "sb = 87\n",
    "fb = -9\n",
    "cc = -9 \n",
    "sc = -9"
   ]
  },
  {
   "cell_type": "code",
   "execution_count": 70,
   "id": "4f000be6",
   "metadata": {},
   "outputs": [
    {
     "ename": "TypeError",
     "evalue": "_argmax_dispatcher() takes from 1 to 3 positional arguments but 8 were given",
     "output_type": "error",
     "traceback": [
      "\u001b[1;31m---------------------------------------------------------------------------\u001b[0m",
      "\u001b[1;31mTypeError\u001b[0m                                 Traceback (most recent call last)",
      "\u001b[1;32m<ipython-input-70-16b0688b40c5>\u001b[0m in \u001b[0;36m<module>\u001b[1;34m\u001b[0m\n\u001b[1;32m----> 1\u001b[1;33m \u001b[0mnp\u001b[0m\u001b[1;33m.\u001b[0m\u001b[0margmax\u001b[0m\u001b[1;33m(\u001b[0m\u001b[0mct\u001b[0m\u001b[1;33m,\u001b[0m\u001b[0mca\u001b[0m\u001b[1;33m,\u001b[0m\u001b[0msa\u001b[0m\u001b[1;33m,\u001b[0m\u001b[0mcb\u001b[0m\u001b[1;33m,\u001b[0m\u001b[0msb\u001b[0m\u001b[1;33m,\u001b[0m\u001b[0mfb\u001b[0m\u001b[1;33m,\u001b[0m\u001b[0mcc\u001b[0m\u001b[1;33m,\u001b[0m\u001b[0msc\u001b[0m\u001b[1;33m)\u001b[0m\u001b[1;33m\u001b[0m\u001b[1;33m\u001b[0m\u001b[0m\n\u001b[0m",
      "\u001b[1;32m<__array_function__ internals>\u001b[0m in \u001b[0;36margmax\u001b[1;34m(*args, **kwargs)\u001b[0m\n",
      "\u001b[1;31mTypeError\u001b[0m: _argmax_dispatcher() takes from 1 to 3 positional arguments but 8 were given"
     ]
    }
   ],
   "source": [
    "np.argmax(ct,ca,sa,cb,sb,fb,cc,sc)"
   ]
  },
  {
   "cell_type": "code",
   "execution_count": 25,
   "id": "442813ed",
   "metadata": {},
   "outputs": [
    {
     "name": "stdout",
     "output_type": "stream",
     "text": [
      "bibi 2\n",
      "bibi 2\n",
      "bibi 0\n"
     ]
    }
   ],
   "source": [
    "result = [0,0,0,0]\n",
    "result[0] = int(ct)/100\n",
    "for si, ci in zip([sa,sb,sc], [ca,cb,cc]):\n",
    "    #print(si)\n",
    "    index_2 = form_of_ice(si)\n",
    "    print(\"bibi\",index_2)\n",
    "    result[index_2] += int(ci)/100"
   ]
  },
  {
   "cell_type": "code",
   "execution_count": 26,
   "id": "fa9b8a3f",
   "metadata": {},
   "outputs": [
    {
     "name": "stdout",
     "output_type": "stream",
     "text": [
      "bibi 2\n",
      "bibi 2\n",
      "bibi 0\n"
     ]
    },
    {
     "data": {
      "text/plain": [
       "[0.8300000000000001, 0, 1.0, 0]"
      ]
     },
     "execution_count": 26,
     "metadata": {},
     "output_type": "execute_result"
    }
   ],
   "source": [
    "one_hot_m2(ct,ca,sa,cb,sb,fb,cc,sc)"
   ]
  },
  {
   "cell_type": "code",
   "execution_count": 27,
   "id": "915a3452",
   "metadata": {},
   "outputs": [
    {
     "data": {
      "text/plain": [
       "[0.8300000000000001, 0, 1.0, 0]"
      ]
     },
     "execution_count": 27,
     "metadata": {},
     "output_type": "execute_result"
    }
   ],
   "source": [
    "result"
   ]
  },
  {
   "cell_type": "code",
   "execution_count": 29,
   "id": "e18e9b51",
   "metadata": {},
   "outputs": [
    {
     "name": "stdout",
     "output_type": "stream",
     "text": [
      "bibi 2\n",
      "bibi 2\n",
      "bibi 0\n"
     ]
    },
    {
     "data": {
      "text/plain": [
       "[0.8300000000000001, 0, 1.0, 0]"
      ]
     },
     "execution_count": 29,
     "metadata": {},
     "output_type": "execute_result"
    }
   ],
   "source": [
    "one_hot_m2(ct,ca,sa,cb,sb,fb,cc,sc)"
   ]
  },
  {
   "cell_type": "code",
   "execution_count": 9,
   "id": "bac91b88",
   "metadata": {},
   "outputs": [
    {
     "data": {
      "text/plain": [
       "{41: ['92',\n",
       "  '-9',\n",
       "  '87',\n",
       "  '8',\n",
       "  '-9',\n",
       "  '-9',\n",
       "  '-9',\n",
       "  '-9',\n",
       "  '-9',\n",
       "  '-9',\n",
       "  '98',\n",
       "  '-9',\n",
       "  '-9',\n",
       "  'I'],\n",
       " 42: ['92',\n",
       "  '30',\n",
       "  '91',\n",
       "  '8',\n",
       "  '70',\n",
       "  '87',\n",
       "  '-9',\n",
       "  '-9',\n",
       "  '-9',\n",
       "  '-9',\n",
       "  '-9',\n",
       "  '-9',\n",
       "  '-9',\n",
       "  'I'],\n",
       " 43: ['92',\n",
       "  '10',\n",
       "  '91',\n",
       "  '8',\n",
       "  '60',\n",
       "  '87',\n",
       "  '-9',\n",
       "  '30',\n",
       "  '83',\n",
       "  '-9',\n",
       "  '98',\n",
       "  '-9',\n",
       "  '-9',\n",
       "  'I'],\n",
       " 44: ['50',\n",
       "  '20',\n",
       "  '93',\n",
       "  '5',\n",
       "  '20',\n",
       "  '91',\n",
       "  '5',\n",
       "  '10',\n",
       "  '87',\n",
       "  '4',\n",
       "  '98',\n",
       "  '-9',\n",
       "  '-9',\n",
       "  'I'],\n",
       " 45: ['92',\n",
       "  '30',\n",
       "  '91',\n",
       "  '8',\n",
       "  '70',\n",
       "  '87',\n",
       "  '-9',\n",
       "  '-9',\n",
       "  '-9',\n",
       "  '-9',\n",
       "  '-9',\n",
       "  '-9',\n",
       "  '-9',\n",
       "  'I'],\n",
       " 46: ['80',\n",
       "  '30',\n",
       "  '91',\n",
       "  '5',\n",
       "  '30',\n",
       "  '87',\n",
       "  '4',\n",
       "  '20',\n",
       "  '87',\n",
       "  '3',\n",
       "  '-9',\n",
       "  '-9',\n",
       "  '-9',\n",
       "  'I'],\n",
       " 47: ['80',\n",
       "  '20',\n",
       "  '93',\n",
       "  '6',\n",
       "  '20',\n",
       "  '91',\n",
       "  '5',\n",
       "  '40',\n",
       "  '87',\n",
       "  '4',\n",
       "  '-9',\n",
       "  '-9',\n",
       "  '-9',\n",
       "  'I'],\n",
       " 48: ['92',\n",
       "  '-9',\n",
       "  '91',\n",
       "  '8',\n",
       "  '-9',\n",
       "  '-9',\n",
       "  '-9',\n",
       "  '-9',\n",
       "  '-9',\n",
       "  '-9',\n",
       "  '98',\n",
       "  '-9',\n",
       "  '-9',\n",
       "  'I'],\n",
       " 49: ['92',\n",
       "  '80',\n",
       "  '91',\n",
       "  '8',\n",
       "  '20',\n",
       "  '87',\n",
       "  '-9',\n",
       "  '-9',\n",
       "  '-9',\n",
       "  '-9',\n",
       "  '98',\n",
       "  '-9',\n",
       "  '-9',\n",
       "  'I'],\n",
       " 50: ['30',\n",
       "  '10',\n",
       "  '87',\n",
       "  '3',\n",
       "  '10',\n",
       "  '83',\n",
       "  '2',\n",
       "  '10',\n",
       "  '82',\n",
       "  '2',\n",
       "  '-9',\n",
       "  '-9',\n",
       "  '-9',\n",
       "  'I'],\n",
       " 51: ['91',\n",
       "  '40',\n",
       "  '93',\n",
       "  '6',\n",
       "  '50',\n",
       "  '91',\n",
       "  '6',\n",
       "  '10',\n",
       "  '87',\n",
       "  '5',\n",
       "  '-9',\n",
       "  '-9',\n",
       "  '-9',\n",
       "  'I'],\n",
       " 52: ['91',\n",
       "  '60',\n",
       "  '93',\n",
       "  '7',\n",
       "  '40',\n",
       "  '91',\n",
       "  '6',\n",
       "  '-9',\n",
       "  '-9',\n",
       "  '-9',\n",
       "  '-9',\n",
       "  '-9',\n",
       "  '-9',\n",
       "  'I'],\n",
       " 53: ['92',\n",
       "  '-9',\n",
       "  '91',\n",
       "  '8',\n",
       "  '-9',\n",
       "  '-9',\n",
       "  '-9',\n",
       "  '-9',\n",
       "  '-9',\n",
       "  '-9',\n",
       "  '98',\n",
       "  '-9',\n",
       "  '-9',\n",
       "  'I']}"
      ]
     },
     "execution_count": 9,
     "metadata": {},
     "output_type": "execute_result"
    }
   ],
   "source": [
    "map_id_to_variable_values"
   ]
  },
  {
   "cell_type": "code",
   "execution_count": null,
   "id": "d6b51dec",
   "metadata": {},
   "outputs": [],
   "source": [
    "one_hot(ct,ca,sa,cb,sb,fb,cc,sc,2)"
   ]
  },
  {
   "cell_type": "markdown",
   "id": "43f80fea",
   "metadata": {},
   "source": [
    "METHOD 1"
   ]
  },
  {
   "cell_type": "markdown",
   "id": "94a907a5",
   "metadata": {},
   "source": [
    "METHOD 2"
   ]
  },
  {
   "cell_type": "code",
   "execution_count": null,
   "id": "5ee06595",
   "metadata": {},
   "outputs": [],
   "source": [
    "ct = 20\n",
    "ca = 10\n",
    "sa = 95\n",
    "fa = 0\n",
    "cb = 10\n",
    "sb = 87\n",
    "fb = 0\n",
    "cc = 0 \n",
    "sc = 0"
   ]
  },
  {
   "cell_type": "code",
   "execution_count": null,
   "id": "e4fa86af",
   "metadata": {},
   "outputs": [],
   "source": [
    "ifiles = sorted(glob.glob('*.nc'))\n",
    "stp = 20\n",
    "\n",
    "dir_ = \"D:/training/reconstructs_folder\"\n",
    "\n",
    "for i in range(len(ifiles)):\n",
    "    print(i)\n",
    "    file = ifiles[i]\n",
    "    one_hot_mat = one_hot_method1(file)\n",
    "    print(np.unique(one_hot_mat[:,:,0]))\n",
    "    plt.imshow(one_hot_mat[:,:,1])\n",
    "    plt.colorbar()\n",
    "    plt.show()"
   ]
  },
  {
   "cell_type": "markdown",
   "id": "1b52f9f5",
   "metadata": {},
   "source": [
    "SECOND METHOD"
   ]
  },
  {
   "cell_type": "code",
   "execution_count": null,
   "id": "fd9ce584",
   "metadata": {},
   "outputs": [],
   "source": [
    "def one_hot_method2(file):\n",
    "    \n",
    "    \n",
    "    \"\"\"\n",
    "    Creates for a file a matrix corresponding to one-hot encoding using method 2 (concentrations)\n",
    "    ---\n",
    "    input: file : netCDF4 dataset archive\n",
    "    ---\n",
    "    output : classif_values_array : numpy.array one-hot encoded\n",
    "    \"\"\"\n",
    "        \n",
    "    ds = nc.Dataset(file)\n",
    "    n,p=ds['nersc_sar_secondary'].shape\n",
    "    sar2 = ds['nersc_sar_secondary'][::stp, ::stp]\n",
    "    ic = ds['polygon_icechart'][::stp, ::stp]\n",
    "    \n",
    "    en_values_array=np.zeros(ic.shape)+np.nan\n",
    "    mat= np.zeros(ic.shape)+np.nan\n",
    "    \n",
    "    map_id_to_variable_values=dict()\n",
    "    for id_and_corresponding_variable_values in ds['polygon_codes'][1:]:\n",
    "        id_val_splitted = id_and_corresponding_variable_values.split(\";\")\n",
    "        map_id_to_variable_values.update({int(id_val_splitted[0]): id_val_splitted[1:]})\n",
    "\n",
    "    for id_value, variable_belong_to_id in map_id_to_variable_values.items():\n",
    "        # each loop changes all locations of values_array (that have the very\n",
    "        # 'id_value') to its corresponding value inside 'variable_belong_to_id'\n",
    "        en_values_array[ic == id_value] = np.float(variable_belong_to_id[0])\n",
    "        \n",
    "    for i in range(1,9):\n",
    "        if i!=3 or i!=6:\n",
    "            for id_value, variable_belong_to_id in map_id_to_variable_values.items():\n",
    "        # each loop changes all locations of values_array (that have the very\n",
    "        # 'id_value') to its corresponding value inside 'variable_belong_to_id'\n",
    "                mat[ic == id_value] = np.float(variable_belong_to_id[i])\n",
    "\n",
    "            en_values_array = np.dstack((en_values_array,mat))\n",
    "            \n",
    "    mat = np.dstack((en_values_array[:,:,:3],en_values_array[:,:,4:6],en_values_array[:,:,7:]))       \n",
    "    n,p,q= mat.shape\n",
    "    classif_values_array = np.zeros((n,p,4))\n",
    "    \n",
    "    for i in range(n):\n",
    "        for j in range(p):\n",
    "            index=0\n",
    "            ca = mat[i,j,1]\n",
    "            sa = mat[i,j,2]\n",
    "            cb = mat[i,j,3]\n",
    "            sb = mat[i,j,4]\n",
    "            cc = mat[i,j,5]\n",
    "            sc = mat[i,j,6]\n",
    "            \n",
    "            values_array = np.array([[ca,cb,cc],[sa,sb,sc]])\n",
    "            \n",
    "            for k in range(len(values_array)+1):\n",
    "                #print(i)\n",
    "                index = form_of_ice(values_array[1,k])\n",
    "                classif_values_array[i,j,index]+= values_array[0,k]/100\n",
    "                #print(index)\n",
    "            classif_values_array[i,j,3]= 1- sum(classif_values_array[i,j,0:2])\n",
    "            \n",
    "    return classif_values_array"
   ]
  },
  {
   "cell_type": "code",
   "execution_count": null,
   "id": "71a9cd5d",
   "metadata": {},
   "outputs": [],
   "source": [
    "ifiles = sorted(glob.glob('*.nc'))\n",
    "stp = 20\n",
    "\n",
    "dir_ = \"D:/training/reconstructs_folder\"\n",
    "\n",
    "for i in range(len(ifiles)):\n",
    "    print(i)\n",
    "    file = ifiles[i]\n",
    "    one_hot_mat2 = one_hot_method2(file)\n",
    "    print(np.unique(one_hot_mat2[:,:,0]))\n",
    "    plt.imshow(one_hot_mat2[:,:,0])\n",
    "    plt.show()"
   ]
  },
  {
   "cell_type": "code",
   "execution_count": null,
   "id": "dff2d4b6",
   "metadata": {},
   "outputs": [],
   "source": []
  },
  {
   "cell_type": "code",
   "execution_count": 15,
   "id": "82647514",
   "metadata": {},
   "outputs": [],
   "source": [
    "def one_hot_method1(file):\n",
    "    \"\"\"\n",
    "    Creates for a file a matrix corresponding to one-hot encoding using method 1 (1s and 0s)\n",
    "    ---\n",
    "    input: file : netCDF4 dataset archive\n",
    "    ---\n",
    "    output : classif_values_array : numpy.array one-hot encoded\n",
    "    \"\"\"\n",
    "    \n",
    "    ds = nc.Dataset(file)\n",
    "    n,p=ds['nersc_sar_secondary'].shape\n",
    "    sar2 = ds['nersc_sar_secondary'][::stp, ::stp]\n",
    "    ic = ds['polygon_icechart'][::stp, ::stp]\n",
    "    \n",
    "    en_values_array=np.zeros(ic.shape)+np.nan\n",
    "    mat= np.zeros(ic.shape)+np.nan\n",
    "    \n",
    "    map_id_to_variable_values=dict()\n",
    "    for id_and_corresponding_variable_values in ds['polygon_codes'][1:]:\n",
    "        id_val_splitted = id_and_corresponding_variable_values.split(\";\")\n",
    "        map_id_to_variable_values.update({int(id_val_splitted[0]): id_val_splitted[1:]})\n",
    "        \n",
    "\n",
    "    for id_value, variable_belong_to_id in map_id_to_variable_values.items():\n",
    "        # each loop changes all locations of values_array (that have the very\n",
    "        # 'id_value') to its corresponding value inside 'variable_belong_to_id'\n",
    "        en_values_array[ic == id_value] = np.float(variable_belong_to_id[0])\n",
    "    \n",
    "    for i in range(1,9):\n",
    "        if i!=3 or i!=6:\n",
    "            for id_value, variable_belong_to_id in map_id_to_variable_values.items():\n",
    "        # each loop changes all locations of values_array (that have the very\n",
    "        # 'id_value') to its corresponding value inside 'variable_belong_to_id'\n",
    "                mat[ic == id_value] = np.float(variable_belong_to_id[i])\n",
    "\n",
    "            en_values_array = np.dstack((en_values_array,mat))\n",
    "            \n",
    "    mat = np.dstack((en_values_array[:,:,:3],en_values_array[:,:,4:6],en_values_array[:,:,7:]))       \n",
    "    n,p,q= mat.shape\n",
    "    classif_values_array = np.zeros((n,p,4))\n",
    "    \n",
    "    for i in range(n):\n",
    "        for j in range(p):\n",
    "            index=0\n",
    "            ca = mat[i,j,1]\n",
    "            sa = mat[i,j,2]\n",
    "            cb = mat[i,j,3]\n",
    "            sb = mat[i,j,4]\n",
    "            cc = mat[i,j,5]\n",
    "            sc = mat[i,j,6]\n",
    "\n",
    "            if max(ca,cb,cc)==ca:\n",
    "                #print(sa)\n",
    "                index= form_of_ice(sa)\n",
    "            if max(ca,cb,cc)==cb:\n",
    "                #print(sb)\n",
    "                index = form_of_ice(sb)\n",
    "            if max(ca,cb,cc)==cc:\n",
    "                #print(sc)\n",
    "                index = form_of_ice(sc)\n",
    "            classif_values_array[i,j,index] = 1\n",
    "            \n",
    "    return classif_values_array"
   ]
  }
 ],
 "metadata": {
  "kernelspec": {
   "display_name": "Python 3",
   "language": "python",
   "name": "python3"
  },
  "language_info": {
   "codemirror_mode": {
    "name": "ipython",
    "version": 3
   },
   "file_extension": ".py",
   "mimetype": "text/x-python",
   "name": "python",
   "nbconvert_exporter": "python",
   "pygments_lexer": "ipython3",
   "version": "3.8.8"
  }
 },
 "nbformat": 4,
 "nbformat_minor": 5
}
