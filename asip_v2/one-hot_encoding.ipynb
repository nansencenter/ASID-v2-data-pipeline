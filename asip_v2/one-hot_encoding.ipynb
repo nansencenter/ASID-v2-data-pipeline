{
 "cells": [
  {
   "cell_type": "code",
   "execution_count": 1,
   "id": "8bc8217f",
   "metadata": {},
   "outputs": [],
   "source": [
    "import glob\n",
    "import os\n",
    "\n",
    "import matplotlib.pyplot as plt\n",
    "import matplotlib as mpl\n",
    "import netCDF4 as nc\n",
    "import numpy as np\n",
    "\n",
    "from hot_encoding_utils import form_of_ice, one_hot_m1, one_hot_m2\n",
    "\n",
    "\n",
    "from scipy.interpolate import RectBivariateSpline\n",
    "\n",
    "%matplotlib inline"
   ]
  },
  {
   "cell_type": "code",
   "execution_count": 2,
   "id": "985643e7",
   "metadata": {},
   "outputs": [
    {
     "data": {
      "text/plain": [
       "'C:\\\\Alissa\\\\ENSG\\\\ING2\\\\STAGE\\\\Dev\\\\satellite-data-pipeline\\\\asip_v2'"
      ]
     },
     "execution_count": 2,
     "metadata": {},
     "output_type": "execute_result"
    }
   ],
   "source": [
    "pwd"
   ]
  },
  {
   "cell_type": "code",
   "execution_count": 3,
   "id": "8fbd131e",
   "metadata": {},
   "outputs": [
    {
     "name": "stdout",
     "output_type": "stream",
     "text": [
      "D:\\training\n"
     ]
    }
   ],
   "source": [
    "%cd \"D:/training\""
   ]
  },
  {
   "cell_type": "code",
   "execution_count": 4,
   "id": "7a5ee3bb",
   "metadata": {},
   "outputs": [],
   "source": [
    "file = '20180404T205505_S1B_AMSR2_Icechart-Greenland-CentralWest.nc'\n",
    "stp=20\n",
    "ds = nc.Dataset(file)\n",
    "n,p=ds['nersc_sar_secondary'].shape\n",
    "sar2 = ds['nersc_sar_secondary'][::stp, ::stp]\n",
    "ic = ds['polygon_icechart'][::stp, ::stp]\n",
    "\n",
    "n,p= ic.shape\n",
    "\n",
    "en_values_array=np.zeros((n,p,4))+np.nan\n",
    "mat= np.zeros(ic.shape)+np.nan "
   ]
  },
  {
   "cell_type": "code",
   "execution_count": 5,
   "id": "cf4e8205",
   "metadata": {},
   "outputs": [
    {
     "name": "stdout",
     "output_type": "stream",
     "text": [
      "----- input \n",
      " 92 -9 87 -9 -9 -9 -9 -9 \n",
      "-----output \n",
      " [1, 0, 0, 0] \n",
      "\n",
      "----- input \n",
      " 92 30 91 70 87 -9 -9 -9 \n",
      "-----output \n",
      " [1, 0, 0, 0] \n",
      "\n",
      "----- input \n",
      " 92 10 91 60 87 -9 30 83 \n",
      "-----output \n",
      " [1, 0, 0, 0] \n",
      "\n",
      "----- input \n",
      " 50 20 93 20 91 5 10 87 \n",
      "-----output \n",
      " [0, 0, 1, 0] \n",
      "\n",
      "----- input \n",
      " 92 30 91 70 87 -9 -9 -9 \n",
      "-----output \n",
      " [1, 0, 0, 0] \n",
      "\n",
      "----- input \n",
      " 80 30 91 30 87 4 20 87 \n",
      "-----output \n",
      " [0, 0, 1, 0] \n",
      "\n",
      "----- input \n",
      " 80 20 93 20 91 5 40 87 \n",
      "-----output \n",
      " [0, 0, 1, 0] \n",
      "\n",
      "----- input \n",
      " 92 -9 91 -9 -9 -9 -9 -9 \n",
      "-----output \n",
      " [1, 0, 0, 0] \n",
      "\n",
      "----- input \n",
      " 92 80 91 20 87 -9 -9 -9 \n",
      "-----output \n",
      " [1, 0, 0, 0] \n",
      "\n",
      "----- input \n",
      " 30 10 87 10 83 2 10 82 \n",
      "-----output \n",
      " [0, 1, 0, 0] \n",
      "\n",
      "----- input \n",
      " 91 40 93 50 91 6 10 87 \n",
      "-----output \n",
      " [0, 0, 1, 0] \n",
      "\n",
      "----- input \n",
      " 91 60 93 40 91 6 -9 -9 \n",
      "-----output \n",
      " [1, 0, 0, 0] \n",
      "\n",
      "----- input \n",
      " 92 -9 91 -9 -9 -9 -9 -9 \n",
      "-----output \n",
      " [1, 0, 0, 0] \n",
      "\n"
     ]
    }
   ],
   "source": [
    "map_id_to_variable_values=dict()\n",
    "for id_and_corresponding_variable_values in ds['polygon_codes'][1:]:\n",
    "    id_val_splitted = id_and_corresponding_variable_values.split(\";\")\n",
    "    #print(id_val_splitted)\n",
    "    [ct, ca, sa, fa, cb, sb, fb, cc, sc] = list(map(int, id_val_splitted[1:10]))\n",
    "    result = one_hot_m1(ct,ca,sa,cb,sb,fb,cc,sc)\n",
    "    map_id_to_variable_values.update({int(id_val_splitted[0]): result})\n",
    "#     map_id_to_variable_values.update({int(id_val_splitted[0]): id_val_splitted[1:]})\n",
    "    print(\"----- input \\n\",ct,ca,sa,cb,sb,fb,cc,sc, \"\\n-----output \\n\",result,\"\\n\")  "
   ]
  },
  {
   "cell_type": "code",
   "execution_count": 6,
   "id": "5f659cde",
   "metadata": {},
   "outputs": [
    {
     "name": "stdout",
     "output_type": "stream",
     "text": [
      "(46, 4)\n",
      "(456, 4)\n",
      "(1482, 4)\n",
      "(1831, 4)\n",
      "(381, 4)\n",
      "(530, 4)\n",
      "(4903, 4)\n",
      "(4671, 4)\n",
      "(4029, 4)\n",
      "(1049, 4)\n",
      "(5089, 4)\n",
      "(46533, 4)\n",
      "(7010, 4)\n"
     ]
    }
   ],
   "source": [
    "for id_value, variable_belong_to_id in map_id_to_variable_values.items():\n",
    "        # each loop changes all locations of values_array (that have the very\n",
    "        # 'id_value') to its corresponding value inside 'variable_belong_to_id'\n",
    "        \n",
    "        print(en_values_array[ic == id_value, :].shape)\n",
    "        en_values_array[ic == id_value, :] = np.byte(np.array(variable_belong_to_id))"
   ]
  },
  {
   "cell_type": "code",
   "execution_count": 7,
   "id": "55d9b1ed",
   "metadata": {
    "scrolled": true
   },
   "outputs": [
    {
     "data": {
      "image/png": "[encoded data removed]",
      "text/plain": [
       "<Figure size 432x288 with 1 Axes>"
      ]
     },
     "metadata": {
      "needs_background": "light"
     },
     "output_type": "display_data"
    },
    {
     "data": {
      "image/png": "[encoded data removed]",
      "text/plain": [
       "<Figure size 432x288 with 1 Axes>"
      ]
     },
     "metadata": {
      "needs_background": "light"
     },
     "output_type": "display_data"
    },
    {
     "data": {
      "image/png": "[encoded data removed]",
      "text/plain": [
       "<Figure size 432x288 with 1 Axes>"
      ]
     },
     "metadata": {
      "needs_background": "light"
     },
     "output_type": "display_data"
    },
    {
     "data": {
      "image/png": "[encoded data removed]",
      "text/plain": [
       "<Figure size 432x288 with 1 Axes>"
      ]
     },
     "metadata": {
      "needs_background": "light"
     },
     "output_type": "display_data"
    }
   ],
   "source": [
    "for i in range(4):\n",
    "    plt.imshow(en_values_array[:,:,i])\n",
    "    plt.show()"
   ]
  },
  {
   "cell_type": "code",
   "execution_count": 9,
   "id": "fb028400",
   "metadata": {},
   "outputs": [
    {
     "name": "stdout",
     "output_type": "stream",
     "text": [
      "----- input \n",
      " 92 -9 87 -9 -9 -9 -9 -9 \n",
      "-----output \n",
      " [1, 0, 0, 0] \n",
      "\n",
      "----- input \n",
      " 92 30 91 70 87 -9 -9 -9 \n",
      "-----output \n",
      " [1, 0, 0, 0] \n",
      "\n",
      "----- input \n",
      " 92 10 91 60 87 -9 30 83 \n",
      "-----output \n",
      " [1, 0, 0, 0] \n",
      "\n",
      "----- input \n",
      " 50 20 93 20 91 5 10 87 \n",
      "-----output \n",
      " [0, 0, 1, 0] \n",
      "\n",
      "----- input \n",
      " 92 30 91 70 87 -9 -9 -9 \n",
      "-----output \n",
      " [1, 0, 0, 0] \n",
      "\n",
      "----- input \n",
      " 80 30 91 30 87 4 20 87 \n",
      "-----output \n",
      " [0, 0, 1, 0] \n",
      "\n",
      "----- input \n",
      " 80 20 93 20 91 5 40 87 \n",
      "-----output \n",
      " [0, 0, 1, 0] \n",
      "\n",
      "----- input \n",
      " 92 -9 91 -9 -9 -9 -9 -9 \n",
      "-----output \n",
      " [1, 0, 0, 0] \n",
      "\n",
      "----- input \n",
      " 92 80 91 20 87 -9 -9 -9 \n",
      "-----output \n",
      " [1, 0, 0, 0] \n",
      "\n",
      "----- input \n",
      " 30 10 87 10 83 2 10 82 \n",
      "-----output \n",
      " [0, 1, 0, 0] \n",
      "\n",
      "----- input \n",
      " 91 40 93 50 91 6 10 87 \n",
      "-----output \n",
      " [0, 0, 1, 0] \n",
      "\n",
      "----- input \n",
      " 91 60 93 40 91 6 -9 -9 \n",
      "-----output \n",
      " [1, 0, 0, 0] \n",
      "\n",
      "----- input \n",
      " 92 -9 91 -9 -9 -9 -9 -9 \n",
      "-----output \n",
      " [1, 0, 0, 0] \n",
      "\n"
     ]
    },
    {
     "data": {
      "image/png": "[encoded data removed]",
      "text/plain": [
       "<Figure size 432x288 with 1 Axes>"
      ]
     },
     "metadata": {
      "needs_background": "light"
     },
     "output_type": "display_data"
    },
    {
     "data": {
      "image/png": "[encoded data removed]",
      "text/plain": [
       "<Figure size 432x288 with 1 Axes>"
      ]
     },
     "metadata": {
      "needs_background": "light"
     },
     "output_type": "display_data"
    },
    {
     "data": {
      "image/png": "[encoded data removed]",
      "text/plain": [
       "<Figure size 432x288 with 1 Axes>"
      ]
     },
     "metadata": {
      "needs_background": "light"
     },
     "output_type": "display_data"
    },
    {
     "data": {
      "image/png": "[encoded data removed]",
      "text/plain": [
       "<Figure size 432x288 with 1 Axes>"
      ]
     },
     "metadata": {
      "needs_background": "light"
     },
     "output_type": "display_data"
    },
    {
     "name": "stdout",
     "output_type": "stream",
     "text": [
      "----- input \n",
      " 92 -9 91 -9 -9 -9 -9 -9 \n",
      "-----output \n",
      " [1, 0, 0, 0] \n",
      "\n",
      "----- input \n",
      " 92 -9 91 -9 -9 -9 -9 -9 \n",
      "-----output \n",
      " [1, 0, 0, 0] \n",
      "\n",
      "----- input \n",
      " 92 -9 91 -9 -9 -9 -9 -9 \n",
      "-----output \n",
      " [1, 0, 0, 0] \n",
      "\n",
      "----- input \n",
      " 70 10 98 40 87 3 20 83 \n",
      "-----output \n",
      " [0, 1, 0, 0] \n",
      "\n",
      "----- input \n",
      " 30 10 95 10 93 4 10 91 \n",
      "-----output \n",
      " [0, 0, 1, 0] \n",
      "\n",
      "----- input \n",
      " 92 -9 91 -9 -9 -9 -9 -9 \n",
      "-----output \n",
      " [1, 0, 0, 0] \n",
      "\n",
      "----- input \n",
      " 92 -9 91 -9 -9 -9 -9 -9 \n",
      "-----output \n",
      " [1, 0, 0, 0] \n",
      "\n",
      "----- input \n",
      " 30 10 95 10 93 4 10 91 \n",
      "-----output \n",
      " [0, 0, 1, 0] \n",
      "\n",
      "----- input \n",
      " 20 10 95 10 93 4 -9 91 \n",
      "-----output \n",
      " [0, 0, 1, 0] \n",
      "\n",
      "----- input \n",
      " 2 -9 -9 -9 -9 -9 -9 -9 \n",
      "-----output \n",
      " [1, 0, 0, 0] \n",
      "\n",
      "----- input \n",
      " 30 10 95 10 93 4 10 91 \n",
      "-----output \n",
      " [0, 0, 1, 0] \n",
      "\n",
      "----- input \n",
      " 20 10 95 10 93 4 -9 91 \n",
      "-----output \n",
      " [0, 0, 1, 0] \n",
      "\n",
      "----- input \n",
      " 91 40 95 30 93 4 30 91 \n",
      "-----output \n",
      " [0, 0, 1, 0] \n",
      "\n",
      "----- input \n",
      " 2 -9 -9 -9 -9 -9 -9 -9 \n",
      "-----output \n",
      " [1, 0, 0, 0] \n",
      "\n"
     ]
    },
    {
     "data": {
      "image/png": "[encoded data removed]",
      "text/plain": [
       "<Figure size 432x288 with 1 Axes>"
      ]
     },
     "metadata": {
      "needs_background": "light"
     },
     "output_type": "display_data"
    },
    {
     "data": {
      "image/png": "[encoded data removed]",
      "text/plain": [
       "<Figure size 432x288 with 1 Axes>"
      ]
     },
     "metadata": {
      "needs_background": "light"
     },
     "output_type": "display_data"
    },
    {
     "data": {
      "image/png": "[encoded data removed]",
      "text/plain": [
       "<Figure size 432x288 with 1 Axes>"
      ]
     },
     "metadata": {
      "needs_background": "light"
     },
     "output_type": "display_data"
    },
    {
     "data": {
      "image/png": "[encoded data removed]",
      "text/plain": [
       "<Figure size 432x288 with 1 Axes>"
      ]
     },
     "metadata": {
      "needs_background": "light"
     },
     "output_type": "display_data"
    },
    {
     "name": "stdout",
     "output_type": "stream",
     "text": [
      "----- input \n",
      " 40 10 87 30 83 2 -9 -9 \n",
      "-----output \n",
      " [1, 0, 0, 0] \n",
      "\n",
      "----- input \n",
      " 90 10 95 50 87 3 30 83 \n",
      "-----output \n",
      " [0, 1, 0, 0] \n",
      "\n",
      "----- input \n",
      " 91 20 95 50 87 3 30 83 \n",
      "-----output \n",
      " [0, 1, 0, 0] \n",
      "\n",
      "----- input \n",
      " 20 10 87 10 83 2 -9 -9 \n",
      "-----output \n",
      " [1, 0, 0, 0] \n",
      "\n",
      "----- input \n",
      " 2 -9 -9 -9 -9 -9 -9 -9 \n",
      "-----output \n",
      " [1, 0, 0, 0] \n",
      "\n"
     ]
    },
    {
     "data": {
      "image/png": "[encoded data removed]",
      "text/plain": [
       "<Figure size 432x288 with 1 Axes>"
      ]
     },
     "metadata": {
      "needs_background": "light"
     },
     "output_type": "display_data"
    },
    {
     "data": {
      "image/png": "[encoded data removed]",
      "text/plain": [
       "<Figure size 432x288 with 1 Axes>"
      ]
     },
     "metadata": {
      "needs_background": "light"
     },
     "output_type": "display_data"
    },
    {
     "data": {
      "image/png": "[encoded data removed]",
      "text/plain": [
       "<Figure size 432x288 with 1 Axes>"
      ]
     },
     "metadata": {
      "needs_background": "light"
     },
     "output_type": "display_data"
    },
    {
     "data": {
      "image/png": "[encoded data removed]",
      "text/plain": [
       "<Figure size 432x288 with 1 Axes>"
      ]
     },
     "metadata": {
      "needs_background": "light"
     },
     "output_type": "display_data"
    },
    {
     "name": "stdout",
     "output_type": "stream",
     "text": [
      "----- input \n",
      " 92 30 91 70 87 -9 -9 -9 \n",
      "-----output \n",
      " [1, 0, 0, 0] \n",
      "\n",
      "----- input \n",
      " 92 20 87 80 83 -9 -9 -9 \n",
      "-----output \n",
      " [1, 0, 0, 0] \n",
      "\n",
      "----- input \n",
      " 92 20 87 70 83 -9 10 82 \n",
      "-----output \n",
      " [1, 0, 0, 0] \n",
      "\n",
      "----- input \n",
      " 90 20 91 50 87 5 20 83 \n",
      "-----output \n",
      " [0, 1, 0, 0] \n",
      "\n",
      "----- input \n",
      " 10 -9 87 -9 -9 -9 -9 -9 \n",
      "-----output \n",
      " [1, 0, 0, 0] \n",
      "\n",
      "----- input \n",
      " 92 20 87 70 83 -9 10 82 \n",
      "-----output \n",
      " [1, 0, 0, 0] \n",
      "\n",
      "----- input \n",
      " 70 30 83 30 82 3 10 81 \n",
      "-----output \n",
      " [0, 1, 0, 0] \n",
      "\n",
      "----- input \n",
      " 30 20 83 10 82 2 -9 -9 \n",
      "-----output \n",
      " [1, 0, 0, 0] \n",
      "\n",
      "----- input \n",
      " 92 20 87 80 83 -9 -9 -9 \n",
      "-----output \n",
      " [1, 0, 0, 0] \n",
      "\n",
      "----- input \n",
      " 90 -9 83 -9 -9 -9 -9 -9 \n",
      "-----output \n",
      " [1, 0, 0, 0] \n",
      "\n",
      "----- input \n",
      " 92 20 87 80 83 -9 -9 -9 \n",
      "-----output \n",
      " [1, 0, 0, 0] \n",
      "\n",
      "----- input \n",
      " 92 20 87 80 83 -9 -9 -9 \n",
      "-----output \n",
      " [1, 0, 0, 0] \n",
      "\n",
      "----- input \n",
      " 50 10 83 30 82 3 10 81 \n",
      "-----output \n",
      " [0, 1, 0, 0] \n",
      "\n",
      "----- input \n",
      " 90 -9 83 -9 -9 -9 -9 -9 \n",
      "-----output \n",
      " [1, 0, 0, 0] \n",
      "\n",
      "----- input \n",
      " 91 -9 83 -9 -9 -9 -9 -9 \n",
      "-----output \n",
      " [1, 0, 0, 0] \n",
      "\n",
      "----- input \n",
      " 2 -9 -9 -9 -9 -9 -9 -9 \n",
      "-----output \n",
      " [1, 0, 0, 0] \n",
      "\n",
      "----- input \n",
      " 92 20 87 80 83 -9 -9 -9 \n",
      "-----output \n",
      " [1, 0, 0, 0] \n",
      "\n",
      "----- input \n",
      " 50 10 83 30 82 3 10 81 \n",
      "-----output \n",
      " [0, 1, 0, 0] \n",
      "\n",
      "----- input \n",
      " 92 20 87 80 83 -9 -9 -9 \n",
      "-----output \n",
      " [1, 0, 0, 0] \n",
      "\n",
      "----- input \n",
      " 60 20 83 30 82 3 10 81 \n",
      "-----output \n",
      " [0, 1, 0, 0] \n",
      "\n",
      "----- input \n",
      " 60 40 87 20 83 4 -9 -9 \n",
      "-----output \n",
      " [1, 0, 0, 0] \n",
      "\n",
      "----- input \n",
      " 20 -9 83 -9 -9 -9 -9 -9 \n",
      "-----output \n",
      " [1, 0, 0, 0] \n",
      "\n",
      "----- input \n",
      " 20 10 87 10 83 4 -9 -9 \n",
      "-----output \n",
      " [1, 0, 0, 0] \n",
      "\n",
      "----- input \n",
      " 92 20 87 80 83 -9 -9 -9 \n",
      "-----output \n",
      " [1, 0, 0, 0] \n",
      "\n",
      "----- input \n",
      " 92 20 87 80 83 -9 -9 -9 \n",
      "-----output \n",
      " [1, 0, 0, 0] \n",
      "\n",
      "----- input \n",
      " 92 20 87 80 83 -9 -9 -9 \n",
      "-----output \n",
      " [1, 0, 0, 0] \n",
      "\n",
      "----- input \n",
      " 92 20 87 80 83 -9 -9 -9 \n",
      "-----output \n",
      " [1, 0, 0, 0] \n",
      "\n",
      "----- input \n",
      " 92 80 83 20 82 -9 -9 -9 \n",
      "-----output \n",
      " [1, 0, 0, 0] \n",
      "\n",
      "----- input \n",
      " 92 20 87 80 83 -9 -9 -9 \n",
      "-----output \n",
      " [1, 0, 0, 0] \n",
      "\n",
      "----- input \n",
      " 91 90 83 10 82 -9 -9 -9 \n",
      "-----output \n",
      " [1, 0, 0, 0] \n",
      "\n",
      "----- input \n",
      " 92 20 87 80 83 -9 -9 -9 \n",
      "-----output \n",
      " [1, 0, 0, 0] \n",
      "\n",
      "----- input \n",
      " 80 30 83 40 82 3 10 81 \n",
      "-----output \n",
      " [0, 1, 0, 0] \n",
      "\n",
      "----- input \n",
      " 92 20 87 80 83 -9 -9 -9 \n",
      "-----output \n",
      " [1, 0, 0, 0] \n",
      "\n",
      "----- input \n",
      " 92 20 87 80 83 -9 -9 -9 \n",
      "-----output \n",
      " [1, 0, 0, 0] \n",
      "\n",
      "----- input \n",
      " 92 20 87 80 83 -9 -9 -9 \n",
      "-----output \n",
      " [1, 0, 0, 0] \n",
      "\n",
      "----- input \n",
      " 92 20 87 80 83 -9 -9 -9 \n",
      "-----output \n",
      " [1, 0, 0, 0] \n",
      "\n",
      "----- input \n",
      " 80 50 91 30 87 6 -9 -9 \n",
      "-----output \n",
      " [1, 0, 0, 0] \n",
      "\n",
      "----- input \n",
      " 90 40 91 40 87 6 10 83 \n",
      "-----output \n",
      " [0, 1, 0, 0] \n",
      "\n",
      "----- input \n",
      " 1 -9 87 -9 -9 -9 -9 -9 \n",
      "-----output \n",
      " [1, 0, 0, 0] \n",
      "\n",
      "----- input \n",
      " 91 10 91 70 87 4 20 83 \n",
      "-----output \n",
      " [1, 0, 0, 0] \n",
      "\n",
      "----- input \n",
      " 10 -9 87 -9 -9 -9 -9 -9 \n",
      "-----output \n",
      " [1, 0, 0, 0] \n",
      "\n",
      "----- input \n",
      " 92 20 87 80 83 -9 -9 -9 \n",
      "-----output \n",
      " [1, 0, 0, 0] \n",
      "\n"
     ]
    },
    {
     "data": {
      "image/png": "[encoded data removed]",
      "text/plain": [
       "<Figure size 432x288 with 1 Axes>"
      ]
     },
     "metadata": {
      "needs_background": "light"
     },
     "output_type": "display_data"
    },
    {
     "data": {
      "image/png": "[encoded data removed]",
      "text/plain": [
       "<Figure size 432x288 with 1 Axes>"
      ]
     },
     "metadata": {
      "needs_background": "light"
     },
     "output_type": "display_data"
    },
    {
     "data": {
      "image/png": "[encoded data removed]",
      "text/plain": [
       "<Figure size 432x288 with 1 Axes>"
      ]
     },
     "metadata": {
      "needs_background": "light"
     },
     "output_type": "display_data"
    },
    {
     "data": {
      "image/png": "[encoded data removed]",
      "text/plain": [
       "<Figure size 432x288 with 1 Axes>"
      ]
     },
     "metadata": {
      "needs_background": "light"
     },
     "output_type": "display_data"
    },
    {
     "name": "stdout",
     "output_type": "stream",
     "text": [
      "----- input \n",
      " 92 20 98 80 91 -9 -9 -9 \n",
      "-----output \n",
      " [1, 0, 0, 0] \n",
      "\n",
      "----- input \n",
      " 92 10 93 90 91 -9 -9 -9 \n",
      "-----output \n",
      " [1, 0, 0, 0] \n",
      "\n",
      "----- input \n",
      " 92 70 91 30 87 -9 -9 -9 \n",
      "-----output \n",
      " [1, 0, 0, 0] \n",
      "\n",
      "----- input \n",
      " 92 10 93 90 91 -9 -9 -9 \n",
      "-----output \n",
      " [1, 0, 0, 0] \n",
      "\n",
      "----- input \n",
      " 92 20 98 20 93 -9 60 91 \n",
      "-----output \n",
      " [0, 0, 1, 0] \n",
      "\n",
      "----- input \n",
      " 91 20 87 50 83 4 30 82 \n",
      "-----output \n",
      " [1, 0, 0, 0] \n",
      "\n",
      "----- input \n",
      " 91 80 91 20 87 6 -9 -9 \n",
      "-----output \n",
      " [1, 0, 0, 0] \n",
      "\n",
      "----- input \n",
      " 91 50 91 30 87 5 20 83 \n",
      "-----output \n",
      " [1, 0, 0, 0] \n",
      "\n",
      "----- input \n",
      " 92 20 93 80 91 -9 -9 -9 \n",
      "-----output \n",
      " [1, 0, 0, 0] \n",
      "\n",
      "----- input \n",
      " 92 20 98 20 93 -9 60 91 \n",
      "-----output \n",
      " [0, 0, 1, 0] \n",
      "\n"
     ]
    },
    {
     "data": {
      "image/png": "[encoded data removed]",
      "text/plain": [
       "<Figure size 432x288 with 1 Axes>"
      ]
     },
     "metadata": {
      "needs_background": "light"
     },
     "output_type": "display_data"
    },
    {
     "data": {
      "image/png": "[encoded data removed]",
      "text/plain": [
       "<Figure size 432x288 with 1 Axes>"
      ]
     },
     "metadata": {
      "needs_background": "light"
     },
     "output_type": "display_data"
    },
    {
     "data": {
      "image/png": "[encoded data removed]",
      "text/plain": [
       "<Figure size 432x288 with 1 Axes>"
      ]
     },
     "metadata": {
      "needs_background": "light"
     },
     "output_type": "display_data"
    },
    {
     "data": {
      "image/png": "[encoded data removed]",
      "text/plain": [
       "<Figure size 432x288 with 1 Axes>"
      ]
     },
     "metadata": {
      "needs_background": "light"
     },
     "output_type": "display_data"
    },
    {
     "name": "stdout",
     "output_type": "stream",
     "text": [
      "----- input \n",
      " 20 10 95 10 87 3 -9 83 \n",
      "-----output \n",
      " [0, 1, 0, 0] \n",
      "\n",
      "----- input \n",
      " 92 20 95 60 91 -9 20 83 \n",
      "-----output \n",
      " [0, 1, 0, 0] \n",
      "\n",
      "----- input \n",
      " 92 20 95 60 91 -9 20 83 \n",
      "-----output \n",
      " [0, 1, 0, 0] \n",
      "\n",
      "----- input \n",
      " 2 -9 -9 -9 -9 -9 -9 -9 \n",
      "-----output \n",
      " [1, 0, 0, 0] \n",
      "\n",
      "----- input \n",
      " 20 10 95 10 87 3 -9 83 \n",
      "-----output \n",
      " [0, 1, 0, 0] \n",
      "\n",
      "----- input \n",
      " 30 10 95 10 91 3 10 87 \n",
      "-----output \n",
      " [0, 0, 1, 0] \n",
      "\n",
      "----- input \n",
      " 92 -9 87 -9 -9 -9 -9 -9 \n",
      "-----output \n",
      " [1, 0, 0, 0] \n",
      "\n",
      "----- input \n",
      " 20 10 95 10 87 3 -9 83 \n",
      "-----output \n",
      " [0, 1, 0, 0] \n",
      "\n",
      "----- input \n",
      " 20 10 95 10 87 3 -9 83 \n",
      "-----output \n",
      " [0, 1, 0, 0] \n",
      "\n",
      "----- input \n",
      " 91 10 98 90 87 5 -9 -9 \n",
      "-----output \n",
      " [1, 0, 0, 0] \n",
      "\n",
      "----- input \n",
      " 10 -9 95 -9 -9 3 -9 -9 \n",
      "-----output \n",
      " [1, 0, 0, 0] \n",
      "\n",
      "----- input \n",
      " 91 50 95 30 91 4 20 87 \n",
      "-----output \n",
      " [0, 0, 1, 0] \n",
      "\n",
      "----- input \n",
      " 1 -9 98 -9 -9 -9 -9 -9 \n",
      "-----output \n",
      " [1, 0, 0, 0] \n",
      "\n",
      "----- input \n",
      " 92 10 95 80 87 -9 10 83 \n",
      "-----output \n",
      " [0, 1, 0, 0] \n",
      "\n",
      "----- input \n",
      " 10 -9 87 -9 -9 -9 -9 -9 \n",
      "-----output \n",
      " [1, 0, 0, 0] \n",
      "\n",
      "----- input \n",
      " 20 10 95 10 87 3 -9 83 \n",
      "-----output \n",
      " [0, 1, 0, 0] \n",
      "\n",
      "----- input \n",
      " 91 10 98 90 87 5 -9 -9 \n",
      "-----output \n",
      " [1, 0, 0, 0] \n",
      "\n",
      "----- input \n",
      " 20 10 95 10 87 3 -9 83 \n",
      "-----output \n",
      " [0, 1, 0, 0] \n",
      "\n",
      "----- input \n",
      " 91 50 95 30 91 4 20 87 \n",
      "-----output \n",
      " [0, 0, 1, 0] \n",
      "\n",
      "----- input \n",
      " 2 -9 -9 -9 -9 -9 -9 -9 \n",
      "-----output \n",
      " [1, 0, 0, 0] \n",
      "\n",
      "----- input \n",
      " 92 20 91 80 91 3 -9 83 \n",
      "-----output \n",
      " [1, 0, 0, 0] \n",
      "\n",
      "----- input \n",
      " 92 90 87 10 83 -9 -9 -9 \n",
      "-----output \n",
      " [1, 0, 0, 0] \n",
      "\n",
      "----- input \n",
      " 90 80 87 10 83 -9 -9 -9 \n",
      "-----output \n",
      " [1, 0, 0, 0] \n",
      "\n",
      "----- input \n",
      " 92 90 87 10 83 -9 -9 -9 \n",
      "-----output \n",
      " [1, 0, 0, 0] \n",
      "\n",
      "----- input \n",
      " 92 90 87 10 83 -9 -9 -9 \n",
      "-----output \n",
      " [1, 0, 0, 0] \n",
      "\n",
      "----- input \n",
      " 1 -9 98 -9 -9 -9 -9 -9 \n",
      "-----output \n",
      " [1, 0, 0, 0] \n",
      "\n",
      "----- input \n",
      " 10 -9 87 -9 -9 -9 -9 -9 \n",
      "-----output \n",
      " [1, 0, 0, 0] \n",
      "\n",
      "----- input \n",
      " 92 90 87 10 83 -9 -9 -9 \n",
      "-----output \n",
      " [1, 0, 0, 0] \n",
      "\n",
      "----- input \n",
      " 92 10 98 80 87 5 10 83 \n",
      "-----output \n",
      " [0, 1, 0, 0] \n",
      "\n",
      "----- input \n",
      " 90 80 87 10 83 -9 -9 -9 \n",
      "-----output \n",
      " [1, 0, 0, 0] \n",
      "\n",
      "----- input \n",
      " 91 50 95 30 91 4 20 87 \n",
      "-----output \n",
      " [0, 0, 1, 0] \n",
      "\n",
      "----- input \n",
      " 92 10 98 80 87 5 10 83 \n",
      "-----output \n",
      " [0, 1, 0, 0] \n",
      "\n",
      "----- input \n",
      " 92 10 98 80 87 5 10 83 \n",
      "-----output \n",
      " [0, 1, 0, 0] \n",
      "\n",
      "----- input \n",
      " 50 20 98 10 87 4 10 83 \n",
      "-----output \n",
      " [0, 1, 0, 0] \n",
      "\n",
      "----- input \n",
      " 90 60 98 20 87 5 10 83 \n",
      "-----output \n",
      " [0, 1, 0, 0] \n",
      "\n"
     ]
    },
    {
     "data": {
      "image/png": "[encoded data removed]",
      "text/plain": [
       "<Figure size 432x288 with 1 Axes>"
      ]
     },
     "metadata": {
      "needs_background": "light"
     },
     "output_type": "display_data"
    },
    {
     "data": {
      "image/png": "[encoded data removed]",
      "text/plain": [
       "<Figure size 432x288 with 1 Axes>"
      ]
     },
     "metadata": {
      "needs_background": "light"
     },
     "output_type": "display_data"
    },
    {
     "data": {
      "image/png": "[encoded data removed]",
      "text/plain": [
       "<Figure size 432x288 with 1 Axes>"
      ]
     },
     "metadata": {
      "needs_background": "light"
     },
     "output_type": "display_data"
    },
    {
     "data": {
      "image/png": "[encoded data removed]",
      "text/plain": [
       "<Figure size 432x288 with 1 Axes>"
      ]
     },
     "metadata": {
      "needs_background": "light"
     },
     "output_type": "display_data"
    },
    {
     "name": "stdout",
     "output_type": "stream",
     "text": [
      "----- input \n",
      " 92 20 98 70 93 -9 10 91 \n",
      "-----output \n",
      " [0, 0, 1, 0] \n",
      "\n",
      "----- input \n",
      " 92 10 98 70 93 -9 20 91 \n",
      "-----output \n",
      " [0, 0, 1, 0] \n",
      "\n",
      "----- input \n",
      " 92 20 98 70 93 -9 10 91 \n",
      "-----output \n",
      " [0, 0, 1, 0] \n",
      "\n",
      "----- input \n",
      " 92 30 98 60 93 -9 10 91 \n",
      "-----output \n",
      " [0, 0, 1, 0] \n",
      "\n",
      "----- input \n",
      " 91 20 95 50 93 6 30 91 \n",
      "-----output \n",
      " [0, 0, 1, 0] \n",
      "\n",
      "----- input \n",
      " 92 -9 93 -9 -9 -9 -9 -9 \n",
      "-----output \n",
      " [1, 0, 0, 0] \n",
      "\n",
      "----- input \n",
      " 92 50 95 40 91 -9 20 87 \n",
      "-----output \n",
      " [0, 0, 1, 0] \n",
      "\n",
      "----- input \n",
      " 92 -9 93 -9 -9 -9 -9 -9 \n",
      "-----output \n",
      " [1, 0, 0, 0] \n",
      "\n",
      "----- input \n",
      " 92 -9 93 -9 -9 -9 -9 -9 \n",
      "-----output \n",
      " [1, 0, 0, 0] \n",
      "\n",
      "----- input \n",
      " 92 50 95 40 91 -9 20 87 \n",
      "-----output \n",
      " [0, 0, 1, 0] \n",
      "\n",
      "----- input \n",
      " 90 60 95 20 93 6 10 91 \n",
      "-----output \n",
      " [0, 0, 1, 0] \n",
      "\n",
      "----- input \n",
      " 91 40 95 40 91 4 20 87 \n",
      "-----output \n",
      " [0, 0, 1, 0] \n",
      "\n",
      "----- input \n",
      " 30 10 93 10 91 4 10 87 \n",
      "-----output \n",
      " [0, 0, 1, 0] \n",
      "\n",
      "----- input \n",
      " 2 -9 -9 -9 -9 -9 -9 -9 \n",
      "-----output \n",
      " [1, 0, 0, 0] \n",
      "\n"
     ]
    },
    {
     "data": {
      "image/png": "[encoded data removed]",
      "text/plain": [
       "<Figure size 432x288 with 1 Axes>"
      ]
     },
     "metadata": {
      "needs_background": "light"
     },
     "output_type": "display_data"
    },
    {
     "data": {
      "image/png": "[encoded data removed]",
      "text/plain": [
       "<Figure size 432x288 with 1 Axes>"
      ]
     },
     "metadata": {
      "needs_background": "light"
     },
     "output_type": "display_data"
    },
    {
     "data": {
      "image/png": "[encoded data removed]",
      "text/plain": [
       "<Figure size 432x288 with 1 Axes>"
      ]
     },
     "metadata": {
      "needs_background": "light"
     },
     "output_type": "display_data"
    },
    {
     "data": {
      "image/png": "[encoded data removed]",
      "text/plain": [
       "<Figure size 432x288 with 1 Axes>"
      ]
     },
     "metadata": {
      "needs_background": "light"
     },
     "output_type": "display_data"
    },
    {
     "name": "stdout",
     "output_type": "stream",
     "text": [
      "----- input \n",
      " 20 10 93 10 91 4 -9 -9 \n",
      "-----output \n",
      " [1, 0, 0, 0] \n",
      "\n",
      "----- input \n",
      " 92 60 93 40 91 -9 -9 -9 \n",
      "-----output \n",
      " [1, 0, 0, 0] \n",
      "\n",
      "----- input \n",
      " 92 60 93 40 91 -9 -9 -9 \n",
      "-----output \n",
      " [1, 0, 0, 0] \n",
      "\n",
      "----- input \n",
      " 50 20 95 20 93 4 10 91 \n",
      "-----output \n",
      " [0, 0, 1, 0] \n",
      "\n",
      "----- input \n",
      " 92 60 93 40 91 -9 -9 -9 \n",
      "-----output \n",
      " [1, 0, 0, 0] \n",
      "\n",
      "----- input \n",
      " 91 20 95 50 93 5 30 91 \n",
      "-----output \n",
      " [0, 0, 1, 0] \n",
      "\n",
      "----- input \n",
      " 92 60 93 40 91 -9 -9 -9 \n",
      "-----output \n",
      " [1, 0, 0, 0] \n",
      "\n",
      "----- input \n",
      " 92 60 93 40 91 -9 -9 -9 \n",
      "-----output \n",
      " [1, 0, 0, 0] \n",
      "\n",
      "----- input \n",
      " 92 60 93 40 91 -9 -9 -9 \n",
      "-----output \n",
      " [1, 0, 0, 0] \n",
      "\n",
      "----- input \n",
      " 50 20 95 20 93 4 10 91 \n",
      "-----output \n",
      " [0, 0, 1, 0] \n",
      "\n",
      "----- input \n",
      " 92 60 93 40 91 -9 -9 -9 \n",
      "-----output \n",
      " [1, 0, 0, 0] \n",
      "\n",
      "----- input \n",
      " 92 60 93 40 91 -9 -9 -9 \n",
      "-----output \n",
      " [1, 0, 0, 0] \n",
      "\n",
      "----- input \n",
      " 92 20 98 80 91 -9 -9 -9 \n",
      "-----output \n",
      " [1, 0, 0, 0] \n",
      "\n",
      "----- input \n",
      " 91 50 95 40 93 5 10 91 \n",
      "-----output \n",
      " [0, 0, 1, 0] \n",
      "\n",
      "----- input \n",
      " 50 20 95 20 93 4 10 91 \n",
      "-----output \n",
      " [0, 0, 1, 0] \n",
      "\n",
      "----- input \n",
      " 92 20 98 70 93 -9 10 91 \n",
      "-----output \n",
      " [0, 0, 1, 0] \n",
      "\n",
      "----- input \n",
      " 92 10 98 70 93 -9 20 91 \n",
      "-----output \n",
      " [0, 0, 1, 0] \n",
      "\n",
      "----- input \n",
      " 92 80 87 20 83 -9 -9 -9 \n",
      "-----output \n",
      " [1, 0, 0, 0] \n",
      "\n",
      "----- input \n",
      " 90 40 93 30 91 6 20 87 \n",
      "-----output \n",
      " [0, 0, 1, 0] \n",
      "\n",
      "----- input \n",
      " 92 70 93 30 91 -9 -9 -9 \n",
      "-----output \n",
      " [1, 0, 0, 0] \n",
      "\n",
      "----- input \n",
      " 90 40 95 30 91 4 20 87 \n",
      "-----output \n",
      " [0, 0, 1, 0] \n",
      "\n",
      "----- input \n",
      " 92 20 98 70 93 -9 10 91 \n",
      "-----output \n",
      " [0, 0, 1, 0] \n",
      "\n",
      "----- input \n",
      " 92 10 98 70 93 -9 20 91 \n",
      "-----output \n",
      " [0, 0, 1, 0] \n",
      "\n",
      "----- input \n",
      " 91 20 95 50 93 6 30 91 \n",
      "-----output \n",
      " [0, 0, 1, 0] \n",
      "\n",
      "----- input \n",
      " 92 50 95 40 91 -9 20 87 \n",
      "-----output \n",
      " [0, 0, 1, 0] \n",
      "\n",
      "----- input \n",
      " 91 40 95 40 91 4 20 87 \n",
      "-----output \n",
      " [0, 0, 1, 0] \n",
      "\n",
      "----- input \n",
      " 30 10 93 10 91 4 10 87 \n",
      "-----output \n",
      " [0, 0, 1, 0] \n",
      "\n",
      "----- input \n",
      " 2 -9 -9 -9 -9 -9 -9 -9 \n",
      "-----output \n",
      " [1, 0, 0, 0] \n",
      "\n"
     ]
    },
    {
     "data": {
      "image/png": "[encoded data removed]",
      "text/plain": [
       "<Figure size 432x288 with 1 Axes>"
      ]
     },
     "metadata": {
      "needs_background": "light"
     },
     "output_type": "display_data"
    },
    {
     "data": {
      "image/png": "[encoded data removed]",
      "text/plain": [
       "<Figure size 432x288 with 1 Axes>"
      ]
     },
     "metadata": {
      "needs_background": "light"
     },
     "output_type": "display_data"
    },
    {
     "data": {
      "image/png": "[encoded data removed]",
      "text/plain": [
       "<Figure size 432x288 with 1 Axes>"
      ]
     },
     "metadata": {
      "needs_background": "light"
     },
     "output_type": "display_data"
    },
    {
     "data": {
      "image/png": "[encoded data removed]",
      "text/plain": [
       "<Figure size 432x288 with 1 Axes>"
      ]
     },
     "metadata": {
      "needs_background": "light"
     },
     "output_type": "display_data"
    },
    {
     "name": "stdout",
     "output_type": "stream",
     "text": [
      "----- input \n",
      " 91 40 91 60 87 -9 -9 -9 \n",
      "-----output \n",
      " [1, 0, 0, 0] \n",
      "\n",
      "----- input \n",
      " 80 30 95 30 93 3 20 91 \n",
      "-----output \n",
      " [0, 0, 1, 0] \n",
      "\n",
      "----- input \n",
      " 2 -9 -9 -9 -9 -9 -9 -9 \n",
      "-----output \n",
      " [1, 0, 0, 0] \n",
      "\n",
      "----- input \n",
      " 70 20 95 30 93 3 20 91 \n",
      "-----output \n",
      " [0, 0, 1, 0] \n",
      "\n",
      "----- input \n",
      " 91 50 95 30 93 4 20 91 \n",
      "-----output \n",
      " [0, 0, 1, 0] \n",
      "\n",
      "----- input \n",
      " 80 10 98 30 95 4 40 93 \n",
      "-----output \n",
      " [0, 0, 1, 0] \n",
      "\n",
      "----- input \n",
      " 50 20 98 10 95 4 20 91 \n",
      "-----output \n",
      " [0, 0, 1, 0] \n",
      "\n",
      "----- input \n",
      " 20 10 95 10 93 4 -9 -9 \n",
      "-----output \n",
      " [1, 0, 0, 0] \n",
      "\n",
      "----- input \n",
      " 91 40 95 40 93 4 20 91 \n",
      "-----output \n",
      " [0, 0, 1, 0] \n",
      "\n",
      "----- input \n",
      " 92 10 95 60 91 -9 30 83 \n",
      "-----output \n",
      " [0, 1, 0, 0] \n",
      "\n",
      "----- input \n",
      " 80 40 95 30 93 4 10 91 \n",
      "-----output \n",
      " [0, 0, 1, 0] \n",
      "\n",
      "----- input \n",
      " 40 10 95 10 93 3 20 91 \n",
      "-----output \n",
      " [0, 0, 1, 0] \n",
      "\n",
      "----- input \n",
      " 80 40 95 30 93 4 10 91 \n",
      "-----output \n",
      " [0, 0, 1, 0] \n",
      "\n",
      "----- input \n",
      " 91 40 95 40 93 4 20 91 \n",
      "-----output \n",
      " [0, 0, 1, 0] \n",
      "\n",
      "----- input \n",
      " 90 10 95 40 93 6 40 91 \n",
      "-----output \n",
      " [0, 0, 1, 0] \n",
      "\n",
      "----- input \n",
      " 30 10 95 10 91 3 10 87 \n",
      "-----output \n",
      " [0, 0, 1, 0] \n",
      "\n",
      "----- input \n",
      " 50 20 95 20 93 4 10 91 \n",
      "-----output \n",
      " [0, 0, 1, 0] \n",
      "\n",
      "----- input \n",
      " 91 90 87 10 83 3 -9 -9 \n",
      "-----output \n",
      " [1, 0, 0, 0] \n",
      "\n",
      "----- input \n",
      " 92 20 91 80 91 3 -9 83 \n",
      "-----output \n",
      " [1, 0, 0, 0] \n",
      "\n",
      "----- input \n",
      " 92 90 87 10 83 -9 -9 -9 \n",
      "-----output \n",
      " [1, 0, 0, 0] \n",
      "\n",
      "----- input \n",
      " 92 90 87 10 83 -9 -9 -9 \n",
      "-----output \n",
      " [1, 0, 0, 0] \n",
      "\n",
      "----- input \n",
      " 90 80 87 10 83 -9 -9 -9 \n",
      "-----output \n",
      " [1, 0, 0, 0] \n",
      "\n",
      "----- input \n",
      " 60 10 95 30 93 3 20 91 \n",
      "-----output \n",
      " [0, 0, 1, 0] \n",
      "\n",
      "----- input \n",
      " 90 20 91 50 87 4 20 83 \n",
      "-----output \n",
      " [0, 1, 0, 0] \n",
      "\n",
      "----- input \n",
      " 91 90 87 10 83 -9 -9 -9 \n",
      "-----output \n",
      " [1, 0, 0, 0] \n",
      "\n",
      "----- input \n",
      " 30 20 93 10 91 3 -9 -9 \n",
      "-----output \n",
      " [1, 0, 0, 0] \n",
      "\n",
      "----- input \n",
      " 20 10 93 10 91 3 -9 -9 \n",
      "-----output \n",
      " [1, 0, 0, 0] \n",
      "\n",
      "----- input \n",
      " 91 10 95 90 91 -9 -9 -9 \n",
      "-----output \n",
      " [1, 0, 0, 0] \n",
      "\n",
      "----- input \n",
      " 30 20 98 10 87 3 -9 -9 \n",
      "-----output \n",
      " [1, 0, 0, 0] \n",
      "\n",
      "----- input \n",
      " 91 70 98 30 83 2 -9 -9 \n",
      "-----output \n",
      " [1, 0, 0, 0] \n",
      "\n",
      "----- input \n",
      " 91 70 98 30 83 2 -9 -9 \n",
      "-----output \n",
      " [1, 0, 0, 0] \n",
      "\n",
      "----- input \n",
      " 30 10 95 10 91 5 10 86 \n",
      "-----output \n",
      " [0, 0, 1, 0] \n",
      "\n",
      "----- input \n",
      " 91 30 98 70 87 -9 -9 -9 \n",
      "-----output \n",
      " [1, 0, 0, 0] \n",
      "\n",
      "----- input \n",
      " 91 40 95 40 93 4 20 91 \n",
      "-----output \n",
      " [0, 0, 1, 0] \n",
      "\n",
      "----- input \n",
      " 91 40 95 50 93 6 10 91 \n",
      "-----output \n",
      " [0, 0, 1, 0] \n",
      "\n",
      "----- input \n",
      " 91 40 95 40 93 5 20 91 \n",
      "-----output \n",
      " [0, 0, 1, 0] \n",
      "\n",
      "----- input \n",
      " 2 -9 -9 -9 -9 -9 -9 -9 \n",
      "-----output \n",
      " [1, 0, 0, 0] \n",
      "\n",
      "----- input \n",
      " 2 -9 -9 -9 -9 -9 -9 -9 \n",
      "-----output \n",
      " [1, 0, 0, 0] \n",
      "\n"
     ]
    },
    {
     "data": {
      "image/png": "[encoded data removed]",
      "text/plain": [
       "<Figure size 432x288 with 1 Axes>"
      ]
     },
     "metadata": {
      "needs_background": "light"
     },
     "output_type": "display_data"
    },
    {
     "data": {
      "image/png": "[encoded data removed]",
      "text/plain": [
       "<Figure size 432x288 with 1 Axes>"
      ]
     },
     "metadata": {
      "needs_background": "light"
     },
     "output_type": "display_data"
    },
    {
     "data": {
      "image/png": "[encoded data removed]",
      "text/plain": [
       "<Figure size 432x288 with 1 Axes>"
      ]
     },
     "metadata": {
      "needs_background": "light"
     },
     "output_type": "display_data"
    },
    {
     "data": {
      "image/png": "[encoded data removed]",
      "text/plain": [
       "<Figure size 432x288 with 1 Axes>"
      ]
     },
     "metadata": {
      "needs_background": "light"
     },
     "output_type": "display_data"
    },
    {
     "name": "stdout",
     "output_type": "stream",
     "text": [
      "----- input \n",
      " 30 20 98 10 87 3 -9 -9 \n",
      "-----output \n",
      " [1, 0, 0, 0] \n",
      "\n",
      "----- input \n",
      " 91 70 98 30 83 2 -9 -9 \n",
      "-----output \n",
      " [1, 0, 0, 0] \n",
      "\n",
      "----- input \n",
      " 91 40 95 50 93 6 10 91 \n",
      "-----output \n",
      " [0, 0, 1, 0] \n",
      "\n",
      "----- input \n",
      " 91 40 95 40 93 5 20 91 \n",
      "-----output \n",
      " [0, 0, 1, 0] \n",
      "\n",
      "----- input \n",
      " 20 10 93 10 91 3 -9 -9 \n",
      "-----output \n",
      " [1, 0, 0, 0] \n",
      "\n",
      "----- input \n",
      " 2 -9 -9 -9 -9 -9 -9 -9 \n",
      "-----output \n",
      " [1, 0, 0, 0] \n",
      "\n",
      "----- input \n",
      " 2 -9 -9 -9 -9 -9 -9 -9 \n",
      "-----output \n",
      " [1, 0, 0, 0] \n",
      "\n",
      "----- input \n",
      " 90 30 95 40 93 4 20 91 \n",
      "-----output \n",
      " [0, 0, 1, 0] \n",
      "\n",
      "----- input \n",
      " 91 40 95 50 93 6 10 91 \n",
      "-----output \n",
      " [0, 0, 1, 0] \n",
      "\n"
     ]
    },
    {
     "data": {
      "image/png": "[encoded data removed]",
      "text/plain": [
       "<Figure size 432x288 with 1 Axes>"
      ]
     },
     "metadata": {
      "needs_background": "light"
     },
     "output_type": "display_data"
    },
    {
     "data": {
      "image/png": "[encoded data removed]",
      "text/plain": [
       "<Figure size 432x288 with 1 Axes>"
      ]
     },
     "metadata": {
      "needs_background": "light"
     },
     "output_type": "display_data"
    },
    {
     "data": {
      "image/png": "[encoded data removed]",
      "text/plain": [
       "<Figure size 432x288 with 1 Axes>"
      ]
     },
     "metadata": {
      "needs_background": "light"
     },
     "output_type": "display_data"
    },
    {
     "data": {
      "image/png": "[encoded data removed]",
      "text/plain": [
       "<Figure size 432x288 with 1 Axes>"
      ]
     },
     "metadata": {
      "needs_background": "light"
     },
     "output_type": "display_data"
    },
    {
     "name": "stdout",
     "output_type": "stream",
     "text": [
      "----- input \n",
      " 80 20 98 20 91 3 40 87 \n",
      "-----output \n",
      " [0, 0, 1, 0] \n",
      "\n",
      "----- input \n",
      " 70 30 95 20 93 4 20 87 \n",
      "-----output \n",
      " [0, 0, 1, 0] \n",
      "\n",
      "----- input \n",
      " 30 10 98 20 87 2 -9 -9 \n",
      "-----output \n",
      " [1, 0, 0, 0] \n",
      "\n",
      "----- input \n",
      " 91 50 95 30 93 4 20 91 \n",
      "-----output \n",
      " [0, 0, 1, 0] \n",
      "\n",
      "----- input \n",
      " 92 10 95 60 91 -9 30 83 \n",
      "-----output \n",
      " [0, 1, 0, 0] \n",
      "\n",
      "----- input \n",
      " 91 50 98 30 91 3 20 87 \n",
      "-----output \n",
      " [0, 0, 1, 0] \n",
      "\n",
      "----- input \n",
      " 70 30 95 20 93 4 20 87 \n",
      "-----output \n",
      " [0, 0, 1, 0] \n",
      "\n",
      "----- input \n",
      " 91 40 91 60 87 -9 -9 -9 \n",
      "-----output \n",
      " [1, 0, 0, 0] \n",
      "\n",
      "----- input \n",
      " 80 20 98 20 91 3 40 87 \n",
      "-----output \n",
      " [0, 0, 1, 0] \n",
      "\n",
      "----- input \n",
      " 40 10 95 20 93 3 10 91 \n",
      "-----output \n",
      " [0, 0, 1, 0] \n",
      "\n",
      "----- input \n",
      " 91 50 98 30 91 3 20 87 \n",
      "-----output \n",
      " [0, 0, 1, 0] \n",
      "\n",
      "----- input \n",
      " 30 10 98 20 87 2 -9 -9 \n",
      "-----output \n",
      " [1, 0, 0, 0] \n",
      "\n",
      "----- input \n",
      " 30 10 98 20 87 2 -9 -9 \n",
      "-----output \n",
      " [1, 0, 0, 0] \n",
      "\n",
      "----- input \n",
      " 91 90 87 10 83 3 -9 -9 \n",
      "-----output \n",
      " [1, 0, 0, 0] \n",
      "\n",
      "----- input \n",
      " 91 50 98 30 91 3 20 87 \n",
      "-----output \n",
      " [0, 0, 1, 0] \n",
      "\n",
      "----- input \n",
      " 92 90 87 10 83 -9 -9 -9 \n",
      "-----output \n",
      " [1, 0, 0, 0] \n",
      "\n",
      "----- input \n",
      " 92 90 87 10 83 -9 -9 -9 \n",
      "-----output \n",
      " [1, 0, 0, 0] \n",
      "\n",
      "----- input \n",
      " 30 10 95 10 93 3 10 91 \n",
      "-----output \n",
      " [0, 0, 1, 0] \n",
      "\n",
      "----- input \n",
      " 60 10 95 30 93 3 20 91 \n",
      "-----output \n",
      " [0, 0, 1, 0] \n",
      "\n",
      "----- input \n",
      " 91 50 95 30 93 4 20 91 \n",
      "-----output \n",
      " [0, 0, 1, 0] \n",
      "\n",
      "----- input \n",
      " 60 -9 87 -9 -9 -9 -9 -9 \n",
      "-----output \n",
      " [1, 0, 0, 0] \n",
      "\n",
      "----- input \n",
      " 60 10 95 30 93 3 20 91 \n",
      "-----output \n",
      " [0, 0, 1, 0] \n",
      "\n",
      "----- input \n",
      " 2 -9 -9 -9 -9 -9 -9 -9 \n",
      "-----output \n",
      " [1, 0, 0, 0] \n",
      "\n",
      "----- input \n",
      " 60 -9 87 -9 -9 -9 -9 -9 \n",
      "-----output \n",
      " [1, 0, 0, 0] \n",
      "\n",
      "----- input \n",
      " 10 -9 93 -9 -9 -9 -9 -9 \n",
      "-----output \n",
      " [1, 0, 0, 0] \n",
      "\n",
      "----- input \n",
      " 20 10 93 10 91 3 -9 -9 \n",
      "-----output \n",
      " [1, 0, 0, 0] \n",
      "\n",
      "----- input \n",
      " 80 40 95 30 93 4 10 91 \n",
      "-----output \n",
      " [0, 0, 1, 0] \n",
      "\n",
      "----- input \n",
      " 91 10 95 90 91 -9 -9 -9 \n",
      "-----output \n",
      " [1, 0, 0, 0] \n",
      "\n",
      "----- input \n",
      " 91 50 95 30 93 5 20 91 \n",
      "-----output \n",
      " [0, 0, 1, 0] \n",
      "\n",
      "----- input \n",
      " 30 20 98 10 87 2 -9 -9 \n",
      "-----output \n",
      " [1, 0, 0, 0] \n",
      "\n",
      "----- input \n",
      " 80 70 98 10 83 2 -9 -9 \n",
      "-----output \n",
      " [1, 0, 0, 0] \n",
      "\n",
      "----- input \n",
      " 91 90 98 10 83 2 -9 -9 \n",
      "-----output \n",
      " [1, 0, 0, 0] \n",
      "\n",
      "----- input \n",
      " 30 10 98 20 93 5 -9 -9 \n",
      "-----output \n",
      " [1, 0, 0, 0] \n",
      "\n",
      "----- input \n",
      " 91 30 98 70 87 -9 -9 -9 \n",
      "-----output \n",
      " [1, 0, 0, 0] \n",
      "\n",
      "----- input \n",
      " 2 -9 -9 -9 -9 -9 -9 -9 \n",
      "-----output \n",
      " [1, 0, 0, 0] \n",
      "\n",
      "----- input \n",
      " 91 50 95 30 93 5 20 91 \n",
      "-----output \n",
      " [0, 0, 1, 0] \n",
      "\n"
     ]
    },
    {
     "data": {
      "image/png": "[encoded data removed]",
      "text/plain": [
       "<Figure size 432x288 with 1 Axes>"
      ]
     },
     "metadata": {
      "needs_background": "light"
     },
     "output_type": "display_data"
    },
    {
     "data": {
      "image/png": "[encoded data removed]",
      "text/plain": [
       "<Figure size 432x288 with 1 Axes>"
      ]
     },
     "metadata": {
      "needs_background": "light"
     },
     "output_type": "display_data"
    },
    {
     "data": {
      "image/png": "[encoded data removed]",
      "text/plain": [
       "<Figure size 432x288 with 1 Axes>"
      ]
     },
     "metadata": {
      "needs_background": "light"
     },
     "output_type": "display_data"
    },
    {
     "data": {
      "image/png": "[encoded data removed]",
      "text/plain": [
       "<Figure size 432x288 with 1 Axes>"
      ]
     },
     "metadata": {
      "needs_background": "light"
     },
     "output_type": "display_data"
    },
    {
     "name": "stdout",
     "output_type": "stream",
     "text": [
      "----- input \n",
      " 10 -9 98 -9 -9 -9 -9 -9 \n",
      "-----output \n",
      " [1, 0, 0, 0] \n",
      "\n",
      "----- input \n",
      " 91 90 98 10 83 3 -9 -9 \n",
      "-----output \n",
      " [1, 0, 0, 0] \n",
      "\n",
      "----- input \n",
      " 92 40 98 60 87 -9 -9 -9 \n",
      "-----output \n",
      " [1, 0, 0, 0] \n",
      "\n",
      "----- input \n",
      " 92 40 98 60 87 -9 -9 -9 \n",
      "-----output \n",
      " [1, 0, 0, 0] \n",
      "\n",
      "----- input \n",
      " 30 -9 98 -9 -9 -9 -9 -9 \n",
      "-----output \n",
      " [1, 0, 0, 0] \n",
      "\n",
      "----- input \n",
      " 91 -9 87 -9 -9 -9 -9 -9 \n",
      "-----output \n",
      " [1, 0, 0, 0] \n",
      "\n",
      "----- input \n",
      " 20 10 98 10 87 3 -9 -9 \n",
      "-----output \n",
      " [1, 0, 0, 0] \n",
      "\n",
      "----- input \n",
      " 90 80 87 10 83 3 -9 -9 \n",
      "-----output \n",
      " [1, 0, 0, 0] \n",
      "\n",
      "----- input \n",
      " 91 80 98 20 87 3 -9 -9 \n",
      "-----output \n",
      " [1, 0, 0, 0] \n",
      "\n",
      "----- input \n",
      " 92 -9 87 -9 -9 -9 -9 -9 \n",
      "-----output \n",
      " [1, 0, 0, 0] \n",
      "\n",
      "----- input \n",
      " 91 80 98 20 87 3 -9 -9 \n",
      "-----output \n",
      " [1, 0, 0, 0] \n",
      "\n",
      "----- input \n",
      " 30 20 98 10 87 3 -9 -9 \n",
      "-----output \n",
      " [1, 0, 0, 0] \n",
      "\n",
      "----- input \n",
      " 80 40 98 40 91 3 -9 -9 \n",
      "-----output \n",
      " [1, 0, 0, 0] \n",
      "\n",
      "----- input \n",
      " 80 40 98 40 91 3 -9 -9 \n",
      "-----output \n",
      " [1, 0, 0, 0] \n",
      "\n",
      "----- input \n",
      " 40 20 91 20 87 5 -9 -9 \n",
      "-----output \n",
      " [1, 0, 0, 0] \n",
      "\n",
      "----- input \n",
      " 20 10 91 10 87 4 -9 -9 \n",
      "-----output \n",
      " [1, 0, 0, 0] \n",
      "\n",
      "----- input \n",
      " 40 20 91 20 87 5 -9 -9 \n",
      "-----output \n",
      " [1, 0, 0, 0] \n",
      "\n",
      "----- input \n",
      " 80 40 98 40 91 3 -9 -9 \n",
      "-----output \n",
      " [1, 0, 0, 0] \n",
      "\n",
      "----- input \n",
      " 40 20 91 20 87 5 -9 -9 \n",
      "-----output \n",
      " [1, 0, 0, 0] \n",
      "\n",
      "----- input \n",
      " 2 -9 -9 -9 -9 -9 -9 -9 \n",
      "-----output \n",
      " [1, 0, 0, 0] \n",
      "\n"
     ]
    },
    {
     "data": {
      "image/png": "[encoded data removed]",
      "text/plain": [
       "<Figure size 432x288 with 1 Axes>"
      ]
     },
     "metadata": {
      "needs_background": "light"
     },
     "output_type": "display_data"
    },
    {
     "data": {
      "image/png": "[encoded data removed]",
      "text/plain": [
       "<Figure size 432x288 with 1 Axes>"
      ]
     },
     "metadata": {
      "needs_background": "light"
     },
     "output_type": "display_data"
    },
    {
     "data": {
      "image/png": "[encoded data removed]",
      "text/plain": [
       "<Figure size 432x288 with 1 Axes>"
      ]
     },
     "metadata": {
      "needs_background": "light"
     },
     "output_type": "display_data"
    },
    {
     "data": {
      "image/png": "[encoded data removed]",
      "text/plain": [
       "<Figure size 432x288 with 1 Axes>"
      ]
     },
     "metadata": {
      "needs_background": "light"
     },
     "output_type": "display_data"
    },
    {
     "name": "stdout",
     "output_type": "stream",
     "text": [
      "----- input \n",
      " 30 20 95 10 93 2 -9 -9 \n",
      "-----output \n",
      " [1, 0, 0, 0] \n",
      "\n",
      "----- input \n",
      " 50 30 95 20 93 2 -9 -9 \n",
      "-----output \n",
      " [1, 0, 0, 0] \n",
      "\n",
      "----- input \n",
      " 90 60 95 30 93 2 -9 -9 \n",
      "-----output \n",
      " [1, 0, 0, 0] \n",
      "\n",
      "----- input \n",
      " 90 60 95 30 93 2 -9 -9 \n",
      "-----output \n",
      " [1, 0, 0, 0] \n",
      "\n",
      "----- input \n",
      " 1 -9 95 -9 -9 -9 -9 -9 \n",
      "-----output \n",
      " [1, 0, 0, 0] \n",
      "\n",
      "----- input \n",
      " 30 20 95 10 93 2 -9 -9 \n",
      "-----output \n",
      " [1, 0, 0, 0] \n",
      "\n",
      "----- input \n",
      " 1 -9 95 -9 -9 -9 -9 -9 \n",
      "-----output \n",
      " [1, 0, 0, 0] \n",
      "\n",
      "----- input \n",
      " 10 -9 95 -9 -9 -9 -9 -9 \n",
      "-----output \n",
      " [1, 0, 0, 0] \n",
      "\n",
      "----- input \n",
      " 70 50 95 20 93 2 -9 -9 \n",
      "-----output \n",
      " [1, 0, 0, 0] \n",
      "\n",
      "----- input \n",
      " 10 -9 95 -9 -9 -9 -9 -9 \n",
      "-----output \n",
      " [1, 0, 0, 0] \n",
      "\n",
      "----- input \n",
      " 50 30 95 20 93 2 -9 -9 \n",
      "-----output \n",
      " [1, 0, 0, 0] \n",
      "\n",
      "----- input \n",
      " 91 60 95 40 93 2 -9 -9 \n",
      "-----output \n",
      " [1, 0, 0, 0] \n",
      "\n",
      "----- input \n",
      " 2 -9 -9 -9 -9 -9 -9 -9 \n",
      "-----output \n",
      " [1, 0, 0, 0] \n",
      "\n",
      "----- input \n",
      " 2 -9 -9 -9 -9 -9 -9 -9 \n",
      "-----output \n",
      " [1, 0, 0, 0] \n",
      "\n"
     ]
    },
    {
     "data": {
      "image/png": "[encoded data removed]",
      "text/plain": [
       "<Figure size 432x288 with 1 Axes>"
      ]
     },
     "metadata": {
      "needs_background": "light"
     },
     "output_type": "display_data"
    },
    {
     "data": {
      "image/png": "[encoded data removed]",
      "text/plain": [
       "<Figure size 432x288 with 1 Axes>"
      ]
     },
     "metadata": {
      "needs_background": "light"
     },
     "output_type": "display_data"
    },
    {
     "data": {
      "image/png": "[encoded data removed]",
      "text/plain": [
       "<Figure size 432x288 with 1 Axes>"
      ]
     },
     "metadata": {
      "needs_background": "light"
     },
     "output_type": "display_data"
    },
    {
     "data": {
      "image/png": "[encoded data removed]",
      "text/plain": [
       "<Figure size 432x288 with 1 Axes>"
      ]
     },
     "metadata": {
      "needs_background": "light"
     },
     "output_type": "display_data"
    },
    {
     "name": "stdout",
     "output_type": "stream",
     "text": [
      "----- input \n",
      " 10 -9 95 -9 -9 -9 -9 -9 \n",
      "-----output \n",
      " [1, 0, 0, 0] \n",
      "\n",
      "----- input \n",
      " 50 30 95 20 93 2 -9 -9 \n",
      "-----output \n",
      " [1, 0, 0, 0] \n",
      "\n",
      "----- input \n",
      " 10 -9 95 -9 -9 -9 -9 -9 \n",
      "-----output \n",
      " [1, 0, 0, 0] \n",
      "\n",
      "----- input \n",
      " 70 40 95 30 93 2 -9 -9 \n",
      "-----output \n",
      " [1, 0, 0, 0] \n",
      "\n",
      "----- input \n",
      " 10 -9 98 -9 -9 -9 -9 -9 \n",
      "-----output \n",
      " [1, 0, 0, 0] \n",
      "\n",
      "----- input \n",
      " 70 -9 98 -9 -9 -9 -9 -9 \n",
      "-----output \n",
      " [1, 0, 0, 0] \n",
      "\n",
      "----- input \n",
      " 91 60 95 40 93 2 -9 -9 \n",
      "-----output \n",
      " [1, 0, 0, 0] \n",
      "\n",
      "----- input \n",
      " 10 -9 98 -9 -9 -9 -9 -9 \n",
      "-----output \n",
      " [1, 0, 0, 0] \n",
      "\n",
      "----- input \n",
      " 90 -9 98 -9 -9 -9 -9 -9 \n",
      "-----output \n",
      " [1, 0, 0, 0] \n",
      "\n",
      "----- input \n",
      " 2 -9 -9 -9 -9 -9 -9 -9 \n",
      "-----output \n",
      " [1, 0, 0, 0] \n",
      "\n",
      "----- input \n",
      " 91 60 95 40 93 2 -9 -9 \n",
      "-----output \n",
      " [1, 0, 0, 0] \n",
      "\n",
      "----- input \n",
      " 10 -9 98 -9 -9 -9 -9 -9 \n",
      "-----output \n",
      " [1, 0, 0, 0] \n",
      "\n",
      "----- input \n",
      " 70 -9 98 -9 -9 -9 -9 -9 \n",
      "-----output \n",
      " [1, 0, 0, 0] \n",
      "\n",
      "----- input \n",
      " 2 -9 -9 -9 -9 -9 -9 -9 \n",
      "-----output \n",
      " [1, 0, 0, 0] \n",
      "\n"
     ]
    },
    {
     "data": {
      "image/png": "[encoded data removed]",
      "text/plain": [
       "<Figure size 432x288 with 1 Axes>"
      ]
     },
     "metadata": {
      "needs_background": "light"
     },
     "output_type": "display_data"
    },
    {
     "data": {
      "image/png": "[encoded data removed]",
      "text/plain": [
       "<Figure size 432x288 with 1 Axes>"
      ]
     },
     "metadata": {
      "needs_background": "light"
     },
     "output_type": "display_data"
    },
    {
     "data": {
      "image/png": "[encoded data removed]",
      "text/plain": [
       "<Figure size 432x288 with 1 Axes>"
      ]
     },
     "metadata": {
      "needs_background": "light"
     },
     "output_type": "display_data"
    },
    {
     "data": {
      "image/png": "[encoded data removed]",
      "text/plain": [
       "<Figure size 432x288 with 1 Axes>"
      ]
     },
     "metadata": {
      "needs_background": "light"
     },
     "output_type": "display_data"
    }
   ],
   "source": [
    "ifiles = sorted(glob.glob('*.nc'))\n",
    "stp = 20\n",
    "\n",
    "dir_ = \"D:/training/reconstructs_folder\"\n",
    "ifiles_recon = glob.glob(dir_+'/*.npz')\n",
    "# print(ifiles_recon)\n",
    "# print(np.load(ifiles_recon[0]).files)\n",
    "for i in range(len(ifiles)):\n",
    "    #print(ifile)\n",
    "    ifile = ifiles[i]\n",
    "    ds = nc.Dataset(ifile)\n",
    "    n,p=ds['nersc_sar_secondary'].shape\n",
    "    sar2 = ds['nersc_sar_secondary'][::stp, ::stp]\n",
    "    ic = ds['polygon_icechart'][::stp, ::stp]\n",
    "    \n",
    "    n,p= ic.shape\n",
    "\n",
    "    en_values_array=np.zeros((n,p,4))+np.nan\n",
    "    \n",
    "    map_id_to_variable_values=dict()\n",
    "    for id_and_corresponding_variable_values in ds['polygon_codes'][1:]:\n",
    "        id_val_splitted = id_and_corresponding_variable_values.split(\";\")\n",
    "        #print(id_val_splitted)\n",
    "        [ct, ca, sa, fa, cb, sb, fb, cc, sc] = list(map(int, id_val_splitted[1:10]))\n",
    "        result = one_hot_m1(ct,ca,sa,cb,sb,fb,cc,sc)\n",
    "        map_id_to_variable_values.update({int(id_val_splitted[0]): result})\n",
    "    #     map_id_to_variable_values.update({int(id_val_splitted[0]): id_val_splitted[1:]})\n",
    "        print(\"----- input \\n\",ct,ca,sa,cb,sb,fb,cc,sc, \"\\n-----output \\n\",result,\"\\n\")\n",
    "    \n",
    "    \n",
    "    for id_value, variable_belong_to_id in map_id_to_variable_values.items():\n",
    "        # each loop changes all locations of values_array (that have the very\n",
    "        # 'id_value') to its corresponding value inside 'variable_belong_to_id'\n",
    "               \n",
    "#         print(en_values_array[ic == id_value, :].shape)\n",
    "        en_values_array[ic == id_value, :] = np.byte(np.array(variable_belong_to_id))\n",
    "    \n",
    "    for i in range(4):\n",
    "        plt.imshow(en_values_array[:,:,i])\n",
    "        plt.show()"
   ]
  }
 ],
 "metadata": {
  "kernelspec": {
   "display_name": "Python 3",
   "language": "python",
   "name": "python3"
  },
  "language_info": {
   "codemirror_mode": {
    "name": "ipython",
    "version": 3
   },
   "file_extension": ".py",
   "mimetype": "text/x-python",
   "name": "python",
   "nbconvert_exporter": "python",
   "pygments_lexer": "ipython3",
   "version": "3.8.8"
  }
 },
 "nbformat": 4,
 "nbformat_minor": 5
}
