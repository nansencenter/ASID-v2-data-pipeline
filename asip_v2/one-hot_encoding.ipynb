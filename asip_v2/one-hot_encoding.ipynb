{
 "cells": [
  {
   "cell_type": "code",
   "execution_count": 1,
   "id": "39811c0f",
   "metadata": {},
   "outputs": [],
   "source": [
    "import glob\n",
    "import os\n",
    "\n",
    "import matplotlib.pyplot as plt\n",
    "import matplotlib as mpl\n",
    "import netCDF4 as nc\n",
    "import numpy as np\n",
    "\n",
    "from hot_encoding_utils import ice_type, one_hot_m1, one_hot_m2\n",
    "\n",
    "\n",
    "from scipy.interpolate import RectBivariateSpline\n",
    "\n",
    "%matplotlib inline"
   ]
  },
  {
   "cell_type": "code",
   "execution_count": 2,
   "id": "eaf50192",
   "metadata": {},
   "outputs": [
    {
     "data": {
      "text/plain": [
       "'C:\\\\Alissa\\\\ENSG\\\\ING2\\\\STAGE\\\\Dev\\\\satellite-data-pipeline\\\\asip_v2'"
      ]
     },
     "execution_count": 2,
     "metadata": {},
     "output_type": "execute_result"
    }
   ],
   "source": [
    "pwd"
   ]
  },
  {
   "cell_type": "code",
   "execution_count": 3,
   "id": "7ed3cba3",
   "metadata": {},
   "outputs": [
    {
     "name": "stdout",
     "output_type": "stream",
     "text": [
      "D:\\training\n"
     ]
    }
   ],
   "source": [
    "%cd \"D:/training\""
   ]
  },
  {
   "cell_type": "code",
   "execution_count": 4,
   "id": "0506e9fe",
   "metadata": {
    "scrolled": false
   },
   "outputs": [
    {
     "name": "stdout",
     "output_type": "stream",
     "text": [
      "----- input \n",
      " ['41', '92', '-9', '87', '8', '-9', '-9', '-9', '-9', '-9', '-9', '98', '-9', '-9', 'I'] \n",
      "-----output \n",
      " [0, 0, 1, 0] \n",
      "\n",
      "----- input \n",
      " ['42', '92', '30', '91', '8', '70', '87', '-9', '-9', '-9', '-9', '-9', '-9', '-9', 'I'] \n",
      "-----output \n",
      " [0, 0, 1, 0] \n",
      "\n",
      "----- input \n",
      " ['43', '92', '10', '91', '8', '60', '87', '-9', '30', '83', '-9', '98', '-9', '-9', 'I'] \n",
      "-----output \n",
      " [0, 0, 1, 0] \n",
      "\n",
      "----- input \n",
      " ['44', '50', '20', '93', '5', '20', '91', '5', '10', '87', '4', '98', '-9', '-9', 'I'] \n",
      "-----output \n",
      " [0, 0, 1, 0] \n",
      "\n",
      "----- input \n",
      " ['45', '92', '30', '91', '8', '70', '87', '-9', '-9', '-9', '-9', '-9', '-9', '-9', 'I'] \n",
      "-----output \n",
      " [0, 0, 1, 0] \n",
      "\n",
      "----- input \n",
      " ['46', '80', '30', '91', '5', '30', '87', '4', '20', '87', '3', '-9', '-9', '-9', 'I'] \n",
      "-----output \n",
      " [0, 0, 1, 0] \n",
      "\n",
      "----- input \n",
      " ['47', '80', '20', '93', '6', '20', '91', '5', '40', '87', '4', '-9', '-9', '-9', 'I'] \n",
      "-----output \n",
      " [0, 0, 1, 0] \n",
      "\n",
      "----- input \n",
      " ['48', '92', '-9', '91', '8', '-9', '-9', '-9', '-9', '-9', '-9', '98', '-9', '-9', 'I'] \n",
      "-----output \n",
      " [0, 0, 1, 0] \n",
      "\n",
      "----- input \n",
      " ['49', '92', '80', '91', '8', '20', '87', '-9', '-9', '-9', '-9', '98', '-9', '-9', 'I'] \n",
      "-----output \n",
      " [0, 0, 1, 0] \n",
      "\n",
      "----- input \n",
      " ['50', '30', '10', '87', '3', '10', '83', '2', '10', '82', '2', '-9', '-9', '-9', 'I'] \n",
      "-----output \n",
      " [0, 1, 0, 0] \n",
      "\n",
      "----- input \n",
      " ['51', '91', '40', '93', '6', '50', '91', '6', '10', '87', '5', '-9', '-9', '-9', 'I'] \n",
      "-----output \n",
      " [0, 0, 1, 0] \n",
      "\n",
      "----- input \n",
      " ['52', '91', '60', '93', '7', '40', '91', '6', '-9', '-9', '-9', '-9', '-9', '-9', 'I'] \n",
      "-----output \n",
      " [0, 0, 1, 0] \n",
      "\n",
      "----- input \n",
      " ['53', '92', '-9', '91', '8', '-9', '-9', '-9', '-9', '-9', '-9', '98', '-9', '-9', 'I'] \n",
      "-----output \n",
      " [0, 0, 1, 0] \n",
      "\n",
      "20180404T205505_S1B_AMSR2_Icechart-Greenland-CentralWest.nc\n",
      "open water\n"
     ]
    },
    {
     "data": {
      "image/png": "[encoded data removed]",
      "text/plain": [
       "<Figure size 432x288 with 1 Axes>"
      ]
     },
     "metadata": {
      "needs_background": "light"
     },
     "output_type": "display_data"
    },
    {
     "name": "stdout",
     "output_type": "stream",
     "text": [
      "young ice\n"
     ]
    },
    {
     "data": {
      "image/png": "[encoded data removed]",
      "text/plain": [
       "<Figure size 432x288 with 1 Axes>"
      ]
     },
     "metadata": {
      "needs_background": "light"
     },
     "output_type": "display_data"
    },
    {
     "name": "stdout",
     "output_type": "stream",
     "text": [
      "first-year ice\n"
     ]
    },
    {
     "data": {
      "image/png": "[encoded data removed]",
      "text/plain": [
       "<Figure size 432x288 with 1 Axes>"
      ]
     },
     "metadata": {
      "needs_background": "light"
     },
     "output_type": "display_data"
    },
    {
     "name": "stdout",
     "output_type": "stream",
     "text": [
      "multi-year ice\n"
     ]
    },
    {
     "data": {
      "image/png": "[encoded data removed]",
      "text/plain": [
       "<Figure size 432x288 with 1 Axes>"
      ]
     },
     "metadata": {
      "needs_background": "light"
     },
     "output_type": "display_data"
    },
    {
     "name": "stdout",
     "output_type": "stream",
     "text": [
      "----- input \n",
      " ['33', '92', '-9', '91', '8', '-9', '-9', '-9', '-9', '-9', '-9', '-9', '-9', '-9', 'I'] \n",
      "-----output \n",
      " [0, 0, 1, 0] \n",
      "\n",
      "----- input \n",
      " ['35', '92', '-9', '91', '8', '-9', '-9', '-9', '-9', '-9', '-9', '98', '-9', '-9', 'I'] \n",
      "-----output \n",
      " [0, 0, 1, 0] \n",
      "\n",
      "----- input \n",
      " ['36', '92', '-9', '91', '8', '-9', '-9', '-9', '-9', '-9', '-9', '98', '-9', '-9', 'I'] \n",
      "-----output \n",
      " [0, 0, 1, 0] \n",
      "\n",
      "----- input \n",
      " ['38', '70', '10', '98', '10', '40', '87', '3', '20', '83', '2', '-9', '-9', '-9', 'I'] \n",
      "-----output \n",
      " [0, 0, 1, 0] \n",
      "\n",
      "----- input \n",
      " ['39', '30', '10', '95', '3', '10', '93', '4', '10', '91', '2', '-9', '-9', '19', 'I'] \n",
      "-----output \n",
      " [0, 0, 1, 0] \n",
      "\n",
      "----- input \n",
      " ['40', '92', '-9', '91', '8', '-9', '-9', '-9', '-9', '-9', '-9', '98', '-9', '-9', 'I'] \n",
      "-----output \n",
      " [0, 0, 1, 0] \n",
      "\n",
      "----- input \n",
      " ['41', '92', '-9', '91', '8', '-9', '-9', '-9', '-9', '-9', '-9', '98', '-9', '-9', 'I'] \n",
      "-----output \n",
      " [0, 0, 1, 0] \n",
      "\n",
      "----- input \n",
      " ['42', '30', '10', '95', '3', '10', '93', '4', '10', '91', '2', '-9', '-9', '19', 'I'] \n",
      "-----output \n",
      " [0, 0, 1, 0] \n",
      "\n",
      "----- input \n",
      " ['43', '20', '10', '95', '4', '10', '93', '4', '-9', '91', '2', '98', '-9', '-9', 'I'] \n",
      "-----output \n",
      " [0, 0, 1, 0] \n",
      "\n",
      "----- input \n",
      " ['44', '02', '-9', '-9', '-9', '-9', '-9', '-9', '-9', '-9', '-9', '-9', '-9', '-9', 'W'] \n",
      "-----output \n",
      " [1, 0, 0, 0] \n",
      "\n",
      "----- input \n",
      " ['45', '30', '10', '95', '3', '10', '93', '4', '10', '91', '2', '-9', '-9', '19', 'I'] \n",
      "-----output \n",
      " [0, 0, 1, 0] \n",
      "\n",
      "----- input \n",
      " ['46', '20', '10', '95', '4', '10', '93', '4', '-9', '91', '2', '98', '-9', '-9', 'I'] \n",
      "-----output \n",
      " [0, 0, 1, 0] \n",
      "\n",
      "----- input \n",
      " ['47', '91', '40', '95', '4', '30', '93', '4', '30', '91', '3', '98', '-9', '-9', 'I'] \n",
      "-----output \n",
      " [0, 0, 1, 0] \n",
      "\n",
      "----- input \n",
      " ['48', '02', '-9', '-9', '-9', '-9', '-9', '-9', '-9', '-9', '-9', '-9', '-9', '-9', 'W'] \n",
      "-----output \n",
      " [1, 0, 0, 0] \n",
      "\n",
      "20180410T084537_S1B_AMSR2_Icechart-Greenland-SouthEast.nc\n",
      "open water\n"
     ]
    },
    {
     "data": {
      "image/png": "[encoded data removed]",
      "text/plain": [
       "<Figure size 432x288 with 1 Axes>"
      ]
     },
     "metadata": {
      "needs_background": "light"
     },
     "output_type": "display_data"
    },
    {
     "name": "stdout",
     "output_type": "stream",
     "text": [
      "young ice\n"
     ]
    },
    {
     "data": {
      "image/png": "[encoded data removed]",
      "text/plain": [
       "<Figure size 432x288 with 1 Axes>"
      ]
     },
     "metadata": {
      "needs_background": "light"
     },
     "output_type": "display_data"
    },
    {
     "name": "stdout",
     "output_type": "stream",
     "text": [
      "first-year ice\n"
     ]
    },
    {
     "data": {
      "image/png": "[encoded data removed]",
      "text/plain": [
       "<Figure size 432x288 with 1 Axes>"
      ]
     },
     "metadata": {
      "needs_background": "light"
     },
     "output_type": "display_data"
    },
    {
     "name": "stdout",
     "output_type": "stream",
     "text": [
      "multi-year ice\n"
     ]
    },
    {
     "data": {
      "image/png": "[encoded data removed]",
      "text/plain": [
       "<Figure size 432x288 with 1 Axes>"
      ]
     },
     "metadata": {
      "needs_background": "light"
     },
     "output_type": "display_data"
    },
    {
     "name": "stdout",
     "output_type": "stream",
     "text": [
      "----- input \n",
      " ['1', '40', '10', '87', '3', '30', '83', '2', '-9', '-9', '-9', '98', '-9', '19', 'I'] \n",
      "-----output \n",
      " [0, 1, 0, 0] \n",
      "\n",
      "----- input \n",
      " ['2', '90', '10', '95', '4', '50', '87', '3', '30', '83', '2', '98', '-9', '-9', 'I'] \n",
      "-----output \n",
      " [0, 0, 1, 0] \n",
      "\n",
      "----- input \n",
      " ['3', '91', '20', '95', '4', '50', '87', '3', '30', '83', '2', '98', '-9', '-9', 'I'] \n",
      "-----output \n",
      " [0, 0, 1, 0] \n",
      "\n",
      "----- input \n",
      " ['13', '20', '10', '87', '3', '10', '83', '2', '-9', '-9', '-9', '98', '-9', '19', 'I'] \n",
      "-----output \n",
      " [0, 1, 0, 0] \n",
      "\n",
      "----- input \n",
      " ['29', '02', '-9', '-9', '-9', '-9', '-9', '-9', '-9', '-9', '-9', '-9', '-9', '-9', 'W'] \n",
      "-----output \n",
      " [1, 0, 0, 0] \n",
      "\n",
      "20181227T082113_S1B_AMSR2_Icechart-Greenland-CentralEast.nc\n",
      "open water\n"
     ]
    },
    {
     "data": {
      "image/png": "[encoded data removed]",
      "text/plain": [
       "<Figure size 432x288 with 1 Axes>"
      ]
     },
     "metadata": {
      "needs_background": "light"
     },
     "output_type": "display_data"
    },
    {
     "name": "stdout",
     "output_type": "stream",
     "text": [
      "young ice\n"
     ]
    },
    {
     "data": {
      "image/png": "[encoded data removed]",
      "text/plain": [
       "<Figure size 432x288 with 1 Axes>"
      ]
     },
     "metadata": {
      "needs_background": "light"
     },
     "output_type": "display_data"
    },
    {
     "name": "stdout",
     "output_type": "stream",
     "text": [
      "first-year ice\n"
     ]
    },
    {
     "data": {
      "image/png": "[encoded data removed]",
      "text/plain": [
       "<Figure size 432x288 with 1 Axes>"
      ]
     },
     "metadata": {
      "needs_background": "light"
     },
     "output_type": "display_data"
    },
    {
     "name": "stdout",
     "output_type": "stream",
     "text": [
      "multi-year ice\n"
     ]
    },
    {
     "data": {
      "image/png": "[encoded data removed]",
      "text/plain": [
       "<Figure size 432x288 with 1 Axes>"
      ]
     },
     "metadata": {
      "needs_background": "light"
     },
     "output_type": "display_data"
    },
    {
     "name": "stdout",
     "output_type": "stream",
     "text": [
      "----- input \n",
      " ['10', '92', '30', '91', '8', '70', '87', '-9', '-9', '-9', '-9', '-9', '-9', '-9', 'I'] \n",
      "-----output \n",
      " [0, 0, 1, 0] \n",
      "\n",
      "----- input \n",
      " ['19', '92', '20', '87', '8', '80', '83', '-9', '-9', '-9', '-9', '-9', '-9', '-9', 'I'] \n",
      "-----output \n",
      " [0, 1, 0, 0] \n",
      "\n",
      "----- input \n",
      " ['20', '92', '20', '87', '8', '70', '83', '-9', '10', '82', '-9', '-9', '-9', '-9', 'I'] \n",
      "-----output \n",
      " [0, 1, 0, 0] \n",
      "\n",
      "----- input \n",
      " ['21', '90', '20', '91', '5', '50', '87', '5', '20', '83', '4', '-9', '-9', '-9', 'I'] \n",
      "-----output \n",
      " [0, 0, 1, 0] \n",
      "\n",
      "----- input \n",
      " ['22', '10', '-9', '87', '4', '-9', '-9', '-9', '-9', '-9', '-9', '-9', '-9', '19', 'I'] \n",
      "-----output \n",
      " [0, 0, 1, 0] \n",
      "\n",
      "----- input \n",
      " ['23', '92', '20', '87', '8', '70', '83', '-9', '10', '82', '-9', '-9', '-9', '-9', 'I'] \n",
      "-----output \n",
      " [0, 1, 0, 0] \n",
      "\n",
      "----- input \n",
      " ['24', '70', '30', '83', '3', '30', '82', '3', '10', '81', '99', '-9', '-9', '-9', 'I'] \n",
      "-----output \n",
      " [0, 1, 0, 0] \n",
      "\n",
      "----- input \n",
      " ['25', '30', '20', '83', '4', '10', '82', '2', '-9', '-9', '-9', '-9', '-9', '-9', 'I'] \n",
      "-----output \n",
      " [0, 1, 0, 0] \n",
      "\n",
      "----- input \n",
      " ['26', '92', '20', '87', '8', '80', '83', '-9', '-9', '-9', '-9', '-9', '-9', '-9', 'I'] \n",
      "-----output \n",
      " [0, 1, 0, 0] \n",
      "\n",
      "----- input \n",
      " ['27', '90', '-9', '83', '5', '-9', '-9', '-9', '-9', '-9', '-9', '-9', '-9', '-9', 'I'] \n",
      "-----output \n",
      " [0, 1, 0, 0] \n",
      "\n",
      "----- input \n",
      " ['28', '92', '20', '87', '8', '80', '83', '-9', '-9', '-9', '-9', '-9', '-9', '-9', 'I'] \n",
      "-----output \n",
      " [0, 1, 0, 0] \n",
      "\n",
      "----- input \n",
      " ['29', '92', '20', '87', '8', '80', '83', '-9', '-9', '-9', '-9', '-9', '-9', '-9', 'I'] \n",
      "-----output \n",
      " [0, 1, 0, 0] \n",
      "\n",
      "----- input \n",
      " ['30', '50', '10', '83', '3', '30', '82', '3', '10', '81', '99', '-9', '-9', '-9', 'I'] \n",
      "-----output \n",
      " [0, 1, 0, 0] \n",
      "\n",
      "----- input \n",
      " ['31', '90', '-9', '83', '5', '-9', '-9', '-9', '-9', '-9', '-9', '-9', '-9', '-9', 'I'] \n",
      "-----output \n",
      " [0, 1, 0, 0] \n",
      "\n",
      "----- input \n",
      " ['32', '91', '-9', '83', '5', '-9', '-9', '-9', '-9', '-9', '-9', '-9', '-9', '-9', 'I'] \n",
      "-----output \n",
      " [0, 1, 0, 0] \n",
      "\n",
      "----- input \n",
      " ['33', '02', '-9', '-9', '-9', '-9', '-9', '-9', '-9', '-9', '-9', '-9', '-9', '-9', 'W'] \n",
      "-----output \n",
      " [1, 0, 0, 0] \n",
      "\n",
      "----- input \n",
      " ['34', '92', '20', '87', '8', '80', '83', '-9', '-9', '-9', '-9', '-9', '-9', '-9', 'I'] \n",
      "-----output \n",
      " [0, 1, 0, 0] \n",
      "\n",
      "----- input \n",
      " ['35', '50', '10', '83', '3', '30', '82', '3', '10', '81', '99', '-9', '-9', '-9', 'I'] \n",
      "-----output \n",
      " [0, 1, 0, 0] \n",
      "\n",
      "----- input \n",
      " ['36', '92', '20', '87', '8', '80', '83', '-9', '-9', '-9', '-9', '-9', '-9', '-9', 'I'] \n",
      "-----output \n",
      " [0, 1, 0, 0] \n",
      "\n",
      "----- input \n",
      " ['37', '60', '20', '83', '3', '30', '82', '3', '10', '81', '99', '-9', '-9', '-9', 'I'] \n",
      "-----output \n",
      " [0, 1, 0, 0] \n",
      "\n",
      "----- input \n",
      " ['38', '60', '40', '87', '5', '20', '83', '4', '-9', '-9', '-9', '91', '-9', '-9', 'I'] \n",
      "-----output \n",
      " [0, 0, 1, 0] \n",
      "\n",
      "----- input \n",
      " ['39', '20', '-9', '83', '3', '-9', '-9', '-9', '-9', '-9', '-9', '-9', '-9', '-9', 'I'] \n",
      "-----output \n",
      " [0, 1, 0, 0] \n",
      "\n",
      "----- input \n",
      " ['40', '20', '10', '87', '5', '10', '83', '4', '-9', '-9', '-9', '91', '-9', '-9', 'I'] \n",
      "-----output \n",
      " [0, 1, 0, 0] \n",
      "\n",
      "----- input \n",
      " ['41', '92', '20', '87', '8', '80', '83', '-9', '-9', '-9', '-9', '-9', '-9', '-9', 'I'] \n",
      "-----output \n",
      " [0, 1, 0, 0] \n",
      "\n",
      "----- input \n",
      " ['42', '92', '20', '87', '8', '80', '83', '-9', '-9', '-9', '-9', '-9', '-9', '-9', 'I'] \n",
      "-----output \n",
      " [0, 1, 0, 0] \n",
      "\n",
      "----- input \n",
      " ['43', '92', '20', '87', '8', '80', '83', '-9', '-9', '-9', '-9', '-9', '-9', '-9', 'I'] \n",
      "-----output \n",
      " [0, 1, 0, 0] \n",
      "\n",
      "----- input \n",
      " ['44', '92', '20', '87', '8', '80', '83', '-9', '-9', '-9', '-9', '-9', '-9', '-9', 'I'] \n",
      "-----output \n",
      " [0, 1, 0, 0] \n",
      "\n",
      "----- input \n",
      " ['45', '92', '80', '83', '8', '20', '82', '-9', '-9', '-9', '-9', '-9', '-9', '-9', 'I'] \n",
      "-----output \n",
      " [0, 1, 0, 0] \n",
      "\n",
      "----- input \n",
      " ['46', '92', '20', '87', '8', '80', '83', '-9', '-9', '-9', '-9', '-9', '-9', '-9', 'I'] \n",
      "-----output \n",
      " [0, 1, 0, 0] \n",
      "\n",
      "----- input \n",
      " ['47', '91', '90', '83', '8', '10', '82', '-9', '-9', '-9', '-9', '-9', '-9', '-9', 'I'] \n",
      "-----output \n",
      " [0, 1, 0, 0] \n",
      "\n",
      "----- input \n",
      " ['48', '92', '20', '87', '8', '80', '83', '-9', '-9', '-9', '-9', '-9', '-9', '-9', 'I'] \n",
      "-----output \n",
      " [0, 1, 0, 0] \n",
      "\n",
      "----- input \n",
      " ['49', '80', '30', '83', '3', '40', '82', '3', '10', '81', '99', '-9', '-9', '-9', 'I'] \n",
      "-----output \n",
      " [0, 1, 0, 0] \n",
      "\n",
      "----- input \n",
      " ['50', '92', '20', '87', '8', '80', '83', '-9', '-9', '-9', '-9', '-9', '-9', '-9', 'I'] \n",
      "-----output \n",
      " [0, 1, 0, 0] \n",
      "\n",
      "----- input \n",
      " ['51', '92', '20', '87', '8', '80', '83', '-9', '-9', '-9', '-9', '-9', '-9', '-9', 'I'] \n",
      "-----output \n",
      " [0, 1, 0, 0] \n",
      "\n",
      "----- input \n",
      " ['52', '92', '20', '87', '8', '80', '83', '-9', '-9', '-9', '-9', '-9', '-9', '-9', 'I'] \n",
      "-----output \n",
      " [0, 1, 0, 0] \n",
      "\n",
      "----- input \n",
      " ['53', '92', '20', '87', '8', '80', '83', '-9', '-9', '-9', '-9', '-9', '-9', '-9', 'I'] \n",
      "-----output \n",
      " [0, 1, 0, 0] \n",
      "\n",
      "----- input \n",
      " ['54', '80', '50', '91', '7', '30', '87', '6', '-9', '-9', '-9', '-9', '-9', '-9', 'I'] \n",
      "-----output \n",
      " [0, 0, 1, 0] \n",
      "\n",
      "----- input \n",
      " ['55', '90', '40', '91', '6', '40', '87', '6', '10', '83', '4', '-9', '-9', '-9', 'I'] \n",
      "-----output \n",
      " [0, 0, 1, 0] \n",
      "\n",
      "----- input \n",
      " ['56', '1', '-9', '87', '3', '-9', '-9', '-9', '-9', '-9', '-9', '-9', '-9', '-9', 'I'] \n",
      "-----output \n",
      " [1, 0, 0, 0] \n",
      "\n",
      "----- input \n",
      " ['57', '91', '10', '91', '6', '70', '87', '4', '20', '83', '3', '98', '-9', '-9', 'I'] \n",
      "-----output \n",
      " [0, 0, 1, 0] \n",
      "\n",
      "----- input \n",
      " ['58', '10', '-9', '87', '4', '-9', '-9', '-9', '-9', '-9', '-9', '-9', '-9', '-9', 'I'] \n",
      "-----output \n",
      " [0, 0, 1, 0] \n",
      "\n",
      "----- input \n",
      " ['59', '92', '20', '87', '8', '80', '83', '-9', '-9', '-9', '-9', '-9', '-9', '-9', 'I'] \n",
      "-----output \n",
      " [0, 1, 0, 0] \n",
      "\n",
      "20190301T101628_S1A_AMSR2_Icechart-Greenland-SouthWest.nc\n",
      "open water\n"
     ]
    },
    {
     "data": {
      "image/png": "[encoded data removed]",
      "text/plain": [
       "<Figure size 432x288 with 1 Axes>"
      ]
     },
     "metadata": {
      "needs_background": "light"
     },
     "output_type": "display_data"
    },
    {
     "name": "stdout",
     "output_type": "stream",
     "text": [
      "young ice\n"
     ]
    },
    {
     "data": {
      "image/png": "[encoded data removed]",
      "text/plain": [
       "<Figure size 432x288 with 1 Axes>"
      ]
     },
     "metadata": {
      "needs_background": "light"
     },
     "output_type": "display_data"
    },
    {
     "name": "stdout",
     "output_type": "stream",
     "text": [
      "first-year ice\n"
     ]
    },
    {
     "data": {
      "image/png": "[encoded data removed]",
      "text/plain": [
       "<Figure size 432x288 with 1 Axes>"
      ]
     },
     "metadata": {
      "needs_background": "light"
     },
     "output_type": "display_data"
    },
    {
     "name": "stdout",
     "output_type": "stream",
     "text": [
      "multi-year ice\n"
     ]
    },
    {
     "data": {
      "image/png": "[encoded data removed]",
      "text/plain": [
       "<Figure size 432x288 with 1 Axes>"
      ]
     },
     "metadata": {
      "needs_background": "light"
     },
     "output_type": "display_data"
    },
    {
     "name": "stdout",
     "output_type": "stream",
     "text": [
      "----- input \n",
      " ['8', '92', '20', '98', '8', '80', '91', '-9', '-9', '-9', '-9', '-9', '-9', '-9', 'I'] \n",
      "-----output \n",
      " [0, 0, 1, 0] \n",
      "\n",
      "----- input \n",
      " ['10', '92', '10', '93', '8', '90', '91', '-9', '-9', '-9', '-9', '98', '-9', '-9', 'I'] \n",
      "-----output \n",
      " [0, 0, 1, 0] \n",
      "\n",
      "----- input \n",
      " ['11', '92', '70', '91', '8', '30', '87', '-9', '-9', '-9', '-9', '98', '-9', '-9', 'I'] \n",
      "-----output \n",
      " [0, 0, 1, 0] \n",
      "\n",
      "----- input \n",
      " ['12', '92', '10', '93', '8', '90', '91', '-9', '-9', '-9', '-9', '98', '-9', '-9', 'I'] \n",
      "-----output \n",
      " [0, 0, 1, 0] \n",
      "\n",
      "----- input \n",
      " ['13', '92', '20', '98', '8', '20', '93', '-9', '60', '91', '-9', '-9', '-9', '-9', 'I'] \n",
      "-----output \n",
      " [0, 0, 1, 0] \n",
      "\n",
      "----- input \n",
      " ['14', '91', '20', '87', '5', '50', '83', '4', '30', '82', '3', '98', '-9', '-9', 'I'] \n",
      "-----output \n",
      " [0, 1, 0, 0] \n",
      "\n",
      "----- input \n",
      " ['15', '91', '80', '91', '7', '20', '87', '6', '-9', '-9', '-9', '-9', '-9', '-9', 'I'] \n",
      "-----output \n",
      " [0, 0, 1, 0] \n",
      "\n",
      "----- input \n",
      " ['16', '91', '50', '91', '6', '30', '87', '5', '20', '83', '4', '98', '-9', '-9', 'I'] \n",
      "-----output \n",
      " [0, 0, 1, 0] \n",
      "\n",
      "----- input \n",
      " ['17', '92', '20', '93', '8', '80', '91', '-9', '-9', '-9', '-9', '98', '-9', '-9', 'I'] \n",
      "-----output \n",
      " [0, 0, 1, 0] \n",
      "\n",
      "----- input \n",
      " ['18', '92', '20', '98', '8', '20', '93', '-9', '60', '91', '-9', '-9', '-9', '-9', 'I'] \n",
      "-----output \n",
      " [0, 0, 1, 0] \n",
      "\n",
      "20190304T103943_S1A_AMSR2_Icechart-Greenland-NorthWest.nc\n",
      "open water\n"
     ]
    },
    {
     "data": {
      "image/png": "[encoded data removed]",
      "text/plain": [
       "<Figure size 432x288 with 1 Axes>"
      ]
     },
     "metadata": {
      "needs_background": "light"
     },
     "output_type": "display_data"
    },
    {
     "name": "stdout",
     "output_type": "stream",
     "text": [
      "young ice\n"
     ]
    },
    {
     "data": {
      "image/png": "[encoded data removed]",
      "text/plain": [
       "<Figure size 432x288 with 1 Axes>"
      ]
     },
     "metadata": {
      "needs_background": "light"
     },
     "output_type": "display_data"
    },
    {
     "name": "stdout",
     "output_type": "stream",
     "text": [
      "first-year ice\n"
     ]
    },
    {
     "data": {
      "image/png": "[encoded data removed]",
      "text/plain": [
       "<Figure size 432x288 with 1 Axes>"
      ]
     },
     "metadata": {
      "needs_background": "light"
     },
     "output_type": "display_data"
    },
    {
     "name": "stdout",
     "output_type": "stream",
     "text": [
      "multi-year ice\n"
     ]
    },
    {
     "data": {
      "image/png": "[encoded data removed]",
      "text/plain": [
       "<Figure size 432x288 with 1 Axes>"
      ]
     },
     "metadata": {
      "needs_background": "light"
     },
     "output_type": "display_data"
    },
    {
     "name": "stdout",
     "output_type": "stream",
     "text": [
      "----- input \n",
      " ['1', '20', '10', '95', '4', '10', '87', '3', '-9', '83', '-9', '98', '-9', '-9', 'I'] \n",
      "-----output \n",
      " [0, 0, 1, 0] \n",
      "\n",
      "----- input \n",
      " ['2', '92', '20', '95', '8', '60', '91', '-9', '20', '83', '-9', '98', '-9', '-9', 'I'] \n",
      "-----output \n",
      " [0, 0, 1, 0] \n",
      "\n",
      "----- input \n",
      " ['3', '92', '20', '95', '8', '60', '91', '-9', '20', '83', '-9', '98', '-9', '-9', 'I'] \n",
      "-----output \n",
      " [0, 0, 1, 0] \n",
      "\n",
      "----- input \n",
      " ['4', '02', '-9', '-9', '-9', '-9', '-9', '-9', '-9', '-9', '-9', '-9', '-9', '-9', 'W'] \n",
      "-----output \n",
      " [1, 0, 0, 0] \n",
      "\n",
      "----- input \n",
      " ['5', '20', '10', '95', '4', '10', '87', '3', '-9', '83', '-9', '98', '-9', '-9', 'I'] \n",
      "-----output \n",
      " [0, 0, 1, 0] \n",
      "\n",
      "----- input \n",
      " ['6', '30', '10', '95', '4', '10', '91', '3', '10', '87', '3', '98', '-9', '19', 'I'] \n",
      "-----output \n",
      " [0, 0, 1, 0] \n",
      "\n",
      "----- input \n",
      " ['7', '92', '-9', '87', '8', '-9', '-9', '-9', '-9', '-9', '-9', '98', '-9', '-9', 'I'] \n",
      "-----output \n",
      " [0, 0, 1, 0] \n",
      "\n",
      "----- input \n",
      " ['8', '20', '10', '95', '4', '10', '87', '3', '-9', '83', '-9', '98', '-9', '-9', 'I'] \n",
      "-----output \n",
      " [0, 0, 1, 0] \n",
      "\n",
      "----- input \n",
      " ['9', '20', '10', '95', '4', '10', '87', '3', '-9', '83', '-9', '98', '-9', '-9', 'I'] \n",
      "-----output \n",
      " [0, 0, 1, 0] \n",
      "\n",
      "----- input \n",
      " ['10', '91', '10', '98', '10', '90', '87', '5', '-9', '-9', '-9', '-9', '-9', '-9', 'I'] \n",
      "-----output \n",
      " [0, 0, 1, 0] \n",
      "\n",
      "----- input \n",
      " ['11', '10', '-9', '95', '4', '-9', '-9', '3', '-9', '-9', '-9', '98', '-9', '19', 'I'] \n",
      "-----output \n",
      " [0, 0, 0, 1] \n",
      "\n",
      "----- input \n",
      " ['12', '91', '50', '95', '4', '30', '91', '4', '20', '87', '3', '98', '-9', '-9', 'I'] \n",
      "-----output \n",
      " [0, 0, 1, 0] \n",
      "\n",
      "----- input \n",
      " ['13', '1', '-9', '98', '10', '-9', '-9', '-9', '-9', '-9', '-9', '95', '-9', '-9', 'I'] \n",
      "-----output \n",
      " [1, 0, 0, 0] \n",
      "\n",
      "----- input \n",
      " ['14', '92', '10', '95', '8', '80', '87', '-9', '10', '83', '-9', '-9', '-9', '-9', 'I'] \n",
      "-----output \n",
      " [0, 0, 1, 0] \n",
      "\n",
      "----- input \n",
      " ['15', '10', '-9', '87', '3', '-9', '-9', '-9', '-9', '-9', '-9', '98', '-9', '19', 'I'] \n",
      "-----output \n",
      " [0, 0, 1, 0] \n",
      "\n",
      "----- input \n",
      " ['16', '20', '10', '95', '4', '10', '87', '3', '-9', '83', '-9', '98', '-9', '-9', 'I'] \n",
      "-----output \n",
      " [0, 0, 1, 0] \n",
      "\n",
      "----- input \n",
      " ['18', '91', '10', '98', '10', '90', '87', '5', '-9', '-9', '-9', '-9', '-9', '-9', 'I'] \n",
      "-----output \n",
      " [0, 0, 1, 0] \n",
      "\n",
      "----- input \n",
      " ['19', '20', '10', '95', '4', '10', '87', '3', '-9', '83', '-9', '98', '-9', '-9', 'I'] \n",
      "-----output \n",
      " [0, 0, 1, 0] \n",
      "\n",
      "----- input \n",
      " ['20', '91', '50', '95', '4', '30', '91', '4', '20', '87', '3', '98', '-9', '-9', 'I'] \n",
      "-----output \n",
      " [0, 0, 1, 0] \n",
      "\n",
      "----- input \n",
      " ['21', '02', '-9', '-9', '-9', '-9', '-9', '-9', '-9', '-9', '-9', '-9', '-9', '-9', 'W'] \n",
      "-----output \n",
      " [1, 0, 0, 0] \n",
      "\n",
      "----- input \n",
      " ['22', '92', '20', '91', '4', '80', '91', '3', '-9', '83', '3', '98', '-9', '-9', 'I'] \n",
      "-----output \n",
      " [0, 0, 1, 0] \n",
      "\n",
      "----- input \n",
      " ['23', '92', '90', '87', '8', '10', '83', '-9', '-9', '-9', '-9', '98', '-9', '-9', 'I'] \n",
      "-----output \n",
      " [0, 0, 1, 0] \n",
      "\n",
      "----- input \n",
      " ['24', '90', '80', '87', '8', '10', '83', '-9', '-9', '-9', '-9', '98', '-9', '-9', 'I'] \n",
      "-----output \n",
      " [0, 0, 1, 0] \n",
      "\n",
      "----- input \n",
      " ['25', '92', '90', '87', '8', '10', '83', '-9', '-9', '-9', '-9', '98', '-9', '-9', 'I'] \n",
      "-----output \n",
      " [0, 0, 1, 0] \n",
      "\n",
      "----- input \n",
      " ['26', '92', '90', '87', '8', '10', '83', '-9', '-9', '-9', '-9', '98', '-9', '-9', 'I'] \n",
      "-----output \n",
      " [0, 0, 1, 0] \n",
      "\n",
      "----- input \n",
      " ['27', '1', '-9', '98', '10', '-9', '-9', '-9', '-9', '-9', '-9', '87', '-9', '-9', 'I'] \n",
      "-----output \n",
      " [1, 0, 0, 0] \n",
      "\n",
      "----- input \n",
      " ['29', '10', '-9', '87', '3', '-9', '-9', '-9', '-9', '-9', '-9', '98', '-9', '19', 'I'] \n",
      "-----output \n",
      " [0, 0, 1, 0] \n",
      "\n",
      "----- input \n",
      " ['30', '92', '90', '87', '8', '10', '83', '-9', '-9', '-9', '-9', '98', '-9', '-9', 'I'] \n",
      "-----output \n",
      " [0, 0, 1, 0] \n",
      "\n",
      "----- input \n",
      " ['35', '92', '10', '98', '10', '80', '87', '5', '10', '83', '4', '-9', '-9', '-9', 'I'] \n",
      "-----output \n",
      " [0, 0, 1, 0] \n",
      "\n",
      "----- input \n",
      " ['37', '90', '80', '87', '8', '10', '83', '-9', '-9', '-9', '-9', '98', '-9', '-9', 'I'] \n",
      "-----output \n",
      " [0, 0, 1, 0] \n",
      "\n",
      "----- input \n",
      " ['39', '91', '50', '95', '4', '30', '91', '4', '20', '87', '3', '98', '-9', '-9', 'I'] \n",
      "-----output \n",
      " [0, 0, 1, 0] \n",
      "\n",
      "----- input \n",
      " ['41', '92', '10', '98', '10', '80', '87', '5', '10', '83', '4', '-9', '-9', '-9', 'I'] \n",
      "-----output \n",
      " [0, 0, 1, 0] \n",
      "\n",
      "----- input \n",
      " ['45', '92', '10', '98', '10', '80', '87', '5', '10', '83', '4', '-9', '-9', '-9', 'I'] \n",
      "-----output \n",
      " [0, 0, 1, 0] \n",
      "\n",
      "----- input \n",
      " ['49', '50', '20', '98', '10', '10', '87', '4', '10', '83', '3', '-9', '-9', '19', 'I'] \n",
      "-----output \n",
      " [0, 1, 0, 0] \n",
      "\n",
      "----- input \n",
      " ['55', '90', '60', '98', '10', '20', '87', '5', '10', '83', '3', '-9', '-9', '-9', 'I'] \n",
      "-----output \n",
      " [0, 0, 1, 0] \n",
      "\n",
      "20190404T201246_S1A_AMSR2_Icechart-Greenland-SouthEast.nc\n",
      "open water\n"
     ]
    },
    {
     "data": {
      "image/png": "[encoded data removed]",
      "text/plain": [
       "<Figure size 432x288 with 1 Axes>"
      ]
     },
     "metadata": {
      "needs_background": "light"
     },
     "output_type": "display_data"
    },
    {
     "name": "stdout",
     "output_type": "stream",
     "text": [
      "young ice\n"
     ]
    },
    {
     "data": {
      "image/png": "[encoded data removed]",
      "text/plain": [
       "<Figure size 432x288 with 1 Axes>"
      ]
     },
     "metadata": {
      "needs_background": "light"
     },
     "output_type": "display_data"
    },
    {
     "name": "stdout",
     "output_type": "stream",
     "text": [
      "first-year ice\n"
     ]
    },
    {
     "data": {
      "image/png": "[encoded data removed]",
      "text/plain": [
       "<Figure size 432x288 with 1 Axes>"
      ]
     },
     "metadata": {
      "needs_background": "light"
     },
     "output_type": "display_data"
    },
    {
     "name": "stdout",
     "output_type": "stream",
     "text": [
      "multi-year ice\n"
     ]
    },
    {
     "data": {
      "image/png": "[encoded data removed]",
      "text/plain": [
       "<Figure size 432x288 with 1 Axes>"
      ]
     },
     "metadata": {
      "needs_background": "light"
     },
     "output_type": "display_data"
    },
    {
     "name": "stdout",
     "output_type": "stream",
     "text": [
      "----- input \n",
      " ['23', '92', '20', '98', '8', '70', '93', '-9', '10', '91', '-9', '-9', '-9', '-9', 'I'] \n",
      "-----output \n",
      " [0, 0, 1, 0] \n",
      "\n",
      "----- input \n",
      " ['24', '92', '10', '98', '8', '70', '93', '-9', '20', '91', '-9', '-9', '-9', '-9', 'I'] \n",
      "-----output \n",
      " [0, 0, 1, 0] \n",
      "\n",
      "----- input \n",
      " ['25', '92', '20', '98', '8', '70', '93', '-9', '10', '91', '-9', '-9', '-9', '-9', 'I'] \n",
      "-----output \n",
      " [0, 0, 1, 0] \n",
      "\n",
      "----- input \n",
      " ['26', '92', '30', '98', '8', '60', '93', '-9', '10', '91', '-9', '-9', '-9', '-9', 'I'] \n",
      "-----output \n",
      " [0, 0, 1, 0] \n",
      "\n",
      "----- input \n",
      " ['27', '91', '20', '95', '6', '50', '93', '6', '30', '91', '5', '98', '-9', '-9', 'I'] \n",
      "-----output \n",
      " [0, 0, 1, 0] \n",
      "\n",
      "----- input \n",
      " ['28', '92', '-9', '93', '8', '-9', '-9', '-9', '-9', '-9', '-9', '95', '-9', '-9', 'I'] \n",
      "-----output \n",
      " [0, 0, 1, 0] \n",
      "\n",
      "----- input \n",
      " ['29', '92', '50', '95', '8', '40', '91', '-9', '20', '87', '-9', '98', '-9', '-9', 'I'] \n",
      "-----output \n",
      " [0, 0, 1, 0] \n",
      "\n",
      "----- input \n",
      " ['30', '92', '-9', '93', '8', '-9', '-9', '-9', '-9', '-9', '-9', '95', '-9', '-9', 'I'] \n",
      "-----output \n",
      " [0, 0, 1, 0] \n",
      "\n",
      "----- input \n",
      " ['31', '92', '-9', '93', '8', '-9', '-9', '-9', '-9', '-9', '-9', '95', '-9', '-9', 'I'] \n",
      "-----output \n",
      " [0, 0, 1, 0] \n",
      "\n",
      "----- input \n",
      " ['32', '92', '50', '95', '8', '40', '91', '-9', '20', '87', '-9', '98', '-9', '-9', 'I'] \n",
      "-----output \n",
      " [0, 0, 1, 0] \n",
      "\n",
      "----- input \n",
      " ['33', '90', '60', '95', '7', '20', '93', '6', '10', '91', '5', '98', '-9', '-9', 'I'] \n",
      "-----output \n",
      " [0, 0, 0, 1] \n",
      "\n",
      "----- input \n",
      " ['34', '91', '40', '95', '5', '40', '91', '4', '20', '87', '3', '98', '-9', '-9', 'I'] \n",
      "-----output \n",
      " [0, 0, 1, 0] \n",
      "\n",
      "----- input \n",
      " ['35', '30', '10', '93', '5', '10', '91', '4', '10', '87', '3', '98', '-9', '19', 'I'] \n",
      "-----output \n",
      " [0, 0, 1, 0] \n",
      "\n",
      "----- input \n",
      " ['36', '02', '-9', '-9', '-9', '-9', '-9', '-9', '-9', '-9', '-9', '-9', '-9', '-9', 'W'] \n",
      "-----output \n",
      " [1, 0, 0, 0] \n",
      "\n",
      "20190509T081206_S1A_AMSR2_Icechart-Greenland-CentralEast.nc\n",
      "open water\n"
     ]
    },
    {
     "data": {
      "image/png": "[encoded data removed]",
      "text/plain": [
       "<Figure size 432x288 with 1 Axes>"
      ]
     },
     "metadata": {
      "needs_background": "light"
     },
     "output_type": "display_data"
    },
    {
     "name": "stdout",
     "output_type": "stream",
     "text": [
      "young ice\n"
     ]
    },
    {
     "data": {
      "image/png": "[encoded data removed]",
      "text/plain": [
       "<Figure size 432x288 with 1 Axes>"
      ]
     },
     "metadata": {
      "needs_background": "light"
     },
     "output_type": "display_data"
    },
    {
     "name": "stdout",
     "output_type": "stream",
     "text": [
      "first-year ice\n"
     ]
    },
    {
     "data": {
      "image/png": "[encoded data removed]",
      "text/plain": [
       "<Figure size 432x288 with 1 Axes>"
      ]
     },
     "metadata": {
      "needs_background": "light"
     },
     "output_type": "display_data"
    },
    {
     "name": "stdout",
     "output_type": "stream",
     "text": [
      "multi-year ice\n"
     ]
    },
    {
     "data": {
      "image/png": "[encoded data removed]",
      "text/plain": [
       "<Figure size 432x288 with 1 Axes>"
      ]
     },
     "metadata": {
      "needs_background": "light"
     },
     "output_type": "display_data"
    },
    {
     "name": "stdout",
     "output_type": "stream",
     "text": [
      "----- input \n",
      " ['1', '20', '10', '93', '4', '10', '91', '4', '-9', '-9', '-9', '95', '-9', '19', 'I'] \n",
      "-----output \n",
      " [0, 0, 1, 0] \n",
      "\n",
      "----- input \n",
      " ['2', '92', '60', '93', '8', '40', '91', '-9', '-9', '-9', '-9', '95', '-9', '-9', 'I'] \n",
      "-----output \n",
      " [0, 0, 1, 0] \n",
      "\n",
      "----- input \n",
      " ['3', '92', '60', '93', '8', '40', '91', '-9', '-9', '-9', '-9', '95', '-9', '-9', 'I'] \n",
      "-----output \n",
      " [0, 0, 1, 0] \n",
      "\n",
      "----- input \n",
      " ['4', '50', '20', '95', '4', '20', '93', '4', '10', '91', '3', '98', '-9', '19', 'I'] \n",
      "-----output \n",
      " [0, 0, 1, 0] \n",
      "\n",
      "----- input \n",
      " ['5', '92', '60', '93', '8', '40', '91', '-9', '-9', '-9', '-9', '95', '-9', '-9', 'I'] \n",
      "-----output \n",
      " [0, 0, 1, 0] \n",
      "\n",
      "----- input \n",
      " ['6', '91', '20', '95', '5', '50', '93', '5', '30', '91', '4', '98', '-9', '-9', 'I'] \n",
      "-----output \n",
      " [0, 0, 1, 0] \n",
      "\n",
      "----- input \n",
      " ['7', '92', '60', '93', '8', '40', '91', '-9', '-9', '-9', '-9', '95', '-9', '-9', 'I'] \n",
      "-----output \n",
      " [0, 0, 1, 0] \n",
      "\n",
      "----- input \n",
      " ['8', '92', '60', '93', '8', '40', '91', '-9', '-9', '-9', '-9', '95', '-9', '-9', 'I'] \n",
      "-----output \n",
      " [0, 0, 1, 0] \n",
      "\n",
      "----- input \n",
      " ['9', '92', '60', '93', '8', '40', '91', '-9', '-9', '-9', '-9', '95', '-9', '-9', 'I'] \n",
      "-----output \n",
      " [0, 0, 1, 0] \n",
      "\n",
      "----- input \n",
      " ['10', '50', '20', '95', '4', '20', '93', '4', '10', '91', '3', '98', '-9', '19', 'I'] \n",
      "-----output \n",
      " [0, 0, 1, 0] \n",
      "\n",
      "----- input \n",
      " ['11', '92', '60', '93', '8', '40', '91', '-9', '-9', '-9', '-9', '95', '-9', '-9', 'I'] \n",
      "-----output \n",
      " [0, 0, 1, 0] \n",
      "\n",
      "----- input \n",
      " ['12', '92', '60', '93', '8', '40', '91', '-9', '-9', '-9', '-9', '95', '-9', '-9', 'I'] \n",
      "-----output \n",
      " [0, 0, 1, 0] \n",
      "\n",
      "----- input \n",
      " ['13', '92', '20', '98', '8', '80', '91', '-9', '-9', '-9', '-9', '-9', '-9', '-9', 'I'] \n",
      "-----output \n",
      " [0, 0, 1, 0] \n",
      "\n",
      "----- input \n",
      " ['14', '91', '50', '95', '6', '40', '93', '5', '10', '91', '4', '98', '-9', '-9', 'I'] \n",
      "-----output \n",
      " [0, 0, 1, 0] \n",
      "\n",
      "----- input \n",
      " ['15', '50', '20', '95', '5', '20', '93', '4', '10', '91', '3', '98', '-9', '19', 'I'] \n",
      "-----output \n",
      " [0, 0, 1, 0] \n",
      "\n",
      "----- input \n",
      " ['16', '92', '20', '98', '8', '70', '93', '-9', '10', '91', '-9', '-9', '-9', '-9', 'I'] \n",
      "-----output \n",
      " [0, 0, 1, 0] \n",
      "\n",
      "----- input \n",
      " ['17', '92', '10', '98', '8', '70', '93', '-9', '20', '91', '-9', '-9', '-9', '-9', 'I'] \n",
      "-----output \n",
      " [0, 0, 1, 0] \n",
      "\n",
      "----- input \n",
      " ['18', '92', '80', '87', '8', '20', '83', '-9', '-9', '-9', '-9', '95', '-9', '-9', 'I'] \n",
      "-----output \n",
      " [0, 0, 1, 0] \n",
      "\n",
      "----- input \n",
      " ['19', '90', '40', '93', '6', '30', '91', '6', '20', '87', '4', '95', '-9', '-9', 'I'] \n",
      "-----output \n",
      " [0, 0, 1, 0] \n",
      "\n",
      "----- input \n",
      " ['21', '92', '70', '93', '8', '30', '91', '-9', '-9', '-9', '-9', '98', '-9', '-9', 'I'] \n",
      "-----output \n",
      " [0, 0, 1, 0] \n",
      "\n",
      "----- input \n",
      " ['22', '90', '40', '95', '5', '30', '91', '4', '20', '87', '3', '98', '-9', '-9', 'I'] \n",
      "-----output \n",
      " [0, 0, 1, 0] \n",
      "\n",
      "----- input \n",
      " ['23', '92', '20', '98', '8', '70', '93', '-9', '10', '91', '-9', '-9', '-9', '-9', 'I'] \n",
      "-----output \n",
      " [0, 0, 1, 0] \n",
      "\n",
      "----- input \n",
      " ['24', '92', '10', '98', '8', '70', '93', '-9', '20', '91', '-9', '-9', '-9', '-9', 'I'] \n",
      "-----output \n",
      " [0, 0, 1, 0] \n",
      "\n",
      "----- input \n",
      " ['27', '91', '20', '95', '6', '50', '93', '6', '30', '91', '5', '98', '-9', '-9', 'I'] \n",
      "-----output \n",
      " [0, 0, 1, 0] \n",
      "\n",
      "----- input \n",
      " ['29', '92', '50', '95', '8', '40', '91', '-9', '20', '87', '-9', '98', '-9', '-9', 'I'] \n",
      "-----output \n",
      " [0, 0, 1, 0] \n",
      "\n",
      "----- input \n",
      " ['34', '91', '40', '95', '5', '40', '91', '4', '20', '87', '3', '98', '-9', '-9', 'I'] \n",
      "-----output \n",
      " [0, 0, 1, 0] \n",
      "\n",
      "----- input \n",
      " ['35', '30', '10', '93', '5', '10', '91', '4', '10', '87', '3', '98', '-9', '19', 'I'] \n",
      "-----output \n",
      " [0, 0, 1, 0] \n",
      "\n",
      "----- input \n",
      " ['36', '02', '-9', '-9', '-9', '-9', '-9', '-9', '-9', '-9', '-9', '-9', '-9', '-9', 'W'] \n",
      "-----output \n",
      " [1, 0, 0, 0] \n",
      "\n",
      "20190509T081306_S1A_AMSR2_Icechart-Greenland-CentralEast.nc\n",
      "open water\n"
     ]
    },
    {
     "data": {
      "image/png": "[encoded data removed]",
      "text/plain": [
       "<Figure size 432x288 with 1 Axes>"
      ]
     },
     "metadata": {
      "needs_background": "light"
     },
     "output_type": "display_data"
    },
    {
     "name": "stdout",
     "output_type": "stream",
     "text": [
      "young ice\n"
     ]
    },
    {
     "data": {
      "image/png": "[encoded data removed]",
      "text/plain": [
       "<Figure size 432x288 with 1 Axes>"
      ]
     },
     "metadata": {
      "needs_background": "light"
     },
     "output_type": "display_data"
    },
    {
     "name": "stdout",
     "output_type": "stream",
     "text": [
      "first-year ice\n"
     ]
    },
    {
     "data": {
      "image/png": "[encoded data removed]",
      "text/plain": [
       "<Figure size 432x288 with 1 Axes>"
      ]
     },
     "metadata": {
      "needs_background": "light"
     },
     "output_type": "display_data"
    },
    {
     "name": "stdout",
     "output_type": "stream",
     "text": [
      "multi-year ice\n"
     ]
    },
    {
     "data": {
      "image/png": "[encoded data removed]",
      "text/plain": [
       "<Figure size 432x288 with 1 Axes>"
      ]
     },
     "metadata": {
      "needs_background": "light"
     },
     "output_type": "display_data"
    },
    {
     "name": "stdout",
     "output_type": "stream",
     "text": [
      "----- input \n",
      " ['1', '91', '40', '91', '8', '60', '87', '-9', '-9', '-9', '-9', '-9', '-9', '-9', 'I'] \n",
      "-----output \n",
      " [0, 0, 1, 0] \n",
      "\n",
      "----- input \n",
      " ['2', '80', '30', '95', '4', '30', '93', '3', '20', '91', '3', '98', '-9', '-9', 'I'] \n",
      "-----output \n",
      " [0, 0, 1, 0] \n",
      "\n",
      "----- input \n",
      " ['4', '02', '-9', '-9', '-9', '-9', '-9', '-9', '-9', '-9', '-9', '-9', '-9', '-9', 'W'] \n",
      "-----output \n",
      " [1, 0, 0, 0] \n",
      "\n",
      "----- input \n",
      " ['5', '70', '20', '95', '4', '30', '93', '3', '20', '91', '3', '98', '-9', '-9', 'I'] \n",
      "-----output \n",
      " [0, 0, 1, 0] \n",
      "\n",
      "----- input \n",
      " ['6', '91', '50', '95', '5', '30', '93', '4', '20', '91', '3', '98', '-9', '-9', 'I'] \n",
      "-----output \n",
      " [0, 0, 1, 0] \n",
      "\n",
      "----- input \n",
      " ['7', '80', '10', '98', '10', '30', '95', '4', '40', '93', '4', '-9', '-9', '-9', 'I'] \n",
      "-----output \n",
      " [0, 0, 1, 0] \n",
      "\n",
      "----- input \n",
      " ['8', '50', '20', '98', '10', '10', '95', '4', '20', '91', '4', '-9', '-9', '-9', 'I'] \n",
      "-----output \n",
      " [0, 0, 1, 0] \n",
      "\n",
      "----- input \n",
      " ['9', '20', '10', '95', '5', '10', '93', '4', '-9', '-9', '-9', '98', '-9', '-9', 'I'] \n",
      "-----output \n",
      " [0, 0, 1, 0] \n",
      "\n",
      "----- input \n",
      " ['10', '91', '40', '95', '5', '40', '93', '4', '20', '91', '3', '98', '-9', '-9', 'I'] \n",
      "-----output \n",
      " [0, 0, 1, 0] \n",
      "\n",
      "----- input \n",
      " ['11', '92', '10', '95', '8', '60', '91', '-9', '30', '83', '-9', '98', '-9', '-9', 'I'] \n",
      "-----output \n",
      " [0, 0, 1, 0] \n",
      "\n",
      "----- input \n",
      " ['12', '80', '40', '95', '5', '30', '93', '4', '10', '91', '3', '98', '-9', '-9', 'I'] \n",
      "-----output \n",
      " [0, 0, 1, 0] \n",
      "\n",
      "----- input \n",
      " ['13', '40', '10', '95', '3', '10', '93', '3', '20', '91', '2', '98', '-9', '-9', 'I'] \n",
      "-----output \n",
      " [0, 0, 1, 0] \n",
      "\n",
      "----- input \n",
      " ['14', '80', '40', '95', '5', '30', '93', '4', '10', '91', '3', '98', '-9', '-9', 'I'] \n",
      "-----output \n",
      " [0, 0, 1, 0] \n",
      "\n",
      "----- input \n",
      " ['15', '91', '40', '95', '5', '40', '93', '4', '20', '91', '3', '98', '-9', '-9', 'I'] \n",
      "-----output \n",
      " [0, 0, 1, 0] \n",
      "\n",
      "----- input \n",
      " ['16', '90', '10', '95', '7', '40', '93', '6', '40', '91', '5', '98', '-9', '-9', 'I'] \n",
      "-----output \n",
      " [0, 0, 1, 0] \n",
      "\n",
      "----- input \n",
      " ['17', '30', '10', '95', '4', '10', '91', '3', '10', '87', '3', '98', '-9', '-9', 'I'] \n",
      "-----output \n",
      " [0, 0, 1, 0] \n",
      "\n",
      "----- input \n",
      " ['18', '50', '20', '95', '5', '20', '93', '4', '10', '91', '3', '98', '-9', '-9', 'I'] \n",
      "-----output \n",
      " [0, 0, 1, 0] \n",
      "\n",
      "----- input \n",
      " ['19', '91', '90', '87', '4', '10', '83', '3', '-9', '-9', '-9', '98', '-9', '-9', 'I'] \n",
      "-----output \n",
      " [0, 0, 1, 0] \n",
      "\n",
      "----- input \n",
      " ['20', '92', '20', '91', '4', '80', '91', '3', '-9', '83', '3', '98', '-9', '-9', 'I'] \n",
      "-----output \n",
      " [0, 0, 1, 0] \n",
      "\n",
      "----- input \n",
      " ['21', '92', '90', '87', '8', '10', '83', '-9', '-9', '-9', '-9', '98', '-9', '-9', 'I'] \n",
      "-----output \n",
      " [0, 0, 1, 0] \n",
      "\n",
      "----- input \n",
      " ['22', '92', '90', '87', '8', '10', '83', '-9', '-9', '-9', '-9', '98', '-9', '-9', 'I'] \n",
      "-----output \n",
      " [0, 0, 1, 0] \n",
      "\n",
      "----- input \n",
      " ['23', '90', '80', '87', '8', '10', '83', '-9', '-9', '-9', '-9', '98', '-9', '-9', 'I'] \n",
      "-----output \n",
      " [0, 0, 1, 0] \n",
      "\n",
      "----- input \n",
      " ['24', '60', '10', '95', '4', '30', '93', '3', '20', '91', '3', '98', '-9', '-9', 'I'] \n",
      "-----output \n",
      " [0, 0, 1, 0] \n",
      "\n",
      "----- input \n",
      " ['25', '90', '20', '91', '5', '50', '87', '4', '20', '83', '3', '98', '-9', '-9', 'I'] \n",
      "-----output \n",
      " [0, 0, 1, 0] \n",
      "\n",
      "----- input \n",
      " ['26', '91', '90', '87', '8', '10', '83', '-9', '-9', '-9', '-9', '98', '-9', '-9', 'I'] \n",
      "-----output \n",
      " [0, 0, 1, 0] \n",
      "\n",
      "----- input \n",
      " ['27', '30', '20', '93', '3', '10', '91', '3', '-9', '-9', '-9', '98', '-9', '-9', 'I'] \n",
      "-----output \n",
      " [0, 0, 1, 0] \n",
      "\n",
      "----- input \n",
      " ['28', '20', '10', '93', '3', '10', '91', '3', '-9', '-9', '-9', '98', '-9', '-9', 'I'] \n",
      "-----output \n",
      " [0, 0, 1, 0] \n",
      "\n",
      "----- input \n",
      " ['29', '91', '10', '95', '8', '90', '91', '-9', '-9', '-9', '-9', '98', '-9', '-9', 'I'] \n",
      "-----output \n",
      " [0, 0, 1, 0] \n",
      "\n",
      "----- input \n",
      " ['30', '30', '20', '98', '10', '10', '87', '3', '-9', '-9', '-9', '-9', '-9', '-9', 'I'] \n",
      "-----output \n",
      " [0, 0, 1, 0] \n",
      "\n",
      "----- input \n",
      " ['31', '91', '70', '98', '10', '30', '83', '2', '-9', '-9', '-9', '-9', '-9', '-9', 'I'] \n",
      "-----output \n",
      " [0, 1, 0, 0] \n",
      "\n",
      "----- input \n",
      " ['32', '91', '70', '98', '10', '30', '83', '2', '-9', '-9', '-9', '-9', '-9', '-9', 'I'] \n",
      "-----output \n",
      " [0, 1, 0, 0] \n",
      "\n",
      "----- input \n",
      " ['33', '30', '10', '95', '4', '10', '91', '5', '10', '86', '4', '98', '-9', '-9', 'I'] \n",
      "-----output \n",
      " [0, 0, 1, 0] \n",
      "\n",
      "----- input \n",
      " ['34', '91', '30', '98', '8', '70', '87', '-9', '-9', '-9', '-9', '-9', '-9', '-9', 'I'] \n",
      "-----output \n",
      " [0, 0, 1, 0] \n",
      "\n",
      "----- input \n",
      " ['35', '91', '40', '95', '5', '40', '93', '4', '20', '91', '3', '98', '-9', '-9', 'I'] \n",
      "-----output \n",
      " [0, 0, 1, 0] \n",
      "\n",
      "----- input \n",
      " ['36', '91', '40', '95', '5', '50', '93', '6', '10', '91', '4', '98', '-9', '-9', 'I'] \n",
      "-----output \n",
      " [0, 0, 1, 0] \n",
      "\n",
      "----- input \n",
      " ['37', '91', '40', '95', '5', '40', '93', '5', '20', '91', '4', '98', '-9', '-9', 'I'] \n",
      "-----output \n",
      " [0, 0, 1, 0] \n",
      "\n",
      "----- input \n",
      " ['39', '02', '-9', '-9', '-9', '-9', '-9', '-9', '-9', '-9', '-9', '-9', '-9', '-9', 'W'] \n",
      "-----output \n",
      " [1, 0, 0, 0] \n",
      "\n",
      "----- input \n",
      " ['40', '02', '-9', '-9', '-9', '-9', '-9', '-9', '-9', '-9', '-9', '-9', '-9', '-9', 'W'] \n",
      "-----output \n",
      " [1, 0, 0, 0] \n",
      "\n",
      "20190519T194808_S1A_AMSR2_Icechart-Greenland-SouthEast.nc\n",
      "open water\n"
     ]
    },
    {
     "data": {
      "image/png": "[encoded data removed]",
      "text/plain": [
       "<Figure size 432x288 with 1 Axes>"
      ]
     },
     "metadata": {
      "needs_background": "light"
     },
     "output_type": "display_data"
    },
    {
     "name": "stdout",
     "output_type": "stream",
     "text": [
      "young ice\n"
     ]
    },
    {
     "data": {
      "image/png": "[encoded data removed]",
      "text/plain": [
       "<Figure size 432x288 with 1 Axes>"
      ]
     },
     "metadata": {
      "needs_background": "light"
     },
     "output_type": "display_data"
    },
    {
     "name": "stdout",
     "output_type": "stream",
     "text": [
      "first-year ice\n"
     ]
    },
    {
     "data": {
      "image/png": "[encoded data removed]",
      "text/plain": [
       "<Figure size 432x288 with 1 Axes>"
      ]
     },
     "metadata": {
      "needs_background": "light"
     },
     "output_type": "display_data"
    },
    {
     "name": "stdout",
     "output_type": "stream",
     "text": [
      "multi-year ice\n"
     ]
    },
    {
     "data": {
      "image/png": "[encoded data removed]",
      "text/plain": [
       "<Figure size 432x288 with 1 Axes>"
      ]
     },
     "metadata": {
      "needs_background": "light"
     },
     "output_type": "display_data"
    },
    {
     "name": "stdout",
     "output_type": "stream",
     "text": [
      "----- input \n",
      " ['30', '30', '20', '98', '10', '10', '87', '3', '-9', '-9', '-9', '-9', '-9', '-9', 'I'] \n",
      "-----output \n",
      " [0, 0, 1, 0] \n",
      "\n",
      "----- input \n",
      " ['32', '91', '70', '98', '10', '30', '83', '2', '-9', '-9', '-9', '-9', '-9', '-9', 'I'] \n",
      "-----output \n",
      " [0, 1, 0, 0] \n",
      "\n",
      "----- input \n",
      " ['36', '91', '40', '95', '5', '50', '93', '6', '10', '91', '4', '98', '-9', '-9', 'I'] \n",
      "-----output \n",
      " [0, 0, 1, 0] \n",
      "\n",
      "----- input \n",
      " ['37', '91', '40', '95', '5', '40', '93', '5', '20', '91', '4', '98', '-9', '-9', 'I'] \n",
      "-----output \n",
      " [0, 0, 1, 0] \n",
      "\n",
      "----- input \n",
      " ['38', '20', '10', '93', '4', '10', '91', '3', '-9', '-9', '-9', '98', '-9', '-9', 'I'] \n",
      "-----output \n",
      " [0, 0, 1, 0] \n",
      "\n",
      "----- input \n",
      " ['39', '02', '-9', '-9', '-9', '-9', '-9', '-9', '-9', '-9', '-9', '-9', '-9', '-9', 'W'] \n",
      "-----output \n",
      " [1, 0, 0, 0] \n",
      "\n",
      "----- input \n",
      " ['40', '02', '-9', '-9', '-9', '-9', '-9', '-9', '-9', '-9', '-9', '-9', '-9', '-9', 'W'] \n",
      "-----output \n",
      " [1, 0, 0, 0] \n",
      "\n",
      "----- input \n",
      " ['41', '90', '30', '95', '5', '40', '93', '4', '20', '91', '3', '98', '-9', '-9', 'I'] \n",
      "-----output \n",
      " [0, 0, 1, 0] \n",
      "\n",
      "----- input \n",
      " ['42', '91', '40', '95', '5', '50', '93', '6', '10', '91', '4', '98', '-9', '-9', 'I'] \n",
      "-----output \n",
      " [0, 0, 1, 0] \n",
      "\n",
      "20190519T194908_S1A_AMSR2_Icechart-Greenland-SouthEast.nc\n",
      "open water\n"
     ]
    },
    {
     "data": {
      "image/png": "[encoded data removed]",
      "text/plain": [
       "<Figure size 432x288 with 1 Axes>"
      ]
     },
     "metadata": {
      "needs_background": "light"
     },
     "output_type": "display_data"
    },
    {
     "name": "stdout",
     "output_type": "stream",
     "text": [
      "young ice\n"
     ]
    },
    {
     "data": {
      "image/png": "[encoded data removed]",
      "text/plain": [
       "<Figure size 432x288 with 1 Axes>"
      ]
     },
     "metadata": {
      "needs_background": "light"
     },
     "output_type": "display_data"
    },
    {
     "name": "stdout",
     "output_type": "stream",
     "text": [
      "first-year ice\n"
     ]
    },
    {
     "data": {
      "image/png": "[encoded data removed]",
      "text/plain": [
       "<Figure size 432x288 with 1 Axes>"
      ]
     },
     "metadata": {
      "needs_background": "light"
     },
     "output_type": "display_data"
    },
    {
     "name": "stdout",
     "output_type": "stream",
     "text": [
      "multi-year ice\n"
     ]
    },
    {
     "data": {
      "image/png": "[encoded data removed]",
      "text/plain": [
       "<Figure size 432x288 with 1 Axes>"
      ]
     },
     "metadata": {
      "needs_background": "light"
     },
     "output_type": "display_data"
    },
    {
     "name": "stdout",
     "output_type": "stream",
     "text": [
      "----- input \n",
      " ['1', '80', '20', '98', '10', '20', '91', '3', '40', '87', '2', '98', '-9', '-9', 'I'] \n",
      "-----output \n",
      " [0, 0, 1, 0] \n",
      "\n",
      "----- input \n",
      " ['2', '70', '30', '95', '5', '20', '93', '4', '20', '87', '3', '98', '-9', '-9', 'I'] \n",
      "-----output \n",
      " [0, 0, 1, 0] \n",
      "\n",
      "----- input \n",
      " ['3', '30', '10', '98', '10', '20', '87', '2', '-9', '-9', '-9', '-9', '-9', '-9', 'I'] \n",
      "-----output \n",
      " [0, 0, 1, 0] \n",
      "\n",
      "----- input \n",
      " ['4', '91', '50', '95', '5', '30', '93', '4', '20', '91', '4', '98', '-9', '-9', 'I'] \n",
      "-----output \n",
      " [0, 0, 1, 0] \n",
      "\n",
      "----- input \n",
      " ['5', '92', '10', '95', '8', '60', '91', '-9', '30', '83', '-9', '98', '-9', '-9', 'I'] \n",
      "-----output \n",
      " [0, 0, 1, 0] \n",
      "\n",
      "----- input \n",
      " ['6', '91', '50', '98', '10', '30', '91', '3', '20', '87', '3', '-9', '-9', '-9', 'I'] \n",
      "-----output \n",
      " [0, 0, 1, 0] \n",
      "\n",
      "----- input \n",
      " ['7', '70', '30', '95', '5', '20', '93', '4', '20', '87', '2', '98', '-9', '-9', 'I'] \n",
      "-----output \n",
      " [0, 0, 1, 0] \n",
      "\n",
      "----- input \n",
      " ['8', '91', '40', '91', '8', '60', '87', '-9', '-9', '-9', '-9', '-9', '-9', '-9', 'I'] \n",
      "-----output \n",
      " [0, 0, 1, 0] \n",
      "\n",
      "----- input \n",
      " ['9', '80', '20', '98', '10', '20', '91', '3', '40', '87', '2', '-9', '-9', '-9', 'I'] \n",
      "-----output \n",
      " [0, 0, 1, 0] \n",
      "\n",
      "----- input \n",
      " ['10', '40', '10', '95', '3', '20', '93', '3', '10', '91', '2', '98', '-9', '-9', 'I'] \n",
      "-----output \n",
      " [0, 0, 1, 0] \n",
      "\n",
      "----- input \n",
      " ['11', '91', '50', '98', '10', '30', '91', '3', '20', '87', '3', '-9', '-9', '-9', 'I'] \n",
      "-----output \n",
      " [0, 0, 1, 0] \n",
      "\n",
      "----- input \n",
      " ['12', '30', '10', '98', '10', '20', '87', '2', '-9', '-9', '-9', '-9', '-9', '-9', 'I'] \n",
      "-----output \n",
      " [0, 0, 1, 0] \n",
      "\n",
      "----- input \n",
      " ['13', '30', '10', '98', '10', '20', '87', '2', '-9', '-9', '-9', '-9', '-9', '-9', 'I'] \n",
      "-----output \n",
      " [0, 0, 1, 0] \n",
      "\n",
      "----- input \n",
      " ['14', '91', '90', '87', '4', '10', '83', '3', '-9', '-9', '-9', '98', '-9', '-9', 'I'] \n",
      "-----output \n",
      " [0, 0, 1, 0] \n",
      "\n",
      "----- input \n",
      " ['15', '91', '50', '98', '10', '30', '91', '3', '20', '87', '3', '-9', '-9', '-9', 'I'] \n",
      "-----output \n",
      " [0, 0, 1, 0] \n",
      "\n",
      "----- input \n",
      " ['16', '92', '90', '87', '8', '10', '83', '-9', '-9', '-9', '-9', '98', '-9', '-9', 'I'] \n",
      "-----output \n",
      " [0, 0, 1, 0] \n",
      "\n",
      "----- input \n",
      " ['17', '92', '90', '87', '8', '10', '83', '-9', '-9', '-9', '-9', '98', '-9', '-9', 'I'] \n",
      "-----output \n",
      " [0, 0, 1, 0] \n",
      "\n",
      "----- input \n",
      " ['18', '30', '10', '95', '4', '10', '93', '3', '10', '91', '3', '98', '-9', '-9', 'I'] \n",
      "-----output \n",
      " [0, 0, 1, 0] \n",
      "\n",
      "----- input \n",
      " ['19', '60', '10', '95', '4', '30', '93', '3', '20', '91', '3', '98', '-9', '-9', 'I'] \n",
      "-----output \n",
      " [0, 0, 1, 0] \n",
      "\n",
      "----- input \n",
      " ['20', '91', '50', '95', '5', '30', '93', '4', '20', '91', '4', '98', '-9', '-9', 'I'] \n",
      "-----output \n",
      " [0, 0, 1, 0] \n",
      "\n",
      "----- input \n",
      " ['21', '60', '-9', '87', '5', '-9', '-9', '-9', '-9', '-9', '-9', '98', '-9', '-9', 'I'] \n",
      "-----output \n",
      " [0, 0, 1, 0] \n",
      "\n",
      "----- input \n",
      " ['22', '60', '10', '95', '4', '30', '93', '3', '20', '91', '3', '98', '-9', '-9', 'I'] \n",
      "-----output \n",
      " [0, 0, 1, 0] \n",
      "\n",
      "----- input \n",
      " ['23', '02', '-9', '-9', '-9', '-9', '-9', '-9', '-9', '-9', '-9', '-9', '-9', '-9', 'W'] \n",
      "-----output \n",
      " [1, 0, 0, 0] \n",
      "\n",
      "----- input \n",
      " ['24', '60', '-9', '87', '5', '-9', '-9', '-9', '-9', '-9', '-9', '98', '-9', '-9', 'I'] \n",
      "-----output \n",
      " [0, 0, 1, 0] \n",
      "\n",
      "----- input \n",
      " ['25', '10', '-9', '93', '3', '-9', '-9', '-9', '-9', '-9', '-9', '98', '-9', '-9', 'I'] \n",
      "-----output \n",
      " [0, 0, 1, 0] \n",
      "\n",
      "----- input \n",
      " ['26', '20', '10', '93', '3', '10', '91', '3', '-9', '-9', '-9', '98', '-9', '19', 'I'] \n",
      "-----output \n",
      " [0, 0, 1, 0] \n",
      "\n",
      "----- input \n",
      " ['27', '80', '40', '95', '5', '30', '93', '4', '10', '91', '3', '98', '-9', '-9', 'I'] \n",
      "-----output \n",
      " [0, 0, 1, 0] \n",
      "\n",
      "----- input \n",
      " ['28', '91', '10', '95', '8', '90', '91', '-9', '-9', '-9', '-9', '98', '-9', '-9', 'I'] \n",
      "-----output \n",
      " [0, 0, 1, 0] \n",
      "\n",
      "----- input \n",
      " ['29', '91', '50', '95', '6', '30', '93', '5', '20', '91', '4', '98', '-9', '-9', 'I'] \n",
      "-----output \n",
      " [0, 0, 1, 0] \n",
      "\n",
      "----- input \n",
      " ['30', '30', '20', '98', '10', '10', '87', '2', '-9', '-9', '-9', '-9', '-9', '-9', 'I'] \n",
      "-----output \n",
      " [0, 0, 1, 0] \n",
      "\n",
      "----- input \n",
      " ['31', '80', '70', '98', '10', '10', '83', '2', '-9', '-9', '-9', '-9', '-9', '-9', 'I'] \n",
      "-----output \n",
      " [0, 1, 0, 0] \n",
      "\n",
      "----- input \n",
      " ['32', '91', '90', '98', '10', '10', '83', '2', '-9', '-9', '-9', '-9', '-9', '-9', 'I'] \n",
      "-----output \n",
      " [0, 1, 0, 0] \n",
      "\n",
      "----- input \n",
      " ['33', '30', '10', '98', '10', '20', '93', '5', '-9', '-9', '-9', '98', '-9', '-9', 'I'] \n",
      "-----output \n",
      " [0, 0, 1, 0] \n",
      "\n",
      "----- input \n",
      " ['34', '91', '30', '98', '8', '70', '87', '-9', '-9', '-9', '-9', '-9', '-9', '-9', 'I'] \n",
      "-----output \n",
      " [0, 0, 1, 0] \n",
      "\n",
      "----- input \n",
      " ['36', '02', '-9', '-9', '-9', '-9', '-9', '-9', '-9', '-9', '-9', '-9', '-9', '-9', 'W'] \n",
      "-----output \n",
      " [1, 0, 0, 0] \n",
      "\n",
      "----- input \n",
      " ['39', '91', '50', '95', '6', '30', '93', '5', '20', '91', '4', '98', '-9', '-9', 'I'] \n",
      "-----output \n",
      " [0, 0, 1, 0] \n",
      "\n",
      "20190523T200352_S1B_AMSR2_Icechart-Greenland-SouthEast.nc\n",
      "open water\n"
     ]
    },
    {
     "data": {
      "image/png": "[encoded data removed]",
      "text/plain": [
       "<Figure size 432x288 with 1 Axes>"
      ]
     },
     "metadata": {
      "needs_background": "light"
     },
     "output_type": "display_data"
    },
    {
     "name": "stdout",
     "output_type": "stream",
     "text": [
      "young ice\n"
     ]
    },
    {
     "data": {
      "image/png": "[encoded data removed]",
      "text/plain": [
       "<Figure size 432x288 with 1 Axes>"
      ]
     },
     "metadata": {
      "needs_background": "light"
     },
     "output_type": "display_data"
    },
    {
     "name": "stdout",
     "output_type": "stream",
     "text": [
      "first-year ice\n"
     ]
    },
    {
     "data": {
      "image/png": "[encoded data removed]",
      "text/plain": [
       "<Figure size 432x288 with 1 Axes>"
      ]
     },
     "metadata": {
      "needs_background": "light"
     },
     "output_type": "display_data"
    },
    {
     "name": "stdout",
     "output_type": "stream",
     "text": [
      "multi-year ice\n"
     ]
    },
    {
     "data": {
      "image/png": "[encoded data removed]",
      "text/plain": [
       "<Figure size 432x288 with 1 Axes>"
      ]
     },
     "metadata": {
      "needs_background": "light"
     },
     "output_type": "display_data"
    },
    {
     "name": "stdout",
     "output_type": "stream",
     "text": [
      "----- input \n",
      " ['1', '10', '-9', '98', '10', '-9', '-9', '-9', '-9', '-9', '-9', '98', '-9', '-9', 'I'] \n",
      "-----output \n",
      " [0, 0, 0, 0] \n",
      "\n",
      "----- input \n",
      " ['2', '91', '90', '98', '10', '10', '83', '3', '-9', '-9', '-9', '-9', '-9', '-9', 'I'] \n",
      "-----output \n",
      " [0, 1, 0, 0] \n",
      "\n",
      "----- input \n",
      " ['3', '92', '40', '98', '8', '60', '87', '-9', '-9', '-9', '-9', '-9', '-9', '-9', 'I'] \n",
      "-----output \n",
      " [0, 0, 1, 0] \n",
      "\n",
      "----- input \n",
      " ['4', '92', '40', '98', '8', '60', '87', '-9', '-9', '-9', '-9', '-9', '-9', '-9', 'I'] \n",
      "-----output \n",
      " [0, 0, 1, 0] \n",
      "\n",
      "----- input \n",
      " ['5', '30', '-9', '98', '10', '-9', '-9', '-9', '-9', '-9', '-9', '-9', '-9', '-9', 'I'] \n",
      "-----output \n",
      " [0, 0, 0, 0] \n",
      "\n",
      "----- input \n",
      " ['6', '91', '-9', '87', '5', '-9', '-9', '-9', '-9', '-9', '-9', '-9', '-9', '-9', 'I'] \n",
      "-----output \n",
      " [0, 0, 1, 0] \n",
      "\n",
      "----- input \n",
      " ['7', '20', '10', '98', '10', '10', '87', '3', '-9', '-9', '-9', '-9', '-9', '-9', 'I'] \n",
      "-----output \n",
      " [0, 0, 1, 0] \n",
      "\n",
      "----- input \n",
      " ['8', '90', '80', '87', '4', '10', '83', '3', '-9', '-9', '-9', '98', '-9', '-9', 'I'] \n",
      "-----output \n",
      " [0, 0, 1, 0] \n",
      "\n",
      "----- input \n",
      " ['9', '91', '80', '98', '10', '20', '87', '3', '-9', '-9', '-9', '-9', '-9', '-9', 'I'] \n",
      "-----output \n",
      " [0, 0, 1, 0] \n",
      "\n",
      "----- input \n",
      " ['10', '92', '-9', '87', '8', '-9', '-9', '-9', '-9', '-9', '-9', '98', '-9', '-9', 'I'] \n",
      "-----output \n",
      " [0, 0, 1, 0] \n",
      "\n",
      "----- input \n",
      " ['11', '91', '80', '98', '10', '20', '87', '3', '-9', '-9', '-9', '-9', '-9', '-9', 'I'] \n",
      "-----output \n",
      " [0, 0, 1, 0] \n",
      "\n",
      "----- input \n",
      " ['12', '30', '20', '98', '10', '10', '87', '3', '-9', '-9', '-9', '-9', '-9', '-9', 'I'] \n",
      "-----output \n",
      " [0, 0, 1, 0] \n",
      "\n",
      "----- input \n",
      " ['13', '80', '40', '98', '10', '40', '91', '3', '-9', '-9', '-9', '-9', '-9', '-9', 'I'] \n",
      "-----output \n",
      " [0, 0, 1, 0] \n",
      "\n",
      "----- input \n",
      " ['14', '80', '40', '98', '10', '40', '91', '3', '-9', '-9', '-9', '-9', '-9', '-9', 'I'] \n",
      "-----output \n",
      " [0, 0, 1, 0] \n",
      "\n",
      "----- input \n",
      " ['15', '40', '20', '91', '6', '20', '87', '5', '-9', '-9', '-9', '98', '-9', '-9', 'I'] \n",
      "-----output \n",
      " [0, 0, 1, 0] \n",
      "\n",
      "----- input \n",
      " ['16', '20', '10', '91', '5', '10', '87', '4', '-9', '-9', '-9', '98', '-9', '-9', 'I'] \n",
      "-----output \n",
      " [0, 0, 1, 0] \n",
      "\n",
      "----- input \n",
      " ['17', '40', '20', '91', '6', '20', '87', '5', '-9', '-9', '-9', '98', '-9', '-9', 'I'] \n",
      "-----output \n",
      " [0, 0, 1, 0] \n",
      "\n",
      "----- input \n",
      " ['18', '80', '40', '98', '10', '40', '91', '3', '-9', '-9', '-9', '-9', '-9', '-9', 'I'] \n",
      "-----output \n",
      " [0, 0, 1, 0] \n",
      "\n",
      "----- input \n",
      " ['20', '40', '20', '91', '6', '20', '87', '5', '-9', '-9', '-9', '98', '-9', '-9', 'I'] \n",
      "-----output \n",
      " [0, 0, 1, 0] \n",
      "\n",
      "----- input \n",
      " ['27', '02', '-9', '-9', '-9', '-9', '-9', '-9', '-9', '-9', '-9', '-9', '-9', '-9', 'W'] \n",
      "-----output \n",
      " [1, 0, 0, 0] \n",
      "\n",
      "20190524T101631_S1A_AMSR2_Icechart-Greenland-CentralWest.nc\n",
      "open water\n"
     ]
    },
    {
     "data": {
      "image/png": "[encoded data removed]",
      "text/plain": [
       "<Figure size 432x288 with 1 Axes>"
      ]
     },
     "metadata": {
      "needs_background": "light"
     },
     "output_type": "display_data"
    },
    {
     "name": "stdout",
     "output_type": "stream",
     "text": [
      "young ice\n"
     ]
    },
    {
     "data": {
      "image/png": "[encoded data removed]",
      "text/plain": [
       "<Figure size 432x288 with 1 Axes>"
      ]
     },
     "metadata": {
      "needs_background": "light"
     },
     "output_type": "display_data"
    },
    {
     "name": "stdout",
     "output_type": "stream",
     "text": [
      "first-year ice\n"
     ]
    },
    {
     "data": {
      "image/png": "[encoded data removed]",
      "text/plain": [
       "<Figure size 432x288 with 1 Axes>"
      ]
     },
     "metadata": {
      "needs_background": "light"
     },
     "output_type": "display_data"
    },
    {
     "name": "stdout",
     "output_type": "stream",
     "text": [
      "multi-year ice\n"
     ]
    },
    {
     "data": {
      "image/png": "[encoded data removed]",
      "text/plain": [
       "<Figure size 432x288 with 1 Axes>"
      ]
     },
     "metadata": {
      "needs_background": "light"
     },
     "output_type": "display_data"
    },
    {
     "name": "stdout",
     "output_type": "stream",
     "text": [
      "----- input \n",
      " ['1', '30', '20', '95', '2', '10', '93', '2', '-9', '-9', '-9', '98', '-9', '19', 'I'] \n",
      "-----output \n",
      " [0, 0, 0, 1] \n",
      "\n",
      "----- input \n",
      " ['2', '50', '30', '95', '2', '20', '93', '2', '-9', '-9', '-9', '98', '-9', '19', 'I'] \n",
      "-----output \n",
      " [0, 0, 0, 1] \n",
      "\n",
      "----- input \n",
      " ['3', '90', '60', '95', '2', '30', '93', '2', '-9', '-9', '-9', '98', '-9', '-9', 'I'] \n",
      "-----output \n",
      " [0, 0, 0, 1] \n",
      "\n",
      "----- input \n",
      " ['4', '90', '60', '95', '2', '30', '93', '2', '-9', '-9', '-9', '98', '-9', '-9', 'I'] \n",
      "-----output \n",
      " [0, 0, 0, 1] \n",
      "\n",
      "----- input \n",
      " ['5', '1', '-9', '95', '2', '-9', '-9', '-9', '-9', '-9', '-9', '98', '-9', '19', 'I'] \n",
      "-----output \n",
      " [1, 0, 0, 0] \n",
      "\n",
      "----- input \n",
      " ['6', '30', '20', '95', '2', '10', '93', '2', '-9', '-9', '-9', '98', '-9', '19', 'I'] \n",
      "-----output \n",
      " [0, 0, 0, 1] \n",
      "\n",
      "----- input \n",
      " ['7', '1', '-9', '95', '2', '-9', '-9', '-9', '-9', '-9', '-9', '98', '-9', '19', 'I'] \n",
      "-----output \n",
      " [1, 0, 0, 0] \n",
      "\n",
      "----- input \n",
      " ['8', '10', '-9', '95', '2', '-9', '-9', '-9', '-9', '-9', '-9', '98', '-9', '19', 'I'] \n",
      "-----output \n",
      " [0, 0, 0, 1] \n",
      "\n",
      "----- input \n",
      " ['9', '70', '50', '95', '2', '20', '93', '2', '-9', '-9', '-9', '98', '-9', '-9', 'I'] \n",
      "-----output \n",
      " [0, 0, 0, 1] \n",
      "\n",
      "----- input \n",
      " ['10', '10', '-9', '95', '2', '-9', '-9', '-9', '-9', '-9', '-9', '98', '-9', '19', 'I'] \n",
      "-----output \n",
      " [0, 0, 0, 1] \n",
      "\n",
      "----- input \n",
      " ['12', '50', '30', '95', '2', '20', '93', '2', '-9', '-9', '-9', '98', '-9', '19', 'I'] \n",
      "-----output \n",
      " [0, 0, 0, 1] \n",
      "\n",
      "----- input \n",
      " ['17', '91', '60', '95', '2', '40', '93', '2', '-9', '-9', '-9', '98', '-9', '-9', 'I'] \n",
      "-----output \n",
      " [0, 0, 0, 1] \n",
      "\n",
      "----- input \n",
      " ['20', '02', '-9', '-9', '-9', '-9', '-9', '-9', '-9', '-9', '-9', '-9', '-9', '-9', 'W'] \n",
      "-----output \n",
      " [1, 0, 0, 0] \n",
      "\n",
      "----- input \n",
      " ['24', '02', '-9', '-9', '-9', '-9', '-9', '-9', '-9', '-9', '-9', '-9', '-9', '-9', 'W'] \n",
      "-----output \n",
      " [1, 0, 0, 0] \n",
      "\n",
      "20190525T203543_S1A_AMSR2_Icechart-Greenland-CapeFarewell.nc\n",
      "open water\n"
     ]
    },
    {
     "data": {
      "image/png": "[encoded data removed]",
      "text/plain": [
       "<Figure size 432x288 with 1 Axes>"
      ]
     },
     "metadata": {
      "needs_background": "light"
     },
     "output_type": "display_data"
    },
    {
     "name": "stdout",
     "output_type": "stream",
     "text": [
      "young ice\n"
     ]
    },
    {
     "data": {
      "image/png": "[encoded data removed]",
      "text/plain": [
       "<Figure size 432x288 with 1 Axes>"
      ]
     },
     "metadata": {
      "needs_background": "light"
     },
     "output_type": "display_data"
    },
    {
     "name": "stdout",
     "output_type": "stream",
     "text": [
      "first-year ice\n"
     ]
    },
    {
     "data": {
      "image/png": "[encoded data removed]",
      "text/plain": [
       "<Figure size 432x288 with 1 Axes>"
      ]
     },
     "metadata": {
      "needs_background": "light"
     },
     "output_type": "display_data"
    },
    {
     "name": "stdout",
     "output_type": "stream",
     "text": [
      "multi-year ice\n"
     ]
    },
    {
     "data": {
      "image/png": "[encoded data removed]",
      "text/plain": [
       "<Figure size 432x288 with 1 Axes>"
      ]
     },
     "metadata": {
      "needs_background": "light"
     },
     "output_type": "display_data"
    },
    {
     "name": "stdout",
     "output_type": "stream",
     "text": [
      "----- input \n",
      " ['11', '10', '-9', '95', '2', '-9', '-9', '-9', '-9', '-9', '-9', '98', '-9', '19', 'I'] \n",
      "-----output \n",
      " [0, 0, 0, 1] \n",
      "\n",
      "----- input \n",
      " ['12', '50', '30', '95', '2', '20', '93', '2', '-9', '-9', '-9', '98', '-9', '19', 'I'] \n",
      "-----output \n",
      " [0, 0, 0, 1] \n",
      "\n",
      "----- input \n",
      " ['13', '10', '-9', '95', '2', '-9', '-9', '-9', '-9', '-9', '-9', '98', '-9', '19', 'I'] \n",
      "-----output \n",
      " [0, 0, 0, 1] \n",
      "\n",
      "----- input \n",
      " ['14', '70', '40', '95', '2', '30', '93', '2', '-9', '-9', '-9', '98', '-9', '-9', 'I'] \n",
      "-----output \n",
      " [0, 0, 0, 1] \n",
      "\n",
      "----- input \n",
      " ['15', '10', '-9', '98', '9', '-9', '-9', '-9', '-9', '-9', '-9', '-9', '-9', '-9', 'I'] \n",
      "-----output \n",
      " [0, 0, 0, 0] \n",
      "\n",
      "----- input \n",
      " ['16', '70', '-9', '98', '9', '-9', '-9', '-9', '-9', '-9', '-9', '-9', '-9', '-9', 'I'] \n",
      "-----output \n",
      " [0, 0, 0, 0] \n",
      "\n",
      "----- input \n",
      " ['17', '91', '60', '95', '2', '40', '93', '2', '-9', '-9', '-9', '98', '-9', '-9', 'I'] \n",
      "-----output \n",
      " [0, 0, 0, 1] \n",
      "\n",
      "----- input \n",
      " ['18', '10', '-9', '98', '9', '-9', '-9', '-9', '-9', '-9', '-9', '-9', '-9', '19', 'I'] \n",
      "-----output \n",
      " [0, 0, 0, 0] \n",
      "\n",
      "----- input \n",
      " ['19', '90', '-9', '98', '9', '-9', '-9', '-9', '-9', '-9', '-9', '-9', '-9', '-9', 'I'] \n",
      "-----output \n",
      " [0, 0, 0, 0] \n",
      "\n",
      "----- input \n",
      " ['20', '02', '-9', '-9', '-9', '-9', '-9', '-9', '-9', '-9', '-9', '-9', '-9', '-9', 'W'] \n",
      "-----output \n",
      " [1, 0, 0, 0] \n",
      "\n",
      "----- input \n",
      " ['21', '91', '60', '95', '2', '40', '93', '2', '-9', '-9', '-9', '98', '-9', '-9', 'I'] \n",
      "-----output \n",
      " [0, 0, 0, 1] \n",
      "\n",
      "----- input \n",
      " ['22', '10', '-9', '98', '9', '-9', '-9', '-9', '-9', '-9', '-9', '-9', '-9', '19', 'I'] \n",
      "-----output \n",
      " [0, 0, 0, 0] \n",
      "\n",
      "----- input \n",
      " ['23', '70', '-9', '98', '9', '-9', '-9', '-9', '-9', '-9', '-9', '-9', '-9', '-9', 'I'] \n",
      "-----output \n",
      " [0, 0, 0, 0] \n",
      "\n",
      "----- input \n",
      " ['24', '02', '-9', '-9', '-9', '-9', '-9', '-9', '-9', '-9', '-9', '-9', '-9', '-9', 'W'] \n",
      "-----output \n",
      " [1, 0, 0, 0] \n",
      "\n",
      "20190525T203647_S1A_AMSR2_Icechart-Greenland-CapeFarewell.nc\n",
      "open water\n"
     ]
    },
    {
     "data": {
      "image/png": "[encoded data removed]",
      "text/plain": [
       "<Figure size 432x288 with 1 Axes>"
      ]
     },
     "metadata": {
      "needs_background": "light"
     },
     "output_type": "display_data"
    },
    {
     "name": "stdout",
     "output_type": "stream",
     "text": [
      "young ice\n"
     ]
    },
    {
     "data": {
      "image/png": "[encoded data removed]",
      "text/plain": [
       "<Figure size 432x288 with 1 Axes>"
      ]
     },
     "metadata": {
      "needs_background": "light"
     },
     "output_type": "display_data"
    },
    {
     "name": "stdout",
     "output_type": "stream",
     "text": [
      "first-year ice\n"
     ]
    },
    {
     "data": {
      "image/png": "[encoded data removed]",
      "text/plain": [
       "<Figure size 432x288 with 1 Axes>"
      ]
     },
     "metadata": {
      "needs_background": "light"
     },
     "output_type": "display_data"
    },
    {
     "name": "stdout",
     "output_type": "stream",
     "text": [
      "multi-year ice\n"
     ]
    },
    {
     "data": {
      "image/png": "[encoded data removed]",
      "text/plain": [
       "<Figure size 432x288 with 1 Axes>"
      ]
     },
     "metadata": {
      "needs_background": "light"
     },
     "output_type": "display_data"
    }
   ],
   "source": [
    "ifiles = sorted(glob.glob('*.nc'))\n",
    "stp = 20\n",
    "\n",
    "dir_ = \"D:/training/reconstructs_folder\"\n",
    "ifiles_recon = glob.glob(dir_+'/*.npz')\n",
    "# print(ifiles_recon)\n",
    "# print(np.load(ifiles_recon[0]).files)\n",
    "for i in range(len(ifiles)):\n",
    "    #print(ifile)\n",
    "    ifile = ifiles[i]\n",
    "    ds = nc.Dataset(ifile)\n",
    "    n,p=ds['nersc_sar_secondary'].shape\n",
    "    sar2 = ds['nersc_sar_secondary'][::stp, ::stp]\n",
    "    ic = ds['polygon_icechart'][::stp, ::stp]\n",
    "    \n",
    "    n,p= ic.shape\n",
    "    \n",
    "    #construction of the 3D array that will be filled\n",
    "    en_values_array=np.zeros((n,p,4))+np.nan\n",
    "    \n",
    "    map_id_to_variable_values=dict()\n",
    "    for id_and_corresponding_variable_values in ds['polygon_codes'][1:]:\n",
    "        id_val_splitted = id_and_corresponding_variable_values.split(\";\")\n",
    "        #print(id_val_splitted)\n",
    "        [ct, ca, sa, fa, cb, sb, fb, cc, sc, fc] = list(map(int, id_val_splitted[1:11]))\n",
    "        #result of the one-hot encoding method \n",
    "        result = one_hot_m1(ct,ca,sa,fa,cb,sb,fb,cc,sc,fc)\n",
    "        ## if you want the method with the concentration uncomment the following line \n",
    "#         result = one_hot_m2(ct,ca,sa,fa,cb,sb,fb,cc,sc)\n",
    "\n",
    "        #Filling the dictionnary\n",
    "        map_id_to_variable_values.update({int(id_val_splitted[0]): result})\n",
    "        #print(\"----- input \\n\",ct,ca,sa,fa,cb,sb,fb,cc,sc, \"\\n-----output \\n\",result,\"\\n\")\n",
    "        print(\"----- input \\n\",id_val_splitted, \"\\n-----output \\n\",result,\"\\n\")\n",
    "        \n",
    "    \n",
    "    \n",
    "    for id_value, variable_belong_to_id in map_id_to_variable_values.items():\n",
    "        # each loop changes all locations of values_array (that have the very\n",
    "        # 'id_value') to its corresponding value inside 'variable_belong_to_id'\n",
    "               \n",
    "        #Filling the 3D array\n",
    "        en_values_array[ic == id_value, :] = np.byte(np.array(variable_belong_to_id))\n",
    "    \n",
    "    #Showing the different layers of the array\n",
    "    ice_types = [\"open water\", \"young ice\", \"first-year ice\", \"multi-year ice\"]\n",
    "    print(ifile)\n",
    "    for i in range(4):\n",
    "        print(ice_types[i])\n",
    "        plt.imshow(en_values_array[:,:,i])\n",
    "        plt.show()"
   ]
  },
  {
   "cell_type": "code",
   "execution_count": null,
   "id": "32ff49a5",
   "metadata": {},
   "outputs": [],
   "source": []
  }
 ],
 "metadata": {
  "kernelspec": {
   "display_name": "Python 3",
   "language": "python",
   "name": "python3"
  },
  "language_info": {
   "codemirror_mode": {
    "name": "ipython",
    "version": 3
   },
   "file_extension": ".py",
   "mimetype": "text/x-python",
   "name": "python",
   "nbconvert_exporter": "python",
   "pygments_lexer": "ipython3",
   "version": "3.8.8"
  }
 },
 "nbformat": 4,
 "nbformat_minor": 5
}
