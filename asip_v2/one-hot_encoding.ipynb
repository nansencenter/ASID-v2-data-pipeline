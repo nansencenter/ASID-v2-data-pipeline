{
 "cells": [
  {
   "cell_type": "code",
   "execution_count": 1,
   "id": "39811c0f",
   "metadata": {},
   "outputs": [],
   "source": [
    "import glob\n",
    "import os\n",
    "\n",
    "import matplotlib.pyplot as plt\n",
    "import matplotlib as mpl\n",
    "import netCDF4 as nc\n",
    "import numpy as np\n",
    "\n",
    "from hot_encoding_utils import form_of_ice, one_hot_m1, one_hot_m2\n",
    "\n",
    "\n",
    "from scipy.interpolate import RectBivariateSpline\n",
    "\n",
    "%matplotlib inline"
   ]
  },
  {
   "cell_type": "code",
   "execution_count": 2,
   "id": "eaf50192",
   "metadata": {},
   "outputs": [
    {
     "data": {
      "text/plain": [
       "'C:\\\\Alissa\\\\ENSG\\\\ING2\\\\STAGE\\\\Dev\\\\satellite-data-pipeline\\\\asip_v2'"
      ]
     },
     "execution_count": 2,
     "metadata": {},
     "output_type": "execute_result"
    }
   ],
   "source": [
    "pwd"
   ]
  },
  {
   "cell_type": "code",
   "execution_count": 3,
   "id": "7ed3cba3",
   "metadata": {},
   "outputs": [
    {
     "name": "stdout",
     "output_type": "stream",
     "text": [
      "D:\\training\n"
     ]
    }
   ],
   "source": [
    "%cd \"D:/training\""
   ]
  },
  {
   "cell_type": "code",
   "execution_count": 4,
   "id": "0506e9fe",
   "metadata": {},
   "outputs": [
    {
     "name": "stdout",
     "output_type": "stream",
     "text": [
      "----- input \n",
      " ['41', '92', '-9', '87', '8', '-9', '-9', '-9', '-9', '-9', '-9', '98', '-9', '-9', 'I'] \n",
      "-----output \n",
      " [1, 0, 0, 0] \n",
      "\n",
      "----- input \n",
      " ['42', '92', '30', '91', '8', '70', '87', '-9', '-9', '-9', '-9', '-9', '-9', '-9', 'I'] \n",
      "-----output \n",
      " [1, 0, 0, 0] \n",
      "\n",
      "----- input \n",
      " ['43', '92', '10', '91', '8', '60', '87', '-9', '30', '83', '-9', '98', '-9', '-9', 'I'] \n",
      "-----output \n",
      " [1, 0, 0, 0] \n",
      "\n",
      "----- input \n",
      " ['44', '50', '20', '93', '5', '20', '91', '5', '10', '87', '4', '98', '-9', '-9', 'I'] \n",
      "-----output \n",
      " [1, 0, 0, 0] \n",
      "\n",
      "----- input \n",
      " ['45', '92', '30', '91', '8', '70', '87', '-9', '-9', '-9', '-9', '-9', '-9', '-9', 'I'] \n",
      "-----output \n",
      " [1, 0, 0, 0] \n",
      "\n",
      "----- input \n",
      " ['46', '80', '30', '91', '5', '30', '87', '4', '20', '87', '3', '-9', '-9', '-9', 'I'] \n",
      "-----output \n",
      " [1, 0, 0, 0] \n",
      "\n",
      "----- input \n",
      " ['47', '80', '20', '93', '6', '20', '91', '5', '40', '87', '4', '-9', '-9', '-9', 'I'] \n",
      "-----output \n",
      " [1, 0, 0, 0] \n",
      "\n",
      "----- input \n",
      " ['48', '92', '-9', '91', '8', '-9', '-9', '-9', '-9', '-9', '-9', '98', '-9', '-9', 'I'] \n",
      "-----output \n",
      " [1, 0, 0, 0] \n",
      "\n",
      "----- input \n",
      " ['49', '92', '80', '91', '8', '20', '87', '-9', '-9', '-9', '-9', '98', '-9', '-9', 'I'] \n",
      "-----output \n",
      " [1, 0, 0, 0] \n",
      "\n",
      "----- input \n",
      " ['50', '30', '10', '87', '3', '10', '83', '2', '10', '82', '2', '-9', '-9', '-9', 'I'] \n",
      "-----output \n",
      " [1, 0, 0, 0] \n",
      "\n",
      "----- input \n",
      " ['51', '91', '40', '93', '6', '50', '91', '6', '10', '87', '5', '-9', '-9', '-9', 'I'] \n",
      "-----output \n",
      " [1, 0, 0, 0] \n",
      "\n",
      "----- input \n",
      " ['52', '91', '60', '93', '7', '40', '91', '6', '-9', '-9', '-9', '-9', '-9', '-9', 'I'] \n",
      "-----output \n",
      " [1, 0, 0, 0] \n",
      "\n",
      "----- input \n",
      " ['53', '92', '-9', '91', '8', '-9', '-9', '-9', '-9', '-9', '-9', '98', '-9', '-9', 'I'] \n",
      "-----output \n",
      " [1, 0, 0, 0] \n",
      "\n",
      "20180404T205505_S1B_AMSR2_Icechart-Greenland-CentralWest.nc\n",
      "open water\n"
     ]
    },
    {
     "data": {
      "image/png": "[encoded data removed]",
      "text/plain": [
       "<Figure size 432x288 with 1 Axes>"
      ]
     },
     "metadata": {
      "needs_background": "light"
     },
     "output_type": "display_data"
    },
    {
     "name": "stdout",
     "output_type": "stream",
     "text": [
      "young ice\n"
     ]
    },
    {
     "data": {
      "image/png": "[encoded data removed]",
      "text/plain": [
       "<Figure size 432x288 with 1 Axes>"
      ]
     },
     "metadata": {
      "needs_background": "light"
     },
     "output_type": "display_data"
    },
    {
     "name": "stdout",
     "output_type": "stream",
     "text": [
      "first-year ice\n"
     ]
    },
    {
     "data": {
      "image/png": "[encoded data removed]",
      "text/plain": [
       "<Figure size 432x288 with 1 Axes>"
      ]
     },
     "metadata": {
      "needs_background": "light"
     },
     "output_type": "display_data"
    },
    {
     "name": "stdout",
     "output_type": "stream",
     "text": [
      "multi-year ice\n"
     ]
    },
    {
     "data": {
      "image/png": "[encoded data removed]",
      "text/plain": [
       "<Figure size 432x288 with 1 Axes>"
      ]
     },
     "metadata": {
      "needs_background": "light"
     },
     "output_type": "display_data"
    }
   ],
   "source": [
    "ifiles = sorted(glob.glob('*.nc'))\n",
    "stp = 20\n",
    "\n",
    "dir_ = \"D:/training/reconstructs_folder\"\n",
    "ifiles_recon = glob.glob(dir_+'/*.npz')\n",
    "# print(ifiles_recon)\n",
    "# print(np.load(ifiles_recon[0]).files)\n",
    "for i in range(len(ifiles)):\n",
    "    #print(ifile)\n",
    "    ifile = ifiles[i]\n",
    "    ds = nc.Dataset(ifile)\n",
    "    n,p=ds['nersc_sar_secondary'].shape\n",
    "    sar2 = ds['nersc_sar_secondary'][::stp, ::stp]\n",
    "    ic = ds['polygon_icechart'][::stp, ::stp]\n",
    "    \n",
    "    n,p= ic.shape\n",
    "    \n",
    "    #construction of the 3D array that will be filled\n",
    "    en_values_array=np.zeros((n,p,4))+np.nan\n",
    "    \n",
    "    map_id_to_variable_values=dict()\n",
    "    for id_and_corresponding_variable_values in ds['polygon_codes'][1:]:\n",
    "        id_val_splitted = id_and_corresponding_variable_values.split(\";\")\n",
    "        #print(id_val_splitted)\n",
    "        [ct, ca, sa, fa, cb, sb, fb, cc, sc] = list(map(int, id_val_splitted[1:10]))\n",
    "        #result of the one-hot encoding method \n",
    "        result = one_hot_m1(ct,ca,sa,fa,cb,sb,fb,cc,sc)\n",
    "        ## if you want the method with the concentration uncomment the following line \n",
    "#         result = one_hot_m2(ct,ca,sa,fa,cb,sb,fb,cc,sc)\n",
    "\n",
    "        #Filling the dictionnary\n",
    "        map_id_to_variable_values.update({int(id_val_splitted[0]): result})\n",
    "        #print(\"----- input \\n\",ct,ca,sa,fa,cb,sb,fb,cc,sc, \"\\n-----output \\n\",result,\"\\n\")\n",
    "        print(\"----- input \\n\",id_val_splitted, \"\\n-----output \\n\",result,\"\\n\")\n",
    "        \n",
    "    \n",
    "    \n",
    "    for id_value, variable_belong_to_id in map_id_to_variable_values.items():\n",
    "        # each loop changes all locations of values_array (that have the very\n",
    "        # 'id_value') to its corresponding value inside 'variable_belong_to_id'\n",
    "               \n",
    "        #Filling the 3D array\n",
    "        en_values_array[ic == id_value, :] = np.byte(np.array(variable_belong_to_id))\n",
    "    \n",
    "    #Showing the different layers of the array\n",
    "    ice_types = [\"open water\", \"young ice\", \"first-year ice\", \"multi-year ice\"]\n",
    "    print(ifile)\n",
    "    for i in range(4):\n",
    "        print(ice_types[i])\n",
    "        plt.imshow(en_values_array[:,:,i])\n",
    "        plt.show()"
   ]
  },
  {
   "cell_type": "code",
   "execution_count": null,
   "id": "8bf5001b",
   "metadata": {},
   "outputs": [],
   "source": []
  }
 ],
 "metadata": {
  "kernelspec": {
   "display_name": "Python 3",
   "language": "python",
   "name": "python3"
  },
  "language_info": {
   "codemirror_mode": {
    "name": "ipython",
    "version": 3
   },
   "file_extension": ".py",
   "mimetype": "text/x-python",
   "name": "python",
   "nbconvert_exporter": "python",
   "pygments_lexer": "ipython3",
   "version": "3.8.8"
  }
 },
 "nbformat": 4,
 "nbformat_minor": 5
}
