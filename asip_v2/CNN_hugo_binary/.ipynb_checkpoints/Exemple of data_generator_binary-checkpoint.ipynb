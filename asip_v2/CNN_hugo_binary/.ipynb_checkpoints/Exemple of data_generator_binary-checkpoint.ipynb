{
 "cells": [
  {
   "cell_type": "markdown",
   "metadata": {},
   "source": [
    "# 1. Import"
   ]
  },
  {
   "cell_type": "code",
   "execution_count": 1,
   "metadata": {},
   "outputs": [
    {
     "name": "stdout",
     "output_type": "stream",
     "text": [
      "\u001b[33mWARNING: The directory '/.cache/pip' or its parent directory is not owned or is not writable by the current user. The cache has been disabled. Check the permissions and owner of that directory. If executing pip with sudo, you may want sudo's -H flag.\u001b[0m\n",
      "Defaulting to user installation because normal site-packages is not writeable\n",
      "Requirement already satisfied: sklearn in /.local/lib/python3.8/site-packages (0.0)\n",
      "Requirement already satisfied: scikit-learn in /.local/lib/python3.8/site-packages (from sklearn) (1.1.1)\n",
      "Requirement already satisfied: threadpoolctl>=2.0.0 in /.local/lib/python3.8/site-packages (from scikit-learn->sklearn) (3.1.0)\n",
      "Requirement already satisfied: scipy>=1.3.2 in /usr/local/lib/python3.8/dist-packages (from scikit-learn->sklearn) (1.8.1)\n",
      "Requirement already satisfied: joblib>=1.0.0 in /.local/lib/python3.8/site-packages (from scikit-learn->sklearn) (1.1.0)\n",
      "Requirement already satisfied: numpy>=1.17.3 in /usr/local/lib/python3.8/dist-packages (from scikit-learn->sklearn) (1.22.4)\n",
      "\u001b[33mWARNING: You are using pip version 20.2.4; however, version 22.1.2 is available.\n",
      "You should consider upgrading via the '/usr/bin/python3 -m pip install --upgrade pip' command.\u001b[0m\n"
     ]
    }
   ],
   "source": [
    "!pip install sklearn"
   ]
  },
  {
   "cell_type": "code",
   "execution_count": 2,
   "metadata": {},
   "outputs": [
    {
     "name": "stderr",
     "output_type": "stream",
     "text": [
      "Matplotlib created a temporary config/cache directory at /tmp/matplotlib-7t4u9ycd because the default path (/.config/matplotlib) is not a writable directory; it is highly recommended to set the MPLCONFIGDIR environment variable to a writable directory, in particular to speed up the import of Matplotlib and to better support multiprocessing.\n"
     ]
    }
   ],
   "source": [
    "import os\n",
    "from os.path import basename, dirname, join\n",
    "\n",
    "\n",
    "import glob\n",
    "import argparse\n",
    "import datetime\n",
    "import random\n",
    "import json\n",
    "from netCDF4 import Dataset\n",
    "import numpy as np\n",
    "\n",
    "import data_generator\n",
    "from data_generator import HugoDataGenerator, DataGenerator_sod_f, HugoBinaryGenerator\n",
    "\n",
    "import matplotlib.pyplot as plt\n",
    "from matplotlib import colors\n",
    "\n",
    "from sklearn.metrics import (confusion_matrix, \n",
    "                            mean_squared_error, \n",
    "                            accuracy_score,\n",
    "                            precision_score,\n",
    "                            recall_score)\n",
    "from scipy import stats\n",
    "\n",
    "import tensorflow as tf\n",
    "from tensorflow.keras import layers\n",
    "from tensorflow.keras.models import Model\n",
    "from tensorflow.keras.models import load_model\n",
    "from tensorflow.keras.layers import Dense, Flatten, Conv2D\n",
    "from tensorflow.keras import Model\n",
    "from tensorflow.keras.models import Sequential\n",
    "from tensorflow.keras.layers import (Dense,\n",
    "                                     Flatten,\n",
    "                                     Dropout,\n",
    "                                     BatchNormalization, \n",
    "                                     Conv2D, \n",
    "                                     MaxPooling2D)\n",
    "from tensorflow.keras.regularizers import l2\n",
    "\n",
    "# idir = '/Data/preprocessing4hugo/output/'\n",
    "input_dir_json = '/Data/'\n",
    "idir = '/tf/data/hugo_binary/output_preprocessed_binary/output/'\n",
    "\n",
    "os.environ['TF_FORCE_GPU_ALLOW_GROWTH'] = 'true'\n",
    "\n",
    "gpus = tf.config.experimental.list_physical_devices('GPU')\n",
    "if gpus:\n",
    "    try:\n",
    "        tf.config.experimental.set_virtual_device_configuration(\n",
    "            gpus[0],[tf.config.experimental.VirtualDeviceConfiguration(memory_limit=5120)])\n",
    "    except RuntimeError as e:\n",
    "        print(e)\n"
   ]
  },
  {
   "cell_type": "markdown",
   "metadata": {},
   "source": [
    "# 2. Definition model"
   ]
  },
  {
   "cell_type": "code",
   "execution_count": 3,
   "metadata": {},
   "outputs": [],
   "source": [
    "def create_model():\n",
    "    \"\"\" Create sequential CNN with convolutional and dense layers\n",
    "    \n",
    "    \"\"\"\n",
    "    # number of ice classes\n",
    "    nbr_classes = 4  \n",
    "    # size of SAR subimages\n",
    "    ws = 50\n",
    "    # size of convolutional filters\n",
    "    cs = 3\n",
    "    # number of filters per convolutional layer (x id)\n",
    "    c1,c2,c3 = 32,32,32\n",
    "    # number of neurons per hidden neural layer number (x id)\n",
    "    n1,n2,n3 = 16,16,64\n",
    "    # value of dropout\n",
    "    dropout_rate = 0.1\n",
    "    # value of L2 regularisation\n",
    "    l2_rate = 0.001\n",
    "\n",
    "    model = Sequential()\n",
    "\n",
    "    # Convolutional part\n",
    "    model.add(BatchNormalization(input_shape=(ws, ws, 2)))\n",
    "    model.add(Conv2D(c1, (cs, cs), activation='relu'))\n",
    "    model.add(MaxPooling2D((2, 2),2))\n",
    "    model.add(Conv2D(c2, (cs, cs), activation='relu'))\n",
    "    model.add(Conv2D(c3, (cs, cs), activation='relu'))\n",
    "    model.add(MaxPooling2D((2, 2),2))\n",
    "    model.add(BatchNormalization())\n",
    "\n",
    "    model.add(Flatten())\n",
    "\n",
    "    # Neural network part (hidden layers)\n",
    "    model.add(Dropout(dropout_rate))\n",
    "    model.add(Dense(n1, kernel_regularizer=l2(l2_rate), activation='relu'))\n",
    "    model.add(Dropout(dropout_rate))\n",
    "    model.add(Dense(n2, kernel_regularizer=l2(l2_rate), activation='relu'))\n",
    "    model.add(Dropout(dropout_rate))\n",
    "    model.add(Dense(n3, kernel_regularizer=l2(l2_rate), activation='relu'))\n",
    "    model.add(Dropout(dropout_rate))\n",
    "\n",
    "    # Last neural layer (not hidden)\n",
    "    model.add(Dense(nbr_classes, kernel_regularizer=l2(l2_rate), activation='softmax'))\n",
    "    \n",
    "    return model"
   ]
  },
  {
   "cell_type": "markdown",
   "metadata": {},
   "source": [
    "# 3. Load Data"
   ]
  },
  {
   "cell_type": "markdown",
   "metadata": {},
   "source": [
    "### 3.1 Parameters and load files"
   ]
  },
  {
   "cell_type": "code",
   "execution_count": 4,
   "metadata": {},
   "outputs": [
    {
     "name": "stdout",
     "output_type": "stream",
     "text": [
      "Files number : 10000\n"
     ]
    }
   ],
   "source": [
    "train_ratio = 0.7\n",
    "with open(f'{idir}processed_files.json') as fichier_json:\n",
    "    all_nc = json.load(fichier_json)\n",
    "npz_files=[]\n",
    "\n",
    "for nc in all_nc :\n",
    "    name = nc[:15]\n",
    "    files = sorted(glob.glob(f'{idir}/{name}/*.npz'))\n",
    "    npz_files += files\n",
    "random.shuffle(npz_files)\n",
    "\n",
    "npz_files = npz_files[:10000]\n",
    "\n",
    "print('Files number : '+ str (len(npz_files)))\n",
    "train_files_number = int(len(npz_files) * train_ratio)\n",
    "train_files = npz_files[:train_files_number]\n",
    "valid_files = npz_files[train_files_number:]\n",
    "\n",
    "input_var_names = ['nersc_sar_primary', 'nersc_sar_secondary']\n",
    "amsr2_var_names = [ 'btemp_6_9h',\n",
    "                    'btemp_6_9v',\n",
    "                    'btemp_7_3h',\n",
    "                    'btemp_7_3v',\n",
    "                    'btemp_10_7h',\n",
    "                    'btemp_10_7v',\n",
    "                    'btemp_18_7h',\n",
    "                    'btemp_18_7v',\n",
    "                    'btemp_23_8h',\n",
    "                    'btemp_23_8v',\n",
    "                    'btemp_36_5h',\n",
    "                    'btemp_36_5v',\n",
    "                    'btemp_89_0h',\n",
    "                    'btemp_89_0v'\n",
    "                  ]\n",
    " \n",
    "output_var_name = 'ice_type'\n",
    "dims_amsr2 = np.load(npz_files[0])[amsr2_var_names[0]].shape\n",
    "\n",
    "params = {'dims_amsr2':      (*dims_amsr2, len(amsr2_var_names)),\n",
    "          'idir_json':       input_dir_json,\n",
    "          'output_var_name': output_var_name,\n",
    "          'input_var_names': input_var_names,\n",
    "          'amsr2_var_names': amsr2_var_names,\n",
    "          'batch_size':      50,\n",
    "          'shuffle_on_epoch_end': False,\n",
    "           }"
   ]
  },
  {
   "cell_type": "markdown",
   "metadata": {},
   "source": [
    "### 3.2 processed data for model"
   ]
  },
  {
   "cell_type": "code",
   "execution_count": 5,
   "metadata": {
    "scrolled": false
   },
   "outputs": [
    {
     "name": "stdout",
     "output_type": "stream",
     "text": [
      "(49, 50, 50, 2) (50, 50, 2) (49, 4)\n"
     ]
    }
   ],
   "source": [
    "training_generator = HugoBinaryGenerator(train_files, **params)\n",
    "validation_generator = HugoBinaryGenerator(valid_files, **params)\n",
    "\n",
    "print(\n",
    "     training_generator[0][0].shape, #sar\n",
    "    training_generator[0][0][1].shape, #amsr2\n",
    "     training_generator[0][1].shape, #output\n",
    ")"
   ]
  },
  {
   "cell_type": "markdown",
   "metadata": {},
   "source": [
    "# 4. Load model and trained weights"
   ]
  },
  {
   "cell_type": "markdown",
   "metadata": {},
   "source": [
    "### 4.1 Load model and trained weights"
   ]
  },
  {
   "cell_type": "code",
   "execution_count": 6,
   "metadata": {},
   "outputs": [],
   "source": [
    "# creation of the model \n",
    "model = create_model()"
   ]
  },
  {
   "cell_type": "markdown",
   "metadata": {},
   "source": [
    "### 4.2 Apply CNN to SAR data"
   ]
  },
  {
   "cell_type": "code",
   "execution_count": 7,
   "metadata": {
    "scrolled": false
   },
   "outputs": [
    {
     "name": "stdout",
     "output_type": "stream",
     "text": [
      "Model: \"sequential\"\n",
      "_________________________________________________________________\n",
      " Layer (type)                Output Shape              Param #   \n",
      "=================================================================\n",
      " batch_normalization (BatchN  (None, 50, 50, 2)        8         \n",
      " ormalization)                                                   \n",
      "                                                                 \n",
      " conv2d (Conv2D)             (None, 48, 48, 32)        608       \n",
      "                                                                 \n",
      " max_pooling2d (MaxPooling2D  (None, 24, 24, 32)       0         \n",
      " )                                                               \n",
      "                                                                 \n",
      " conv2d_1 (Conv2D)           (None, 22, 22, 32)        9248      \n",
      "                                                                 \n",
      " conv2d_2 (Conv2D)           (None, 20, 20, 32)        9248      \n",
      "                                                                 \n",
      " max_pooling2d_1 (MaxPooling  (None, 10, 10, 32)       0         \n",
      " 2D)                                                             \n",
      "                                                                 \n",
      " batch_normalization_1 (Batc  (None, 10, 10, 32)       128       \n",
      " hNormalization)                                                 \n",
      "                                                                 \n",
      " flatten (Flatten)           (None, 3200)              0         \n",
      "                                                                 \n",
      " dropout (Dropout)           (None, 3200)              0         \n",
      "                                                                 \n",
      " dense (Dense)               (None, 16)                51216     \n",
      "                                                                 \n",
      " dropout_1 (Dropout)         (None, 16)                0         \n",
      "                                                                 \n",
      " dense_1 (Dense)             (None, 16)                272       \n",
      "                                                                 \n",
      " dropout_2 (Dropout)         (None, 16)                0         \n",
      "                                                                 \n",
      " dense_2 (Dense)             (None, 64)                1088      \n",
      "                                                                 \n",
      " dropout_3 (Dropout)         (None, 64)                0         \n",
      "                                                                 \n",
      " dense_3 (Dense)             (None, 4)                 260       \n",
      "                                                                 \n",
      "=================================================================\n",
      "Total params: 72,076\n",
      "Trainable params: 72,008\n",
      "Non-trainable params: 68\n",
      "_________________________________________________________________\n",
      "Epoch 1/20\n",
      "140/140 [==============================] - ETA: 0s - loss: 1.1185\n",
      "Epoch 1: val_loss improved from inf to 2.24230, saving model to hugo_model_1000\n"
     ]
    },
    {
     "name": "stderr",
     "output_type": "stream",
     "text": [
      "WARNING:absl:Found untraced functions such as _jit_compiled_convolution_op, _jit_compiled_convolution_op, _jit_compiled_convolution_op while saving (showing 3 of 3). These functions will not be directly callable after loading.\n"
     ]
    },
    {
     "name": "stdout",
     "output_type": "stream",
     "text": [
      "INFO:tensorflow:Assets written to: hugo_model_1000/assets\n"
     ]
    },
    {
     "name": "stderr",
     "output_type": "stream",
     "text": [
      "INFO:tensorflow:Assets written to: hugo_model_1000/assets\n"
     ]
    },
    {
     "name": "stdout",
     "output_type": "stream",
     "text": [
      "140/140 [==============================] - 10s 57ms/step - loss: 1.1185 - val_loss: 2.2423\n",
      "Epoch 2/20\n",
      "140/140 [==============================] - ETA: 0s - loss: 1.0321\n",
      "Epoch 2: val_loss improved from 2.24230 to 1.10760, saving model to hugo_model_1000\n"
     ]
    },
    {
     "name": "stderr",
     "output_type": "stream",
     "text": [
      "WARNING:absl:Found untraced functions such as _jit_compiled_convolution_op, _jit_compiled_convolution_op, _jit_compiled_convolution_op while saving (showing 3 of 3). These functions will not be directly callable after loading.\n"
     ]
    },
    {
     "name": "stdout",
     "output_type": "stream",
     "text": [
      "INFO:tensorflow:Assets written to: hugo_model_1000/assets\n"
     ]
    },
    {
     "name": "stderr",
     "output_type": "stream",
     "text": [
      "INFO:tensorflow:Assets written to: hugo_model_1000/assets\n"
     ]
    },
    {
     "name": "stdout",
     "output_type": "stream",
     "text": [
      "140/140 [==============================] - 6s 44ms/step - loss: 1.0321 - val_loss: 1.1076\n",
      "Epoch 3/20\n",
      "140/140 [==============================] - ETA: 0s - loss: 1.0032\n",
      "Epoch 3: val_loss improved from 1.10760 to 0.95216, saving model to hugo_model_1000\n"
     ]
    },
    {
     "name": "stderr",
     "output_type": "stream",
     "text": [
      "WARNING:absl:Found untraced functions such as _jit_compiled_convolution_op, _jit_compiled_convolution_op, _jit_compiled_convolution_op while saving (showing 3 of 3). These functions will not be directly callable after loading.\n"
     ]
    },
    {
     "name": "stdout",
     "output_type": "stream",
     "text": [
      "INFO:tensorflow:Assets written to: hugo_model_1000/assets\n"
     ]
    },
    {
     "name": "stderr",
     "output_type": "stream",
     "text": [
      "INFO:tensorflow:Assets written to: hugo_model_1000/assets\n"
     ]
    },
    {
     "name": "stdout",
     "output_type": "stream",
     "text": [
      "140/140 [==============================] - 6s 42ms/step - loss: 1.0032 - val_loss: 0.9522\n",
      "Epoch 4/20\n",
      "140/140 [==============================] - ETA: 0s - loss: 0.9705\n",
      "Epoch 4: val_loss did not improve from 0.95216\n",
      "140/140 [==============================] - 5s 31ms/step - loss: 0.9705 - val_loss: 0.9704\n",
      "Epoch 5/20\n",
      "140/140 [==============================] - ETA: 0s - loss: 0.9361\n",
      "Epoch 5: val_loss improved from 0.95216 to 0.92029, saving model to hugo_model_1000\n"
     ]
    },
    {
     "name": "stderr",
     "output_type": "stream",
     "text": [
      "WARNING:absl:Found untraced functions such as _jit_compiled_convolution_op, _jit_compiled_convolution_op, _jit_compiled_convolution_op while saving (showing 3 of 3). These functions will not be directly callable after loading.\n"
     ]
    },
    {
     "name": "stdout",
     "output_type": "stream",
     "text": [
      "INFO:tensorflow:Assets written to: hugo_model_1000/assets\n"
     ]
    },
    {
     "name": "stderr",
     "output_type": "stream",
     "text": [
      "INFO:tensorflow:Assets written to: hugo_model_1000/assets\n"
     ]
    },
    {
     "name": "stdout",
     "output_type": "stream",
     "text": [
      "140/140 [==============================] - 7s 45ms/step - loss: 0.9361 - val_loss: 0.9203\n",
      "Epoch 6/20\n",
      "140/140 [==============================] - ETA: 0s - loss: 0.9198\n",
      "Epoch 6: val_loss improved from 0.92029 to 0.90609, saving model to hugo_model_1000\n"
     ]
    },
    {
     "name": "stderr",
     "output_type": "stream",
     "text": [
      "WARNING:absl:Found untraced functions such as _jit_compiled_convolution_op, _jit_compiled_convolution_op, _jit_compiled_convolution_op while saving (showing 3 of 3). These functions will not be directly callable after loading.\n"
     ]
    },
    {
     "name": "stdout",
     "output_type": "stream",
     "text": [
      "INFO:tensorflow:Assets written to: hugo_model_1000/assets\n"
     ]
    },
    {
     "name": "stderr",
     "output_type": "stream",
     "text": [
      "INFO:tensorflow:Assets written to: hugo_model_1000/assets\n"
     ]
    },
    {
     "name": "stdout",
     "output_type": "stream",
     "text": [
      "140/140 [==============================] - 6s 43ms/step - loss: 0.9198 - val_loss: 0.9061\n",
      "Epoch 7/20\n",
      "140/140 [==============================] - ETA: 0s - loss: 0.8946\n",
      "Epoch 7: val_loss did not improve from 0.90609\n",
      "140/140 [==============================] - 5s 32ms/step - loss: 0.8946 - val_loss: 0.9148\n",
      "Epoch 8/20\n",
      "140/140 [==============================] - ETA: 0s - loss: 0.8852\n",
      "Epoch 8: val_loss improved from 0.90609 to 0.89196, saving model to hugo_model_1000\n"
     ]
    },
    {
     "name": "stderr",
     "output_type": "stream",
     "text": [
      "WARNING:absl:Found untraced functions such as _jit_compiled_convolution_op, _jit_compiled_convolution_op, _jit_compiled_convolution_op while saving (showing 3 of 3). These functions will not be directly callable after loading.\n"
     ]
    },
    {
     "name": "stdout",
     "output_type": "stream",
     "text": [
      "INFO:tensorflow:Assets written to: hugo_model_1000/assets\n"
     ]
    },
    {
     "name": "stderr",
     "output_type": "stream",
     "text": [
      "INFO:tensorflow:Assets written to: hugo_model_1000/assets\n"
     ]
    },
    {
     "name": "stdout",
     "output_type": "stream",
     "text": [
      "140/140 [==============================] - 7s 46ms/step - loss: 0.8852 - val_loss: 0.8920\n",
      "Epoch 9/20\n",
      "140/140 [==============================] - ETA: 0s - loss: 0.8559\n",
      "Epoch 9: val_loss did not improve from 0.89196\n",
      "140/140 [==============================] - 5s 32ms/step - loss: 0.8559 - val_loss: 0.9129\n",
      "Epoch 10/20\n",
      "140/140 [==============================] - ETA: 0s - loss: 0.8478\n",
      "Epoch 10: val_loss did not improve from 0.89196\n",
      "140/140 [==============================] - 5s 32ms/step - loss: 0.8478 - val_loss: 0.9135\n",
      "Epoch 11/20\n",
      "138/140 [============================>.] - ETA: 0s - loss: 0.8170\n",
      "Epoch 11: val_loss did not improve from 0.89196\n",
      "140/140 [==============================] - 5s 32ms/step - loss: 0.8166 - val_loss: 0.9614\n"
     ]
    }
   ],
   "source": [
    "#callbacks\n",
    "mc = tf.keras.callbacks.ModelCheckpoint(filepath='hugo_model_1000', \n",
    "                                        monitor='val_loss',\n",
    "                                        verbose=1, \n",
    "                                        save_best_only=True,\n",
    "                                        mode='min')\n",
    "\n",
    "es = tf.keras.callbacks.EarlyStopping(monitor='val_loss', patience=3)\n",
    "\n",
    "#optimizers and compile\n",
    "opt = tf.keras.optimizers.Adam()\n",
    "model.compile(optimizer=opt, loss='categorical_crossentropy')\n",
    "\n",
    "#fit\n",
    "model.summary()\n",
    "history = model.fit(training_generator, \n",
    "                    use_multiprocessing=True,\n",
    "                    workers=4,\n",
    "                    validation_data=validation_generator,\n",
    "                    epochs=20, \n",
    "                    callbacks=[mc, es])"
   ]
  },
  {
   "cell_type": "markdown",
   "metadata": {},
   "source": [
    "### 4.3 History of loss"
   ]
  },
  {
   "cell_type": "code",
   "execution_count": 8,
   "metadata": {},
   "outputs": [
    {
     "data": {
      "image/png": "[encoded data removed]",
      "text/plain": [
       "<Figure size 640x480 with 1 Axes>"
      ]
     },
     "metadata": {},
     "output_type": "display_data"
    }
   ],
   "source": [
    "plt.clf()\n",
    "plt.plot(history.history['loss'], label='loss')\n",
    "plt.plot(history.history['val_loss'], label='val_loss')\n",
    "plt.xlabel('epochs')\n",
    "plt.legend()\n",
    "plt.show()\n"
   ]
  },
  {
   "cell_type": "markdown",
   "metadata": {},
   "source": [
    "### 4.4 Metrics"
   ]
  },
  {
   "cell_type": "code",
   "execution_count": 9,
   "metadata": {
    "scrolled": false
   },
   "outputs": [
    {
     "name": "stdout",
     "output_type": "stream",
     "text": [
      "60/60 [==============================] - 5s 82ms/step\n",
      "[[690   0  89   4]\n",
      " [  3   1  80  37]\n",
      " [ 93   1 700 246]\n",
      " [ 39   0 152 300]]\n"
     ]
    },
    {
     "data": {
      "image/png": "[encoded data removed]",
      "text/plain": [
       "<Figure size 640x480 with 1 Axes>"
      ]
     },
     "metadata": {},
     "output_type": "display_data"
    }
   ],
   "source": [
    "y_pred = model.predict(validation_generator)\n",
    "y_val = np.vstack([vg[1] for vg in validation_generator])\n",
    "y_val_index =[]\n",
    "y_pred_index =[]\n",
    "for val, pred in zip(y_val, y_pred):\n",
    "    if max(pred)>0.5 :\n",
    "        y_val_index.append(np.argmax(val))\n",
    "        y_pred_index.append(np.argmax(pred))\n",
    "    \n",
    "cm = confusion_matrix(y_val_index, y_pred_index)\n",
    "print(cm)\n",
    "plt.clf()\n",
    "plt.imshow(cm)\n",
    "plt.show()"
   ]
  },
  {
   "cell_type": "markdown",
   "metadata": {},
   "source": [
    "#### analysis confusion matrix"
   ]
  },
  {
   "cell_type": "code",
   "execution_count": 10,
   "metadata": {},
   "outputs": [
    {
     "name": "stdout",
     "output_type": "stream",
     "text": [
      "Accuracy : 0.6944558521560575\n",
      "Precision : 0.6332598102083291 0.6944558521560575\n",
      "Recall : 0.5433913507167023 0.6944558521560575\n",
      "0.7364688056359782\n",
      "0.7166324435318275\n"
     ]
    }
   ],
   "source": [
    "AC = accuracy_score(y_val_index, y_pred_index)\n",
    "print ('Accuracy : ' +str(AC))\n",
    "\n",
    "P_macro = precision_score(y_val_index, y_pred_index, average='macro')\n",
    "P_micro = precision_score(y_val_index, y_pred_index, average='micro')\n",
    "print('Precision : ' + str(P_macro)+ \" \" +str(P_micro))\n",
    "\n",
    "R_macro = recall_score(y_val_index, y_pred_index, average='macro') \n",
    "R_micro = recall_score(y_val_index, y_pred_index, average='micro') \n",
    "print('Recall : ' + str(R_macro)+ \" \" +str(R_micro))\n",
    "\n",
    "pearson_correlation = stats.pearsonr(y_val_index, y_pred_index)\n",
    "print(pearson_correlation[0])\n",
    "\n",
    "rmse = mean_squared_error(y_val_index, y_pred_index)\n",
    "print(rmse)"
   ]
  },
  {
   "cell_type": "code",
   "execution_count": 11,
   "metadata": {},
   "outputs": [
    {
     "name": "stdout",
     "output_type": "stream",
     "text": [
      "rmse_matrix\n",
      "[[0.08264381 0.24499266 0.55583133 0.36174587]\n",
      " [0.28667383 0.05808448 0.38352996 0.19552859]\n",
      " [0.42065494 0.24967925 0.1969756  0.27895727]\n",
      " [0.3629289  0.14624921 0.32551322 0.1342948 ]]\n",
      "pearson_matrix\n",
      "[[ 0.77829661 -0.14498476 -0.42508969 -0.26698628]\n",
      " [-0.22049606  0.24415085  0.16047215 -0.09843177]\n",
      " [-0.55637992  0.10139494  0.45434401  0.00519112]\n",
      " [-0.46889162  0.00147381  0.07477405  0.43882244]]\n"
     ]
    }
   ],
   "source": [
    "rmse_matrix=np.empty((4,4))\n",
    "pearson_matrix = np.empty((4,4))\n",
    "for id_class_pred in range(y_pred.shape[1]):\n",
    "    classes_pred = y_pred[:,id_class_pred]\n",
    "    for id_class_val in range (y_val.shape[1]):\n",
    "        classes_val = y_val[:,id_class_val]\n",
    "        rmse = mean_squared_error(classes_val, classes_pred)\n",
    "        rmse_matrix[id_class_pred][id_class_val] = rmse\n",
    "        pearson_value = stats.pearsonr(classes_val, classes_pred)\n",
    "        pearson_matrix[id_class_pred][id_class_val] = pearson_value[0]\n",
    "\n",
    "print('rmse_matrix')\n",
    "print(rmse_matrix)\n",
    "print('pearson_matrix')\n",
    "print(pearson_matrix)\n"
   ]
  }
 ],
 "metadata": {
  "kernelspec": {
   "display_name": "Python 3",
   "language": "python",
   "name": "python3"
  },
  "language_info": {
   "codemirror_mode": {
    "name": "ipython",
    "version": 3
   },
   "file_extension": ".py",
   "mimetype": "text/x-python",
   "name": "python",
   "nbconvert_exporter": "python",
   "pygments_lexer": "ipython3",
   "version": "3.8.10"
  }
 },
 "nbformat": 4,
 "nbformat_minor": 2
}
