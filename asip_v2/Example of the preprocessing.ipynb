{
 "cells": [
  {
   "cell_type": "code",
   "execution_count": 1,
   "metadata": {},
   "outputs": [
    {
     "data": {
      "text/plain": [
       "'/tf/sea_ice_type_cnn_training/asip_v2'"
      ]
     },
     "execution_count": 1,
     "metadata": {},
     "output_type": "execute_result"
    }
   ],
   "source": [
    "pwd"
   ]
  },
  {
   "cell_type": "code",
   "execution_count": 2,
   "metadata": {},
   "outputs": [],
   "source": [
    "import glob\n",
    "import os\n",
    "import sys\n",
    "import argparse\n",
    "import argparse\n",
    "import netCDF4 as nc\n",
    "import numpy as np\n",
    "import json\n",
    "from skimage.util.shape import view_as_windows\n",
    "\n",
    "from archive import Archive\n",
    "from utility import type_for_nersc_noise, common_parser, postprocess_the_args\n",
    "\n",
    "input_d = '/tf/data/input'\n",
    "output_d='/tf/data/output'\n",
    "\n",
    "archive_=Archive(input_dir = input_d,\n",
    "                output_dir = output_d,\n",
    "                names_sar = ['nersc_sar_primary','nersc_sar_secondary'],\n",
    "                names_amsr2 = ['btemp_6.9h', 'btemp_6.9v', 'btemp_7.3h', 'btemp_7.3v', 'btemp_10.7h', 'btemp_10.7v', 'btemp_18.7h', 'btemp_18.7v', 'btemp_23.8h', 'btemp_23.8v', 'btemp_36.5h', 'btemp_36.5v', 'btemp_89.0ah', 'btemp_89.0bh', 'btemp_89.0av', 'btemp_89.0bv', 'btemp_89.0h', 'btemp_89.0v'],\n",
    "                window_sar = 500,\n",
    "                window_amsr2 = 10,\n",
    "                stride_sar = 500,\n",
    "                stride_amsr2 = 10,\n",
    "                resample_step_amsr2 = 5,\n",
    "                resize_step_sar = 10,\n",
    "                rm_swath = 5,\n",
    "                distance_threshold = 50,\n",
    "                encoding = \"one_hot_binary\",\n",
    "                inference = True\n",
    "                )"
   ]
  },
  {
   "cell_type": "code",
   "execution_count": 3,
   "metadata": {
    "scrolled": true
   },
   "outputs": [
    {
     "name": "stdout",
     "output_type": "stream",
     "text": [
      "All files are being processed!\n",
      "Starting 0 out of 2 unprocessed files\n",
      "Starting 1 out of 2 unprocessed files\n"
     ]
    }
   ],
   "source": [
    "archive_.get_unprocessed_files()\n",
    "for i, filename in enumerate(archive_.files):\n",
    "    print(\"Starting %d out of %d unprocessed files\" % (i, len(archive_.files)))\n",
    "    fil = nc.Dataset(os.path.join(archive_.input_dir, filename))\n",
    "    archive_.batches = {}\n",
    "    archive_.process_dataset(fil, filename)\n",
    "    # saving section\n",
    "    archive_.write_batches()\n",
    "    archive_.update_processed_files(i)\n",
    "    del fil"
   ]
  },
  {
   "cell_type": "code",
   "execution_count": 4,
   "metadata": {},
   "outputs": [
    {
     "data": {
      "text/plain": [
       "4"
      ]
     },
     "execution_count": 4,
     "metadata": {},
     "output_type": "execute_result"
    }
   ],
   "source": [
    "2+2"
   ]
  },
  {
   "cell_type": "code",
   "execution_count": 5,
   "metadata": {},
   "outputs": [
    {
     "name": "stdout",
     "output_type": "stream",
     "text": [
      "99\n",
      "/tf/data/output//20180410T084537/000241.npz\n"
     ]
    }
   ],
   "source": [
    "idir = '/tf/data/output/'\n",
    "input_dir_json = '/Data/'\n",
    "with open(f'{idir}processed_files.json') as fichier_json:\n",
    "    all_nc = json.load(fichier_json)\n",
    "inference_npz = []\n",
    "\n",
    "for nc in all_nc :\n",
    "    name = nc[:15]\n",
    "    files = sorted(glob.glob(f'{idir}/{name}/*.npz'))\n",
    "    inference_npz += files\n",
    "print(len(inference_npz))\n",
    "print(inference_npz[0])"
   ]
  },
  {
   "cell_type": "code",
   "execution_count": 9,
   "metadata": {},
   "outputs": [
    {
     "name": "stdout",
     "output_type": "stream",
     "text": [
      "{'_files': ['nersc_sar_primary.npy', 'nersc_sar_secondary.npy', 'ice_type.npy', 'distance_border.npy', 'btemp_6_9h.npy', 'btemp_6_9v.npy', 'btemp_7_3h.npy', 'btemp_7_3v.npy', 'btemp_10_7h.npy', 'btemp_10_7v.npy', 'btemp_18_7h.npy', 'btemp_18_7v.npy', 'btemp_23_8h.npy', 'btemp_23_8v.npy', 'btemp_36_5h.npy', 'btemp_36_5v.npy', 'btemp_89_0ah.npy', 'btemp_89_0bh.npy', 'btemp_89_0av.npy', 'btemp_89_0bv.npy', 'btemp_89_0h.npy', 'btemp_89_0v.npy', 'loc.npy'], 'files': ['nersc_sar_primary', 'nersc_sar_secondary', 'ice_type', 'distance_border', 'btemp_6_9h', 'btemp_6_9v', 'btemp_7_3h', 'btemp_7_3v', 'btemp_10_7h', 'btemp_10_7v', 'btemp_18_7h', 'btemp_18_7v', 'btemp_23_8h', 'btemp_23_8v', 'btemp_36_5h', 'btemp_36_5v', 'btemp_89_0ah', 'btemp_89_0bh', 'btemp_89_0av', 'btemp_89_0bv', 'btemp_89_0h', 'btemp_89_0v', 'loc'], 'allow_pickle': False, 'pickle_kwargs': {'encoding': 'ASCII', 'fix_imports': True}, 'zip': <zipfile.ZipFile file=<_io.BufferedReader name='/tf/data/output//20180410T084537/000241.npz'> mode='r'>, 'f': <numpy.lib.npyio.BagObj object at 0x7fbb3c349070>, 'fid': <_io.BufferedReader name='/tf/data/output//20180410T084537/000241.npz'>}\n"
     ]
    }
   ],
   "source": [
    "test =np.load('/tf/data/output//20180410T084537/000241.npz')\n",
    "print(test.__dict__)"
   ]
  },
  {
   "cell_type": "code",
   "execution_count": 10,
   "metadata": {},
   "outputs": [
    {
     "name": "stdout",
     "output_type": "stream",
     "text": [
      "[13  8]\n"
     ]
    }
   ],
   "source": [
    "print(test.get('loc'))"
   ]
  },
  {
   "cell_type": "code",
   "execution_count": null,
   "metadata": {},
   "outputs": [],
   "source": []
  }
 ],
 "metadata": {
  "kernelspec": {
   "display_name": "Python 3",
   "language": "python",
   "name": "python3"
  },
  "language_info": {
   "codemirror_mode": {
    "name": "ipython",
    "version": 3
   },
   "file_extension": ".py",
   "mimetype": "text/x-python",
   "name": "python",
   "nbconvert_exporter": "python",
   "pygments_lexer": "ipython3",
   "version": "3.8.10"
  }
 },
 "nbformat": 4,
 "nbformat_minor": 4
}
