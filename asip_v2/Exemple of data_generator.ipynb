{
 "cells": [
  {
   "cell_type": "markdown",
   "metadata": {},
   "source": [
    "# 1. Import"
   ]
  },
  {
   "cell_type": "code",
   "execution_count": 1,
   "metadata": {},
   "outputs": [
    {
     "name": "stdout",
     "output_type": "stream",
     "text": [
      "\u001b[33mWARNING: The directory '/.cache/pip' or its parent directory is not owned or is not writable by the current user. The cache has been disabled. Check the permissions and owner of that directory. If executing pip with sudo, you may want sudo's -H flag.\u001b[0m\n",
      "Defaulting to user installation because normal site-packages is not writeable\n",
      "Requirement already satisfied: sklearn in /.local/lib/python3.8/site-packages (0.0)\n",
      "Requirement already satisfied: scikit-learn in /.local/lib/python3.8/site-packages (from sklearn) (1.1.1)\n",
      "Requirement already satisfied: threadpoolctl>=2.0.0 in /.local/lib/python3.8/site-packages (from scikit-learn->sklearn) (3.1.0)\n",
      "Requirement already satisfied: scipy>=1.3.2 in /usr/local/lib/python3.8/dist-packages (from scikit-learn->sklearn) (1.8.1)\n",
      "Requirement already satisfied: numpy>=1.17.3 in /usr/local/lib/python3.8/dist-packages (from scikit-learn->sklearn) (1.22.4)\n",
      "Requirement already satisfied: joblib>=1.0.0 in /.local/lib/python3.8/site-packages (from scikit-learn->sklearn) (1.1.0)\n",
      "\u001b[33mWARNING: You are using pip version 20.2.4; however, version 22.1.2 is available.\n",
      "You should consider upgrading via the '/usr/bin/python3 -m pip install --upgrade pip' command.\u001b[0m\n"
     ]
    }
   ],
   "source": [
    "!pip install sklearn"
   ]
  },
  {
   "cell_type": "code",
   "execution_count": 2,
   "metadata": {},
   "outputs": [
    {
     "name": "stderr",
     "output_type": "stream",
     "text": [
      "Matplotlib created a temporary config/cache directory at /tmp/matplotlib-eee4v9h_ because the default path (/.config/matplotlib) is not a writable directory; it is highly recommended to set the MPLCONFIGDIR environment variable to a writable directory, in particular to speed up the import of Matplotlib and to better support multiprocessing.\n"
     ]
    }
   ],
   "source": [
    "import os\n",
    "from os.path import basename, dirname, join\n",
    "\n",
    "\n",
    "import glob\n",
    "import argparse\n",
    "import datetime\n",
    "import random\n",
    "import json\n",
    "from netCDF4 import Dataset\n",
    "import numpy as np\n",
    "\n",
    "import data_generator\n",
    "from data_generator import HugoDataGenerator, DataGenerator_sod_f, HugoBinaryGenerator\n",
    "\n",
    "import matplotlib.pyplot as plt\n",
    "from matplotlib import colors\n",
    "\n",
    "from sklearn.metrics import (confusion_matrix, \n",
    "                            mean_squared_error, \n",
    "                            accuracy_score,\n",
    "                            precision_score,\n",
    "                            recall_score)\n",
    "from scipy import stats\n",
    "\n",
    "import tensorflow as tf\n",
    "from tensorflow.keras import layers\n",
    "from tensorflow.keras.models import Model\n",
    "from tensorflow.keras.models import load_model\n",
    "from tensorflow.keras.layers import Dense, Flatten, Conv2D\n",
    "from tensorflow.keras import Model\n",
    "from tensorflow.keras.models import Sequential\n",
    "from tensorflow.keras.layers import (Dense,\n",
    "                                     Flatten,\n",
    "                                     Dropout,\n",
    "                                     BatchNormalization, \n",
    "                                     Conv2D, \n",
    "                                     MaxPooling2D)\n",
    "from tensorflow.keras.regularizers import l2\n",
    "\n",
    "idir = '/Data/preprocessing4hugo/output/'\n",
    "input_dir_json = '/Data/'\n",
    "\n",
    "os.environ['TF_FORCE_GPU_ALLOW_GROWTH'] = 'true'\n",
    "\n",
    "gpus = tf.config.experimental.list_physical_devices('GPU')\n",
    "if gpus:\n",
    "    try:\n",
    "        tf.config.experimental.set_virtual_device_configuration(\n",
    "            gpus[0],[tf.config.experimental.VirtualDeviceConfiguration(memory_limit=5120)])\n",
    "    except RuntimeError as e:\n",
    "        print(e)\n"
   ]
  },
  {
   "cell_type": "markdown",
   "metadata": {},
   "source": [
    "# 2. Definition model"
   ]
  },
  {
   "cell_type": "code",
   "execution_count": 3,
   "metadata": {},
   "outputs": [],
   "source": [
    "def create_model():\n",
    "    \"\"\" Create sequential CNN with convolutional and dense layers\n",
    "    \n",
    "    \"\"\"\n",
    "    # number of ice classes\n",
    "    nbr_classes = 4  \n",
    "    # size of SAR subimages\n",
    "    ws = 50\n",
    "    # size of convolutional filters\n",
    "    cs = 3\n",
    "    # number of filters per convolutional layer (x id)\n",
    "    c1,c2,c3 = 32,32,32\n",
    "    # number of neurons per hidden neural layer number (x id)\n",
    "    n1,n2,n3 = 16,16,64\n",
    "    # value of dropout\n",
    "    dropout_rate = 0.1\n",
    "    # value of L2 regularisation\n",
    "    l2_rate = 0.001\n",
    "\n",
    "    model = Sequential()\n",
    "\n",
    "    # Convolutional part\n",
    "    model.add(BatchNormalization(input_shape=(ws, ws, 2)))\n",
    "    model.add(Conv2D(c1, (cs, cs), activation='relu'))\n",
    "    model.add(MaxPooling2D((2, 2),2))\n",
    "    model.add(Conv2D(c2, (cs, cs), activation='relu'))\n",
    "    model.add(Conv2D(c3, (cs, cs), activation='relu'))\n",
    "    model.add(MaxPooling2D((2, 2),2))\n",
    "    model.add(BatchNormalization())\n",
    "\n",
    "    model.add(Flatten())\n",
    "\n",
    "    # Neural network part (hidden layers)\n",
    "    model.add(Dropout(dropout_rate))\n",
    "    model.add(Dense(n1, kernel_regularizer=l2(l2_rate), activation='relu'))\n",
    "    model.add(Dropout(dropout_rate))\n",
    "    model.add(Dense(n2, kernel_regularizer=l2(l2_rate), activation='relu'))\n",
    "    model.add(Dropout(dropout_rate))\n",
    "    model.add(Dense(n3, kernel_regularizer=l2(l2_rate), activation='relu'))\n",
    "    model.add(Dropout(dropout_rate))\n",
    "\n",
    "    # Last neural layer (not hidden)\n",
    "    model.add(Dense(nbr_classes, kernel_regularizer=l2(l2_rate), activation='softmax'))\n",
    "    \n",
    "    return model"
   ]
  },
  {
   "cell_type": "markdown",
   "metadata": {},
   "source": [
    "# 3. Load Data"
   ]
  },
  {
   "cell_type": "markdown",
   "metadata": {},
   "source": [
    "### 3.1 Parameters and load files"
   ]
  },
  {
   "cell_type": "code",
   "execution_count": 4,
   "metadata": {},
   "outputs": [
    {
     "name": "stdout",
     "output_type": "stream",
     "text": [
      "Files number : 10000\n"
     ]
    }
   ],
   "source": [
    "train_ratio = 0.7\n",
    "with open(f'{idir}processed_files.json') as fichier_json:\n",
    "    all_nc = json.load(fichier_json)\n",
    "npz_files=[]\n",
    "\n",
    "for nc in all_nc :\n",
    "    name = nc[:15]\n",
    "    files = sorted(glob.glob(f'{idir}/{name}/*.npz'))\n",
    "    npz_files += files\n",
    "random.shuffle(npz_files)\n",
    "\n",
    "npz_files = npz_files[:10000]\n",
    "\n",
    "print('Files number : '+ str (len(npz_files)))\n",
    "train_files_number = int(len(npz_files) * train_ratio)\n",
    "train_files = npz_files[:train_files_number]\n",
    "valid_files = npz_files[train_files_number:]\n",
    "\n",
    "input_var_names = ['nersc_sar_primary', 'nersc_sar_secondary']\n",
    "amsr2_var_names = [ 'btemp_6_9h',\n",
    "                    'btemp_6_9v',\n",
    "                    'btemp_7_3h',\n",
    "                    'btemp_7_3v',\n",
    "                    'btemp_10_7h',\n",
    "                    'btemp_10_7v',\n",
    "                    'btemp_18_7h',\n",
    "                    'btemp_18_7v',\n",
    "                    'btemp_23_8h',\n",
    "                    'btemp_23_8v',\n",
    "                    'btemp_36_5h',\n",
    "                    'btemp_36_5v',\n",
    "                    'btemp_89_0h',\n",
    "                    'btemp_89_0v'\n",
    "                  ]\n",
    " \n",
    "output_var_name = 'ice_type'\n",
    "dims_amsr2 = np.load(npz_files[0])[amsr2_var_names[0]].shape\n",
    "\n",
    "params = {'dims_amsr2':      (*dims_amsr2, len(amsr2_var_names)),\n",
    "          'idir_json':       input_dir_json,\n",
    "          'output_var_name': output_var_name,\n",
    "          'input_var_names': input_var_names,\n",
    "          'amsr2_var_names': amsr2_var_names,\n",
    "          'batch_size':      50,\n",
    "          'shuffle_on_epoch_end': False,\n",
    "           }"
   ]
  },
  {
   "cell_type": "markdown",
   "metadata": {},
   "source": [
    "### 3.2 processed data for model"
   ]
  },
  {
   "cell_type": "code",
   "execution_count": 5,
   "metadata": {
    "scrolled": false
   },
   "outputs": [
    {
     "name": "stdout",
     "output_type": "stream",
     "text": [
      "(50, 50, 50, 2) (50, 4)\n"
     ]
    }
   ],
   "source": [
    "training_generator = HugoBinaryGenerator(train_files, **params)\n",
    "validation_generator = HugoBinaryGenerator(valid_files, **params)\n",
    "\n",
    "# training_generator = HugoDataGenerator(train_files, **params)\n",
    "# validation_generator = HugoDataGenerator(valid_files, **params)\n",
    "\n",
    "# training_generator = DataGenerator_sod_f(train_files, **params)\n",
    "# validation_generator = DataGenerator_sod_f(valid_files, **params)\n",
    "\n",
    "print(\n",
    "     training_generator[0][0].shape, #sar\n",
    "#     training_generator[0][0][1].shape, #amsr2\n",
    "     training_generator[0][1].shape, #output\n",
    ")"
   ]
  },
  {
   "cell_type": "markdown",
   "metadata": {},
   "source": [
    "# 4. Load model and trained weights"
   ]
  },
  {
   "cell_type": "markdown",
   "metadata": {},
   "source": [
    "### 4.1 Load model and trained weights"
   ]
  },
  {
   "cell_type": "code",
   "execution_count": 6,
   "metadata": {},
   "outputs": [],
   "source": [
    "# creation of the model \n",
    "model = create_model()"
   ]
  },
  {
   "cell_type": "markdown",
   "metadata": {},
   "source": [
    "### 4.2 Apply CNN to SAR data"
   ]
  },
  {
   "cell_type": "code",
   "execution_count": 7,
   "metadata": {
    "scrolled": false
   },
   "outputs": [
    {
     "name": "stdout",
     "output_type": "stream",
     "text": [
      "Model: \"sequential\"\n",
      "_________________________________________________________________\n",
      " Layer (type)                Output Shape              Param #   \n",
      "=================================================================\n",
      " batch_normalization (BatchN  (None, 50, 50, 2)        8         \n",
      " ormalization)                                                   \n",
      "                                                                 \n",
      " conv2d (Conv2D)             (None, 48, 48, 32)        608       \n",
      "                                                                 \n",
      " max_pooling2d (MaxPooling2D  (None, 24, 24, 32)       0         \n",
      " )                                                               \n",
      "                                                                 \n",
      " conv2d_1 (Conv2D)           (None, 22, 22, 32)        9248      \n",
      "                                                                 \n",
      " conv2d_2 (Conv2D)           (None, 20, 20, 32)        9248      \n",
      "                                                                 \n",
      " max_pooling2d_1 (MaxPooling  (None, 10, 10, 32)       0         \n",
      " 2D)                                                             \n",
      "                                                                 \n",
      " batch_normalization_1 (Batc  (None, 10, 10, 32)       128       \n",
      " hNormalization)                                                 \n",
      "                                                                 \n",
      " flatten (Flatten)           (None, 3200)              0         \n",
      "                                                                 \n",
      " dropout (Dropout)           (None, 3200)              0         \n",
      "                                                                 \n",
      " dense (Dense)               (None, 16)                51216     \n",
      "                                                                 \n",
      " dropout_1 (Dropout)         (None, 16)                0         \n",
      "                                                                 \n",
      " dense_1 (Dense)             (None, 16)                272       \n",
      "                                                                 \n",
      " dropout_2 (Dropout)         (None, 16)                0         \n",
      "                                                                 \n",
      " dense_2 (Dense)             (None, 64)                1088      \n",
      "                                                                 \n",
      " dropout_3 (Dropout)         (None, 64)                0         \n",
      "                                                                 \n",
      " dense_3 (Dense)             (None, 4)                 260       \n",
      "                                                                 \n",
      "=================================================================\n",
      "Total params: 72,076\n",
      "Trainable params: 72,008\n",
      "Non-trainable params: 68\n",
      "_________________________________________________________________\n",
      "Epoch 1/20\n",
      "139/140 [============================>.] - ETA: 0s - loss: 0.8717\n",
      "Epoch 1: val_loss improved from inf to 3.18188, saving model to hugo_model_1000\n"
     ]
    },
    {
     "name": "stderr",
     "output_type": "stream",
     "text": [
      "WARNING:absl:Found untraced functions such as _jit_compiled_convolution_op, _jit_compiled_convolution_op, _jit_compiled_convolution_op while saving (showing 3 of 3). These functions will not be directly callable after loading.\n"
     ]
    },
    {
     "name": "stdout",
     "output_type": "stream",
     "text": [
      "INFO:tensorflow:Assets written to: hugo_model_1000/assets\n"
     ]
    },
    {
     "name": "stderr",
     "output_type": "stream",
     "text": [
      "INFO:tensorflow:Assets written to: hugo_model_1000/assets\n"
     ]
    },
    {
     "name": "stdout",
     "output_type": "stream",
     "text": [
      "140/140 [==============================] - 20s 124ms/step - loss: 0.8708 - val_loss: 3.1819\n",
      "Epoch 2/20\n",
      "139/140 [============================>.] - ETA: 0s - loss: 0.7743\n",
      "Epoch 2: val_loss improved from 3.18188 to 0.88820, saving model to hugo_model_1000\n"
     ]
    },
    {
     "name": "stderr",
     "output_type": "stream",
     "text": [
      "WARNING:absl:Found untraced functions such as _jit_compiled_convolution_op, _jit_compiled_convolution_op, _jit_compiled_convolution_op while saving (showing 3 of 3). These functions will not be directly callable after loading.\n"
     ]
    },
    {
     "name": "stdout",
     "output_type": "stream",
     "text": [
      "INFO:tensorflow:Assets written to: hugo_model_1000/assets\n"
     ]
    },
    {
     "name": "stderr",
     "output_type": "stream",
     "text": [
      "INFO:tensorflow:Assets written to: hugo_model_1000/assets\n"
     ]
    },
    {
     "name": "stdout",
     "output_type": "stream",
     "text": [
      "140/140 [==============================] - 9s 65ms/step - loss: 0.7734 - val_loss: 0.8882\n",
      "Epoch 3/20\n",
      "140/140 [==============================] - ETA: 0s - loss: 0.7494\n",
      "Epoch 3: val_loss improved from 0.88820 to 0.68420, saving model to hugo_model_1000\n"
     ]
    },
    {
     "name": "stderr",
     "output_type": "stream",
     "text": [
      "WARNING:absl:Found untraced functions such as _jit_compiled_convolution_op, _jit_compiled_convolution_op, _jit_compiled_convolution_op while saving (showing 3 of 3). These functions will not be directly callable after loading.\n"
     ]
    },
    {
     "name": "stdout",
     "output_type": "stream",
     "text": [
      "INFO:tensorflow:Assets written to: hugo_model_1000/assets\n"
     ]
    },
    {
     "name": "stderr",
     "output_type": "stream",
     "text": [
      "INFO:tensorflow:Assets written to: hugo_model_1000/assets\n"
     ]
    },
    {
     "name": "stdout",
     "output_type": "stream",
     "text": [
      "140/140 [==============================] - 9s 66ms/step - loss: 0.7494 - val_loss: 0.6842\n",
      "Epoch 4/20\n",
      "140/140 [==============================] - ETA: 0s - loss: 0.7254\n",
      "Epoch 4: val_loss improved from 0.68420 to 0.68390, saving model to hugo_model_1000\n"
     ]
    },
    {
     "name": "stderr",
     "output_type": "stream",
     "text": [
      "WARNING:absl:Found untraced functions such as _jit_compiled_convolution_op, _jit_compiled_convolution_op, _jit_compiled_convolution_op while saving (showing 3 of 3). These functions will not be directly callable after loading.\n"
     ]
    },
    {
     "name": "stdout",
     "output_type": "stream",
     "text": [
      "INFO:tensorflow:Assets written to: hugo_model_1000/assets\n"
     ]
    },
    {
     "name": "stderr",
     "output_type": "stream",
     "text": [
      "INFO:tensorflow:Assets written to: hugo_model_1000/assets\n"
     ]
    },
    {
     "name": "stdout",
     "output_type": "stream",
     "text": [
      "140/140 [==============================] - 11s 74ms/step - loss: 0.7254 - val_loss: 0.6839\n",
      "Epoch 5/20\n",
      "140/140 [==============================] - ETA: 0s - loss: 0.7041\n",
      "Epoch 5: val_loss improved from 0.68390 to 0.67472, saving model to hugo_model_1000\n"
     ]
    },
    {
     "name": "stderr",
     "output_type": "stream",
     "text": [
      "WARNING:absl:Found untraced functions such as _jit_compiled_convolution_op, _jit_compiled_convolution_op, _jit_compiled_convolution_op while saving (showing 3 of 3). These functions will not be directly callable after loading.\n"
     ]
    },
    {
     "name": "stdout",
     "output_type": "stream",
     "text": [
      "INFO:tensorflow:Assets written to: hugo_model_1000/assets\n"
     ]
    },
    {
     "name": "stderr",
     "output_type": "stream",
     "text": [
      "INFO:tensorflow:Assets written to: hugo_model_1000/assets\n"
     ]
    },
    {
     "name": "stdout",
     "output_type": "stream",
     "text": [
      "140/140 [==============================] - 9s 65ms/step - loss: 0.7041 - val_loss: 0.6747\n",
      "Epoch 6/20\n",
      "140/140 [==============================] - ETA: 0s - loss: 0.6723\n",
      "Epoch 6: val_loss improved from 0.67472 to 0.65930, saving model to hugo_model_1000\n"
     ]
    },
    {
     "name": "stderr",
     "output_type": "stream",
     "text": [
      "WARNING:absl:Found untraced functions such as _jit_compiled_convolution_op, _jit_compiled_convolution_op, _jit_compiled_convolution_op while saving (showing 3 of 3). These functions will not be directly callable after loading.\n"
     ]
    },
    {
     "name": "stdout",
     "output_type": "stream",
     "text": [
      "INFO:tensorflow:Assets written to: hugo_model_1000/assets\n"
     ]
    },
    {
     "name": "stderr",
     "output_type": "stream",
     "text": [
      "INFO:tensorflow:Assets written to: hugo_model_1000/assets\n"
     ]
    },
    {
     "name": "stdout",
     "output_type": "stream",
     "text": [
      "140/140 [==============================] - 10s 66ms/step - loss: 0.6723 - val_loss: 0.6593\n",
      "Epoch 7/20\n",
      "140/140 [==============================] - ETA: 0s - loss: 0.6466\n",
      "Epoch 7: val_loss improved from 0.65930 to 0.64537, saving model to hugo_model_1000\n"
     ]
    },
    {
     "name": "stderr",
     "output_type": "stream",
     "text": [
      "WARNING:absl:Found untraced functions such as _jit_compiled_convolution_op, _jit_compiled_convolution_op, _jit_compiled_convolution_op while saving (showing 3 of 3). These functions will not be directly callable after loading.\n"
     ]
    },
    {
     "name": "stdout",
     "output_type": "stream",
     "text": [
      "INFO:tensorflow:Assets written to: hugo_model_1000/assets\n"
     ]
    },
    {
     "name": "stderr",
     "output_type": "stream",
     "text": [
      "INFO:tensorflow:Assets written to: hugo_model_1000/assets\n"
     ]
    },
    {
     "name": "stdout",
     "output_type": "stream",
     "text": [
      "140/140 [==============================] - 9s 65ms/step - loss: 0.6466 - val_loss: 0.6454\n",
      "Epoch 8/20\n",
      "140/140 [==============================] - ETA: 0s - loss: 0.6352\n",
      "Epoch 8: val_loss did not improve from 0.64537\n",
      "140/140 [==============================] - 8s 53ms/step - loss: 0.6352 - val_loss: 0.6687\n",
      "Epoch 9/20\n",
      "140/140 [==============================] - ETA: 0s - loss: 0.6150\n",
      "Epoch 9: val_loss did not improve from 0.64537\n",
      "140/140 [==============================] - 8s 53ms/step - loss: 0.6150 - val_loss: 0.6570\n",
      "Epoch 10/20\n",
      "140/140 [==============================] - ETA: 0s - loss: 0.5961\n",
      "Epoch 10: val_loss did not improve from 0.64537\n",
      "140/140 [==============================] - 8s 53ms/step - loss: 0.5961 - val_loss: 0.6893\n"
     ]
    }
   ],
   "source": [
    "#callbacks\n",
    "mc = tf.keras.callbacks.ModelCheckpoint(filepath='hugo_model_1000', \n",
    "                                        monitor='val_loss',\n",
    "                                        verbose=1, \n",
    "                                        save_best_only=True,\n",
    "                                        mode='min')\n",
    "\n",
    "es = tf.keras.callbacks.EarlyStopping(monitor='val_loss', patience=3)\n",
    "\n",
    "#optimizers and compile\n",
    "opt = tf.keras.optimizers.Adam()\n",
    "model.compile(optimizer=opt, loss='categorical_crossentropy')\n",
    "\n",
    "#fit\n",
    "model.summary()\n",
    "history = model.fit(training_generator, \n",
    "                    use_multiprocessing=True,\n",
    "                    workers=4,\n",
    "                    validation_data=validation_generator,\n",
    "                    epochs=20, \n",
    "                    callbacks=[mc, es])"
   ]
  },
  {
   "cell_type": "markdown",
   "metadata": {},
   "source": [
    "### 4.3 History of loss"
   ]
  },
  {
   "cell_type": "code",
   "execution_count": 8,
   "metadata": {},
   "outputs": [
    {
     "data": {
      "image/png": "[encoded data removed]",
      "text/plain": [
       "<Figure size 640x480 with 1 Axes>"
      ]
     },
     "metadata": {},
     "output_type": "display_data"
    }
   ],
   "source": [
    "plt.clf()\n",
    "plt.plot(history.history['loss'], label='loss')\n",
    "plt.plot(history.history['val_loss'], label='val_loss')\n",
    "plt.xlabel('epochs')\n",
    "plt.legend()\n",
    "plt.show()\n"
   ]
  },
  {
   "cell_type": "markdown",
   "metadata": {},
   "source": [
    "### 4.4 Confusion matrix"
   ]
  },
  {
   "cell_type": "code",
   "execution_count": 9,
   "metadata": {
    "scrolled": false
   },
   "outputs": [
    {
     "name": "stdout",
     "output_type": "stream",
     "text": [
      "60/60 [==============================] - 9s 140ms/step\n",
      "[[1425    1   61   15]\n",
      " [   9   10   31    5]\n",
      " [ 243    2  376  197]\n",
      " [  18    0   25  163]]\n"
     ]
    },
    {
     "data": {
      "image/png": "[encoded data removed]",
      "text/plain": [
       "<Figure size 640x480 with 1 Axes>"
      ]
     },
     "metadata": {},
     "output_type": "display_data"
    }
   ],
   "source": [
    "y_pred = model.predict(validation_generator)\n",
    "y_val = np.vstack([vg[1] for vg in validation_generator])\n",
    "y_val_index =[]\n",
    "y_pred_index =[]\n",
    "for val, pred in zip(y_val, y_pred):\n",
    "    if max(pred)>0.5 :\n",
    "        y_val_index.append(np.argmax(val))\n",
    "        y_pred_index.append(np.argmax(pred))\n",
    "    \n",
    "cm = confusion_matrix(y_val_index, y_pred_index)\n",
    "print(cm)\n",
    "plt.clf()\n",
    "plt.imshow(cm)\n",
    "plt.show()"
   ]
  },
  {
   "cell_type": "markdown",
   "metadata": {},
   "source": [
    "#### analysis confusion matrix"
   ]
  },
  {
   "cell_type": "code",
   "execution_count": 10,
   "metadata": {},
   "outputs": [
    {
     "name": "stdout",
     "output_type": "stream",
     "text": [
      "Accuracy : 0.764819837272375\n",
      "Precision : 0.7003908967601525 0.764819837272375\n",
      "Recall : 0.595368259856343 0.764819837272375\n",
      "0.7373632741991712\n",
      "0.6966292134831461\n"
     ]
    }
   ],
   "source": [
    "AC = accuracy_score(y_val_index, y_pred_index)\n",
    "print ('Accuracy : ' +str(AC))\n",
    "\n",
    "P_macro = precision_score(y_val_index, y_pred_index, average='macro')\n",
    "P_micro = precision_score(y_val_index, y_pred_index, average='micro')\n",
    "print('Precision : ' + str(P_macro)+ \" \" +str(P_micro))\n",
    "\n",
    "R_macro = recall_score(y_val_index, y_pred_index, average='macro') \n",
    "R_micro = recall_score(y_val_index, y_pred_index, average='micro') \n",
    "print('Recall : ' + str(R_macro)+ \" \" +str(R_micro))\n",
    "\n",
    "pearson_correlation = stats.pearsonr(y_val_index, y_pred_index)\n",
    "print(pearson_correlation[0])\n",
    "\n",
    "rmse = mean_squared_error(y_val_index, y_pred_index)\n",
    "print(rmse)"
   ]
  },
  {
   "cell_type": "code",
   "execution_count": 11,
   "metadata": {},
   "outputs": [
    {
     "name": "stdout",
     "output_type": "stream",
     "text": [
      "class : 0\n",
      "TP : 1425\n",
      "TN : 809\n",
      "class : 1\n",
      "TP : 10\n",
      "TN : 2523\n",
      "class : 2\n",
      "TP : 376\n",
      "TN : 1646\n",
      "class : 3\n",
      "TP : 163\n",
      "TN : 2158\n"
     ]
    }
   ],
   "source": [
    "for class_ in range (cm.shape[0]) :\n",
    "    print('class : '+ str(class_))\n",
    "    TP = cm[class_][class_]\n",
    "    print ('TP : '+ str(TP))\n",
    "    \n",
    "    M = np.delete(cm, (class_), axis=0)\n",
    "    M = np.delete(M, (class_), axis=1)\n",
    "    \n",
    "    TN =np.sum(M)\n",
    "    print ('TN : '+ str(TN))\n",
    "    \n",
    "    \n",
    "    lign = cm[0,1:]\n",
    "    #recuperer la ligne puis supprimer l'element a l'indice class_\n",
    "#     FP = \n",
    "    \n",
    "    \n",
    "    \n",
    "    "
   ]
  },
  {
   "cell_type": "code",
   "execution_count": 12,
   "metadata": {},
   "outputs": [
    {
     "data": {
      "image/png": "[encoded data removed]",
      "text/plain": [
       "<Figure size 640x480 with 1 Axes>"
      ]
     },
     "metadata": {},
     "output_type": "display_data"
    }
   ],
   "source": [
    "plt.plot(y_val[:,0], y_pred[:,0], '.')\n",
    "plt.show()"
   ]
  },
  {
   "cell_type": "code",
   "execution_count": 13,
   "metadata": {},
   "outputs": [
    {
     "name": "stdout",
     "output_type": "stream",
     "text": [
      "[[1425    1   61   15]\n",
      " [   9   10   31    5]\n",
      " [ 243    2  376  197]\n",
      " [  18    0   25  163]]\n",
      "[ 1 61 15]\n",
      "[  9 243  18]\n"
     ]
    }
   ],
   "source": [
    "\n",
    "print(cm)\n",
    "# print (cm[1:,1:])\n",
    "print(cm[0,1:])\n",
    "print(cm[1:,0])\n",
    "\n",
    "# M = np.delete(cm, (2), axis=0)\n",
    "# M = np.delete(M, (2), axis=1)\n",
    "# print (M)"
   ]
  },
  {
   "cell_type": "code",
   "execution_count": 14,
   "metadata": {},
   "outputs": [],
   "source": [
    "from tensorflow import keras\n",
    "modelbis = keras.models.load_model('/tf/sea_ice_type_cnn_training/asip_v2/hugo_model_test_all/')"
   ]
  },
  {
   "cell_type": "code",
   "execution_count": 15,
   "metadata": {},
   "outputs": [
    {
     "name": "stdout",
     "output_type": "stream",
     "text": [
      "60/60 [==============================] - 8s 136ms/step\n"
     ]
    }
   ],
   "source": [
    "y_pred = modelbis.predict(validation_generator)"
   ]
  },
  {
   "cell_type": "code",
   "execution_count": 16,
   "metadata": {},
   "outputs": [],
   "source": [
    "y_val = np.vstack([vg[1] for vg in validation_generator])\n",
    "y_val_index =[]\n",
    "y_pred_index =[]\n",
    "for val, pred in zip(y_val, y_pred):\n",
    "    if max(pred)>0.5 :\n",
    "        y_val_index.append(np.argmax(val))\n",
    "        y_pred_index.append(np.argmax(pred))\n",
    "    \n",
    "cm = confusion_matrix(y_val_index, y_pred_index)"
   ]
  },
  {
   "cell_type": "code",
   "execution_count": 17,
   "metadata": {},
   "outputs": [
    {
     "name": "stdout",
     "output_type": "stream",
     "text": [
      "[[1426    2  120    3]\n",
      " [   3   56   32    8]\n",
      " [  89    9  823   77]\n",
      " [   6    2   86  153]]\n"
     ]
    }
   ],
   "source": [
    "print(cm)"
   ]
  },
  {
   "cell_type": "code",
   "execution_count": null,
   "metadata": {},
   "outputs": [],
   "source": []
  }
 ],
 "metadata": {
  "kernelspec": {
   "display_name": "Python 3",
   "language": "python",
   "name": "python3"
  },
  "language_info": {
   "codemirror_mode": {
    "name": "ipython",
    "version": 3
   },
   "file_extension": ".py",
   "mimetype": "text/x-python",
   "name": "python",
   "nbconvert_exporter": "python",
   "pygments_lexer": "ipython3",
   "version": "3.8.10"
  }
 },
 "nbformat": 4,
 "nbformat_minor": 2
}
