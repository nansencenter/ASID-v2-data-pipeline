{
 "cells": [
  {
   "cell_type": "code",
   "execution_count": 3,
   "metadata": {},
   "outputs": [],
   "source": [
    "import glob\n",
    "import json\n",
    "\n",
    "idir='/Data/sat/downloads/sentinel1/AI4Arctic_ASIP_Sea_Ice_Dataset_v2/analysis/output'"
   ]
  },
  {
   "cell_type": "code",
   "execution_count": null,
   "metadata": {},
   "outputs": [],
   "source": [
    "\n",
    "\n",
    "with open('/Data/sat/downloads/sentinel1/AI4Arctic_ASIP_Sea_Ice_Dataset_v2/analysis/output/pre.json') as mon_fichier:\n",
    "    data = json.load(mon_fichier)\n",
    "\n",
    "print(data)"
   ]
  },
  {
   "cell_type": "code",
   "execution_count": null,
   "metadata": {},
   "outputs": [],
   "source": [
    "\n",
    "\n",
    "npz_files = sorted(glob.glob(\"analysis/output/20180410T084537*.npz\"))\n",
    "\n",
    "array = []\n",
    "\n",
    "for npz_file in npz_files:\n",
    "\n",
    "    d = np.load(npz_file)\n",
    "\n",
    "    array.append(np.hstack([d[\"ice_type\"], d[\"distance_border\"]]))\n",
    "\n",
    "array = np.array(array)\n",
    "\n",
    "np.savez(\"analysis/20180410T084537_all_npz.npz\", array=array)"
   ]
  }
 ],
 "metadata": {
  "kernelspec": {
   "display_name": "Python 3",
   "language": "python",
   "name": "python3"
  },
  "language_info": {
   "codemirror_mode": {
    "name": "ipython",
    "version": 3
   },
   "file_extension": ".py",
   "mimetype": "text/x-python",
   "name": "python",
   "nbconvert_exporter": "python",
   "pygments_lexer": "ipython3",
   "version": "3.8.10"
  }
 },
 "nbformat": 4,
 "nbformat_minor": 2
}
