{
 "cells": [
  {
   "cell_type": "markdown",
   "metadata": {},
   "source": [
    "# Analysis of AMSR2 data"
   ]
  },
  {
   "cell_type": "markdown",
   "metadata": {},
   "source": [
    "This notebook allows the calculation of the mean and standard deviation of the AMSR2 data for each frequency band following each polarisation.\n",
    "This data will allow the AMSR2 data tensor to be standardised during concatenation in the network."
   ]
  },
  {
   "cell_type": "markdown",
   "metadata": {},
   "source": [
    "## Import"
   ]
  },
  {
   "cell_type": "code",
   "execution_count": 1,
   "metadata": {},
   "outputs": [
    {
     "name": "stderr",
     "output_type": "stream",
     "text": [
      "Matplotlib created a temporary config/cache directory at /tmp/matplotlib-i5kcojd2 because the default path (/.config/matplotlib) is not a writable directory; it is highly recommended to set the MPLCONFIGDIR environment variable to a writable directory, in particular to speed up the import of Matplotlib and to better support multiprocessing.\n"
     ]
    }
   ],
   "source": [
    "import glob\n",
    "import argparse\n",
    "import datetime\n",
    "import os\n",
    "from os.path import basename, dirname, join\n",
    "from operator import itemgetter\n",
    "import random\n",
    "import json\n",
    "import numpy as np\n",
    "import matplotlib.pyplot as plt\n",
    "import statistics"
   ]
  },
  {
   "cell_type": "markdown",
   "metadata": {},
   "source": [
    "## Path of data"
   ]
  },
  {
   "cell_type": "code",
   "execution_count": 2,
   "metadata": {},
   "outputs": [],
   "source": [
    "input_dir_json = '/tf/data/hugo_sod/'\n",
    "idir = '/tf/data/hugo_sod/output_preprocessed/'"
   ]
  },
  {
   "cell_type": "markdown",
   "metadata": {},
   "source": [
    "## Processed"
   ]
  },
  {
   "cell_type": "code",
   "execution_count": 3,
   "metadata": {},
   "outputs": [
    {
     "name": "stdout",
     "output_type": "stream",
     "text": [
      "888522\n"
     ]
    }
   ],
   "source": [
    "with open(f'{idir}processed_files.json') as fichier_json:\n",
    "    all_nc = json.load(fichier_json)\n",
    "npz_files=[]\n",
    "\n",
    "\n",
    "for nc in all_nc :\n",
    "    name = nc[:15]\n",
    "    files = sorted(glob.glob(f'{idir}/{name}/*.npz'))\n",
    "    npz_files += files\n",
    "random.shuffle(npz_files)\n",
    "print(len(npz_files))"
   ]
  },
  {
   "cell_type": "code",
   "execution_count": 4,
   "metadata": {},
   "outputs": [],
   "source": [
    "amsr2_var_names = ['btemp_6_9h',\n",
    "                   'btemp_6_9v',\n",
    "                   'btemp_7_3h',\n",
    "                   'btemp_7_3v',\n",
    "                   'btemp_10_7h',\n",
    "                   'btemp_10_7v',\n",
    "                   'btemp_18_7h',\n",
    "                   'btemp_18_7v',\n",
    "                   'btemp_23_8h',\n",
    "                   'btemp_23_8v',\n",
    "                   'btemp_36_5h',\n",
    "                   'btemp_36_5v',\n",
    "                   'btemp_89_0h',\n",
    "                   'btemp_89_0v'\n",
    "                  ]\n",
    "dims_amsr2 = np.load(npz_files[0])[amsr2_var_names[0]].shape\n",
    "dims_amsr2= (*dims_amsr2, len(amsr2_var_names))"
   ]
  },
  {
   "cell_type": "code",
   "execution_count": 5,
   "metadata": {},
   "outputs": [],
   "source": [
    "z= []\n",
    "for i in range(len(amsr2_var_names)):\n",
    "    z.append([])\n",
    "for ID in npz_files[:2000]:\n",
    "    batch = {}\n",
    "    batch.update(np.load(ID))\n",
    "    for j, amsr2_name in enumerate(amsr2_var_names):\n",
    "        z[j].append(list(batch.get(amsr2_name).flatten()))"
   ]
  },
  {
   "cell_type": "code",
   "execution_count": 6,
   "metadata": {},
   "outputs": [
    {
     "name": "stdout",
     "output_type": "stream",
     "text": [
      "{'btemp_6_9h': [149.23788, 56.49082], 'btemp_6_9v': [204.98549, 36.33368], 'btemp_7_3h': [150.37196, 56.59285], 'btemp_7_3v': [205.71017, 36.34493], 'btemp_10_7h': [155.304, 56.9012], 'btemp_10_7v': [210.9305, 34.505795], 'btemp_18_7h': [168.22734, 50.159405], 'btemp_18_7v': [221.29988, 26.990482], 'btemp_23_8h': [185.93535, 40.547512], 'btemp_23_8v': [229.78435, 20.768389], 'btemp_36_5h': [188.98741, 38.220444], 'btemp_36_5v': [232.11049, 16.431904], 'btemp_89_0h': [216.95062, 20.528406], 'btemp_89_0v': [244.92033, 12.187659]}\n"
     ]
    }
   ],
   "source": [
    "dict_bandes={}\n",
    "for i,bande in enumerate(z):\n",
    "    data_bande=sum(bande,[])\n",
    "    mean_ = statistics.mean(data_bande)\n",
    "    stdev = np.std(data_bande)\n",
    "    result = [mean_, stdev]\n",
    "    dict_bandes.update( {amsr2_var_names[i] : result} )\n",
    "    \n",
    "print(dict_bandes)"
   ]
  }
 ],
 "metadata": {
  "kernelspec": {
   "display_name": "Python 3",
   "language": "python",
   "name": "python3"
  },
  "language_info": {
   "codemirror_mode": {
    "name": "ipython",
    "version": 3
   },
   "file_extension": ".py",
   "mimetype": "text/x-python",
   "name": "python",
   "nbconvert_exporter": "python",
   "pygments_lexer": "ipython3",
   "version": "3.8.10"
  }
 },
 "nbformat": 4,
 "nbformat_minor": 2
}
