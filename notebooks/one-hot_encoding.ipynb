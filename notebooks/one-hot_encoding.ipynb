{
 "cells": [
  {
   "cell_type": "code",
   "execution_count": 5,
   "id": "39811c0f",
   "metadata": {},
   "outputs": [],
   "source": [
    "import glob\n",
    "import os\n",
    "\n",
    "import matplotlib.pyplot as plt\n",
    "import matplotlib as mpl\n",
    "import netCDF4 as nc\n",
    "import numpy as np\n",
    "\n",
    "from hot_encoding_utils import ice_type, one_hot_m1, one_hot_m2\n",
    "\n",
    "\n",
    "from scipy.interpolate import RectBivariateSpline\n",
    "\n",
    "%matplotlib inline"
   ]
  },
  {
   "cell_type": "code",
   "execution_count": 2,
   "id": "eaf50192",
   "metadata": {},
   "outputs": [
    {
     "data": {
      "text/plain": [
       "'C:\\\\Alissa\\\\ENSG\\\\ING2\\\\STAGE\\\\Dev\\\\satellite-data-pipeline\\\\asip_v2'"
      ]
     },
     "execution_count": 2,
     "metadata": {},
     "output_type": "execute_result"
    }
   ],
   "source": [
    "pwd"
   ]
  },
  {
   "cell_type": "code",
   "execution_count": 3,
   "id": "7ed3cba3",
   "metadata": {},
   "outputs": [
    {
     "name": "stdout",
     "output_type": "stream",
     "text": [
      "D:\\training\n"
     ]
    }
   ],
   "source": [
    "%cd \"D:/training\""
   ]
  },
  {
   "cell_type": "code",
   "execution_count": 4,
   "id": "79af45dc",
   "metadata": {},
   "outputs": [],
   "source": [
    "ifile = 'D:/training/20190509T081206_S1A_AMSR2_Icechart-Greenland-CentralEast.nc'\n",
    "ds = nc.Dataset(ifile)"
   ]
  },
  {
   "cell_type": "code",
   "execution_count": 5,
   "id": "cf3ff5e1",
   "metadata": {},
   "outputs": [
    {
     "data": {
      "application/javascript": [
       "/* Put everything inside the global mpl namespace */\n",
       "/* global mpl */\n",
       "window.mpl = {};\n",
       "\n",
       "mpl.get_websocket_type = function () {\n",
       "    if (typeof WebSocket !== 'undefined') {\n",
       "        return WebSocket;\n",
       "    } else if (typeof MozWebSocket !== 'undefined') {\n",
       "        return MozWebSocket;\n",
       "    } else {\n",
       "        alert(\n",
       "            'Your browser does not have WebSocket support. ' +\n",
       "                'Please try Chrome, Safari or Firefox ≥ 6. ' +\n",
       "                'Firefox 4 and 5 are also supported but you ' +\n",
       "                'have to enable WebSockets in about:config.'\n",
       "        );\n",
       "    }\n",
       "};\n",
       "\n",
       "mpl.figure = function (figure_id, websocket, ondownload, parent_element) {\n",
       "    this.id = figure_id;\n",
       "\n",
       "    this.ws = websocket;\n",
       "\n",
       "    this.supports_binary = this.ws.binaryType !== undefined;\n",
       "\n",
       "    if (!this.supports_binary) {\n",
       "        var warnings = document.getElementById('mpl-warnings');\n",
       "        if (warnings) {\n",
       "            warnings.style.display = 'block';\n",
       "            warnings.textContent =\n",
       "                'This browser does not support binary websocket messages. ' +\n",
       "                'Performance may be slow.';\n",
       "        }\n",
       "    }\n",
       "\n",
       "    this.imageObj = new Image();\n",
       "\n",
       "    this.context = undefined;\n",
       "    this.message = undefined;\n",
       "    this.canvas = undefined;\n",
       "    this.rubberband_canvas = undefined;\n",
       "    this.rubberband_context = undefined;\n",
       "    this.format_dropdown = undefined;\n",
       "\n",
       "    this.image_mode = 'full';\n",
       "\n",
       "    this.root = document.createElement('div');\n",
       "    this.root.setAttribute('style', 'display: inline-block');\n",
       "    this._root_extra_style(this.root);\n",
       "\n",
       "    parent_element.appendChild(this.root);\n",
       "\n",
       "    this._init_header(this);\n",
       "    this._init_canvas(this);\n",
       "    this._init_toolbar(this);\n",
       "\n",
       "    var fig = this;\n",
       "\n",
       "    this.waiting = false;\n",
       "\n",
       "    this.ws.onopen = function () {\n",
       "        fig.send_message('supports_binary', { value: fig.supports_binary });\n",
       "        fig.send_message('send_image_mode', {});\n",
       "        if (fig.ratio !== 1) {\n",
       "            fig.send_message('set_dpi_ratio', { dpi_ratio: fig.ratio });\n",
       "        }\n",
       "        fig.send_message('refresh', {});\n",
       "    };\n",
       "\n",
       "    this.imageObj.onload = function () {\n",
       "        if (fig.image_mode === 'full') {\n",
       "            // Full images could contain transparency (where diff images\n",
       "            // almost always do), so we need to clear the canvas so that\n",
       "            // there is no ghosting.\n",
       "            fig.context.clearRect(0, 0, fig.canvas.width, fig.canvas.height);\n",
       "        }\n",
       "        fig.context.drawImage(fig.imageObj, 0, 0);\n",
       "    };\n",
       "\n",
       "    this.imageObj.onunload = function () {\n",
       "        fig.ws.close();\n",
       "    };\n",
       "\n",
       "    this.ws.onmessage = this._make_on_message_function(this);\n",
       "\n",
       "    this.ondownload = ondownload;\n",
       "};\n",
       "\n",
       "mpl.figure.prototype._init_header = function () {\n",
       "    var titlebar = document.createElement('div');\n",
       "    titlebar.classList =\n",
       "        'ui-dialog-titlebar ui-widget-header ui-corner-all ui-helper-clearfix';\n",
       "    var titletext = document.createElement('div');\n",
       "    titletext.classList = 'ui-dialog-title';\n",
       "    titletext.setAttribute(\n",
       "        'style',\n",
       "        'width: 100%; text-align: center; padding: 3px;'\n",
       "    );\n",
       "    titlebar.appendChild(titletext);\n",
       "    this.root.appendChild(titlebar);\n",
       "    this.header = titletext;\n",
       "};\n",
       "\n",
       "mpl.figure.prototype._canvas_extra_style = function (_canvas_div) {};\n",
       "\n",
       "mpl.figure.prototype._root_extra_style = function (_canvas_div) {};\n",
       "\n",
       "mpl.figure.prototype._init_canvas = function () {\n",
       "    var fig = this;\n",
       "\n",
       "    var canvas_div = (this.canvas_div = document.createElement('div'));\n",
       "    canvas_div.setAttribute(\n",
       "        'style',\n",
       "        'border: 1px solid #ddd;' +\n",
       "            'box-sizing: content-box;' +\n",
       "            'clear: both;' +\n",
       "            'min-height: 1px;' +\n",
       "            'min-width: 1px;' +\n",
       "            'outline: 0;' +\n",
       "            'overflow: hidden;' +\n",
       "            'position: relative;' +\n",
       "            'resize: both;'\n",
       "    );\n",
       "\n",
       "    function on_keyboard_event_closure(name) {\n",
       "        return function (event) {\n",
       "            return fig.key_event(event, name);\n",
       "        };\n",
       "    }\n",
       "\n",
       "    canvas_div.addEventListener(\n",
       "        'keydown',\n",
       "        on_keyboard_event_closure('key_press')\n",
       "    );\n",
       "    canvas_div.addEventListener(\n",
       "        'keyup',\n",
       "        on_keyboard_event_closure('key_release')\n",
       "    );\n",
       "\n",
       "    this._canvas_extra_style(canvas_div);\n",
       "    this.root.appendChild(canvas_div);\n",
       "\n",
       "    var canvas = (this.canvas = document.createElement('canvas'));\n",
       "    canvas.classList.add('mpl-canvas');\n",
       "    canvas.setAttribute('style', 'box-sizing: content-box;');\n",
       "\n",
       "    this.context = canvas.getContext('2d');\n",
       "\n",
       "    var backingStore =\n",
       "        this.context.backingStorePixelRatio ||\n",
       "        this.context.webkitBackingStorePixelRatio ||\n",
       "        this.context.mozBackingStorePixelRatio ||\n",
       "        this.context.msBackingStorePixelRatio ||\n",
       "        this.context.oBackingStorePixelRatio ||\n",
       "        this.context.backingStorePixelRatio ||\n",
       "        1;\n",
       "\n",
       "    this.ratio = (window.devicePixelRatio || 1) / backingStore;\n",
       "\n",
       "    var rubberband_canvas = (this.rubberband_canvas = document.createElement(\n",
       "        'canvas'\n",
       "    ));\n",
       "    rubberband_canvas.setAttribute(\n",
       "        'style',\n",
       "        'box-sizing: content-box; position: absolute; left: 0; top: 0; z-index: 1;'\n",
       "    );\n",
       "\n",
       "    // Apply a ponyfill if ResizeObserver is not implemented by browser.\n",
       "    if (this.ResizeObserver === undefined) {\n",
       "        if (window.ResizeObserver !== undefined) {\n",
       "            this.ResizeObserver = window.ResizeObserver;\n",
       "        } else {\n",
       "            var obs = _JSXTOOLS_RESIZE_OBSERVER({});\n",
       "            this.ResizeObserver = obs.ResizeObserver;\n",
       "        }\n",
       "    }\n",
       "\n",
       "    this.resizeObserverInstance = new this.ResizeObserver(function (entries) {\n",
       "        var nentries = entries.length;\n",
       "        for (var i = 0; i < nentries; i++) {\n",
       "            var entry = entries[i];\n",
       "            var width, height;\n",
       "            if (entry.contentBoxSize) {\n",
       "                if (entry.contentBoxSize instanceof Array) {\n",
       "                    // Chrome 84 implements new version of spec.\n",
       "                    width = entry.contentBoxSize[0].inlineSize;\n",
       "                    height = entry.contentBoxSize[0].blockSize;\n",
       "                } else {\n",
       "                    // Firefox implements old version of spec.\n",
       "                    width = entry.contentBoxSize.inlineSize;\n",
       "                    height = entry.contentBoxSize.blockSize;\n",
       "                }\n",
       "            } else {\n",
       "                // Chrome <84 implements even older version of spec.\n",
       "                width = entry.contentRect.width;\n",
       "                height = entry.contentRect.height;\n",
       "            }\n",
       "\n",
       "            // Keep the size of the canvas and rubber band canvas in sync with\n",
       "            // the canvas container.\n",
       "            if (entry.devicePixelContentBoxSize) {\n",
       "                // Chrome 84 implements new version of spec.\n",
       "                canvas.setAttribute(\n",
       "                    'width',\n",
       "                    entry.devicePixelContentBoxSize[0].inlineSize\n",
       "                );\n",
       "                canvas.setAttribute(\n",
       "                    'height',\n",
       "                    entry.devicePixelContentBoxSize[0].blockSize\n",
       "                );\n",
       "            } else {\n",
       "                canvas.setAttribute('width', width * fig.ratio);\n",
       "                canvas.setAttribute('height', height * fig.ratio);\n",
       "            }\n",
       "            canvas.setAttribute(\n",
       "                'style',\n",
       "                'width: ' + width + 'px; height: ' + height + 'px;'\n",
       "            );\n",
       "\n",
       "            rubberband_canvas.setAttribute('width', width);\n",
       "            rubberband_canvas.setAttribute('height', height);\n",
       "\n",
       "            // And update the size in Python. We ignore the initial 0/0 size\n",
       "            // that occurs as the element is placed into the DOM, which should\n",
       "            // otherwise not happen due to the minimum size styling.\n",
       "            if (fig.ws.readyState == 1 && width != 0 && height != 0) {\n",
       "                fig.request_resize(width, height);\n",
       "            }\n",
       "        }\n",
       "    });\n",
       "    this.resizeObserverInstance.observe(canvas_div);\n",
       "\n",
       "    function on_mouse_event_closure(name) {\n",
       "        return function (event) {\n",
       "            return fig.mouse_event(event, name);\n",
       "        };\n",
       "    }\n",
       "\n",
       "    rubberband_canvas.addEventListener(\n",
       "        'mousedown',\n",
       "        on_mouse_event_closure('button_press')\n",
       "    );\n",
       "    rubberband_canvas.addEventListener(\n",
       "        'mouseup',\n",
       "        on_mouse_event_closure('button_release')\n",
       "    );\n",
       "    // Throttle sequential mouse events to 1 every 20ms.\n",
       "    rubberband_canvas.addEventListener(\n",
       "        'mousemove',\n",
       "        on_mouse_event_closure('motion_notify')\n",
       "    );\n",
       "\n",
       "    rubberband_canvas.addEventListener(\n",
       "        'mouseenter',\n",
       "        on_mouse_event_closure('figure_enter')\n",
       "    );\n",
       "    rubberband_canvas.addEventListener(\n",
       "        'mouseleave',\n",
       "        on_mouse_event_closure('figure_leave')\n",
       "    );\n",
       "\n",
       "    canvas_div.addEventListener('wheel', function (event) {\n",
       "        if (event.deltaY < 0) {\n",
       "            event.step = 1;\n",
       "        } else {\n",
       "            event.step = -1;\n",
       "        }\n",
       "        on_mouse_event_closure('scroll')(event);\n",
       "    });\n",
       "\n",
       "    canvas_div.appendChild(canvas);\n",
       "    canvas_div.appendChild(rubberband_canvas);\n",
       "\n",
       "    this.rubberband_context = rubberband_canvas.getContext('2d');\n",
       "    this.rubberband_context.strokeStyle = '#000000';\n",
       "\n",
       "    this._resize_canvas = function (width, height, forward) {\n",
       "        if (forward) {\n",
       "            canvas_div.style.width = width + 'px';\n",
       "            canvas_div.style.height = height + 'px';\n",
       "        }\n",
       "    };\n",
       "\n",
       "    // Disable right mouse context menu.\n",
       "    this.rubberband_canvas.addEventListener('contextmenu', function (_e) {\n",
       "        event.preventDefault();\n",
       "        return false;\n",
       "    });\n",
       "\n",
       "    function set_focus() {\n",
       "        canvas.focus();\n",
       "        canvas_div.focus();\n",
       "    }\n",
       "\n",
       "    window.setTimeout(set_focus, 100);\n",
       "};\n",
       "\n",
       "mpl.figure.prototype._init_toolbar = function () {\n",
       "    var fig = this;\n",
       "\n",
       "    var toolbar = document.createElement('div');\n",
       "    toolbar.classList = 'mpl-toolbar';\n",
       "    this.root.appendChild(toolbar);\n",
       "\n",
       "    function on_click_closure(name) {\n",
       "        return function (_event) {\n",
       "            return fig.toolbar_button_onclick(name);\n",
       "        };\n",
       "    }\n",
       "\n",
       "    function on_mouseover_closure(tooltip) {\n",
       "        return function (event) {\n",
       "            if (!event.currentTarget.disabled) {\n",
       "                return fig.toolbar_button_onmouseover(tooltip);\n",
       "            }\n",
       "        };\n",
       "    }\n",
       "\n",
       "    fig.buttons = {};\n",
       "    var buttonGroup = document.createElement('div');\n",
       "    buttonGroup.classList = 'mpl-button-group';\n",
       "    for (var toolbar_ind in mpl.toolbar_items) {\n",
       "        var name = mpl.toolbar_items[toolbar_ind][0];\n",
       "        var tooltip = mpl.toolbar_items[toolbar_ind][1];\n",
       "        var image = mpl.toolbar_items[toolbar_ind][2];\n",
       "        var method_name = mpl.toolbar_items[toolbar_ind][3];\n",
       "\n",
       "        if (!name) {\n",
       "            /* Instead of a spacer, we start a new button group. */\n",
       "            if (buttonGroup.hasChildNodes()) {\n",
       "                toolbar.appendChild(buttonGroup);\n",
       "            }\n",
       "            buttonGroup = document.createElement('div');\n",
       "            buttonGroup.classList = 'mpl-button-group';\n",
       "            continue;\n",
       "        }\n",
       "\n",
       "        var button = (fig.buttons[name] = document.createElement('button'));\n",
       "        button.classList = 'mpl-widget';\n",
       "        button.setAttribute('role', 'button');\n",
       "        button.setAttribute('aria-disabled', 'false');\n",
       "        button.addEventListener('click', on_click_closure(method_name));\n",
       "        button.addEventListener('mouseover', on_mouseover_closure(tooltip));\n",
       "\n",
       "        var icon_img = document.createElement('img');\n",
       "        icon_img.src = '_images/' + image + '.png';\n",
       "        icon_img.srcset = '_images/' + image + '_large.png 2x';\n",
       "        icon_img.alt = tooltip;\n",
       "        button.appendChild(icon_img);\n",
       "\n",
       "        buttonGroup.appendChild(button);\n",
       "    }\n",
       "\n",
       "    if (buttonGroup.hasChildNodes()) {\n",
       "        toolbar.appendChild(buttonGroup);\n",
       "    }\n",
       "\n",
       "    var fmt_picker = document.createElement('select');\n",
       "    fmt_picker.classList = 'mpl-widget';\n",
       "    toolbar.appendChild(fmt_picker);\n",
       "    this.format_dropdown = fmt_picker;\n",
       "\n",
       "    for (var ind in mpl.extensions) {\n",
       "        var fmt = mpl.extensions[ind];\n",
       "        var option = document.createElement('option');\n",
       "        option.selected = fmt === mpl.default_extension;\n",
       "        option.innerHTML = fmt;\n",
       "        fmt_picker.appendChild(option);\n",
       "    }\n",
       "\n",
       "    var status_bar = document.createElement('span');\n",
       "    status_bar.classList = 'mpl-message';\n",
       "    toolbar.appendChild(status_bar);\n",
       "    this.message = status_bar;\n",
       "};\n",
       "\n",
       "mpl.figure.prototype.request_resize = function (x_pixels, y_pixels) {\n",
       "    // Request matplotlib to resize the figure. Matplotlib will then trigger a resize in the client,\n",
       "    // which will in turn request a refresh of the image.\n",
       "    this.send_message('resize', { width: x_pixels, height: y_pixels });\n",
       "};\n",
       "\n",
       "mpl.figure.prototype.send_message = function (type, properties) {\n",
       "    properties['type'] = type;\n",
       "    properties['figure_id'] = this.id;\n",
       "    this.ws.send(JSON.stringify(properties));\n",
       "};\n",
       "\n",
       "mpl.figure.prototype.send_draw_message = function () {\n",
       "    if (!this.waiting) {\n",
       "        this.waiting = true;\n",
       "        this.ws.send(JSON.stringify({ type: 'draw', figure_id: this.id }));\n",
       "    }\n",
       "};\n",
       "\n",
       "mpl.figure.prototype.handle_save = function (fig, _msg) {\n",
       "    var format_dropdown = fig.format_dropdown;\n",
       "    var format = format_dropdown.options[format_dropdown.selectedIndex].value;\n",
       "    fig.ondownload(fig, format);\n",
       "};\n",
       "\n",
       "mpl.figure.prototype.handle_resize = function (fig, msg) {\n",
       "    var size = msg['size'];\n",
       "    if (size[0] !== fig.canvas.width || size[1] !== fig.canvas.height) {\n",
       "        fig._resize_canvas(size[0], size[1], msg['forward']);\n",
       "        fig.send_message('refresh', {});\n",
       "    }\n",
       "};\n",
       "\n",
       "mpl.figure.prototype.handle_rubberband = function (fig, msg) {\n",
       "    var x0 = msg['x0'] / fig.ratio;\n",
       "    var y0 = (fig.canvas.height - msg['y0']) / fig.ratio;\n",
       "    var x1 = msg['x1'] / fig.ratio;\n",
       "    var y1 = (fig.canvas.height - msg['y1']) / fig.ratio;\n",
       "    x0 = Math.floor(x0) + 0.5;\n",
       "    y0 = Math.floor(y0) + 0.5;\n",
       "    x1 = Math.floor(x1) + 0.5;\n",
       "    y1 = Math.floor(y1) + 0.5;\n",
       "    var min_x = Math.min(x0, x1);\n",
       "    var min_y = Math.min(y0, y1);\n",
       "    var width = Math.abs(x1 - x0);\n",
       "    var height = Math.abs(y1 - y0);\n",
       "\n",
       "    fig.rubberband_context.clearRect(\n",
       "        0,\n",
       "        0,\n",
       "        fig.canvas.width / fig.ratio,\n",
       "        fig.canvas.height / fig.ratio\n",
       "    );\n",
       "\n",
       "    fig.rubberband_context.strokeRect(min_x, min_y, width, height);\n",
       "};\n",
       "\n",
       "mpl.figure.prototype.handle_figure_label = function (fig, msg) {\n",
       "    // Updates the figure title.\n",
       "    fig.header.textContent = msg['label'];\n",
       "};\n",
       "\n",
       "mpl.figure.prototype.handle_cursor = function (fig, msg) {\n",
       "    var cursor = msg['cursor'];\n",
       "    switch (cursor) {\n",
       "        case 0:\n",
       "            cursor = 'pointer';\n",
       "            break;\n",
       "        case 1:\n",
       "            cursor = 'default';\n",
       "            break;\n",
       "        case 2:\n",
       "            cursor = 'crosshair';\n",
       "            break;\n",
       "        case 3:\n",
       "            cursor = 'move';\n",
       "            break;\n",
       "    }\n",
       "    fig.rubberband_canvas.style.cursor = cursor;\n",
       "};\n",
       "\n",
       "mpl.figure.prototype.handle_message = function (fig, msg) {\n",
       "    fig.message.textContent = msg['message'];\n",
       "};\n",
       "\n",
       "mpl.figure.prototype.handle_draw = function (fig, _msg) {\n",
       "    // Request the server to send over a new figure.\n",
       "    fig.send_draw_message();\n",
       "};\n",
       "\n",
       "mpl.figure.prototype.handle_image_mode = function (fig, msg) {\n",
       "    fig.image_mode = msg['mode'];\n",
       "};\n",
       "\n",
       "mpl.figure.prototype.handle_history_buttons = function (fig, msg) {\n",
       "    for (var key in msg) {\n",
       "        if (!(key in fig.buttons)) {\n",
       "            continue;\n",
       "        }\n",
       "        fig.buttons[key].disabled = !msg[key];\n",
       "        fig.buttons[key].setAttribute('aria-disabled', !msg[key]);\n",
       "    }\n",
       "};\n",
       "\n",
       "mpl.figure.prototype.handle_navigate_mode = function (fig, msg) {\n",
       "    if (msg['mode'] === 'PAN') {\n",
       "        fig.buttons['Pan'].classList.add('active');\n",
       "        fig.buttons['Zoom'].classList.remove('active');\n",
       "    } else if (msg['mode'] === 'ZOOM') {\n",
       "        fig.buttons['Pan'].classList.remove('active');\n",
       "        fig.buttons['Zoom'].classList.add('active');\n",
       "    } else {\n",
       "        fig.buttons['Pan'].classList.remove('active');\n",
       "        fig.buttons['Zoom'].classList.remove('active');\n",
       "    }\n",
       "};\n",
       "\n",
       "mpl.figure.prototype.updated_canvas_event = function () {\n",
       "    // Called whenever the canvas gets updated.\n",
       "    this.send_message('ack', {});\n",
       "};\n",
       "\n",
       "// A function to construct a web socket function for onmessage handling.\n",
       "// Called in the figure constructor.\n",
       "mpl.figure.prototype._make_on_message_function = function (fig) {\n",
       "    return function socket_on_message(evt) {\n",
       "        if (evt.data instanceof Blob) {\n",
       "            /* FIXME: We get \"Resource interpreted as Image but\n",
       "             * transferred with MIME type text/plain:\" errors on\n",
       "             * Chrome.  But how to set the MIME type?  It doesn't seem\n",
       "             * to be part of the websocket stream */\n",
       "            evt.data.type = 'image/png';\n",
       "\n",
       "            /* Free the memory for the previous frames */\n",
       "            if (fig.imageObj.src) {\n",
       "                (window.URL || window.webkitURL).revokeObjectURL(\n",
       "                    fig.imageObj.src\n",
       "                );\n",
       "            }\n",
       "\n",
       "            fig.imageObj.src = (window.URL || window.webkitURL).createObjectURL(\n",
       "                evt.data\n",
       "            );\n",
       "            fig.updated_canvas_event();\n",
       "            fig.waiting = false;\n",
       "            return;\n",
       "        } else if (\n",
       "            typeof evt.data === 'string' &&\n",
       "            evt.data.slice(0, 21) === 'data:image/png;base64'\n",
       "        ) {\n",
       "            fig.imageObj.src = evt.data;\n",
       "            fig.updated_canvas_event();\n",
       "            fig.waiting = false;\n",
       "            return;\n",
       "        }\n",
       "\n",
       "        var msg = JSON.parse(evt.data);\n",
       "        var msg_type = msg['type'];\n",
       "\n",
       "        // Call the  \"handle_{type}\" callback, which takes\n",
       "        // the figure and JSON message as its only arguments.\n",
       "        try {\n",
       "            var callback = fig['handle_' + msg_type];\n",
       "        } catch (e) {\n",
       "            console.log(\n",
       "                \"No handler for the '\" + msg_type + \"' message type: \",\n",
       "                msg\n",
       "            );\n",
       "            return;\n",
       "        }\n",
       "\n",
       "        if (callback) {\n",
       "            try {\n",
       "                // console.log(\"Handling '\" + msg_type + \"' message: \", msg);\n",
       "                callback(fig, msg);\n",
       "            } catch (e) {\n",
       "                console.log(\n",
       "                    \"Exception inside the 'handler_\" + msg_type + \"' callback:\",\n",
       "                    e,\n",
       "                    e.stack,\n",
       "                    msg\n",
       "                );\n",
       "            }\n",
       "        }\n",
       "    };\n",
       "};\n",
       "\n",
       "// from http://stackoverflow.com/questions/1114465/getting-mouse-location-in-canvas\n",
       "mpl.findpos = function (e) {\n",
       "    //this section is from http://www.quirksmode.org/js/events_properties.html\n",
       "    var targ;\n",
       "    if (!e) {\n",
       "        e = window.event;\n",
       "    }\n",
       "    if (e.target) {\n",
       "        targ = e.target;\n",
       "    } else if (e.srcElement) {\n",
       "        targ = e.srcElement;\n",
       "    }\n",
       "    if (targ.nodeType === 3) {\n",
       "        // defeat Safari bug\n",
       "        targ = targ.parentNode;\n",
       "    }\n",
       "\n",
       "    // pageX,Y are the mouse positions relative to the document\n",
       "    var boundingRect = targ.getBoundingClientRect();\n",
       "    var x = e.pageX - (boundingRect.left + document.body.scrollLeft);\n",
       "    var y = e.pageY - (boundingRect.top + document.body.scrollTop);\n",
       "\n",
       "    return { x: x, y: y };\n",
       "};\n",
       "\n",
       "/*\n",
       " * return a copy of an object with only non-object keys\n",
       " * we need this to avoid circular references\n",
       " * http://stackoverflow.com/a/24161582/3208463\n",
       " */\n",
       "function simpleKeys(original) {\n",
       "    return Object.keys(original).reduce(function (obj, key) {\n",
       "        if (typeof original[key] !== 'object') {\n",
       "            obj[key] = original[key];\n",
       "        }\n",
       "        return obj;\n",
       "    }, {});\n",
       "}\n",
       "\n",
       "mpl.figure.prototype.mouse_event = function (event, name) {\n",
       "    var canvas_pos = mpl.findpos(event);\n",
       "\n",
       "    if (name === 'button_press') {\n",
       "        this.canvas.focus();\n",
       "        this.canvas_div.focus();\n",
       "    }\n",
       "\n",
       "    var x = canvas_pos.x * this.ratio;\n",
       "    var y = canvas_pos.y * this.ratio;\n",
       "\n",
       "    this.send_message(name, {\n",
       "        x: x,\n",
       "        y: y,\n",
       "        button: event.button,\n",
       "        step: event.step,\n",
       "        guiEvent: simpleKeys(event),\n",
       "    });\n",
       "\n",
       "    /* This prevents the web browser from automatically changing to\n",
       "     * the text insertion cursor when the button is pressed.  We want\n",
       "     * to control all of the cursor setting manually through the\n",
       "     * 'cursor' event from matplotlib */\n",
       "    event.preventDefault();\n",
       "    return false;\n",
       "};\n",
       "\n",
       "mpl.figure.prototype._key_event_extra = function (_event, _name) {\n",
       "    // Handle any extra behaviour associated with a key event\n",
       "};\n",
       "\n",
       "mpl.figure.prototype.key_event = function (event, name) {\n",
       "    // Prevent repeat events\n",
       "    if (name === 'key_press') {\n",
       "        if (event.which === this._key) {\n",
       "            return;\n",
       "        } else {\n",
       "            this._key = event.which;\n",
       "        }\n",
       "    }\n",
       "    if (name === 'key_release') {\n",
       "        this._key = null;\n",
       "    }\n",
       "\n",
       "    var value = '';\n",
       "    if (event.ctrlKey && event.which !== 17) {\n",
       "        value += 'ctrl+';\n",
       "    }\n",
       "    if (event.altKey && event.which !== 18) {\n",
       "        value += 'alt+';\n",
       "    }\n",
       "    if (event.shiftKey && event.which !== 16) {\n",
       "        value += 'shift+';\n",
       "    }\n",
       "\n",
       "    value += 'k';\n",
       "    value += event.which.toString();\n",
       "\n",
       "    this._key_event_extra(event, name);\n",
       "\n",
       "    this.send_message(name, { key: value, guiEvent: simpleKeys(event) });\n",
       "    return false;\n",
       "};\n",
       "\n",
       "mpl.figure.prototype.toolbar_button_onclick = function (name) {\n",
       "    if (name === 'download') {\n",
       "        this.handle_save(this, null);\n",
       "    } else {\n",
       "        this.send_message('toolbar_button', { name: name });\n",
       "    }\n",
       "};\n",
       "\n",
       "mpl.figure.prototype.toolbar_button_onmouseover = function (tooltip) {\n",
       "    this.message.textContent = tooltip;\n",
       "};\n",
       "\n",
       "///////////////// REMAINING CONTENT GENERATED BY embed_js.py /////////////////\n",
       "// prettier-ignore\n",
       "var _JSXTOOLS_RESIZE_OBSERVER=function(A){var t,i=new WeakMap,n=new WeakMap,a=new WeakMap,r=new WeakMap,o=new Set;function s(e){if(!(this instanceof s))throw new TypeError(\"Constructor requires 'new' operator\");i.set(this,e)}function h(){throw new TypeError(\"Function is not a constructor\")}function c(e,t,i,n){e=0 in arguments?Number(arguments[0]):0,t=1 in arguments?Number(arguments[1]):0,i=2 in arguments?Number(arguments[2]):0,n=3 in arguments?Number(arguments[3]):0,this.right=(this.x=this.left=e)+(this.width=i),this.bottom=(this.y=this.top=t)+(this.height=n),Object.freeze(this)}function d(){t=requestAnimationFrame(d);var s=new WeakMap,p=new Set;o.forEach((function(t){r.get(t).forEach((function(i){var r=t instanceof window.SVGElement,o=a.get(t),d=r?0:parseFloat(o.paddingTop),f=r?0:parseFloat(o.paddingRight),l=r?0:parseFloat(o.paddingBottom),u=r?0:parseFloat(o.paddingLeft),g=r?0:parseFloat(o.borderTopWidth),m=r?0:parseFloat(o.borderRightWidth),w=r?0:parseFloat(o.borderBottomWidth),b=u+f,F=d+l,v=(r?0:parseFloat(o.borderLeftWidth))+m,W=g+w,y=r?0:t.offsetHeight-W-t.clientHeight,E=r?0:t.offsetWidth-v-t.clientWidth,R=b+v,z=F+W,M=r?t.width:parseFloat(o.width)-R-E,O=r?t.height:parseFloat(o.height)-z-y;if(n.has(t)){var k=n.get(t);if(k[0]===M&&k[1]===O)return}n.set(t,[M,O]);var S=Object.create(h.prototype);S.target=t,S.contentRect=new c(u,d,M,O),s.has(i)||(s.set(i,[]),p.add(i)),s.get(i).push(S)}))})),p.forEach((function(e){i.get(e).call(e,s.get(e),e)}))}return s.prototype.observe=function(i){if(i instanceof window.Element){r.has(i)||(r.set(i,new Set),o.add(i),a.set(i,window.getComputedStyle(i)));var n=r.get(i);n.has(this)||n.add(this),cancelAnimationFrame(t),t=requestAnimationFrame(d)}},s.prototype.unobserve=function(i){if(i instanceof window.Element&&r.has(i)){var n=r.get(i);n.has(this)&&(n.delete(this),n.size||(r.delete(i),o.delete(i))),n.size||r.delete(i),o.size||cancelAnimationFrame(t)}},A.DOMRectReadOnly=c,A.ResizeObserver=s,A.ResizeObserverEntry=h,A}; // eslint-disable-line\n",
       "mpl.toolbar_items = [[\"Home\", \"Reset original view\", \"fa fa-home icon-home\", \"home\"], [\"Back\", \"Back to previous view\", \"fa fa-arrow-left icon-arrow-left\", \"back\"], [\"Forward\", \"Forward to next view\", \"fa fa-arrow-right icon-arrow-right\", \"forward\"], [\"\", \"\", \"\", \"\"], [\"Pan\", \"Left button pans, Right button zooms\\nx/y fixes axis, CTRL fixes aspect\", \"fa fa-arrows icon-move\", \"pan\"], [\"Zoom\", \"Zoom to rectangle\\nx/y fixes axis, CTRL fixes aspect\", \"fa fa-square-o icon-check-empty\", \"zoom\"], [\"\", \"\", \"\", \"\"], [\"Download\", \"Download plot\", \"fa fa-floppy-o icon-save\", \"download\"]];\n",
       "\n",
       "mpl.extensions = [\"eps\", \"jpeg\", \"pdf\", \"png\", \"ps\", \"raw\", \"svg\", \"tif\"];\n",
       "\n",
       "mpl.default_extension = \"png\";/* global mpl */\n",
       "\n",
       "var comm_websocket_adapter = function (comm) {\n",
       "    // Create a \"websocket\"-like object which calls the given IPython comm\n",
       "    // object with the appropriate methods. Currently this is a non binary\n",
       "    // socket, so there is still some room for performance tuning.\n",
       "    var ws = {};\n",
       "\n",
       "    ws.close = function () {\n",
       "        comm.close();\n",
       "    };\n",
       "    ws.send = function (m) {\n",
       "        //console.log('sending', m);\n",
       "        comm.send(m);\n",
       "    };\n",
       "    // Register the callback with on_msg.\n",
       "    comm.on_msg(function (msg) {\n",
       "        //console.log('receiving', msg['content']['data'], msg);\n",
       "        // Pass the mpl event to the overridden (by mpl) onmessage function.\n",
       "        ws.onmessage(msg['content']['data']);\n",
       "    });\n",
       "    return ws;\n",
       "};\n",
       "\n",
       "mpl.mpl_figure_comm = function (comm, msg) {\n",
       "    // This is the function which gets called when the mpl process\n",
       "    // starts-up an IPython Comm through the \"matplotlib\" channel.\n",
       "\n",
       "    var id = msg.content.data.id;\n",
       "    // Get hold of the div created by the display call when the Comm\n",
       "    // socket was opened in Python.\n",
       "    var element = document.getElementById(id);\n",
       "    var ws_proxy = comm_websocket_adapter(comm);\n",
       "\n",
       "    function ondownload(figure, _format) {\n",
       "        window.open(figure.canvas.toDataURL());\n",
       "    }\n",
       "\n",
       "    var fig = new mpl.figure(id, ws_proxy, ondownload, element);\n",
       "\n",
       "    // Call onopen now - mpl needs it, as it is assuming we've passed it a real\n",
       "    // web socket which is closed, not our websocket->open comm proxy.\n",
       "    ws_proxy.onopen();\n",
       "\n",
       "    fig.parent_element = element;\n",
       "    fig.cell_info = mpl.find_output_cell(\"<div id='\" + id + \"'></div>\");\n",
       "    if (!fig.cell_info) {\n",
       "        console.error('Failed to find cell for figure', id, fig);\n",
       "        return;\n",
       "    }\n",
       "    fig.cell_info[0].output_area.element.on(\n",
       "        'cleared',\n",
       "        { fig: fig },\n",
       "        fig._remove_fig_handler\n",
       "    );\n",
       "};\n",
       "\n",
       "mpl.figure.prototype.handle_close = function (fig, msg) {\n",
       "    var width = fig.canvas.width / fig.ratio;\n",
       "    fig.cell_info[0].output_area.element.off(\n",
       "        'cleared',\n",
       "        fig._remove_fig_handler\n",
       "    );\n",
       "    fig.resizeObserverInstance.unobserve(fig.canvas_div);\n",
       "\n",
       "    // Update the output cell to use the data from the current canvas.\n",
       "    fig.push_to_output();\n",
       "    var dataURL = fig.canvas.toDataURL();\n",
       "    // Re-enable the keyboard manager in IPython - without this line, in FF,\n",
       "    // the notebook keyboard shortcuts fail.\n",
       "    IPython.keyboard_manager.enable();\n",
       "    fig.parent_element.innerHTML =\n",
       "        '<img src=\"' + dataURL + '\" width=\"' + width + '\">';\n",
       "    fig.close_ws(fig, msg);\n",
       "};\n",
       "\n",
       "mpl.figure.prototype.close_ws = function (fig, msg) {\n",
       "    fig.send_message('closing', msg);\n",
       "    // fig.ws.close()\n",
       "};\n",
       "\n",
       "mpl.figure.prototype.push_to_output = function (_remove_interactive) {\n",
       "    // Turn the data on the canvas into data in the output cell.\n",
       "    var width = this.canvas.width / this.ratio;\n",
       "    var dataURL = this.canvas.toDataURL();\n",
       "    this.cell_info[1]['text/html'] =\n",
       "        '<img src=\"' + dataURL + '\" width=\"' + width + '\">';\n",
       "};\n",
       "\n",
       "mpl.figure.prototype.updated_canvas_event = function () {\n",
       "    // Tell IPython that the notebook contents must change.\n",
       "    IPython.notebook.set_dirty(true);\n",
       "    this.send_message('ack', {});\n",
       "    var fig = this;\n",
       "    // Wait a second, then push the new image to the DOM so\n",
       "    // that it is saved nicely (might be nice to debounce this).\n",
       "    setTimeout(function () {\n",
       "        fig.push_to_output();\n",
       "    }, 1000);\n",
       "};\n",
       "\n",
       "mpl.figure.prototype._init_toolbar = function () {\n",
       "    var fig = this;\n",
       "\n",
       "    var toolbar = document.createElement('div');\n",
       "    toolbar.classList = 'btn-toolbar';\n",
       "    this.root.appendChild(toolbar);\n",
       "\n",
       "    function on_click_closure(name) {\n",
       "        return function (_event) {\n",
       "            return fig.toolbar_button_onclick(name);\n",
       "        };\n",
       "    }\n",
       "\n",
       "    function on_mouseover_closure(tooltip) {\n",
       "        return function (event) {\n",
       "            if (!event.currentTarget.disabled) {\n",
       "                return fig.toolbar_button_onmouseover(tooltip);\n",
       "            }\n",
       "        };\n",
       "    }\n",
       "\n",
       "    fig.buttons = {};\n",
       "    var buttonGroup = document.createElement('div');\n",
       "    buttonGroup.classList = 'btn-group';\n",
       "    var button;\n",
       "    for (var toolbar_ind in mpl.toolbar_items) {\n",
       "        var name = mpl.toolbar_items[toolbar_ind][0];\n",
       "        var tooltip = mpl.toolbar_items[toolbar_ind][1];\n",
       "        var image = mpl.toolbar_items[toolbar_ind][2];\n",
       "        var method_name = mpl.toolbar_items[toolbar_ind][3];\n",
       "\n",
       "        if (!name) {\n",
       "            /* Instead of a spacer, we start a new button group. */\n",
       "            if (buttonGroup.hasChildNodes()) {\n",
       "                toolbar.appendChild(buttonGroup);\n",
       "            }\n",
       "            buttonGroup = document.createElement('div');\n",
       "            buttonGroup.classList = 'btn-group';\n",
       "            continue;\n",
       "        }\n",
       "\n",
       "        button = fig.buttons[name] = document.createElement('button');\n",
       "        button.classList = 'btn btn-default';\n",
       "        button.href = '#';\n",
       "        button.title = name;\n",
       "        button.innerHTML = '<i class=\"fa ' + image + ' fa-lg\"></i>';\n",
       "        button.addEventListener('click', on_click_closure(method_name));\n",
       "        button.addEventListener('mouseover', on_mouseover_closure(tooltip));\n",
       "        buttonGroup.appendChild(button);\n",
       "    }\n",
       "\n",
       "    if (buttonGroup.hasChildNodes()) {\n",
       "        toolbar.appendChild(buttonGroup);\n",
       "    }\n",
       "\n",
       "    // Add the status bar.\n",
       "    var status_bar = document.createElement('span');\n",
       "    status_bar.classList = 'mpl-message pull-right';\n",
       "    toolbar.appendChild(status_bar);\n",
       "    this.message = status_bar;\n",
       "\n",
       "    // Add the close button to the window.\n",
       "    var buttongrp = document.createElement('div');\n",
       "    buttongrp.classList = 'btn-group inline pull-right';\n",
       "    button = document.createElement('button');\n",
       "    button.classList = 'btn btn-mini btn-primary';\n",
       "    button.href = '#';\n",
       "    button.title = 'Stop Interaction';\n",
       "    button.innerHTML = '<i class=\"fa fa-power-off icon-remove icon-large\"></i>';\n",
       "    button.addEventListener('click', function (_evt) {\n",
       "        fig.handle_close(fig, {});\n",
       "    });\n",
       "    button.addEventListener(\n",
       "        'mouseover',\n",
       "        on_mouseover_closure('Stop Interaction')\n",
       "    );\n",
       "    buttongrp.appendChild(button);\n",
       "    var titlebar = this.root.querySelector('.ui-dialog-titlebar');\n",
       "    titlebar.insertBefore(buttongrp, titlebar.firstChild);\n",
       "};\n",
       "\n",
       "mpl.figure.prototype._remove_fig_handler = function (event) {\n",
       "    var fig = event.data.fig;\n",
       "    if (event.target !== this) {\n",
       "        // Ignore bubbled events from children.\n",
       "        return;\n",
       "    }\n",
       "    fig.close_ws(fig, {});\n",
       "};\n",
       "\n",
       "mpl.figure.prototype._root_extra_style = function (el) {\n",
       "    el.style.boxSizing = 'content-box'; // override notebook setting of border-box.\n",
       "};\n",
       "\n",
       "mpl.figure.prototype._canvas_extra_style = function (el) {\n",
       "    // this is important to make the div 'focusable\n",
       "    el.setAttribute('tabindex', 0);\n",
       "    // reach out to IPython and tell the keyboard manager to turn it's self\n",
       "    // off when our div gets focus\n",
       "\n",
       "    // location in version 3\n",
       "    if (IPython.notebook.keyboard_manager) {\n",
       "        IPython.notebook.keyboard_manager.register_events(el);\n",
       "    } else {\n",
       "        // location in version 2\n",
       "        IPython.keyboard_manager.register_events(el);\n",
       "    }\n",
       "};\n",
       "\n",
       "mpl.figure.prototype._key_event_extra = function (event, _name) {\n",
       "    var manager = IPython.notebook.keyboard_manager;\n",
       "    if (!manager) {\n",
       "        manager = IPython.keyboard_manager;\n",
       "    }\n",
       "\n",
       "    // Check for shift+enter\n",
       "    if (event.shiftKey && event.which === 13) {\n",
       "        this.canvas_div.blur();\n",
       "        // select the cell after this one\n",
       "        var index = IPython.notebook.find_cell_index(this.cell_info[0]);\n",
       "        IPython.notebook.select(index + 1);\n",
       "    }\n",
       "};\n",
       "\n",
       "mpl.figure.prototype.handle_save = function (fig, _msg) {\n",
       "    fig.ondownload(fig, null);\n",
       "};\n",
       "\n",
       "mpl.find_output_cell = function (html_output) {\n",
       "    // Return the cell and output element which can be found *uniquely* in the notebook.\n",
       "    // Note - this is a bit hacky, but it is done because the \"notebook_saving.Notebook\"\n",
       "    // IPython event is triggered only after the cells have been serialised, which for\n",
       "    // our purposes (turning an active figure into a static one), is too late.\n",
       "    var cells = IPython.notebook.get_cells();\n",
       "    var ncells = cells.length;\n",
       "    for (var i = 0; i < ncells; i++) {\n",
       "        var cell = cells[i];\n",
       "        if (cell.cell_type === 'code') {\n",
       "            for (var j = 0; j < cell.output_area.outputs.length; j++) {\n",
       "                var data = cell.output_area.outputs[j];\n",
       "                if (data.data) {\n",
       "                    // IPython >= 3 moved mimebundle to data attribute of output\n",
       "                    data = data.data;\n",
       "                }\n",
       "                if (data['text/html'] === html_output) {\n",
       "                    return [cell, data, j];\n",
       "                }\n",
       "            }\n",
       "        }\n",
       "    }\n",
       "};\n",
       "\n",
       "// Register the function which deals with the matplotlib target/channel.\n",
       "// The kernel may be null if the page has been refreshed.\n",
       "if (IPython.notebook.kernel !== null) {\n",
       "    IPython.notebook.kernel.comm_manager.register_target(\n",
       "        'matplotlib',\n",
       "        mpl.mpl_figure_comm\n",
       "    );\n",
       "}\n"
      ],
      "text/plain": [
       "<IPython.core.display.Javascript object>"
      ]
     },
     "metadata": {},
     "output_type": "display_data"
    },
    {
     "data": {
      "text/html": [
       "<img src=\"data:image/png;base64,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\" width=\"640\">"
      ],
      "text/plain": [
       "<IPython.core.display.HTML object>"
      ]
     },
     "metadata": {},
     "output_type": "display_data"
    },
    {
     "data": {
      "text/plain": [
       "<matplotlib.image.AxesImage at 0x29fc4fd7790>"
      ]
     },
     "execution_count": 5,
     "metadata": {},
     "output_type": "execute_result"
    }
   ],
   "source": [
    "plt.imshow(ds['polygon_icechart'])"
   ]
  },
  {
   "cell_type": "code",
   "execution_count": 6,
   "id": "dac12481",
   "metadata": {},
   "outputs": [
    {
     "data": {
      "text/plain": [
       "masked_array(data=[23, 24, 25, 26, 27, 28, 29, 30, 31, 32, 33, 34, 35, 36,\n",
       "                   --],\n",
       "             mask=[False, False, False, False, False, False, False, False,\n",
       "                   False, False, False, False, False, False,  True],\n",
       "       fill_value=0,\n",
       "            dtype=uint8)"
      ]
     },
     "execution_count": 6,
     "metadata": {},
     "output_type": "execute_result"
    }
   ],
   "source": [
    "np.unique(ds['polygon_icechart'])"
   ]
  },
  {
   "cell_type": "code",
   "execution_count": 9,
   "id": "0506e9fe",
   "metadata": {
    "scrolled": false
   },
   "outputs": [
    {
     "name": "stdout",
     "output_type": "stream",
     "text": [
      "----- input \n",
      " ['41', '92', '-9', '87', '8', '-9', '-9', '-9', '-9', '-9', '-9', '98', '-9', '-9', 'I'] \n",
      "-----output \n",
      " [0.07999999999999996, 0, 0.92, 0] \n",
      "\n",
      "----- input \n",
      " ['42', '92', '30', '91', '8', '70', '87', '-9', '-9', '-9', '-9', '-9', '-9', '-9', 'I'] \n",
      "-----output \n",
      " [0.0, 0, 1.0, 0] \n",
      "\n",
      "----- input \n",
      " ['43', '92', '10', '91', '8', '60', '87', '-9', '30', '83', '-9', '98', '-9', '-9', 'I'] \n",
      "-----output \n",
      " [0.0, 0.3, 0.7, 0] \n",
      "\n",
      "----- input \n",
      " ['44', '50', '20', '93', '5', '20', '91', '5', '10', '87', '4', '98', '-9', '-9', 'I'] \n",
      "-----output \n",
      " [0.5, 0, 0.5, 0] \n",
      "\n",
      "----- input \n",
      " ['45', '92', '30', '91', '8', '70', '87', '-9', '-9', '-9', '-9', '-9', '-9', '-9', 'I'] \n",
      "-----output \n",
      " [0.0, 0, 1.0, 0] \n",
      "\n",
      "----- input \n",
      " ['46', '80', '30', '91', '5', '30', '87', '4', '20', '87', '3', '-9', '-9', '-9', 'I'] \n",
      "-----output \n",
      " [0.19999999999999996, 0, 0.8, 0] \n",
      "\n",
      "----- input \n",
      " ['47', '80', '20', '93', '6', '20', '91', '5', '40', '87', '4', '-9', '-9', '-9', 'I'] \n",
      "-----output \n",
      " [0.19999999999999996, 0, 0.8, 0] \n",
      "\n",
      "----- input \n",
      " ['48', '92', '-9', '91', '8', '-9', '-9', '-9', '-9', '-9', '-9', '98', '-9', '-9', 'I'] \n",
      "-----output \n",
      " [0.07999999999999996, 0, 0.92, 0] \n",
      "\n",
      "----- input \n",
      " ['49', '92', '80', '91', '8', '20', '87', '-9', '-9', '-9', '-9', '98', '-9', '-9', 'I'] \n",
      "-----output \n",
      " [0.0, 0, 1.0, 0] \n",
      "\n",
      "----- input \n",
      " ['50', '30', '10', '87', '3', '10', '83', '2', '10', '82', '2', '-9', '-9', '-9', 'I'] \n",
      "-----output \n",
      " [0.7, 0.2, 0.1, 0] \n",
      "\n",
      "----- input \n",
      " ['51', '91', '40', '93', '6', '50', '91', '6', '10', '87', '5', '-9', '-9', '-9', 'I'] \n",
      "-----output \n",
      " [0.0, 0, 1.0, 0] \n",
      "\n",
      "----- input \n",
      " ['52', '91', '60', '93', '7', '40', '91', '6', '-9', '-9', '-9', '-9', '-9', '-9', 'I'] \n",
      "-----output \n",
      " [0.0, 0, 1.0, 0] \n",
      "\n",
      "----- input \n",
      " ['53', '92', '-9', '91', '8', '-9', '-9', '-9', '-9', '-9', '-9', '98', '-9', '-9', 'I'] \n",
      "-----output \n",
      " [0.07999999999999996, 0, 0.92, 0] \n",
      "\n",
      "20180404T205505_S1B_AMSR2_Icechart-Greenland-CentralWest.nc\n",
      "open water\n"
     ]
    },
    {
     "data": {
      "image/png": "[encoded data removed]",
      "text/plain": [
       "<Figure size 432x288 with 1 Axes>"
      ]
     },
     "metadata": {
      "needs_background": "light"
     },
     "output_type": "display_data"
    },
    {
     "name": "stdout",
     "output_type": "stream",
     "text": [
      "young ice\n"
     ]
    },
    {
     "data": {
      "image/png": "[encoded data removed]",
      "text/plain": [
       "<Figure size 432x288 with 1 Axes>"
      ]
     },
     "metadata": {
      "needs_background": "light"
     },
     "output_type": "display_data"
    },
    {
     "name": "stdout",
     "output_type": "stream",
     "text": [
      "first-year ice\n"
     ]
    },
    {
     "data": {
      "image/png": "[encoded data removed]",
      "text/plain": [
       "<Figure size 432x288 with 1 Axes>"
      ]
     },
     "metadata": {
      "needs_background": "light"
     },
     "output_type": "display_data"
    },
    {
     "name": "stdout",
     "output_type": "stream",
     "text": [
      "multi-year ice\n"
     ]
    },
    {
     "data": {
      "image/png": "[encoded data removed]",
      "text/plain": [
       "<Figure size 432x288 with 1 Axes>"
      ]
     },
     "metadata": {
      "needs_background": "light"
     },
     "output_type": "display_data"
    },
    {
     "name": "stdout",
     "output_type": "stream",
     "text": [
      "----- input \n",
      " ['33', '92', '-9', '91', '8', '-9', '-9', '-9', '-9', '-9', '-9', '-9', '-9', '-9', 'I'] \n",
      "-----output \n",
      " [0.07999999999999996, 0, 0.92, 0] \n",
      "\n",
      "----- input \n",
      " ['35', '92', '-9', '91', '8', '-9', '-9', '-9', '-9', '-9', '-9', '98', '-9', '-9', 'I'] \n",
      "-----output \n",
      " [0.07999999999999996, 0, 0.92, 0] \n",
      "\n",
      "----- input \n",
      " ['36', '92', '-9', '91', '8', '-9', '-9', '-9', '-9', '-9', '-9', '98', '-9', '-9', 'I'] \n",
      "-----output \n",
      " [0.07999999999999996, 0, 0.92, 0] \n",
      "\n",
      "----- input \n",
      " ['38', '70', '10', '98', '10', '40', '87', '3', '20', '83', '2', '-9', '-9', '-9', 'I'] \n",
      "-----output \n",
      " [0.3999999999999999, 0.2, 0.4, 0] \n",
      "\n",
      "----- input \n",
      " ['39', '30', '10', '95', '3', '10', '93', '4', '10', '91', '2', '-9', '-9', '19', 'I'] \n",
      "-----output \n",
      " [0.7, 0, 0.2, 0.1] \n",
      "\n",
      "----- input \n",
      " ['40', '92', '-9', '91', '8', '-9', '-9', '-9', '-9', '-9', '-9', '98', '-9', '-9', 'I'] \n",
      "-----output \n",
      " [0.07999999999999996, 0, 0.92, 0] \n",
      "\n",
      "----- input \n",
      " ['41', '92', '-9', '91', '8', '-9', '-9', '-9', '-9', '-9', '-9', '98', '-9', '-9', 'I'] \n",
      "-----output \n",
      " [0.07999999999999996, 0, 0.92, 0] \n",
      "\n",
      "----- input \n",
      " ['42', '30', '10', '95', '3', '10', '93', '4', '10', '91', '2', '-9', '-9', '19', 'I'] \n",
      "-----output \n",
      " [0.7, 0, 0.2, 0.1] \n",
      "\n",
      "----- input \n",
      " ['43', '20', '10', '95', '4', '10', '93', '4', '-9', '91', '2', '98', '-9', '-9', 'I'] \n",
      "-----output \n",
      " [0.8, 0, 0.1, 0.1] \n",
      "\n",
      "----- input \n",
      " ['44', '02', '-9', '-9', '-9', '-9', '-9', '-9', '-9', '-9', '-9', '-9', '-9', '-9', 'W'] \n",
      "-----output \n",
      " [0.98, 0, 0, 0] \n",
      "\n",
      "----- input \n",
      " ['45', '30', '10', '95', '3', '10', '93', '4', '10', '91', '2', '-9', '-9', '19', 'I'] \n",
      "-----output \n",
      " [0.7, 0, 0.2, 0.1] \n",
      "\n",
      "----- input \n",
      " ['46', '20', '10', '95', '4', '10', '93', '4', '-9', '91', '2', '98', '-9', '-9', 'I'] \n",
      "-----output \n",
      " [0.8, 0, 0.1, 0.1] \n",
      "\n",
      "----- input \n",
      " ['47', '91', '40', '95', '4', '30', '93', '4', '30', '91', '3', '98', '-9', '-9', 'I'] \n",
      "-----output \n",
      " [0.0, 0, 0.6, 0.4] \n",
      "\n",
      "----- input \n",
      " ['48', '02', '-9', '-9', '-9', '-9', '-9', '-9', '-9', '-9', '-9', '-9', '-9', '-9', 'W'] \n",
      "-----output \n",
      " [0.98, 0, 0, 0] \n",
      "\n",
      "20180410T084537_S1B_AMSR2_Icechart-Greenland-SouthEast.nc\n",
      "open water\n"
     ]
    },
    {
     "data": {
      "image/png": "[encoded data removed]",
      "text/plain": [
       "<Figure size 432x288 with 1 Axes>"
      ]
     },
     "metadata": {
      "needs_background": "light"
     },
     "output_type": "display_data"
    },
    {
     "name": "stdout",
     "output_type": "stream",
     "text": [
      "young ice\n"
     ]
    },
    {
     "data": {
      "image/png": "[encoded data removed]",
      "text/plain": [
       "<Figure size 432x288 with 1 Axes>"
      ]
     },
     "metadata": {
      "needs_background": "light"
     },
     "output_type": "display_data"
    },
    {
     "name": "stdout",
     "output_type": "stream",
     "text": [
      "first-year ice\n"
     ]
    },
    {
     "data": {
      "image/png": "[encoded data removed]",
      "text/plain": [
       "<Figure size 432x288 with 1 Axes>"
      ]
     },
     "metadata": {
      "needs_background": "light"
     },
     "output_type": "display_data"
    },
    {
     "name": "stdout",
     "output_type": "stream",
     "text": [
      "multi-year ice\n"
     ]
    },
    {
     "data": {
      "image/png": "[encoded data removed]",
      "text/plain": [
       "<Figure size 432x288 with 1 Axes>"
      ]
     },
     "metadata": {
      "needs_background": "light"
     },
     "output_type": "display_data"
    },
    {
     "name": "stdout",
     "output_type": "stream",
     "text": [
      "----- input \n",
      " ['1', '40', '10', '87', '3', '30', '83', '2', '-9', '-9', '-9', '98', '-9', '19', 'I'] \n",
      "-----output \n",
      " [0.6, 0.3, 0.1, 0] \n",
      "\n",
      "----- input \n",
      " ['2', '90', '10', '95', '4', '50', '87', '3', '30', '83', '2', '98', '-9', '-9', 'I'] \n",
      "-----output \n",
      " [0.09999999999999998, 0.3, 0.5, 0.1] \n",
      "\n",
      "----- input \n",
      " ['3', '91', '20', '95', '4', '50', '87', '3', '30', '83', '2', '98', '-9', '-9', 'I'] \n",
      "-----output \n",
      " [0.0, 0.3, 0.5, 0.2] \n",
      "\n",
      "----- input \n",
      " ['13', '20', '10', '87', '3', '10', '83', '2', '-9', '-9', '-9', '98', '-9', '19', 'I'] \n",
      "-----output \n",
      " [0.8, 0.1, 0.1, 0] \n",
      "\n",
      "----- input \n",
      " ['29', '02', '-9', '-9', '-9', '-9', '-9', '-9', '-9', '-9', '-9', '-9', '-9', '-9', 'W'] \n",
      "-----output \n",
      " [0.98, 0, 0, 0] \n",
      "\n",
      "20181227T082113_S1B_AMSR2_Icechart-Greenland-CentralEast.nc\n",
      "open water\n"
     ]
    },
    {
     "data": {
      "image/png": "[encoded data removed]",
      "text/plain": [
       "<Figure size 432x288 with 1 Axes>"
      ]
     },
     "metadata": {
      "needs_background": "light"
     },
     "output_type": "display_data"
    },
    {
     "name": "stdout",
     "output_type": "stream",
     "text": [
      "young ice\n"
     ]
    },
    {
     "data": {
      "image/png": "[encoded data removed]",
      "text/plain": [
       "<Figure size 432x288 with 1 Axes>"
      ]
     },
     "metadata": {
      "needs_background": "light"
     },
     "output_type": "display_data"
    },
    {
     "name": "stdout",
     "output_type": "stream",
     "text": [
      "first-year ice\n"
     ]
    },
    {
     "data": {
      "image/png": "[encoded data removed]",
      "text/plain": [
       "<Figure size 432x288 with 1 Axes>"
      ]
     },
     "metadata": {
      "needs_background": "light"
     },
     "output_type": "display_data"
    },
    {
     "name": "stdout",
     "output_type": "stream",
     "text": [
      "multi-year ice\n"
     ]
    },
    {
     "data": {
      "image/png": "[encoded data removed]",
      "text/plain": [
       "<Figure size 432x288 with 1 Axes>"
      ]
     },
     "metadata": {
      "needs_background": "light"
     },
     "output_type": "display_data"
    },
    {
     "name": "stdout",
     "output_type": "stream",
     "text": [
      "----- input \n",
      " ['10', '92', '30', '91', '8', '70', '87', '-9', '-9', '-9', '-9', '-9', '-9', '-9', 'I'] \n",
      "-----output \n",
      " [0.0, 0, 1.0, 0] \n",
      "\n",
      "----- input \n",
      " ['19', '92', '20', '87', '8', '80', '83', '-9', '-9', '-9', '-9', '-9', '-9', '-9', 'I'] \n",
      "-----output \n",
      " [0.0, 0.8, 0.2, 0] \n",
      "\n",
      "----- input \n",
      " ['20', '92', '20', '87', '8', '70', '83', '-9', '10', '82', '-9', '-9', '-9', '-9', 'I'] \n",
      "-----output \n",
      " [0.0, 0.7999999999999999, 0.2, 0] \n",
      "\n",
      "----- input \n",
      " ['21', '90', '20', '91', '5', '50', '87', '5', '20', '83', '4', '-9', '-9', '-9', 'I'] \n",
      "-----output \n",
      " [0.10000000000000009, 0.2, 0.7, 0] \n",
      "\n",
      "----- input \n",
      " ['22', '10', '-9', '87', '4', '-9', '-9', '-9', '-9', '-9', '-9', '-9', '-9', '19', 'I'] \n",
      "-----output \n",
      " [0.9, 0, 0.1, 0] \n",
      "\n",
      "----- input \n",
      " ['23', '92', '20', '87', '8', '70', '83', '-9', '10', '82', '-9', '-9', '-9', '-9', 'I'] \n",
      "-----output \n",
      " [0.0, 0.7999999999999999, 0.2, 0] \n",
      "\n",
      "----- input \n",
      " ['24', '70', '30', '83', '3', '30', '82', '3', '10', '81', '99', '-9', '-9', '-9', 'I'] \n",
      "-----output \n",
      " [0.30000000000000004, 0.7, 0, 0] \n",
      "\n",
      "----- input \n",
      " ['25', '30', '20', '83', '4', '10', '82', '2', '-9', '-9', '-9', '-9', '-9', '-9', 'I'] \n",
      "-----output \n",
      " [0.7, 0.30000000000000004, 0, 0] \n",
      "\n",
      "----- input \n",
      " ['26', '92', '20', '87', '8', '80', '83', '-9', '-9', '-9', '-9', '-9', '-9', '-9', 'I'] \n",
      "-----output \n",
      " [0.0, 0.8, 0.2, 0] \n",
      "\n",
      "----- input \n",
      " ['27', '90', '-9', '83', '5', '-9', '-9', '-9', '-9', '-9', '-9', '-9', '-9', '-9', 'I'] \n",
      "-----output \n",
      " [0.09999999999999998, 0.9, 0, 0] \n",
      "\n",
      "----- input \n",
      " ['28', '92', '20', '87', '8', '80', '83', '-9', '-9', '-9', '-9', '-9', '-9', '-9', 'I'] \n",
      "-----output \n",
      " [0.0, 0.8, 0.2, 0] \n",
      "\n",
      "----- input \n",
      " ['29', '92', '20', '87', '8', '80', '83', '-9', '-9', '-9', '-9', '-9', '-9', '-9', 'I'] \n",
      "-----output \n",
      " [0.0, 0.8, 0.2, 0] \n",
      "\n",
      "----- input \n",
      " ['30', '50', '10', '83', '3', '30', '82', '3', '10', '81', '99', '-9', '-9', '-9', 'I'] \n",
      "-----output \n",
      " [0.5, 0.5, 0, 0] \n",
      "\n",
      "----- input \n",
      " ['31', '90', '-9', '83', '5', '-9', '-9', '-9', '-9', '-9', '-9', '-9', '-9', '-9', 'I'] \n",
      "-----output \n",
      " [0.09999999999999998, 0.9, 0, 0] \n",
      "\n",
      "----- input \n",
      " ['32', '91', '-9', '83', '5', '-9', '-9', '-9', '-9', '-9', '-9', '-9', '-9', '-9', 'I'] \n",
      "-----output \n",
      " [0.08999999999999997, 0.91, 0, 0] \n",
      "\n",
      "----- input \n",
      " ['33', '02', '-9', '-9', '-9', '-9', '-9', '-9', '-9', '-9', '-9', '-9', '-9', '-9', 'W'] \n",
      "-----output \n",
      " [0.98, 0, 0, 0] \n",
      "\n",
      "----- input \n",
      " ['34', '92', '20', '87', '8', '80', '83', '-9', '-9', '-9', '-9', '-9', '-9', '-9', 'I'] \n",
      "-----output \n",
      " [0.0, 0.8, 0.2, 0] \n",
      "\n",
      "----- input \n",
      " ['35', '50', '10', '83', '3', '30', '82', '3', '10', '81', '99', '-9', '-9', '-9', 'I'] \n",
      "-----output \n",
      " [0.5, 0.5, 0, 0] \n",
      "\n",
      "----- input \n",
      " ['36', '92', '20', '87', '8', '80', '83', '-9', '-9', '-9', '-9', '-9', '-9', '-9', 'I'] \n",
      "-----output \n",
      " [0.0, 0.8, 0.2, 0] \n",
      "\n",
      "----- input \n",
      " ['37', '60', '20', '83', '3', '30', '82', '3', '10', '81', '99', '-9', '-9', '-9', 'I'] \n",
      "-----output \n",
      " [0.4, 0.6, 0, 0] \n",
      "\n",
      "----- input \n",
      " ['38', '60', '40', '87', '5', '20', '83', '4', '-9', '-9', '-9', '91', '-9', '-9', 'I'] \n",
      "-----output \n",
      " [0.3999999999999999, 0.2, 0.4, 0] \n",
      "\n",
      "----- input \n",
      " ['39', '20', '-9', '83', '3', '-9', '-9', '-9', '-9', '-9', '-9', '-9', '-9', '-9', 'I'] \n",
      "-----output \n",
      " [0.8, 0.2, 0, 0] \n",
      "\n",
      "----- input \n",
      " ['40', '20', '10', '87', '5', '10', '83', '4', '-9', '-9', '-9', '91', '-9', '-9', 'I'] \n",
      "-----output \n",
      " [0.8, 0.1, 0.1, 0] \n",
      "\n",
      "----- input \n",
      " ['41', '92', '20', '87', '8', '80', '83', '-9', '-9', '-9', '-9', '-9', '-9', '-9', 'I'] \n",
      "-----output \n",
      " [0.0, 0.8, 0.2, 0] \n",
      "\n",
      "----- input \n",
      " ['42', '92', '20', '87', '8', '80', '83', '-9', '-9', '-9', '-9', '-9', '-9', '-9', 'I'] \n",
      "-----output \n",
      " [0.0, 0.8, 0.2, 0] \n",
      "\n",
      "----- input \n",
      " ['43', '92', '20', '87', '8', '80', '83', '-9', '-9', '-9', '-9', '-9', '-9', '-9', 'I'] \n",
      "-----output \n",
      " [0.0, 0.8, 0.2, 0] \n",
      "\n",
      "----- input \n",
      " ['44', '92', '20', '87', '8', '80', '83', '-9', '-9', '-9', '-9', '-9', '-9', '-9', 'I'] \n",
      "-----output \n",
      " [0.0, 0.8, 0.2, 0] \n",
      "\n",
      "----- input \n",
      " ['45', '92', '80', '83', '8', '20', '82', '-9', '-9', '-9', '-9', '-9', '-9', '-9', 'I'] \n",
      "-----output \n",
      " [0.0, 1.0, 0, 0] \n",
      "\n",
      "----- input \n",
      " ['46', '92', '20', '87', '8', '80', '83', '-9', '-9', '-9', '-9', '-9', '-9', '-9', 'I'] \n",
      "-----output \n",
      " [0.0, 0.8, 0.2, 0] \n",
      "\n",
      "----- input \n",
      " ['47', '91', '90', '83', '8', '10', '82', '-9', '-9', '-9', '-9', '-9', '-9', '-9', 'I'] \n",
      "-----output \n",
      " [0.0, 1.0, 0, 0] \n",
      "\n",
      "----- input \n",
      " ['48', '92', '20', '87', '8', '80', '83', '-9', '-9', '-9', '-9', '-9', '-9', '-9', 'I'] \n",
      "-----output \n",
      " [0.0, 0.8, 0.2, 0] \n",
      "\n",
      "----- input \n",
      " ['49', '80', '30', '83', '3', '40', '82', '3', '10', '81', '99', '-9', '-9', '-9', 'I'] \n",
      "-----output \n",
      " [0.20000000000000007, 0.7999999999999999, 0, 0] \n",
      "\n",
      "----- input \n",
      " ['50', '92', '20', '87', '8', '80', '83', '-9', '-9', '-9', '-9', '-9', '-9', '-9', 'I'] \n",
      "-----output \n",
      " [0.0, 0.8, 0.2, 0] \n",
      "\n",
      "----- input \n",
      " ['51', '92', '20', '87', '8', '80', '83', '-9', '-9', '-9', '-9', '-9', '-9', '-9', 'I'] \n",
      "-----output \n",
      " [0.0, 0.8, 0.2, 0] \n",
      "\n",
      "----- input \n",
      " ['52', '92', '20', '87', '8', '80', '83', '-9', '-9', '-9', '-9', '-9', '-9', '-9', 'I'] \n",
      "-----output \n",
      " [0.0, 0.8, 0.2, 0] \n",
      "\n",
      "----- input \n",
      " ['53', '92', '20', '87', '8', '80', '83', '-9', '-9', '-9', '-9', '-9', '-9', '-9', 'I'] \n",
      "-----output \n",
      " [0.0, 0.8, 0.2, 0] \n",
      "\n",
      "----- input \n",
      " ['54', '80', '50', '91', '7', '30', '87', '6', '-9', '-9', '-9', '-9', '-9', '-9', 'I'] \n",
      "-----output \n",
      " [0.19999999999999996, 0, 0.8, 0] \n",
      "\n",
      "----- input \n",
      " ['55', '90', '40', '91', '6', '40', '87', '6', '10', '83', '4', '-9', '-9', '-9', 'I'] \n",
      "-----output \n",
      " [0.09999999999999998, 0.1, 0.8, 0] \n",
      "\n",
      "----- input \n",
      " ['56', '1', '-9', '87', '3', '-9', '-9', '-9', '-9', '-9', '-9', '-9', '-9', '-9', 'I'] \n",
      "-----output \n",
      " [0.99, 0, 0.01, 0] \n",
      "\n",
      "----- input \n",
      " ['57', '91', '10', '91', '6', '70', '87', '4', '20', '83', '3', '98', '-9', '-9', 'I'] \n",
      "-----output \n",
      " [0.0, 0.2, 0.7999999999999999, 0] \n",
      "\n",
      "----- input \n",
      " ['58', '10', '-9', '87', '4', '-9', '-9', '-9', '-9', '-9', '-9', '-9', '-9', '-9', 'I'] \n",
      "-----output \n",
      " [0.9, 0, 0.1, 0] \n",
      "\n",
      "----- input \n",
      " ['59', '92', '20', '87', '8', '80', '83', '-9', '-9', '-9', '-9', '-9', '-9', '-9', 'I'] \n",
      "-----output \n",
      " [0.0, 0.8, 0.2, 0] \n",
      "\n",
      "20190301T101628_S1A_AMSR2_Icechart-Greenland-SouthWest.nc\n",
      "open water\n"
     ]
    },
    {
     "data": {
      "image/png": "[encoded data removed]",
      "text/plain": [
       "<Figure size 432x288 with 1 Axes>"
      ]
     },
     "metadata": {
      "needs_background": "light"
     },
     "output_type": "display_data"
    },
    {
     "name": "stdout",
     "output_type": "stream",
     "text": [
      "young ice\n"
     ]
    },
    {
     "data": {
      "image/png": "[encoded data removed]",
      "text/plain": [
       "<Figure size 432x288 with 1 Axes>"
      ]
     },
     "metadata": {
      "needs_background": "light"
     },
     "output_type": "display_data"
    },
    {
     "name": "stdout",
     "output_type": "stream",
     "text": [
      "first-year ice\n"
     ]
    },
    {
     "data": {
      "image/png": "[encoded data removed]",
      "text/plain": [
       "<Figure size 432x288 with 1 Axes>"
      ]
     },
     "metadata": {
      "needs_background": "light"
     },
     "output_type": "display_data"
    },
    {
     "name": "stdout",
     "output_type": "stream",
     "text": [
      "multi-year ice\n"
     ]
    },
    {
     "data": {
      "image/png": "[encoded data removed]",
      "text/plain": [
       "<Figure size 432x288 with 1 Axes>"
      ]
     },
     "metadata": {
      "needs_background": "light"
     },
     "output_type": "display_data"
    },
    {
     "name": "stdout",
     "output_type": "stream",
     "text": [
      "----- input \n",
      " ['8', '92', '20', '98', '8', '80', '91', '-9', '-9', '-9', '-9', '-9', '-9', '-9', 'I'] \n",
      "-----output \n",
      " [0.19999999999999996, 0, 0.8, 0] \n",
      "\n",
      "----- input \n",
      " ['10', '92', '10', '93', '8', '90', '91', '-9', '-9', '-9', '-9', '98', '-9', '-9', 'I'] \n",
      "-----output \n",
      " [0.0, 0, 1.0, 0] \n",
      "\n",
      "----- input \n",
      " ['11', '92', '70', '91', '8', '30', '87', '-9', '-9', '-9', '-9', '98', '-9', '-9', 'I'] \n",
      "-----output \n",
      " [0.0, 0, 1.0, 0] \n",
      "\n",
      "----- input \n",
      " ['12', '92', '10', '93', '8', '90', '91', '-9', '-9', '-9', '-9', '98', '-9', '-9', 'I'] \n",
      "-----output \n",
      " [0.0, 0, 1.0, 0] \n",
      "\n",
      "----- input \n",
      " ['13', '92', '20', '98', '8', '20', '93', '-9', '60', '91', '-9', '-9', '-9', '-9', 'I'] \n",
      "-----output \n",
      " [0.19999999999999996, 0, 0.8, 0] \n",
      "\n",
      "----- input \n",
      " ['14', '91', '20', '87', '5', '50', '83', '4', '30', '82', '3', '98', '-9', '-9', 'I'] \n",
      "-----output \n",
      " [0.0, 0.8, 0.2, 0] \n",
      "\n",
      "----- input \n",
      " ['15', '91', '80', '91', '7', '20', '87', '6', '-9', '-9', '-9', '-9', '-9', '-9', 'I'] \n",
      "-----output \n",
      " [0.0, 0, 1.0, 0] \n",
      "\n",
      "----- input \n",
      " ['16', '91', '50', '91', '6', '30', '87', '5', '20', '83', '4', '98', '-9', '-9', 'I'] \n",
      "-----output \n",
      " [0.0, 0.2, 0.8, 0] \n",
      "\n",
      "----- input \n",
      " ['17', '92', '20', '93', '8', '80', '91', '-9', '-9', '-9', '-9', '98', '-9', '-9', 'I'] \n",
      "-----output \n",
      " [0.0, 0, 1.0, 0] \n",
      "\n",
      "----- input \n",
      " ['18', '92', '20', '98', '8', '20', '93', '-9', '60', '91', '-9', '-9', '-9', '-9', 'I'] \n",
      "-----output \n",
      " [0.19999999999999996, 0, 0.8, 0] \n",
      "\n",
      "20190304T103943_S1A_AMSR2_Icechart-Greenland-NorthWest.nc\n",
      "open water\n"
     ]
    },
    {
     "data": {
      "image/png": "[encoded data removed]",
      "text/plain": [
       "<Figure size 432x288 with 1 Axes>"
      ]
     },
     "metadata": {
      "needs_background": "light"
     },
     "output_type": "display_data"
    },
    {
     "name": "stdout",
     "output_type": "stream",
     "text": [
      "young ice\n"
     ]
    },
    {
     "data": {
      "image/png": "[encoded data removed]",
      "text/plain": [
       "<Figure size 432x288 with 1 Axes>"
      ]
     },
     "metadata": {
      "needs_background": "light"
     },
     "output_type": "display_data"
    },
    {
     "name": "stdout",
     "output_type": "stream",
     "text": [
      "first-year ice\n"
     ]
    },
    {
     "data": {
      "image/png": "[encoded data removed]",
      "text/plain": [
       "<Figure size 432x288 with 1 Axes>"
      ]
     },
     "metadata": {
      "needs_background": "light"
     },
     "output_type": "display_data"
    },
    {
     "name": "stdout",
     "output_type": "stream",
     "text": [
      "multi-year ice\n"
     ]
    },
    {
     "data": {
      "image/png": "[encoded data removed]",
      "text/plain": [
       "<Figure size 432x288 with 1 Axes>"
      ]
     },
     "metadata": {
      "needs_background": "light"
     },
     "output_type": "display_data"
    },
    {
     "name": "stdout",
     "output_type": "stream",
     "text": [
      "----- input \n",
      " ['1', '20', '10', '95', '4', '10', '87', '3', '-9', '83', '-9', '98', '-9', '-9', 'I'] \n",
      "-----output \n",
      " [0.8, 0, 0.1, 0.1] \n",
      "\n",
      "----- input \n",
      " ['2', '92', '20', '95', '8', '60', '91', '-9', '20', '83', '-9', '98', '-9', '-9', 'I'] \n",
      "-----output \n",
      " [0.0, 0.2, 0.6, 0.2] \n",
      "\n",
      "----- input \n",
      " ['3', '92', '20', '95', '8', '60', '91', '-9', '20', '83', '-9', '98', '-9', '-9', 'I'] \n",
      "-----output \n",
      " [0.0, 0.2, 0.6, 0.2] \n",
      "\n",
      "----- input \n",
      " ['4', '02', '-9', '-9', '-9', '-9', '-9', '-9', '-9', '-9', '-9', '-9', '-9', '-9', 'W'] \n",
      "-----output \n",
      " [0.98, 0, 0, 0] \n",
      "\n",
      "----- input \n",
      " ['5', '20', '10', '95', '4', '10', '87', '3', '-9', '83', '-9', '98', '-9', '-9', 'I'] \n",
      "-----output \n",
      " [0.8, 0, 0.1, 0.1] \n",
      "\n",
      "----- input \n",
      " ['6', '30', '10', '95', '4', '10', '91', '3', '10', '87', '3', '98', '-9', '19', 'I'] \n",
      "-----output \n",
      " [0.7, 0, 0.2, 0.1] \n",
      "\n",
      "----- input \n",
      " ['7', '92', '-9', '87', '8', '-9', '-9', '-9', '-9', '-9', '-9', '98', '-9', '-9', 'I'] \n",
      "-----output \n",
      " [0.07999999999999996, 0, 0.92, 0] \n",
      "\n",
      "----- input \n",
      " ['8', '20', '10', '95', '4', '10', '87', '3', '-9', '83', '-9', '98', '-9', '-9', 'I'] \n",
      "-----output \n",
      " [0.8, 0, 0.1, 0.1] \n",
      "\n",
      "----- input \n",
      " ['9', '20', '10', '95', '4', '10', '87', '3', '-9', '83', '-9', '98', '-9', '-9', 'I'] \n",
      "-----output \n",
      " [0.8, 0, 0.1, 0.1] \n",
      "\n",
      "----- input \n",
      " ['10', '91', '10', '98', '10', '90', '87', '5', '-9', '-9', '-9', '-9', '-9', '-9', 'I'] \n",
      "-----output \n",
      " [0.09999999999999998, 0, 0.9, 0] \n",
      "\n",
      "----- input \n",
      " ['11', '10', '-9', '95', '4', '-9', '-9', '3', '-9', '-9', '-9', '98', '-9', '19', 'I'] \n",
      "-----output \n",
      " [0.9, 0, 0, 0.1] \n",
      "\n",
      "----- input \n",
      " ['12', '91', '50', '95', '4', '30', '91', '4', '20', '87', '3', '98', '-9', '-9', 'I'] \n",
      "-----output \n",
      " [0.0, 0, 0.5, 0.5] \n",
      "\n",
      "----- input \n",
      " ['13', '1', '-9', '98', '10', '-9', '-9', '-9', '-9', '-9', '-9', '95', '-9', '-9', 'I'] \n",
      "-----output \n",
      " [0.99, 0, 0, 0] \n",
      "\n",
      "----- input \n",
      " ['14', '92', '10', '95', '8', '80', '87', '-9', '10', '83', '-9', '-9', '-9', '-9', 'I'] \n",
      "-----output \n",
      " [0.0, 0.1, 0.8, 0.1] \n",
      "\n",
      "----- input \n",
      " ['15', '10', '-9', '87', '3', '-9', '-9', '-9', '-9', '-9', '-9', '98', '-9', '19', 'I'] \n",
      "-----output \n",
      " [0.9, 0, 0.1, 0] \n",
      "\n",
      "----- input \n",
      " ['16', '20', '10', '95', '4', '10', '87', '3', '-9', '83', '-9', '98', '-9', '-9', 'I'] \n",
      "-----output \n",
      " [0.8, 0, 0.1, 0.1] \n",
      "\n",
      "----- input \n",
      " ['18', '91', '10', '98', '10', '90', '87', '5', '-9', '-9', '-9', '-9', '-9', '-9', 'I'] \n",
      "-----output \n",
      " [0.09999999999999998, 0, 0.9, 0] \n",
      "\n",
      "----- input \n",
      " ['19', '20', '10', '95', '4', '10', '87', '3', '-9', '83', '-9', '98', '-9', '-9', 'I'] \n",
      "-----output \n",
      " [0.8, 0, 0.1, 0.1] \n",
      "\n",
      "----- input \n",
      " ['20', '91', '50', '95', '4', '30', '91', '4', '20', '87', '3', '98', '-9', '-9', 'I'] \n",
      "-----output \n",
      " [0.0, 0, 0.5, 0.5] \n",
      "\n",
      "----- input \n",
      " ['21', '02', '-9', '-9', '-9', '-9', '-9', '-9', '-9', '-9', '-9', '-9', '-9', '-9', 'W'] \n",
      "-----output \n",
      " [0.98, 0, 0, 0] \n",
      "\n",
      "----- input \n",
      " ['22', '92', '20', '91', '4', '80', '91', '3', '-9', '83', '3', '98', '-9', '-9', 'I'] \n",
      "-----output \n",
      " [0.0, 0, 1.0, 0] \n",
      "\n",
      "----- input \n",
      " ['23', '92', '90', '87', '8', '10', '83', '-9', '-9', '-9', '-9', '98', '-9', '-9', 'I'] \n",
      "-----output \n",
      " [0.0, 0.1, 0.9, 0] \n",
      "\n",
      "----- input \n",
      " ['24', '90', '80', '87', '8', '10', '83', '-9', '-9', '-9', '-9', '98', '-9', '-9', 'I'] \n",
      "-----output \n",
      " [0.09999999999999998, 0.1, 0.8, 0] \n",
      "\n",
      "----- input \n",
      " ['25', '92', '90', '87', '8', '10', '83', '-9', '-9', '-9', '-9', '98', '-9', '-9', 'I'] \n",
      "-----output \n",
      " [0.0, 0.1, 0.9, 0] \n",
      "\n",
      "----- input \n",
      " ['26', '92', '90', '87', '8', '10', '83', '-9', '-9', '-9', '-9', '98', '-9', '-9', 'I'] \n",
      "-----output \n",
      " [0.0, 0.1, 0.9, 0] \n",
      "\n",
      "----- input \n",
      " ['27', '1', '-9', '98', '10', '-9', '-9', '-9', '-9', '-9', '-9', '87', '-9', '-9', 'I'] \n",
      "-----output \n",
      " [0.99, 0, 0, 0] \n",
      "\n",
      "----- input \n",
      " ['29', '10', '-9', '87', '3', '-9', '-9', '-9', '-9', '-9', '-9', '98', '-9', '19', 'I'] \n",
      "-----output \n",
      " [0.9, 0, 0.1, 0] \n",
      "\n",
      "----- input \n",
      " ['30', '92', '90', '87', '8', '10', '83', '-9', '-9', '-9', '-9', '98', '-9', '-9', 'I'] \n",
      "-----output \n",
      " [0.0, 0.1, 0.9, 0] \n",
      "\n",
      "----- input \n",
      " ['35', '92', '10', '98', '10', '80', '87', '5', '10', '83', '4', '-9', '-9', '-9', 'I'] \n",
      "-----output \n",
      " [0.09999999999999998, 0.1, 0.8, 0] \n",
      "\n",
      "----- input \n",
      " ['37', '90', '80', '87', '8', '10', '83', '-9', '-9', '-9', '-9', '98', '-9', '-9', 'I'] \n",
      "-----output \n",
      " [0.09999999999999998, 0.1, 0.8, 0] \n",
      "\n",
      "----- input \n",
      " ['39', '91', '50', '95', '4', '30', '91', '4', '20', '87', '3', '98', '-9', '-9', 'I'] \n",
      "-----output \n",
      " [0.0, 0, 0.5, 0.5] \n",
      "\n",
      "----- input \n",
      " ['41', '92', '10', '98', '10', '80', '87', '5', '10', '83', '4', '-9', '-9', '-9', 'I'] \n",
      "-----output \n",
      " [0.09999999999999998, 0.1, 0.8, 0] \n",
      "\n",
      "----- input \n",
      " ['45', '92', '10', '98', '10', '80', '87', '5', '10', '83', '4', '-9', '-9', '-9', 'I'] \n",
      "-----output \n",
      " [0.09999999999999998, 0.1, 0.8, 0] \n",
      "\n",
      "----- input \n",
      " ['49', '50', '20', '98', '10', '10', '87', '4', '10', '83', '3', '-9', '-9', '19', 'I'] \n",
      "-----output \n",
      " [0.8, 0.1, 0.1, 0] \n",
      "\n",
      "----- input \n",
      " ['55', '90', '60', '98', '10', '20', '87', '5', '10', '83', '3', '-9', '-9', '-9', 'I'] \n",
      "-----output \n",
      " [0.7, 0.1, 0.2, 0] \n",
      "\n",
      "20190404T201246_S1A_AMSR2_Icechart-Greenland-SouthEast.nc\n",
      "open water\n"
     ]
    },
    {
     "data": {
      "image/png": "[encoded data removed]",
      "text/plain": [
       "<Figure size 432x288 with 1 Axes>"
      ]
     },
     "metadata": {
      "needs_background": "light"
     },
     "output_type": "display_data"
    },
    {
     "name": "stdout",
     "output_type": "stream",
     "text": [
      "young ice\n"
     ]
    },
    {
     "data": {
      "image/png": "[encoded data removed]",
      "text/plain": [
       "<Figure size 432x288 with 1 Axes>"
      ]
     },
     "metadata": {
      "needs_background": "light"
     },
     "output_type": "display_data"
    },
    {
     "name": "stdout",
     "output_type": "stream",
     "text": [
      "first-year ice\n"
     ]
    },
    {
     "data": {
      "image/png": "[encoded data removed]",
      "text/plain": [
       "<Figure size 432x288 with 1 Axes>"
      ]
     },
     "metadata": {
      "needs_background": "light"
     },
     "output_type": "display_data"
    },
    {
     "name": "stdout",
     "output_type": "stream",
     "text": [
      "multi-year ice\n"
     ]
    },
    {
     "data": {
      "image/png": "[encoded data removed]",
      "text/plain": [
       "<Figure size 432x288 with 1 Axes>"
      ]
     },
     "metadata": {
      "needs_background": "light"
     },
     "output_type": "display_data"
    },
    {
     "name": "stdout",
     "output_type": "stream",
     "text": [
      "----- input \n",
      " ['23', '92', '20', '98', '8', '70', '93', '-9', '10', '91', '-9', '-9', '-9', '-9', 'I'] \n",
      "-----output \n",
      " [0.20000000000000007, 0, 0.7999999999999999, 0] \n",
      "\n",
      "----- input \n",
      " ['24', '92', '10', '98', '8', '70', '93', '-9', '20', '91', '-9', '-9', '-9', '-9', 'I'] \n",
      "-----output \n",
      " [0.10000000000000009, 0, 0.8999999999999999, 0] \n",
      "\n",
      "----- input \n",
      " ['25', '92', '20', '98', '8', '70', '93', '-9', '10', '91', '-9', '-9', '-9', '-9', 'I'] \n",
      "-----output \n",
      " [0.20000000000000007, 0, 0.7999999999999999, 0] \n",
      "\n",
      "----- input \n",
      " ['26', '92', '30', '98', '8', '60', '93', '-9', '10', '91', '-9', '-9', '-9', '-9', 'I'] \n",
      "-----output \n",
      " [0.30000000000000004, 0, 0.7, 0] \n",
      "\n",
      "----- input \n",
      " ['27', '91', '20', '95', '6', '50', '93', '6', '30', '91', '5', '98', '-9', '-9', 'I'] \n",
      "-----output \n",
      " [0.0, 0, 0.8, 0.2] \n",
      "\n",
      "----- input \n",
      " ['28', '92', '-9', '93', '8', '-9', '-9', '-9', '-9', '-9', '-9', '95', '-9', '-9', 'I'] \n",
      "-----output \n",
      " [0.07999999999999996, 0, 0.92, 0] \n",
      "\n",
      "----- input \n",
      " ['29', '92', '50', '95', '8', '40', '91', '-9', '20', '87', '-9', '98', '-9', '-9', 'I'] \n",
      "-----output \n",
      " [-0.10000000000000009, 0, 0.6000000000000001, 0.5] \n",
      "\n",
      "----- input \n",
      " ['30', '92', '-9', '93', '8', '-9', '-9', '-9', '-9', '-9', '-9', '95', '-9', '-9', 'I'] \n",
      "-----output \n",
      " [0.07999999999999996, 0, 0.92, 0] \n",
      "\n",
      "----- input \n",
      " ['31', '92', '-9', '93', '8', '-9', '-9', '-9', '-9', '-9', '-9', '95', '-9', '-9', 'I'] \n",
      "-----output \n",
      " [0.07999999999999996, 0, 0.92, 0] \n",
      "\n",
      "----- input \n",
      " ['32', '92', '50', '95', '8', '40', '91', '-9', '20', '87', '-9', '98', '-9', '-9', 'I'] \n",
      "-----output \n",
      " [-0.10000000000000009, 0, 0.6000000000000001, 0.5] \n",
      "\n",
      "----- input \n",
      " ['33', '90', '60', '95', '7', '20', '93', '6', '10', '91', '5', '98', '-9', '-9', 'I'] \n",
      "-----output \n",
      " [0.09999999999999998, 0, 0.30000000000000004, 0.6] \n",
      "\n",
      "----- input \n",
      " ['34', '91', '40', '95', '5', '40', '91', '4', '20', '87', '3', '98', '-9', '-9', 'I'] \n",
      "-----output \n",
      " [0.0, 0, 0.6000000000000001, 0.4] \n",
      "\n",
      "----- input \n",
      " ['35', '30', '10', '93', '5', '10', '91', '4', '10', '87', '3', '98', '-9', '19', 'I'] \n",
      "-----output \n",
      " [0.7, 0, 0.30000000000000004, 0] \n",
      "\n",
      "----- input \n",
      " ['36', '02', '-9', '-9', '-9', '-9', '-9', '-9', '-9', '-9', '-9', '-9', '-9', '-9', 'W'] \n",
      "-----output \n",
      " [0.98, 0, 0, 0] \n",
      "\n",
      "20190509T081206_S1A_AMSR2_Icechart-Greenland-CentralEast.nc\n",
      "open water\n"
     ]
    },
    {
     "data": {
      "image/png": "[encoded data removed]",
      "text/plain": [
       "<Figure size 432x288 with 1 Axes>"
      ]
     },
     "metadata": {
      "needs_background": "light"
     },
     "output_type": "display_data"
    },
    {
     "name": "stdout",
     "output_type": "stream",
     "text": [
      "young ice\n"
     ]
    },
    {
     "data": {
      "image/png": "[encoded data removed]",
      "text/plain": [
       "<Figure size 432x288 with 1 Axes>"
      ]
     },
     "metadata": {
      "needs_background": "light"
     },
     "output_type": "display_data"
    },
    {
     "name": "stdout",
     "output_type": "stream",
     "text": [
      "first-year ice\n"
     ]
    },
    {
     "data": {
      "image/png": "[encoded data removed]",
      "text/plain": [
       "<Figure size 432x288 with 1 Axes>"
      ]
     },
     "metadata": {
      "needs_background": "light"
     },
     "output_type": "display_data"
    },
    {
     "name": "stdout",
     "output_type": "stream",
     "text": [
      "multi-year ice\n"
     ]
    },
    {
     "data": {
      "image/png": "[encoded data removed]",
      "text/plain": [
       "<Figure size 432x288 with 1 Axes>"
      ]
     },
     "metadata": {
      "needs_background": "light"
     },
     "output_type": "display_data"
    },
    {
     "name": "stdout",
     "output_type": "stream",
     "text": [
      "----- input \n",
      " ['1', '20', '10', '93', '4', '10', '91', '4', '-9', '-9', '-9', '95', '-9', '19', 'I'] \n",
      "-----output \n",
      " [0.8, 0, 0.2, 0] \n",
      "\n",
      "----- input \n",
      " ['2', '92', '60', '93', '8', '40', '91', '-9', '-9', '-9', '-9', '95', '-9', '-9', 'I'] \n",
      "-----output \n",
      " [0.0, 0, 1.0, 0] \n",
      "\n",
      "----- input \n",
      " ['3', '92', '60', '93', '8', '40', '91', '-9', '-9', '-9', '-9', '95', '-9', '-9', 'I'] \n",
      "-----output \n",
      " [0.0, 0, 1.0, 0] \n",
      "\n",
      "----- input \n",
      " ['4', '50', '20', '95', '4', '20', '93', '4', '10', '91', '3', '98', '-9', '19', 'I'] \n",
      "-----output \n",
      " [0.5, 0, 0.30000000000000004, 0.2] \n",
      "\n",
      "----- input \n",
      " ['5', '92', '60', '93', '8', '40', '91', '-9', '-9', '-9', '-9', '95', '-9', '-9', 'I'] \n",
      "-----output \n",
      " [0.0, 0, 1.0, 0] \n",
      "\n",
      "----- input \n",
      " ['6', '91', '20', '95', '5', '50', '93', '5', '30', '91', '4', '98', '-9', '-9', 'I'] \n",
      "-----output \n",
      " [0.0, 0, 0.8, 0.2] \n",
      "\n",
      "----- input \n",
      " ['7', '92', '60', '93', '8', '40', '91', '-9', '-9', '-9', '-9', '95', '-9', '-9', 'I'] \n",
      "-----output \n",
      " [0.0, 0, 1.0, 0] \n",
      "\n",
      "----- input \n",
      " ['8', '92', '60', '93', '8', '40', '91', '-9', '-9', '-9', '-9', '95', '-9', '-9', 'I'] \n",
      "-----output \n",
      " [0.0, 0, 1.0, 0] \n",
      "\n",
      "----- input \n",
      " ['9', '92', '60', '93', '8', '40', '91', '-9', '-9', '-9', '-9', '95', '-9', '-9', 'I'] \n",
      "-----output \n",
      " [0.0, 0, 1.0, 0] \n",
      "\n",
      "----- input \n",
      " ['10', '50', '20', '95', '4', '20', '93', '4', '10', '91', '3', '98', '-9', '19', 'I'] \n",
      "-----output \n",
      " [0.5, 0, 0.30000000000000004, 0.2] \n",
      "\n",
      "----- input \n",
      " ['11', '92', '60', '93', '8', '40', '91', '-9', '-9', '-9', '-9', '95', '-9', '-9', 'I'] \n",
      "-----output \n",
      " [0.0, 0, 1.0, 0] \n",
      "\n",
      "----- input \n",
      " ['12', '92', '60', '93', '8', '40', '91', '-9', '-9', '-9', '-9', '95', '-9', '-9', 'I'] \n",
      "-----output \n",
      " [0.0, 0, 1.0, 0] \n",
      "\n",
      "----- input \n",
      " ['13', '92', '20', '98', '8', '80', '91', '-9', '-9', '-9', '-9', '-9', '-9', '-9', 'I'] \n",
      "-----output \n",
      " [0.19999999999999996, 0, 0.8, 0] \n",
      "\n",
      "----- input \n",
      " ['14', '91', '50', '95', '6', '40', '93', '5', '10', '91', '4', '98', '-9', '-9', 'I'] \n",
      "-----output \n",
      " [0.0, 0, 0.5, 0.5] \n",
      "\n",
      "----- input \n",
      " ['15', '50', '20', '95', '5', '20', '93', '4', '10', '91', '3', '98', '-9', '19', 'I'] \n",
      "-----output \n",
      " [0.5, 0, 0.30000000000000004, 0.2] \n",
      "\n",
      "----- input \n",
      " ['16', '92', '20', '98', '8', '70', '93', '-9', '10', '91', '-9', '-9', '-9', '-9', 'I'] \n",
      "-----output \n",
      " [0.20000000000000007, 0, 0.7999999999999999, 0] \n",
      "\n",
      "----- input \n",
      " ['17', '92', '10', '98', '8', '70', '93', '-9', '20', '91', '-9', '-9', '-9', '-9', 'I'] \n",
      "-----output \n",
      " [0.10000000000000009, 0, 0.8999999999999999, 0] \n",
      "\n",
      "----- input \n",
      " ['18', '92', '80', '87', '8', '20', '83', '-9', '-9', '-9', '-9', '95', '-9', '-9', 'I'] \n",
      "-----output \n",
      " [0.0, 0.2, 0.8, 0] \n",
      "\n",
      "----- input \n",
      " ['19', '90', '40', '93', '6', '30', '91', '6', '20', '87', '4', '95', '-9', '-9', 'I'] \n",
      "-----output \n",
      " [0.10000000000000009, 0, 0.8999999999999999, 0] \n",
      "\n",
      "----- input \n",
      " ['21', '92', '70', '93', '8', '30', '91', '-9', '-9', '-9', '-9', '98', '-9', '-9', 'I'] \n",
      "-----output \n",
      " [0.0, 0, 1.0, 0] \n",
      "\n",
      "----- input \n",
      " ['22', '90', '40', '95', '5', '30', '91', '4', '20', '87', '3', '98', '-9', '-9', 'I'] \n",
      "-----output \n",
      " [0.09999999999999998, 0, 0.5, 0.4] \n",
      "\n",
      "----- input \n",
      " ['23', '92', '20', '98', '8', '70', '93', '-9', '10', '91', '-9', '-9', '-9', '-9', 'I'] \n",
      "-----output \n",
      " [0.20000000000000007, 0, 0.7999999999999999, 0] \n",
      "\n",
      "----- input \n",
      " ['24', '92', '10', '98', '8', '70', '93', '-9', '20', '91', '-9', '-9', '-9', '-9', 'I'] \n",
      "-----output \n",
      " [0.10000000000000009, 0, 0.8999999999999999, 0] \n",
      "\n",
      "----- input \n",
      " ['27', '91', '20', '95', '6', '50', '93', '6', '30', '91', '5', '98', '-9', '-9', 'I'] \n",
      "-----output \n",
      " [0.0, 0, 0.8, 0.2] \n",
      "\n",
      "----- input \n",
      " ['29', '92', '50', '95', '8', '40', '91', '-9', '20', '87', '-9', '98', '-9', '-9', 'I'] \n",
      "-----output \n",
      " [-0.10000000000000009, 0, 0.6000000000000001, 0.5] \n",
      "\n",
      "----- input \n",
      " ['34', '91', '40', '95', '5', '40', '91', '4', '20', '87', '3', '98', '-9', '-9', 'I'] \n",
      "-----output \n",
      " [0.0, 0, 0.6000000000000001, 0.4] \n",
      "\n",
      "----- input \n",
      " ['35', '30', '10', '93', '5', '10', '91', '4', '10', '87', '3', '98', '-9', '19', 'I'] \n",
      "-----output \n",
      " [0.7, 0, 0.30000000000000004, 0] \n",
      "\n",
      "----- input \n",
      " ['36', '02', '-9', '-9', '-9', '-9', '-9', '-9', '-9', '-9', '-9', '-9', '-9', '-9', 'W'] \n",
      "-----output \n",
      " [0.98, 0, 0, 0] \n",
      "\n",
      "20190509T081306_S1A_AMSR2_Icechart-Greenland-CentralEast.nc\n",
      "open water\n"
     ]
    },
    {
     "data": {
      "image/png": "[encoded data removed]",
      "text/plain": [
       "<Figure size 432x288 with 1 Axes>"
      ]
     },
     "metadata": {
      "needs_background": "light"
     },
     "output_type": "display_data"
    },
    {
     "name": "stdout",
     "output_type": "stream",
     "text": [
      "young ice\n"
     ]
    },
    {
     "data": {
      "image/png": "[encoded data removed]",
      "text/plain": [
       "<Figure size 432x288 with 1 Axes>"
      ]
     },
     "metadata": {
      "needs_background": "light"
     },
     "output_type": "display_data"
    },
    {
     "name": "stdout",
     "output_type": "stream",
     "text": [
      "first-year ice\n"
     ]
    },
    {
     "data": {
      "image/png": "[encoded data removed]",
      "text/plain": [
       "<Figure size 432x288 with 1 Axes>"
      ]
     },
     "metadata": {
      "needs_background": "light"
     },
     "output_type": "display_data"
    },
    {
     "name": "stdout",
     "output_type": "stream",
     "text": [
      "multi-year ice\n"
     ]
    },
    {
     "data": {
      "image/png": "[encoded data removed]",
      "text/plain": [
       "<Figure size 432x288 with 1 Axes>"
      ]
     },
     "metadata": {
      "needs_background": "light"
     },
     "output_type": "display_data"
    },
    {
     "name": "stdout",
     "output_type": "stream",
     "text": [
      "----- input \n",
      " ['1', '91', '40', '91', '8', '60', '87', '-9', '-9', '-9', '-9', '-9', '-9', '-9', 'I'] \n",
      "-----output \n",
      " [0.0, 0, 1.0, 0] \n",
      "\n",
      "----- input \n",
      " ['2', '80', '30', '95', '4', '30', '93', '3', '20', '91', '3', '98', '-9', '-9', 'I'] \n",
      "-----output \n",
      " [0.19999999999999996, 0, 0.5, 0.3] \n",
      "\n",
      "----- input \n",
      " ['4', '02', '-9', '-9', '-9', '-9', '-9', '-9', '-9', '-9', '-9', '-9', '-9', '-9', 'W'] \n",
      "-----output \n",
      " [0.98, 0, 0, 0] \n",
      "\n",
      "----- input \n",
      " ['5', '70', '20', '95', '4', '30', '93', '3', '20', '91', '3', '98', '-9', '-9', 'I'] \n",
      "-----output \n",
      " [0.30000000000000004, 0, 0.5, 0.2] \n",
      "\n",
      "----- input \n",
      " ['6', '91', '50', '95', '5', '30', '93', '4', '20', '91', '3', '98', '-9', '-9', 'I'] \n",
      "-----output \n",
      " [0.0, 0, 0.5, 0.5] \n",
      "\n",
      "----- input \n",
      " ['7', '80', '10', '98', '10', '30', '95', '4', '40', '93', '4', '-9', '-9', '-9', 'I'] \n",
      "-----output \n",
      " [0.30000000000000004, 0, 0.4, 0.3] \n",
      "\n",
      "----- input \n",
      " ['8', '50', '20', '98', '10', '10', '95', '4', '20', '91', '4', '-9', '-9', '-9', 'I'] \n",
      "-----output \n",
      " [0.7, 0, 0.2, 0.1] \n",
      "\n",
      "----- input \n",
      " ['9', '20', '10', '95', '5', '10', '93', '4', '-9', '-9', '-9', '98', '-9', '-9', 'I'] \n",
      "-----output \n",
      " [0.8, 0, 0.1, 0.1] \n",
      "\n",
      "----- input \n",
      " ['10', '91', '40', '95', '5', '40', '93', '4', '20', '91', '3', '98', '-9', '-9', 'I'] \n",
      "-----output \n",
      " [0.0, 0, 0.6000000000000001, 0.4] \n",
      "\n",
      "----- input \n",
      " ['11', '92', '10', '95', '8', '60', '91', '-9', '30', '83', '-9', '98', '-9', '-9', 'I'] \n",
      "-----output \n",
      " [1.1102230246251565e-16, 0.3, 0.6, 0.1] \n",
      "\n",
      "----- input \n",
      " ['12', '80', '40', '95', '5', '30', '93', '4', '10', '91', '3', '98', '-9', '-9', 'I'] \n",
      "-----output \n",
      " [0.19999999999999996, 0, 0.4, 0.4] \n",
      "\n",
      "----- input \n",
      " ['13', '40', '10', '95', '3', '10', '93', '3', '20', '91', '2', '98', '-9', '-9', 'I'] \n",
      "-----output \n",
      " [0.6, 0, 0.30000000000000004, 0.1] \n",
      "\n",
      "----- input \n",
      " ['14', '80', '40', '95', '5', '30', '93', '4', '10', '91', '3', '98', '-9', '-9', 'I'] \n",
      "-----output \n",
      " [0.19999999999999996, 0, 0.4, 0.4] \n",
      "\n",
      "----- input \n",
      " ['15', '91', '40', '95', '5', '40', '93', '4', '20', '91', '3', '98', '-9', '-9', 'I'] \n",
      "-----output \n",
      " [0.0, 0, 0.6000000000000001, 0.4] \n",
      "\n",
      "----- input \n",
      " ['16', '90', '10', '95', '7', '40', '93', '6', '40', '91', '5', '98', '-9', '-9', 'I'] \n",
      "-----output \n",
      " [0.09999999999999998, 0, 0.8, 0.1] \n",
      "\n",
      "----- input \n",
      " ['17', '30', '10', '95', '4', '10', '91', '3', '10', '87', '3', '98', '-9', '-9', 'I'] \n",
      "-----output \n",
      " [0.7, 0, 0.2, 0.1] \n",
      "\n",
      "----- input \n",
      " ['18', '50', '20', '95', '5', '20', '93', '4', '10', '91', '3', '98', '-9', '-9', 'I'] \n",
      "-----output \n",
      " [0.5, 0, 0.30000000000000004, 0.2] \n",
      "\n",
      "----- input \n",
      " ['19', '91', '90', '87', '4', '10', '83', '3', '-9', '-9', '-9', '98', '-9', '-9', 'I'] \n",
      "-----output \n",
      " [0.0, 0.1, 0.9, 0] \n",
      "\n",
      "----- input \n",
      " ['20', '92', '20', '91', '4', '80', '91', '3', '-9', '83', '3', '98', '-9', '-9', 'I'] \n",
      "-----output \n",
      " [0.0, 0, 1.0, 0] \n",
      "\n",
      "----- input \n",
      " ['21', '92', '90', '87', '8', '10', '83', '-9', '-9', '-9', '-9', '98', '-9', '-9', 'I'] \n",
      "-----output \n",
      " [0.0, 0.1, 0.9, 0] \n",
      "\n",
      "----- input \n",
      " ['22', '92', '90', '87', '8', '10', '83', '-9', '-9', '-9', '-9', '98', '-9', '-9', 'I'] \n",
      "-----output \n",
      " [0.0, 0.1, 0.9, 0] \n",
      "\n",
      "----- input \n",
      " ['23', '90', '80', '87', '8', '10', '83', '-9', '-9', '-9', '-9', '98', '-9', '-9', 'I'] \n",
      "-----output \n",
      " [0.09999999999999998, 0.1, 0.8, 0] \n",
      "\n",
      "----- input \n",
      " ['24', '60', '10', '95', '4', '30', '93', '3', '20', '91', '3', '98', '-9', '-9', 'I'] \n",
      "-----output \n",
      " [0.4, 0, 0.5, 0.1] \n",
      "\n",
      "----- input \n",
      " ['25', '90', '20', '91', '5', '50', '87', '4', '20', '83', '3', '98', '-9', '-9', 'I'] \n",
      "-----output \n",
      " [0.10000000000000009, 0.2, 0.7, 0] \n",
      "\n",
      "----- input \n",
      " ['26', '91', '90', '87', '8', '10', '83', '-9', '-9', '-9', '-9', '98', '-9', '-9', 'I'] \n",
      "-----output \n",
      " [0.0, 0.1, 0.9, 0] \n",
      "\n",
      "----- input \n",
      " ['27', '30', '20', '93', '3', '10', '91', '3', '-9', '-9', '-9', '98', '-9', '-9', 'I'] \n",
      "-----output \n",
      " [0.7, 0, 0.30000000000000004, 0] \n",
      "\n",
      "----- input \n",
      " ['28', '20', '10', '93', '3', '10', '91', '3', '-9', '-9', '-9', '98', '-9', '-9', 'I'] \n",
      "-----output \n",
      " [0.8, 0, 0.2, 0] \n",
      "\n",
      "----- input \n",
      " ['29', '91', '10', '95', '8', '90', '91', '-9', '-9', '-9', '-9', '98', '-9', '-9', 'I'] \n",
      "-----output \n",
      " [0.0, 0, 0.9, 0.1] \n",
      "\n",
      "----- input \n",
      " ['30', '30', '20', '98', '10', '10', '87', '3', '-9', '-9', '-9', '-9', '-9', '-9', 'I'] \n",
      "-----output \n",
      " [0.9, 0, 0.1, 0] \n",
      "\n",
      "----- input \n",
      " ['31', '91', '70', '98', '10', '30', '83', '2', '-9', '-9', '-9', '-9', '-9', '-9', 'I'] \n",
      "-----output \n",
      " [0.7, 0.3, 0, 0] \n",
      "\n",
      "----- input \n",
      " ['32', '91', '70', '98', '10', '30', '83', '2', '-9', '-9', '-9', '-9', '-9', '-9', 'I'] \n",
      "-----output \n",
      " [0.7, 0.3, 0, 0] \n",
      "\n",
      "----- input \n",
      " ['33', '30', '10', '95', '4', '10', '91', '5', '10', '86', '4', '98', '-9', '-9', 'I'] \n",
      "-----output \n",
      " [0.7, 0, 0.2, 0.1] \n",
      "\n",
      "----- input \n",
      " ['34', '91', '30', '98', '8', '70', '87', '-9', '-9', '-9', '-9', '-9', '-9', '-9', 'I'] \n",
      "-----output \n",
      " [0.30000000000000004, 0, 0.7, 0] \n",
      "\n",
      "----- input \n",
      " ['35', '91', '40', '95', '5', '40', '93', '4', '20', '91', '3', '98', '-9', '-9', 'I'] \n",
      "-----output \n",
      " [0.0, 0, 0.6000000000000001, 0.4] \n",
      "\n",
      "----- input \n",
      " ['36', '91', '40', '95', '5', '50', '93', '6', '10', '91', '4', '98', '-9', '-9', 'I'] \n",
      "-----output \n",
      " [0.0, 0, 0.6, 0.4] \n",
      "\n",
      "----- input \n",
      " ['37', '91', '40', '95', '5', '40', '93', '5', '20', '91', '4', '98', '-9', '-9', 'I'] \n",
      "-----output \n",
      " [0.0, 0, 0.6000000000000001, 0.4] \n",
      "\n",
      "----- input \n",
      " ['39', '02', '-9', '-9', '-9', '-9', '-9', '-9', '-9', '-9', '-9', '-9', '-9', '-9', 'W'] \n",
      "-----output \n",
      " [0.98, 0, 0, 0] \n",
      "\n",
      "----- input \n",
      " ['40', '02', '-9', '-9', '-9', '-9', '-9', '-9', '-9', '-9', '-9', '-9', '-9', '-9', 'W'] \n",
      "-----output \n",
      " [0.98, 0, 0, 0] \n",
      "\n",
      "20190519T194808_S1A_AMSR2_Icechart-Greenland-SouthEast.nc\n",
      "open water\n"
     ]
    },
    {
     "data": {
      "image/png": "[encoded data removed]",
      "text/plain": [
       "<Figure size 432x288 with 1 Axes>"
      ]
     },
     "metadata": {
      "needs_background": "light"
     },
     "output_type": "display_data"
    },
    {
     "name": "stdout",
     "output_type": "stream",
     "text": [
      "young ice\n"
     ]
    },
    {
     "data": {
      "image/png": "[encoded data removed]",
      "text/plain": [
       "<Figure size 432x288 with 1 Axes>"
      ]
     },
     "metadata": {
      "needs_background": "light"
     },
     "output_type": "display_data"
    },
    {
     "name": "stdout",
     "output_type": "stream",
     "text": [
      "first-year ice\n"
     ]
    },
    {
     "data": {
      "image/png": "[encoded data removed]",
      "text/plain": [
       "<Figure size 432x288 with 1 Axes>"
      ]
     },
     "metadata": {
      "needs_background": "light"
     },
     "output_type": "display_data"
    },
    {
     "name": "stdout",
     "output_type": "stream",
     "text": [
      "multi-year ice\n"
     ]
    },
    {
     "data": {
      "image/png": "[encoded data removed]",
      "text/plain": [
       "<Figure size 432x288 with 1 Axes>"
      ]
     },
     "metadata": {
      "needs_background": "light"
     },
     "output_type": "display_data"
    },
    {
     "name": "stdout",
     "output_type": "stream",
     "text": [
      "----- input \n",
      " ['30', '30', '20', '98', '10', '10', '87', '3', '-9', '-9', '-9', '-9', '-9', '-9', 'I'] \n",
      "-----output \n",
      " [0.9, 0, 0.1, 0] \n",
      "\n",
      "----- input \n",
      " ['32', '91', '70', '98', '10', '30', '83', '2', '-9', '-9', '-9', '-9', '-9', '-9', 'I'] \n",
      "-----output \n",
      " [0.7, 0.3, 0, 0] \n",
      "\n",
      "----- input \n",
      " ['36', '91', '40', '95', '5', '50', '93', '6', '10', '91', '4', '98', '-9', '-9', 'I'] \n",
      "-----output \n",
      " [0.0, 0, 0.6, 0.4] \n",
      "\n",
      "----- input \n",
      " ['37', '91', '40', '95', '5', '40', '93', '5', '20', '91', '4', '98', '-9', '-9', 'I'] \n",
      "-----output \n",
      " [0.0, 0, 0.6000000000000001, 0.4] \n",
      "\n",
      "----- input \n",
      " ['38', '20', '10', '93', '4', '10', '91', '3', '-9', '-9', '-9', '98', '-9', '-9', 'I'] \n",
      "-----output \n",
      " [0.8, 0, 0.2, 0] \n",
      "\n",
      "----- input \n",
      " ['39', '02', '-9', '-9', '-9', '-9', '-9', '-9', '-9', '-9', '-9', '-9', '-9', '-9', 'W'] \n",
      "-----output \n",
      " [0.98, 0, 0, 0] \n",
      "\n",
      "----- input \n",
      " ['40', '02', '-9', '-9', '-9', '-9', '-9', '-9', '-9', '-9', '-9', '-9', '-9', '-9', 'W'] \n",
      "-----output \n",
      " [0.98, 0, 0, 0] \n",
      "\n",
      "----- input \n",
      " ['41', '90', '30', '95', '5', '40', '93', '4', '20', '91', '3', '98', '-9', '-9', 'I'] \n",
      "-----output \n",
      " [0.09999999999999987, 0, 0.6000000000000001, 0.3] \n",
      "\n",
      "----- input \n",
      " ['42', '91', '40', '95', '5', '50', '93', '6', '10', '91', '4', '98', '-9', '-9', 'I'] \n",
      "-----output \n",
      " [0.0, 0, 0.6, 0.4] \n",
      "\n",
      "20190519T194908_S1A_AMSR2_Icechart-Greenland-SouthEast.nc\n",
      "open water\n"
     ]
    },
    {
     "data": {
      "image/png": "[encoded data removed]",
      "text/plain": [
       "<Figure size 432x288 with 1 Axes>"
      ]
     },
     "metadata": {
      "needs_background": "light"
     },
     "output_type": "display_data"
    },
    {
     "name": "stdout",
     "output_type": "stream",
     "text": [
      "young ice\n"
     ]
    },
    {
     "data": {
      "image/png": "[encoded data removed]",
      "text/plain": [
       "<Figure size 432x288 with 1 Axes>"
      ]
     },
     "metadata": {
      "needs_background": "light"
     },
     "output_type": "display_data"
    },
    {
     "name": "stdout",
     "output_type": "stream",
     "text": [
      "first-year ice\n"
     ]
    },
    {
     "data": {
      "image/png": "[encoded data removed]",
      "text/plain": [
       "<Figure size 432x288 with 1 Axes>"
      ]
     },
     "metadata": {
      "needs_background": "light"
     },
     "output_type": "display_data"
    },
    {
     "name": "stdout",
     "output_type": "stream",
     "text": [
      "multi-year ice\n"
     ]
    },
    {
     "data": {
      "image/png": "[encoded data removed]",
      "text/plain": [
       "<Figure size 432x288 with 1 Axes>"
      ]
     },
     "metadata": {
      "needs_background": "light"
     },
     "output_type": "display_data"
    },
    {
     "name": "stdout",
     "output_type": "stream",
     "text": [
      "----- input \n",
      " ['1', '80', '20', '98', '10', '20', '91', '3', '40', '87', '2', '98', '-9', '-9', 'I'] \n",
      "-----output \n",
      " [0.3999999999999999, 0, 0.6000000000000001, 0] \n",
      "\n",
      "----- input \n",
      " ['2', '70', '30', '95', '5', '20', '93', '4', '20', '87', '3', '98', '-9', '-9', 'I'] \n",
      "-----output \n",
      " [0.30000000000000004, 0, 0.4, 0.3] \n",
      "\n",
      "----- input \n",
      " ['3', '30', '10', '98', '10', '20', '87', '2', '-9', '-9', '-9', '-9', '-9', '-9', 'I'] \n",
      "-----output \n",
      " [0.8, 0, 0.2, 0] \n",
      "\n",
      "----- input \n",
      " ['4', '91', '50', '95', '5', '30', '93', '4', '20', '91', '4', '98', '-9', '-9', 'I'] \n",
      "-----output \n",
      " [0.0, 0, 0.5, 0.5] \n",
      "\n",
      "----- input \n",
      " ['5', '92', '10', '95', '8', '60', '91', '-9', '30', '83', '-9', '98', '-9', '-9', 'I'] \n",
      "-----output \n",
      " [1.1102230246251565e-16, 0.3, 0.6, 0.1] \n",
      "\n",
      "----- input \n",
      " ['6', '91', '50', '98', '10', '30', '91', '3', '20', '87', '3', '-9', '-9', '-9', 'I'] \n",
      "-----output \n",
      " [0.5, 0, 0.5, 0] \n",
      "\n",
      "----- input \n",
      " ['7', '70', '30', '95', '5', '20', '93', '4', '20', '87', '2', '98', '-9', '-9', 'I'] \n",
      "-----output \n",
      " [0.30000000000000004, 0, 0.4, 0.3] \n",
      "\n",
      "----- input \n",
      " ['8', '91', '40', '91', '8', '60', '87', '-9', '-9', '-9', '-9', '-9', '-9', '-9', 'I'] \n",
      "-----output \n",
      " [0.0, 0, 1.0, 0] \n",
      "\n",
      "----- input \n",
      " ['9', '80', '20', '98', '10', '20', '91', '3', '40', '87', '2', '-9', '-9', '-9', 'I'] \n",
      "-----output \n",
      " [0.3999999999999999, 0, 0.6000000000000001, 0] \n",
      "\n",
      "----- input \n",
      " ['10', '40', '10', '95', '3', '20', '93', '3', '10', '91', '2', '98', '-9', '-9', 'I'] \n",
      "-----output \n",
      " [0.6, 0, 0.30000000000000004, 0.1] \n",
      "\n",
      "----- input \n",
      " ['11', '91', '50', '98', '10', '30', '91', '3', '20', '87', '3', '-9', '-9', '-9', 'I'] \n",
      "-----output \n",
      " [0.5, 0, 0.5, 0] \n",
      "\n",
      "----- input \n",
      " ['12', '30', '10', '98', '10', '20', '87', '2', '-9', '-9', '-9', '-9', '-9', '-9', 'I'] \n",
      "-----output \n",
      " [0.8, 0, 0.2, 0] \n",
      "\n",
      "----- input \n",
      " ['13', '30', '10', '98', '10', '20', '87', '2', '-9', '-9', '-9', '-9', '-9', '-9', 'I'] \n",
      "-----output \n",
      " [0.8, 0, 0.2, 0] \n",
      "\n",
      "----- input \n",
      " ['14', '91', '90', '87', '4', '10', '83', '3', '-9', '-9', '-9', '98', '-9', '-9', 'I'] \n",
      "-----output \n",
      " [0.0, 0.1, 0.9, 0] \n",
      "\n",
      "----- input \n",
      " ['15', '91', '50', '98', '10', '30', '91', '3', '20', '87', '3', '-9', '-9', '-9', 'I'] \n",
      "-----output \n",
      " [0.5, 0, 0.5, 0] \n",
      "\n",
      "----- input \n",
      " ['16', '92', '90', '87', '8', '10', '83', '-9', '-9', '-9', '-9', '98', '-9', '-9', 'I'] \n",
      "-----output \n",
      " [0.0, 0.1, 0.9, 0] \n",
      "\n",
      "----- input \n",
      " ['17', '92', '90', '87', '8', '10', '83', '-9', '-9', '-9', '-9', '98', '-9', '-9', 'I'] \n",
      "-----output \n",
      " [0.0, 0.1, 0.9, 0] \n",
      "\n",
      "----- input \n",
      " ['18', '30', '10', '95', '4', '10', '93', '3', '10', '91', '3', '98', '-9', '-9', 'I'] \n",
      "-----output \n",
      " [0.7, 0, 0.2, 0.1] \n",
      "\n",
      "----- input \n",
      " ['19', '60', '10', '95', '4', '30', '93', '3', '20', '91', '3', '98', '-9', '-9', 'I'] \n",
      "-----output \n",
      " [0.4, 0, 0.5, 0.1] \n",
      "\n",
      "----- input \n",
      " ['20', '91', '50', '95', '5', '30', '93', '4', '20', '91', '4', '98', '-9', '-9', 'I'] \n",
      "-----output \n",
      " [0.0, 0, 0.5, 0.5] \n",
      "\n",
      "----- input \n",
      " ['21', '60', '-9', '87', '5', '-9', '-9', '-9', '-9', '-9', '-9', '98', '-9', '-9', 'I'] \n",
      "-----output \n",
      " [0.4, 0, 0.6, 0] \n",
      "\n",
      "----- input \n",
      " ['22', '60', '10', '95', '4', '30', '93', '3', '20', '91', '3', '98', '-9', '-9', 'I'] \n",
      "-----output \n",
      " [0.4, 0, 0.5, 0.1] \n",
      "\n",
      "----- input \n",
      " ['23', '02', '-9', '-9', '-9', '-9', '-9', '-9', '-9', '-9', '-9', '-9', '-9', '-9', 'W'] \n",
      "-----output \n",
      " [0.98, 0, 0, 0] \n",
      "\n",
      "----- input \n",
      " ['24', '60', '-9', '87', '5', '-9', '-9', '-9', '-9', '-9', '-9', '98', '-9', '-9', 'I'] \n",
      "-----output \n",
      " [0.4, 0, 0.6, 0] \n",
      "\n",
      "----- input \n",
      " ['25', '10', '-9', '93', '3', '-9', '-9', '-9', '-9', '-9', '-9', '98', '-9', '-9', 'I'] \n",
      "-----output \n",
      " [0.9, 0, 0.1, 0] \n",
      "\n",
      "----- input \n",
      " ['26', '20', '10', '93', '3', '10', '91', '3', '-9', '-9', '-9', '98', '-9', '19', 'I'] \n",
      "-----output \n",
      " [0.8, 0, 0.2, 0] \n",
      "\n",
      "----- input \n",
      " ['27', '80', '40', '95', '5', '30', '93', '4', '10', '91', '3', '98', '-9', '-9', 'I'] \n",
      "-----output \n",
      " [0.19999999999999996, 0, 0.4, 0.4] \n",
      "\n",
      "----- input \n",
      " ['28', '91', '10', '95', '8', '90', '91', '-9', '-9', '-9', '-9', '98', '-9', '-9', 'I'] \n",
      "-----output \n",
      " [0.0, 0, 0.9, 0.1] \n",
      "\n",
      "----- input \n",
      " ['29', '91', '50', '95', '6', '30', '93', '5', '20', '91', '4', '98', '-9', '-9', 'I'] \n",
      "-----output \n",
      " [0.0, 0, 0.5, 0.5] \n",
      "\n",
      "----- input \n",
      " ['30', '30', '20', '98', '10', '10', '87', '2', '-9', '-9', '-9', '-9', '-9', '-9', 'I'] \n",
      "-----output \n",
      " [0.9, 0, 0.1, 0] \n",
      "\n",
      "----- input \n",
      " ['31', '80', '70', '98', '10', '10', '83', '2', '-9', '-9', '-9', '-9', '-9', '-9', 'I'] \n",
      "-----output \n",
      " [0.9, 0.1, 0, 0] \n",
      "\n",
      "----- input \n",
      " ['32', '91', '90', '98', '10', '10', '83', '2', '-9', '-9', '-9', '-9', '-9', '-9', 'I'] \n",
      "-----output \n",
      " [0.9, 0.1, 0, 0] \n",
      "\n",
      "----- input \n",
      " ['33', '30', '10', '98', '10', '20', '93', '5', '-9', '-9', '-9', '98', '-9', '-9', 'I'] \n",
      "-----output \n",
      " [0.8, 0, 0.2, 0] \n",
      "\n",
      "----- input \n",
      " ['34', '91', '30', '98', '8', '70', '87', '-9', '-9', '-9', '-9', '-9', '-9', '-9', 'I'] \n",
      "-----output \n",
      " [0.30000000000000004, 0, 0.7, 0] \n",
      "\n",
      "----- input \n",
      " ['36', '02', '-9', '-9', '-9', '-9', '-9', '-9', '-9', '-9', '-9', '-9', '-9', '-9', 'W'] \n",
      "-----output \n",
      " [0.98, 0, 0, 0] \n",
      "\n",
      "----- input \n",
      " ['39', '91', '50', '95', '6', '30', '93', '5', '20', '91', '4', '98', '-9', '-9', 'I'] \n",
      "-----output \n",
      " [0.0, 0, 0.5, 0.5] \n",
      "\n",
      "20190523T200352_S1B_AMSR2_Icechart-Greenland-SouthEast.nc\n",
      "open water\n"
     ]
    },
    {
     "data": {
      "image/png": "[encoded data removed]",
      "text/plain": [
       "<Figure size 432x288 with 1 Axes>"
      ]
     },
     "metadata": {
      "needs_background": "light"
     },
     "output_type": "display_data"
    },
    {
     "name": "stdout",
     "output_type": "stream",
     "text": [
      "young ice\n"
     ]
    },
    {
     "data": {
      "image/png": "[encoded data removed]",
      "text/plain": [
       "<Figure size 432x288 with 1 Axes>"
      ]
     },
     "metadata": {
      "needs_background": "light"
     },
     "output_type": "display_data"
    },
    {
     "name": "stdout",
     "output_type": "stream",
     "text": [
      "first-year ice\n"
     ]
    },
    {
     "data": {
      "image/png": "[encoded data removed]",
      "text/plain": [
       "<Figure size 432x288 with 1 Axes>"
      ]
     },
     "metadata": {
      "needs_background": "light"
     },
     "output_type": "display_data"
    },
    {
     "name": "stdout",
     "output_type": "stream",
     "text": [
      "multi-year ice\n"
     ]
    },
    {
     "data": {
      "image/png": "[encoded data removed]",
      "text/plain": [
       "<Figure size 432x288 with 1 Axes>"
      ]
     },
     "metadata": {
      "needs_background": "light"
     },
     "output_type": "display_data"
    },
    {
     "name": "stdout",
     "output_type": "stream",
     "text": [
      "----- input \n",
      " ['1', '10', '-9', '98', '10', '-9', '-9', '-9', '-9', '-9', '-9', '98', '-9', '-9', 'I'] \n",
      "-----output \n",
      " [0.9, 0, 0, 0] \n",
      "\n",
      "----- input \n",
      " ['2', '91', '90', '98', '10', '10', '83', '3', '-9', '-9', '-9', '-9', '-9', '-9', 'I'] \n",
      "-----output \n",
      " [0.9, 0.1, 0, 0] \n",
      "\n",
      "----- input \n",
      " ['3', '92', '40', '98', '8', '60', '87', '-9', '-9', '-9', '-9', '-9', '-9', '-9', 'I'] \n",
      "-----output \n",
      " [0.4, 0, 0.6, 0] \n",
      "\n",
      "----- input \n",
      " ['4', '92', '40', '98', '8', '60', '87', '-9', '-9', '-9', '-9', '-9', '-9', '-9', 'I'] \n",
      "-----output \n",
      " [0.4, 0, 0.6, 0] \n",
      "\n",
      "----- input \n",
      " ['5', '30', '-9', '98', '10', '-9', '-9', '-9', '-9', '-9', '-9', '-9', '-9', '-9', 'I'] \n",
      "-----output \n",
      " [0.7, 0, 0, 0] \n",
      "\n",
      "----- input \n",
      " ['6', '91', '-9', '87', '5', '-9', '-9', '-9', '-9', '-9', '-9', '-9', '-9', '-9', 'I'] \n",
      "-----output \n",
      " [0.08999999999999997, 0, 0.91, 0] \n",
      "\n",
      "----- input \n",
      " ['7', '20', '10', '98', '10', '10', '87', '3', '-9', '-9', '-9', '-9', '-9', '-9', 'I'] \n",
      "-----output \n",
      " [0.9, 0, 0.1, 0] \n",
      "\n",
      "----- input \n",
      " ['8', '90', '80', '87', '4', '10', '83', '3', '-9', '-9', '-9', '98', '-9', '-9', 'I'] \n",
      "-----output \n",
      " [0.09999999999999998, 0.1, 0.8, 0] \n",
      "\n",
      "----- input \n",
      " ['9', '91', '80', '98', '10', '20', '87', '3', '-9', '-9', '-9', '-9', '-9', '-9', 'I'] \n",
      "-----output \n",
      " [0.8, 0, 0.2, 0] \n",
      "\n",
      "----- input \n",
      " ['10', '92', '-9', '87', '8', '-9', '-9', '-9', '-9', '-9', '-9', '98', '-9', '-9', 'I'] \n",
      "-----output \n",
      " [0.07999999999999996, 0, 0.92, 0] \n",
      "\n",
      "----- input \n",
      " ['11', '91', '80', '98', '10', '20', '87', '3', '-9', '-9', '-9', '-9', '-9', '-9', 'I'] \n",
      "-----output \n",
      " [0.8, 0, 0.2, 0] \n",
      "\n",
      "----- input \n",
      " ['12', '30', '20', '98', '10', '10', '87', '3', '-9', '-9', '-9', '-9', '-9', '-9', 'I'] \n",
      "-----output \n",
      " [0.9, 0, 0.1, 0] \n",
      "\n",
      "----- input \n",
      " ['13', '80', '40', '98', '10', '40', '91', '3', '-9', '-9', '-9', '-9', '-9', '-9', 'I'] \n",
      "-----output \n",
      " [0.6, 0, 0.4, 0] \n",
      "\n",
      "----- input \n",
      " ['14', '80', '40', '98', '10', '40', '91', '3', '-9', '-9', '-9', '-9', '-9', '-9', 'I'] \n",
      "-----output \n",
      " [0.6, 0, 0.4, 0] \n",
      "\n",
      "----- input \n",
      " ['15', '40', '20', '91', '6', '20', '87', '5', '-9', '-9', '-9', '98', '-9', '-9', 'I'] \n",
      "-----output \n",
      " [0.6, 0, 0.4, 0] \n",
      "\n",
      "----- input \n",
      " ['16', '20', '10', '91', '5', '10', '87', '4', '-9', '-9', '-9', '98', '-9', '-9', 'I'] \n",
      "-----output \n",
      " [0.8, 0, 0.2, 0] \n",
      "\n",
      "----- input \n",
      " ['17', '40', '20', '91', '6', '20', '87', '5', '-9', '-9', '-9', '98', '-9', '-9', 'I'] \n",
      "-----output \n",
      " [0.6, 0, 0.4, 0] \n",
      "\n",
      "----- input \n",
      " ['18', '80', '40', '98', '10', '40', '91', '3', '-9', '-9', '-9', '-9', '-9', '-9', 'I'] \n",
      "-----output \n",
      " [0.6, 0, 0.4, 0] \n",
      "\n",
      "----- input \n",
      " ['20', '40', '20', '91', '6', '20', '87', '5', '-9', '-9', '-9', '98', '-9', '-9', 'I'] \n",
      "-----output \n",
      " [0.6, 0, 0.4, 0] \n",
      "\n",
      "----- input \n",
      " ['27', '02', '-9', '-9', '-9', '-9', '-9', '-9', '-9', '-9', '-9', '-9', '-9', '-9', 'W'] \n",
      "-----output \n",
      " [0.98, 0, 0, 0] \n",
      "\n",
      "20190524T101631_S1A_AMSR2_Icechart-Greenland-CentralWest.nc\n",
      "open water\n"
     ]
    },
    {
     "data": {
      "image/png": "[encoded data removed]",
      "text/plain": [
       "<Figure size 432x288 with 1 Axes>"
      ]
     },
     "metadata": {
      "needs_background": "light"
     },
     "output_type": "display_data"
    },
    {
     "name": "stdout",
     "output_type": "stream",
     "text": [
      "young ice\n"
     ]
    },
    {
     "data": {
      "image/png": "[encoded data removed]",
      "text/plain": [
       "<Figure size 432x288 with 1 Axes>"
      ]
     },
     "metadata": {
      "needs_background": "light"
     },
     "output_type": "display_data"
    },
    {
     "name": "stdout",
     "output_type": "stream",
     "text": [
      "first-year ice\n"
     ]
    },
    {
     "data": {
      "image/png": "[encoded data removed]",
      "text/plain": [
       "<Figure size 432x288 with 1 Axes>"
      ]
     },
     "metadata": {
      "needs_background": "light"
     },
     "output_type": "display_data"
    },
    {
     "name": "stdout",
     "output_type": "stream",
     "text": [
      "multi-year ice\n"
     ]
    },
    {
     "data": {
      "image/png": "[encoded data removed]",
      "text/plain": [
       "<Figure size 432x288 with 1 Axes>"
      ]
     },
     "metadata": {
      "needs_background": "light"
     },
     "output_type": "display_data"
    },
    {
     "name": "stdout",
     "output_type": "stream",
     "text": [
      "----- input \n",
      " ['1', '30', '20', '95', '2', '10', '93', '2', '-9', '-9', '-9', '98', '-9', '19', 'I'] \n",
      "-----output \n",
      " [0.7, 0, 0.1, 0.2] \n",
      "\n",
      "----- input \n",
      " ['2', '50', '30', '95', '2', '20', '93', '2', '-9', '-9', '-9', '98', '-9', '19', 'I'] \n",
      "-----output \n",
      " [0.5, 0, 0.2, 0.3] \n",
      "\n",
      "----- input \n",
      " ['3', '90', '60', '95', '2', '30', '93', '2', '-9', '-9', '-9', '98', '-9', '-9', 'I'] \n",
      "-----output \n",
      " [0.10000000000000009, 0, 0.3, 0.6] \n",
      "\n",
      "----- input \n",
      " ['4', '90', '60', '95', '2', '30', '93', '2', '-9', '-9', '-9', '98', '-9', '-9', 'I'] \n",
      "-----output \n",
      " [0.10000000000000009, 0, 0.3, 0.6] \n",
      "\n",
      "----- input \n",
      " ['5', '1', '-9', '95', '2', '-9', '-9', '-9', '-9', '-9', '-9', '98', '-9', '19', 'I'] \n",
      "-----output \n",
      " [0.99, 0, 0, 0.01] \n",
      "\n",
      "----- input \n",
      " ['6', '30', '20', '95', '2', '10', '93', '2', '-9', '-9', '-9', '98', '-9', '19', 'I'] \n",
      "-----output \n",
      " [0.7, 0, 0.1, 0.2] \n",
      "\n",
      "----- input \n",
      " ['7', '1', '-9', '95', '2', '-9', '-9', '-9', '-9', '-9', '-9', '98', '-9', '19', 'I'] \n",
      "-----output \n",
      " [0.99, 0, 0, 0.01] \n",
      "\n",
      "----- input \n",
      " ['8', '10', '-9', '95', '2', '-9', '-9', '-9', '-9', '-9', '-9', '98', '-9', '19', 'I'] \n",
      "-----output \n",
      " [0.9, 0, 0, 0.1] \n",
      "\n",
      "----- input \n",
      " ['9', '70', '50', '95', '2', '20', '93', '2', '-9', '-9', '-9', '98', '-9', '-9', 'I'] \n",
      "-----output \n",
      " [0.30000000000000004, 0, 0.2, 0.5] \n",
      "\n",
      "----- input \n",
      " ['10', '10', '-9', '95', '2', '-9', '-9', '-9', '-9', '-9', '-9', '98', '-9', '19', 'I'] \n",
      "-----output \n",
      " [0.9, 0, 0, 0.1] \n",
      "\n",
      "----- input \n",
      " ['12', '50', '30', '95', '2', '20', '93', '2', '-9', '-9', '-9', '98', '-9', '19', 'I'] \n",
      "-----output \n",
      " [0.5, 0, 0.2, 0.3] \n",
      "\n",
      "----- input \n",
      " ['17', '91', '60', '95', '2', '40', '93', '2', '-9', '-9', '-9', '98', '-9', '-9', 'I'] \n",
      "-----output \n",
      " [0.0, 0, 0.4, 0.6] \n",
      "\n",
      "----- input \n",
      " ['20', '02', '-9', '-9', '-9', '-9', '-9', '-9', '-9', '-9', '-9', '-9', '-9', '-9', 'W'] \n",
      "-----output \n",
      " [0.98, 0, 0, 0] \n",
      "\n",
      "----- input \n",
      " ['24', '02', '-9', '-9', '-9', '-9', '-9', '-9', '-9', '-9', '-9', '-9', '-9', '-9', 'W'] \n",
      "-----output \n",
      " [0.98, 0, 0, 0] \n",
      "\n",
      "20190525T203543_S1A_AMSR2_Icechart-Greenland-CapeFarewell.nc\n",
      "open water\n"
     ]
    },
    {
     "data": {
      "image/png": "[encoded data removed]",
      "text/plain": [
       "<Figure size 432x288 with 1 Axes>"
      ]
     },
     "metadata": {
      "needs_background": "light"
     },
     "output_type": "display_data"
    },
    {
     "name": "stdout",
     "output_type": "stream",
     "text": [
      "young ice\n"
     ]
    },
    {
     "data": {
      "image/png": "[encoded data removed]",
      "text/plain": [
       "<Figure size 432x288 with 1 Axes>"
      ]
     },
     "metadata": {
      "needs_background": "light"
     },
     "output_type": "display_data"
    },
    {
     "name": "stdout",
     "output_type": "stream",
     "text": [
      "first-year ice\n"
     ]
    },
    {
     "data": {
      "image/png": "[encoded data removed]",
      "text/plain": [
       "<Figure size 432x288 with 1 Axes>"
      ]
     },
     "metadata": {
      "needs_background": "light"
     },
     "output_type": "display_data"
    },
    {
     "name": "stdout",
     "output_type": "stream",
     "text": [
      "multi-year ice\n"
     ]
    },
    {
     "data": {
      "image/png": "[encoded data removed]",
      "text/plain": [
       "<Figure size 432x288 with 1 Axes>"
      ]
     },
     "metadata": {
      "needs_background": "light"
     },
     "output_type": "display_data"
    },
    {
     "name": "stdout",
     "output_type": "stream",
     "text": [
      "----- input \n",
      " ['11', '10', '-9', '95', '2', '-9', '-9', '-9', '-9', '-9', '-9', '98', '-9', '19', 'I'] \n",
      "-----output \n",
      " [0.9, 0, 0, 0.1] \n",
      "\n",
      "----- input \n",
      " ['12', '50', '30', '95', '2', '20', '93', '2', '-9', '-9', '-9', '98', '-9', '19', 'I'] \n",
      "-----output \n",
      " [0.5, 0, 0.2, 0.3] \n",
      "\n",
      "----- input \n",
      " ['13', '10', '-9', '95', '2', '-9', '-9', '-9', '-9', '-9', '-9', '98', '-9', '19', 'I'] \n",
      "-----output \n",
      " [0.9, 0, 0, 0.1] \n",
      "\n",
      "----- input \n",
      " ['14', '70', '40', '95', '2', '30', '93', '2', '-9', '-9', '-9', '98', '-9', '-9', 'I'] \n",
      "-----output \n",
      " [0.30000000000000004, 0, 0.3, 0.4] \n",
      "\n",
      "----- input \n",
      " ['15', '10', '-9', '98', '9', '-9', '-9', '-9', '-9', '-9', '-9', '-9', '-9', '-9', 'I'] \n",
      "-----output \n",
      " [0.9, 0, 0, 0] \n",
      "\n",
      "----- input \n",
      " ['16', '70', '-9', '98', '9', '-9', '-9', '-9', '-9', '-9', '-9', '-9', '-9', '-9', 'I'] \n",
      "-----output \n",
      " [0.30000000000000004, 0, 0, 0] \n",
      "\n",
      "----- input \n",
      " ['17', '91', '60', '95', '2', '40', '93', '2', '-9', '-9', '-9', '98', '-9', '-9', 'I'] \n",
      "-----output \n",
      " [0.0, 0, 0.4, 0.6] \n",
      "\n",
      "----- input \n",
      " ['18', '10', '-9', '98', '9', '-9', '-9', '-9', '-9', '-9', '-9', '-9', '-9', '19', 'I'] \n",
      "-----output \n",
      " [0.9, 0, 0, 0] \n",
      "\n",
      "----- input \n",
      " ['19', '90', '-9', '98', '9', '-9', '-9', '-9', '-9', '-9', '-9', '-9', '-9', '-9', 'I'] \n",
      "-----output \n",
      " [0.09999999999999998, 0, 0, 0] \n",
      "\n",
      "----- input \n",
      " ['20', '02', '-9', '-9', '-9', '-9', '-9', '-9', '-9', '-9', '-9', '-9', '-9', '-9', 'W'] \n",
      "-----output \n",
      " [0.98, 0, 0, 0] \n",
      "\n",
      "----- input \n",
      " ['21', '91', '60', '95', '2', '40', '93', '2', '-9', '-9', '-9', '98', '-9', '-9', 'I'] \n",
      "-----output \n",
      " [0.0, 0, 0.4, 0.6] \n",
      "\n",
      "----- input \n",
      " ['22', '10', '-9', '98', '9', '-9', '-9', '-9', '-9', '-9', '-9', '-9', '-9', '19', 'I'] \n",
      "-----output \n",
      " [0.9, 0, 0, 0] \n",
      "\n",
      "----- input \n",
      " ['23', '70', '-9', '98', '9', '-9', '-9', '-9', '-9', '-9', '-9', '-9', '-9', '-9', 'I'] \n",
      "-----output \n",
      " [0.30000000000000004, 0, 0, 0] \n",
      "\n",
      "----- input \n",
      " ['24', '02', '-9', '-9', '-9', '-9', '-9', '-9', '-9', '-9', '-9', '-9', '-9', '-9', 'W'] \n",
      "-----output \n",
      " [0.98, 0, 0, 0] \n",
      "\n",
      "20190525T203647_S1A_AMSR2_Icechart-Greenland-CapeFarewell.nc\n",
      "open water\n"
     ]
    },
    {
     "data": {
      "image/png": "[encoded data removed]",
      "text/plain": [
       "<Figure size 432x288 with 1 Axes>"
      ]
     },
     "metadata": {
      "needs_background": "light"
     },
     "output_type": "display_data"
    },
    {
     "name": "stdout",
     "output_type": "stream",
     "text": [
      "young ice\n"
     ]
    },
    {
     "data": {
      "image/png": "[encoded data removed]",
      "text/plain": [
       "<Figure size 432x288 with 1 Axes>"
      ]
     },
     "metadata": {
      "needs_background": "light"
     },
     "output_type": "display_data"
    },
    {
     "name": "stdout",
     "output_type": "stream",
     "text": [
      "first-year ice\n"
     ]
    },
    {
     "data": {
      "image/png": "[encoded data removed]",
      "text/plain": [
       "<Figure size 432x288 with 1 Axes>"
      ]
     },
     "metadata": {
      "needs_background": "light"
     },
     "output_type": "display_data"
    },
    {
     "name": "stdout",
     "output_type": "stream",
     "text": [
      "multi-year ice\n"
     ]
    },
    {
     "data": {
      "image/png": "[encoded data removed]",
      "text/plain": [
       "<Figure size 432x288 with 1 Axes>"
      ]
     },
     "metadata": {
      "needs_background": "light"
     },
     "output_type": "display_data"
    }
   ],
   "source": [
    "ifiles = sorted(glob.glob('*.nc'))\n",
    "stp = 20\n",
    "\n",
    "dir_ = \"D:/training/reconstructs_folder\"\n",
    "ifiles_recon = glob.glob(dir_+'/*.npz')\n",
    "# print(ifiles_recon)\n",
    "# print(np.load(ifiles_recon[0]).files)\n",
    "for i in range(len(ifiles)):\n",
    "    #print(ifile)\n",
    "    ifile = ifiles[i]\n",
    "    ds = nc.Dataset(ifile)\n",
    "    n,p=ds['nersc_sar_secondary'].shape\n",
    "    sar2 = ds['nersc_sar_secondary'][::stp, ::stp]\n",
    "    ic = ds['polygon_icechart'][::stp, ::stp]\n",
    "    \n",
    "    n,p= ic.shape\n",
    "    \n",
    "    #construction of the 3D array that will be filled\n",
    "    en_values_array=np.zeros((n,p,4))+np.nan\n",
    "    \n",
    "    map_id_to_variable_values=dict()\n",
    "    for id_and_corresponding_variable_values in ds['polygon_codes'][1:]:\n",
    "        id_val_splitted = id_and_corresponding_variable_values.split(\";\")\n",
    "        #print(id_val_splitted)\n",
    "        [ct, ca, sa, fa, cb, sb, fb, cc, sc, fc] = list(map(int, id_val_splitted[1:11]))\n",
    "        #result of the one-hot encoding method \n",
    "#         result = one_hot_m1(ct,ca,sa,fa,cb,sb,fb,cc,sc,fc)\n",
    "        ## if you want the method with the concentration uncomment the following line \n",
    "        result = one_hot_m2(ct,ca,sa,fa,cb,sb,fb,cc,sc)\n",
    "\n",
    "        #Filling the dictionnary\n",
    "        map_id_to_variable_values.update({int(id_val_splitted[0]): result})\n",
    "        #print(\"----- input \\n\",ct,ca,sa,fa,cb,sb,fb,cc,sc, \"\\n-----output \\n\",result,\"\\n\")\n",
    "        print(\"----- input \\n\",id_val_splitted, \"\\n-----output \\n\",result,\"\\n\")\n",
    "        \n",
    "    \n",
    "    \n",
    "    for id_value, variable_belong_to_id in map_id_to_variable_values.items():\n",
    "        # each loop changes all locations of values_array (that have the very\n",
    "        # 'id_value') to its corresponding value inside 'variable_belong_to_id'\n",
    "               \n",
    "        #Filling the 3D array\n",
    "        en_values_array[ic == id_value, :] =np.array(variable_belong_to_id)\n",
    "    \n",
    "    #Showing the different layers of the array\n",
    "    ice_types = [\"open water\", \"young ice\", \"first-year ice\", \"multi-year ice\"]\n",
    "    print(ifile)\n",
    "    for i in range(4):\n",
    "        print(ice_types[i])\n",
    "        plt.imshow(en_values_array[:,:,i], clim = [0,1])\n",
    "        plt.show()"
   ]
  },
  {
   "cell_type": "code",
   "execution_count": null,
   "id": "84fdf240",
   "metadata": {},
   "outputs": [],
   "source": []
  },
  {
   "cell_type": "code",
   "execution_count": null,
   "id": "32ff49a5",
   "metadata": {},
   "outputs": [],
   "source": []
  }
 ],
 "metadata": {
  "kernelspec": {
   "display_name": "Python 3",
   "language": "python",
   "name": "python3"
  },
  "language_info": {
   "codemirror_mode": {
    "name": "ipython",
    "version": 3
   },
   "file_extension": ".py",
   "mimetype": "text/x-python",
   "name": "python",
   "nbconvert_exporter": "python",
   "pygments_lexer": "ipython3",
   "version": "3.8.8"
  }
 },
 "nbformat": 4,
 "nbformat_minor": 5
}
