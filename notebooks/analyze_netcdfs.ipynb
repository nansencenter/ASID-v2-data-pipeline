{
 "cells": [
  {
   "cell_type": "code",
   "execution_count": null,
   "metadata": {},
   "outputs": [],
   "source": [
    "import glob\n",
    "from collections import defaultdict\n",
    "\n",
    "from netCDF4 import Dataset\n",
    "import numpy as np\n",
    "import matplotlib.pyplot as plt\n",
    "\n",
    "%matplotlib inline"
   ]
  },
  {
   "cell_type": "code",
   "execution_count": null,
   "metadata": {
    "scrolled": true
   },
   "outputs": [],
   "source": [
    "ifiles = sorted(glob.glob('/Data/sat/downloads/sentinel1/AI4Arctic_ASIP_Sea_Ice_Dataset_v2/east/*nc'))\n",
    "for ncfile in ifiles:\n",
    "    print(ncfile)\n",
    "    ds = Dataset(ncfile)\n",
    "    sar = ds['nersc_sar_secondary'][::10, ::10]\n",
    "    v89 = ds['btemp_89.0v'][:]\n",
    "    polygo = ds['polygon_icechart'][::10, ::10]\n",
    "    fig, ax = plt.subplots(1,3)\n",
    "    ax[0].imshow(sar)\n",
    "    ax[1].imshow(v89)\n",
    "    ax[2].imshow(polygo)\n",
    "    plt.show()    \n"
   ]
  },
  {
   "cell_type": "code",
   "execution_count": null,
   "metadata": {},
   "outputs": [],
   "source": [
    "counts = defaultdict(list)\n",
    "ifiles = sorted(glob.glob('/data1/antonk/satellite-data-pipeline/asip_v2/outputs/*npz'))\n",
    "print(len(ifiles))\n",
    "for ifile in ifiles:\n",
    "    f = np.load(ifile)\n",
    "    icetype = f['ice_type']\n",
    "    for i in range(4):\n",
    "        count = np.where(icetype[:,:,i] == 1)[0].size\n",
    "        counts[i].append(count)\n"
   ]
  },
  {
   "cell_type": "code",
   "execution_count": 60,
   "metadata": {},
   "outputs": [
    {
     "name": "stdout",
     "output_type": "stream",
     "text": [
      "Total samples:  16656\n"
     ]
    },
    {
     "data": {
      "text/plain": [
       "<matplotlib.legend.Legend at 0x7fc64dbf43d0>"
      ]
     },
     "execution_count": 60,
     "metadata": {},
     "output_type": "execute_result"
    },
    {
     "data": {
      "image/png": "[encoded data removed]",
      "text/plain": [
       "<Figure size 432x288 with 1 Axes>"
      ]
     },
     "metadata": {
      "needs_background": "light"
     },
     "output_type": "display_data"
    }
   ],
   "source": [
    "print('Total samples: ', len(counts[0]))\n",
    "counts_sum = np.array([sum(counts[i]) for i in counts])\n",
    "class_weights = np.array([0.5, 1, 0.7, 0.8])\n",
    "\n",
    "plt.bar(range(4), counts_sum, label='All samples')\n",
    "plt.bar(range(4), counts_sum*class_weights, label='Weighted samples')\n",
    "plt.legend()"
   ]
  },
  {
   "cell_type": "code",
   "execution_count": null,
   "metadata": {},
   "outputs": [],
   "source": []
  }
 ],
 "metadata": {
  "kernelspec": {
   "display_name": "Python 3",
   "language": "python",
   "name": "python3"
  },
  "language_info": {
   "codemirror_mode": {
    "name": "ipython",
    "version": 3
   },
   "file_extension": ".py",
   "mimetype": "text/x-python",
   "name": "python",
   "nbconvert_exporter": "python",
   "pygments_lexer": "ipython3",
   "version": "3.7.6"
  }
 },
 "nbformat": 4,
 "nbformat_minor": 4
}
