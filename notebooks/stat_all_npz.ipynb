{
 "cells": [
  {
   "cell_type": "code",
   "execution_count": 1,
   "metadata": {},
   "outputs": [
    {
     "name": "stderr",
     "output_type": "stream",
     "text": [
      "Matplotlib created a temporary config/cache directory at /tmp/matplotlib-0692cdn9 because the default path (/.config/matplotlib) is not a writable directory; it is highly recommended to set the MPLCONFIGDIR environment variable to a writable directory, in particular to speed up the import of Matplotlib and to better support multiprocessing.\n"
     ]
    }
   ],
   "source": [
    "import glob\n",
    "import argparse\n",
    "import datetime\n",
    "import os\n",
    "from os.path import basename, dirname, join\n",
    "from operator import itemgetter\n",
    "import random\n",
    "\n",
    "import numpy as np\n",
    "import matplotlib.pyplot as plt\n",
    "\n",
    "from data_generator import DataGeneratorFrom_npz_File"
   ]
  },
  {
   "cell_type": "code",
   "execution_count": 2,
   "metadata": {},
   "outputs": [],
   "source": [
    "concentration_scale = [0, 1, 2, 10, 20, 30, 40, 50, 60, 70, 80, 90, 91, 92]\n",
    "sod_scale = [0, 80, 81, 82, 83, 84, 85, 86, 87, 88, 89, 91, 93, 95, 96, 97, 98]\n",
    "form_scale = [i for i in range (22)]+[99]\n",
    "list_combinations =[]\n",
    "for sod in sod_scale :\n",
    "    for form in form_scale :\n",
    "        name_comb = str(sod)+'_'+str(form)\n",
    "        list_combinations.append(name_comb)"
   ]
  },
  {
   "cell_type": "code",
   "execution_count": 3,
   "metadata": {},
   "outputs": [],
   "source": [
    "npz_files = sorted(glob.glob('/Data/analysis/output_summary/*all_npz.npz'))"
   ]
  },
  {
   "cell_type": "code",
   "execution_count": 46,
   "metadata": {},
   "outputs": [],
   "source": [
    "def creation_matrix_combi_con(npz_files, list_combination, concentration_scale, dist_thresholds, visualization=False):    \n",
    "    \"\"\"\n",
    "    This function creates a graph. \n",
    "    It represents the frequency of each combination according to concentration.\n",
    "    In addition, if the distance to the zone is too small (below the threshold)\n",
    "    then the data from the zone will not be taken into account.\n",
    "    \n",
    "    Parameters\n",
    "    ----------\n",
    "    npz_files : list\n",
    "        all npz files in the folder.\n",
    "    list_combination : list\n",
    "        list of the all possible combinations.\n",
    "    concentration_scale : list\n",
    "        list that contains all the levels of concentration according to ASID-v2 manual.\n",
    "    dist_thresholds : integer\n",
    "        minimum border distance threshold.\n",
    "    visualization : boolean\n",
    "        if it makes graphiques.\n",
    "    \n",
    "    Returns\n",
    "    -------\n",
    "    result : list\n",
    "        list of combinations and their frequencies for each concentration.\n",
    "    \"\"\"\n",
    "    #initialization\n",
    "    x_length = len(list_combination)\n",
    "    y_length = len(concentration_scale)\n",
    "    sol = np.zeros((y_length, x_length))\n",
    "    list_logical_graph=[True]*len(list_combinations)\n",
    "    list_index_combination_present = []\n",
    "    list_combination_present = []\n",
    "    \n",
    "    #creation of the matrix\n",
    "    for npz_file in npz_files:\n",
    "        list_output = np.load(npz_file)['array']\n",
    "        for output in list_output :\n",
    "            if (output[10] > dist_thresholds) : # if the distance of the output is below the threshold, we don't keep\n",
    "                for ice in range(3): # in a output there are 3 data for the 3 most present ice\n",
    "                    if output[1+ice*3]==(-9): \n",
    "                        continue\n",
    "                    if output[2+ice*3]==(-9): \n",
    "                        continue\n",
    "                    if output[3+ice*3]==(-9): \n",
    "                        continue\n",
    "                    combi = str(int(output[2+ice*3])) + '_' + str(int(output[3+ice*3]))\n",
    "                    index_con = concentration_scale.index(int(output[1+ice*3]))\n",
    "                    index_comb= list_combination.index(combi)\n",
    "                    sol[index_con][index_comb] += 1\n",
    "                    list_logical_graph[index_comb]=False\n",
    "                    if index_comb not in list_index_combination_present :\n",
    "                        list_index_combination_present.append(index_comb)\n",
    "                    \n",
    "    \n",
    "    \n",
    "    #combination present\n",
    "    list_ind_comb_present_sort = sorted(list_index_combination_present)\n",
    "    for ind in list_ind_comb_present_sort :\n",
    "        list_combination_present.append(list_combination[ind])\n",
    "    print(list_combination_present)\n",
    "    \n",
    "    \n",
    "    #Cleanning\n",
    "        # matrix cleanning\n",
    "    sol1 = sol.compress(np.logical_not(list_logical_graph), axis =1)\n",
    "    sol1 = np.asarray(sol1, dtype = int)\n",
    "        # cleanning of the return \n",
    "    sol_return =[]\n",
    "    c=0\n",
    "    for combi in list_combination_present :\n",
    "        sol_return.append([combi, sol1[:,c]])\n",
    "        c += 1\n",
    "    print(sol_return)\n",
    "        \n",
    "    # visualization\n",
    "    if visualization :\n",
    "        plt.imshow(sol1)\n",
    "        plt.colorbar()\n",
    "        plt.title('Frequency of combinations depending on concentration')\n",
    "        plt.xlabel('Combinations (Sod_form)')\n",
    "        plt.ylabel('Concentration')\n",
    "        plt.show()\n",
    "    return sol"
   ]
  },
  {
   "cell_type": "code",
   "execution_count": 47,
   "metadata": {
    "scrolled": false
   },
   "outputs": [
    {
     "name": "stdout",
     "output_type": "stream",
     "text": [
      "['81_2', '81_99', '82_2', '82_3', '82_4', '82_5', '82_6', '83_2', '83_3', '83_4', '83_5', '83_6', '83_8', '84_3', '84_4', '84_6', '85_4', '87_2', '87_3', '87_4', '87_5', '87_6', '87_7', '87_8', '91_2', '91_3', '91_4', '91_5', '91_6', '91_7', '91_8', '93_2', '93_3', '93_4', '93_5', '93_6', '93_7', '93_8', '95_2', '95_3', '95_4', '95_5', '95_6', '95_7', '95_8', '96_3', '96_4', '96_5', '96_6', '96_7', '97_4', '97_5', '97_6', '97_7', '98_8', '98_10']\n",
      "[['81_2', array([ 0,  0,  0,  0,  0, 99,  0,  0,  0,  0,  0,  0,  0,  0])], ['81_99', array([    0,     0,     0, 21463,  5185,   866,     0,     0,     0,\n",
      "           0,     0,     0,     0,     0])], ['82_2', array([   0,    0,    0,  901, 2699,   71,    1,    0,    0,    0,    0,\n",
      "          0,    0,    0])], ['82_3', array([    0,     0,     0,  2152, 12294,  1918,  1541,     3,     0,\n",
      "           0,     0,     0,     0,     0])], ['82_4', array([   0,    0,    0, 5194, 8709, 3447, 3011,    0, 2834,    0,    0,\n",
      "          0,    0,    0])], ['82_5', array([    0,     0,     0, 15180,  1082,   165,  7816,     0,     0,\n",
      "           0,     0,     0,     0,     0])], ['82_6', array([0, 0, 0, 0, 0, 0, 0, 0, 1, 0, 0, 0, 0, 0])], ['83_2', array([   0,    0,    0, 2193,  580, 1937,    1,    0,    0,    0,    0,\n",
      "          0,    0,    0])], ['83_3', array([   0,    0,    0, 2004,  200,   14,    0,   70,    0,    0,    0,\n",
      "          0,    0,    0])], ['83_4', array([   0,    0,    0, 3897, 3661, 6043, 7203,  547,  802,  546,    0,\n",
      "          0,    0,    0])], ['83_5', array([    0,     0,     0,  5263,  4126,  7052, 30763, 12897,  4101,\n",
      "         378,  8874,     0,     0,     0])], ['83_6', array([    0,     0,     0,     0,     0,  8929,     0,  7814, 15181,\n",
      "           0,  6251,     0,     0,     0])], ['83_8', array([  0,   0,   0,   0,   0,   0,  15,  40,   0, 165,   0,   0,   0,\n",
      "         0])], ['84_3', array([   0,    0,    0,  349,    0, 1757,   22,    0,    0,    0,    0,\n",
      "          0,    0,    0])], ['84_4', array([   0,    0,    0,    0,   93, 1432,   43,    0,    0,    0,    0,\n",
      "          0,    0,    0])], ['84_6', array([  0,   0,   0,   0,   0,   0,   0,   0, 262,   0,   0,   0,   0,\n",
      "         0])], ['85_4', array([  0,   0,   0, 970,   0,   0,   0, 484,  88,   0,   0,   0,   0,\n",
      "         0])], ['87_2', array([   0,    0,    0, 1440,   49,    0,   33,    0,    0,    0,    0,\n",
      "          0,    0,    0])], ['87_3', array([   0,    0,    0, 2921, 4633,    0,    0, 1557,    0,    0,    0,\n",
      "          0,    0,    0])], ['87_4', array([   0,    0,    0, 6175,  463,    6,  290,    0,    0,  185,    0,\n",
      "          0,    0,    0])], ['87_5', array([   0,    0,    0, 6688, 1794, 2904, 2348, 3212,    0,    0,    0,\n",
      "          0,    0,    0])], ['87_6', array([    0,     0,     0,  3320, 12263,  8406,  1392,  8429, 28448,\n",
      "           0,     0,     0,     0,     0])], ['87_7', array([    0,     0,     0,    13,     0,     0, 14099,     0,     0,\n",
      "           0,     0,     0,     0,     0])], ['87_8', array([  0,   0,   0,   0,  40,   2,  29,   2,   0,  41, 609,   0,   0,\n",
      "         0])], ['91_2', array([  0,   0,   0, 863,   3,   0,   0,   0,   0,   0,   0,   0,   0,\n",
      "         0])], ['91_3', array([   0,    0,    0, 5095,  552, 1327,    2,    0,    0,    0,    0,\n",
      "          0,    0,    0])], ['91_4', array([   0,    0,    0, 5473,  991, 2604, 2684,    0,    0,    0,    0,\n",
      "          0,    0,    0])], ['91_5', array([    0,     0,     0,  5216,  8045,  2583, 11933,   718,     5,\n",
      "           7,     0,     0,     0,     0])], ['91_6', array([   0,    0,    0, 1113, 7633, 7175, 9451, 7746,  426,   43,    0,\n",
      "         13,    0,    0])], ['91_7', array([   0,    0,    0,    0,  673,    0,    0,  512, 5261,    0, 8298,\n",
      "          0,    0,    0])], ['91_8', array([  0,   0,   0,  71,   0,   7,   0, 588,   0, 155, 254,   0,   0,\n",
      "         0])], ['93_2', array([ 0,  0,  0, 65, 75,  0, 29,  0,  0,  0,  0,  0,  0,  0])], ['93_3', array([   0,    0,    0, 4152, 1333,  614,  599, 1074,    0,    0,    0,\n",
      "          0,    0,    0])], ['93_4', array([   0,    0,    0, 4788, 3131, 4048, 1827,  701,  115,    0,    0,\n",
      "          0,    0,    0])], ['93_5', array([   0,    0,    0, 8019, 4491,  423, 2831, 1507,  370,    0,    0,\n",
      "          0,    0,    0])], ['93_6', array([    0,     0,     0, 24285, 12630,  5583,  4428,  7969,   347,\n",
      "           0,     0,     0,     0,     0])], ['93_7', array([   0,    0,    0,    0,    0, 9152, 8457, 2801, 4508,    0,    0,\n",
      "          0,    0,    0])], ['93_8', array([  0,   0,   0,   0,   6,   0,   0,   0,   0, 506,   0,   0,   0,\n",
      "         0])], ['95_2', array([  0,   0,   0, 181,   7,  45,   0,  30,  29,   0,   0,   0,   0,\n",
      "         0])], ['95_3', array([   0,    0,    0, 1790, 2840,    0,    0,    0,    0,    0,    0,\n",
      "          0,    0,    0])], ['95_4', array([   0,    0,    0, 4124, 2735, 3050, 3654,  969,    0,    0,    0,\n",
      "          0,    0,    0])], ['95_5', array([   0,    0,    0,  505, 2182, 4574, 3724,  272,    0,    0,    0,\n",
      "          0,    0,    0])], ['95_6', array([    0,     0,     0,   960,  1809,   634,  3324, 12758,     0,\n",
      "           0,     0,     0,     0,     0])], ['95_7', array([    0,     0,     0,    12,     0,     0,     0,   204, 13320,\n",
      "           0,     0,     0,     0,     0])], ['95_8', array([   0,    0,    0,    0,  646,   71, 1190, 1927,    0,   61,    0,\n",
      "       2043,    0,    0])], ['96_3', array([ 0,  0,  0, 86,  0,  0,  0,  0,  0,  0,  0,  0,  0,  0])], ['96_4', array([   0,    0,    0, 4082,  771,    0,    0,    0,    0,    0,    0,\n",
      "          0,    0,    0])], ['96_5', array([   0,    0,    0, 1674, 2486,  144,    0,    0,    0,    0,    0,\n",
      "          0,    0,    0])], ['96_6', array([    0,     0,     0,  5246,  5426, 21466,  1124,     0,     0,\n",
      "          10,     0,     0,     0,     0])], ['96_7', array([   0,    0,    0,  454, 3435,  916,    0,    0,    0,    0,    0,\n",
      "          0,    0,    0])], ['97_4', array([   0,    0,    0, 1049,    0,    0,    0,    0,    0,    0,    0,\n",
      "          0,    0,    0])], ['97_5', array([   0,    0,    0, 5677,  237,    0,   49,    0,    0,    0,    0,\n",
      "          0,    0,    0])], ['97_6', array([   0,    0,    0, 1175, 4131, 1471, 1264,    0,    0,    0,    0,\n",
      "          0,    0,    0])], ['97_7', array([    0,     0,     0,  4412,     0,  1197,   702,     0, 19105,\n",
      "           0,     0,     5,     0,     0])], ['98_8', array([  0,   0,   0, 693,  54,   6,   0,   0,   0,   0,   0,   0,   0,\n",
      "         0])], ['98_10', array([  0,   0,   0, 290,  80,   0,  22,   0,   0,   0,   0,   0,   0,\n",
      "         0])]]\n"
     ]
    },
    {
     "data": {
      "image/png": "[encoded data removed]",
      "text/plain": [
       "<Figure size 640x480 with 2 Axes>"
      ]
     },
     "metadata": {},
     "output_type": "display_data"
    }
   ],
   "source": [
    "array = creation_matrix_combi_con(npz_files, list_combinations, concentration_scale, 100, visualization=True)"
   ]
  },
  {
   "cell_type": "code",
   "execution_count": null,
   "metadata": {},
   "outputs": [],
   "source": []
  }
 ],
 "metadata": {
  "kernelspec": {
   "display_name": "Python 3",
   "language": "python",
   "name": "python3"
  },
  "language_info": {
   "codemirror_mode": {
    "name": "ipython",
    "version": 3
   },
   "file_extension": ".py",
   "mimetype": "text/x-python",
   "name": "python",
   "nbconvert_exporter": "python",
   "pygments_lexer": "ipython3",
   "version": "3.8.10"
  }
 },
 "nbformat": 4,
 "nbformat_minor": 2
}
