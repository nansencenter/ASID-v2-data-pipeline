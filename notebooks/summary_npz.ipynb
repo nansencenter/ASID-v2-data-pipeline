{
 "cells": [
  {
   "cell_type": "code",
   "execution_count": 4,
   "metadata": {},
   "outputs": [],
   "source": [
    "import glob\n",
    "import json\n",
    "import numpy as np\n",
    "\n",
    "idir='/Data/sat/downloads/sentinel1/AI4Arctic_ASIP_Sea_Ice_Dataset_v2/analysis/output'"
   ]
  },
  {
   "cell_type": "code",
   "execution_count": 6,
   "metadata": {},
   "outputs": [
    {
     "data": {
      "text/plain": [
       "'/tf/sea_ice_type_cnn_training/asip_v2'"
      ]
     },
     "execution_count": 6,
     "metadata": {},
     "output_type": "execute_result"
    }
   ],
   "source": [
    "pwd"
   ]
  },
  {
   "cell_type": "code",
   "execution_count": 5,
   "metadata": {},
   "outputs": [
    {
     "ename": "FileNotFoundError",
     "evalue": "[Errno 2] No such file or directory: '/Data/sat/downloads/sentinel1/AI4Arctic_ASIP_Sea_Ice_Dataset_v2/analysis/output/processed_files.json'",
     "output_type": "error",
     "traceback": [
      "\u001b[0;31m---------------------------------------------------------------------------\u001b[0m",
      "\u001b[0;31mFileNotFoundError\u001b[0m                         Traceback (most recent call last)",
      "Input \u001b[0;32mIn [5]\u001b[0m, in \u001b[0;36m<cell line: 1>\u001b[0;34m()\u001b[0m\n\u001b[0;32m----> 1\u001b[0m \u001b[38;5;28;01mwith\u001b[39;00m \u001b[38;5;28;43mopen\u001b[39;49m\u001b[43m(\u001b[49m\u001b[38;5;124;43m'\u001b[39;49m\u001b[38;5;124;43m/Data/sat/downloads/sentinel1/AI4Arctic_ASIP_Sea_Ice_Dataset_v2/analysis/output/processed_files.json\u001b[39;49m\u001b[38;5;124;43m'\u001b[39;49m\u001b[43m)\u001b[49m \u001b[38;5;28;01mas\u001b[39;00m fichier_json:\n\u001b[1;32m      2\u001b[0m     data \u001b[38;5;241m=\u001b[39m json\u001b[38;5;241m.\u001b[39mload(fichier_json)\n\u001b[1;32m      4\u001b[0m \u001b[38;5;28mprint\u001b[39m(data)\n",
      "\u001b[0;31mFileNotFoundError\u001b[0m: [Errno 2] No such file or directory: '/Data/sat/downloads/sentinel1/AI4Arctic_ASIP_Sea_Ice_Dataset_v2/analysis/output/processed_files.json'"
     ]
    }
   ],
   "source": [
    "with open('/Data/sat/downloads/sentinel1/AI4Arctic_ASIP_Sea_Ice_Dataset_v2/analysis/output/processed_files.json') as fichier_json:\n",
    "    all_nc = json.load(fichier_json)\n",
    "print(data)"
   ]
  },
  {
   "cell_type": "code",
   "execution_count": 9,
   "metadata": {},
   "outputs": [
    {
     "name": "stdout",
     "output_type": "stream",
     "text": [
      "analysis/output/20180410T084537*.npz\n",
      "analysis/output/20180413T202620*.npz\n"
     ]
    }
   ],
   "source": [
    "# all_nc=['20180410T084537_S1B_AMSR2_Icechart-Greenland-SouthEast.nc', '20180413T202620_S1B_AMSR2_Icechart-Greenland-CapeFarewell.nc']\n",
    "\n",
    "for nc in all_nc :\n",
    "    name = nc[:15]\n",
    "    npz_files = sorted(glob.glob(\"analysis/output/\"+name+\"*.npz\"))\n",
    "    array = []\n",
    "    for npz_file in npz_files:\n",
    "        d = np.load(npz_file)\n",
    "        array.append(np.hstack([d[\"ice_type\"], d[\"distance_border\"]]))\n",
    "    array = np.array(array)\n",
    "    np.savez(\"analysis/output/summary/\"+name\"_all_npz.npz\", array=array)"
   ]
  },
  {
   "cell_type": "code",
   "execution_count": null,
   "metadata": {},
   "outputs": [],
   "source": [
    "!nohup python summary_npz.py > summary.log 2>&1 &"
   ]
  }
 ],
 "metadata": {
  "kernelspec": {
   "display_name": "Python 3",
   "language": "python",
   "name": "python3"
  },
  "language_info": {
   "codemirror_mode": {
    "name": "ipython",
    "version": 3
   },
   "file_extension": ".py",
   "mimetype": "text/x-python",
   "name": "python",
   "nbconvert_exporter": "python",
   "pygments_lexer": "ipython3",
   "version": "3.8.10"
  }
 },
 "nbformat": 4,
 "nbformat_minor": 2
}
